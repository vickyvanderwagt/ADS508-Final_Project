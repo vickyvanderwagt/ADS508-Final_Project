{
 "cells": [
  {
   "cell_type": "code",
   "execution_count": null,
   "id": "95e7f776-06ba-4f24-8e63-85a30986a335",
   "metadata": {},
   "outputs": [],
   "source": []
  },
  {
   "cell_type": "markdown",
   "id": "de42a83b",
   "metadata": {},
   "source": [
    "### Group 4 ADS508 Final Project\n",
    "\n",
    "Monitoring Water Quality | Released by Tech-AAB\n",
    "\n",
    "Team: Parisa Kamizi, Landon Padgett, Vicky van der Wagt"
   ]
  },
  {
   "cell_type": "markdown",
   "id": "609cd453-d9d5-4bea-80f0-dc86d3c7bba3",
   "metadata": {},
   "source": [
    "*test change 5:46pm"
   ]
  },
  {
   "cell_type": "markdown",
   "id": "6b9436f4",
   "metadata": {},
   "source": [
    "-----------------------------------------------------------------------"
   ]
  },
  {
   "cell_type": "markdown",
   "id": "d84d09fc",
   "metadata": {},
   "source": [
    "**Import libraries and packages**"
   ]
  },
  {
   "cell_type": "code",
   "execution_count": 3,
   "id": "7f7de637",
   "metadata": {
    "tags": []
   },
   "outputs": [
    {
     "name": "stdout",
     "output_type": "stream",
     "text": [
      "sagemaker.config INFO - Not applying SDK defaults from location: /etc/xdg/sagemaker/config.yaml\n",
      "sagemaker.config INFO - Not applying SDK defaults from location: /root/.config/sagemaker/config.yaml\n",
      "\u001b[33mDEPRECATION: pyodbc 4.0.0-unsupported has a non-standard version number. pip 24.0 will enforce this behaviour change. A possible replacement is to upgrade to a newer version of pyodbc or contact the author to suggest that they release a version with a conforming version number. Discussion can be found at https://github.com/pypa/pip/issues/12063\u001b[0m\u001b[33m\n",
      "\u001b[0m\u001b[33mWARNING: Running pip as the 'root' user can result in broken permissions and conflicting behaviour with the system package manager. It is recommended to use a virtual environment instead: https://pip.pypa.io/warnings/venv\u001b[0m\u001b[33m\n",
      "\u001b[0msagemaker.config INFO - Not applying SDK defaults from location: /etc/xdg/sagemaker/config.yaml\n",
      "sagemaker.config INFO - Not applying SDK defaults from location: /root/.config/sagemaker/config.yaml\n",
      "sagemaker.config INFO - Not applying SDK defaults from location: /etc/xdg/sagemaker/config.yaml\n",
      "sagemaker.config INFO - Not applying SDK defaults from location: /root/.config/sagemaker/config.yaml\n"
     ]
    }
   ],
   "source": [
    "import pandas as pd\n",
    "from tabulate import tabulate\n",
    "import seaborn as sns\n",
    "import matplotlib.pyplot as plt\n",
    "import boto3\n",
    "import sagemaker\n",
    "import warnings\n",
    "from sklearn.preprocessing import LabelEncoder\n",
    "from io import StringIO\n",
    "!pip install --disable-pip-version-check -q PyAthena==2.1.0\n",
    "\n",
    "from pyathena import connect\n",
    "\n",
    "warnings.filterwarnings(\"ignore\")\n",
    "\n",
    "sess = sagemaker.Session()\n",
    "bucket = sess.default_bucket()\n",
    "role = sagemaker.get_execution_role()\n",
    "region = boto3.Session().region_name"
   ]
  },
  {
   "cell_type": "markdown",
   "id": "4340b091-6a38-44a2-b98f-3e32e85189f4",
   "metadata": {},
   "source": [
    "**Download data from s3 into the \"data\" folder\"**\n",
    "\n",
    "*Commented out because it only needs to be done once*"
   ]
  },
  {
   "cell_type": "code",
   "execution_count": 4,
   "id": "f8c34a97-1b0a-4a1c-99be-9b38296982bd",
   "metadata": {
    "tags": []
   },
   "outputs": [
    {
     "name": "stdout",
     "output_type": "stream",
     "text": [
      "download: s3://ads508group4finalproject/stations.csv to data/stations.csv\n",
      "download: s3://ads508group4finalproject/field_results.csv to data/field_results.csv\n",
      "download: s3://ads508group4finalproject/lab_results.csv to data/lab_results.csv\n",
      "download: s3://ads508group4finalproject/period_of_record.csv to data/period_of_record.csv\n"
     ]
    }
   ],
   "source": [
    "!aws s3 cp 's3://ads508group4finalproject/stations.csv' ./data/\n",
    "!aws s3 cp 's3://ads508group4finalproject/field_results.csv' ./data/\n",
    "!aws s3 cp 's3://ads508group4finalproject/lab_results.csv' ./data/\n",
    "!aws s3 cp 's3://ads508group4finalproject/period_of_record.csv' ./data/"
   ]
  },
  {
   "cell_type": "code",
   "execution_count": 5,
   "id": "bfa07f9e-a766-4ee2-964a-ec3c3ee24917",
   "metadata": {
    "tags": []
   },
   "outputs": [],
   "source": [
    "st = pd.read_csv(\"./data/stations.csv\")\n",
    "fr = pd.read_csv(\"./data/field_results.csv\")\n",
    "lr = pd.read_csv(\"./data/lab_results.csv\")\n",
    "por = pd.read_csv(\"./data/period_of_record.csv\")"
   ]
  },
  {
   "cell_type": "markdown",
   "id": "bd1cf06d",
   "metadata": {},
   "source": [
    "## Data Exploration"
   ]
  },
  {
   "cell_type": "markdown",
   "id": "5ee81cb2",
   "metadata": {},
   "source": [
    "**Compare df # of rows and columns**"
   ]
  },
  {
   "cell_type": "code",
   "execution_count": 6,
   "id": "b83e7d8b",
   "metadata": {
    "tags": []
   },
   "outputs": [
    {
     "name": "stdout",
     "output_type": "stream",
     "text": [
      "╒════╤══════╤══════════════════╤═════════════╤════════════════╕\n",
      "│    │ df   │ df longname      │   # of Rows │   # of Columns │\n",
      "╞════╪══════╪══════════════════╪═════════════╪════════════════╡\n",
      "│  0 │ st   │ Stations         │       44475 │             11 │\n",
      "├────┼──────┼──────────────────┼─────────────┼────────────────┤\n",
      "│  1 │ por  │ Period of Record │      733915 │             12 │\n",
      "├────┼──────┼──────────────────┼─────────────┼────────────────┤\n",
      "│  2 │ fr   │ Field Results    │     1199457 │             22 │\n",
      "├────┼──────┼──────────────────┼─────────────┼────────────────┤\n",
      "│  3 │ lr   │ Lab Results      │     4610840 │             18 │\n",
      "╘════╧══════╧══════════════════╧═════════════╧════════════════╛\n"
     ]
    }
   ],
   "source": [
    "#generate dictionary\n",
    "df_data = {\n",
    "    'df': ['st', 'por', 'fr', 'lr'],\n",
    "    'df longname': ['Stations', 'Period of Record', 'Field Results', 'Lab Results'],\n",
    "    '# of Rows': [st.shape[0], por.shape[0], fr.shape[0], lr.shape[0]],\n",
    "    '# of Columns': [st.shape[1], por.shape[1], fr.shape[1], lr.shape[1]]\n",
    "}\n",
    "\n",
    "#convert dictionary into dataframe\n",
    "df_info = pd.DataFrame(df_data)\n",
    "\n",
    "#print dataframe\n",
    "print(tabulate(df_info, headers='keys', tablefmt='fancy_grid'))\n"
   ]
  },
  {
   "cell_type": "markdown",
   "id": "c5dbe068",
   "metadata": {},
   "source": [
    "**Explore Stations**"
   ]
  },
  {
   "cell_type": "code",
   "execution_count": 7,
   "id": "ebcb050b",
   "metadata": {
    "tags": []
   },
   "outputs": [
    {
     "name": "stdout",
     "output_type": "stream",
     "text": [
      "<class 'pandas.core.frame.DataFrame'>\n",
      "RangeIndex: 44475 entries, 0 to 44474\n",
      "Data columns (total 11 columns):\n",
      " #   Column             Non-Null Count  Dtype  \n",
      "---  ------             --------------  -----  \n",
      " 0   station_id         44475 non-null  int64  \n",
      " 1   station_name       44475 non-null  object \n",
      " 2   full_station_name  44475 non-null  object \n",
      " 3   station_number     44475 non-null  object \n",
      " 4   station_type       44475 non-null  object \n",
      " 5   latitude           44197 non-null  float64\n",
      " 6   longitude          44197 non-null  float64\n",
      " 7   county_name        44475 non-null  object \n",
      " 8   sample_count       44475 non-null  int64  \n",
      " 9   sample_date_min    44475 non-null  object \n",
      " 10  sample_date_max    44475 non-null  object \n",
      "dtypes: float64(2), int64(2), object(7)\n",
      "memory usage: 3.7+ MB\n"
     ]
    },
    {
     "data": {
      "text/html": [
       "<div>\n",
       "<style scoped>\n",
       "    .dataframe tbody tr th:only-of-type {\n",
       "        vertical-align: middle;\n",
       "    }\n",
       "\n",
       "    .dataframe tbody tr th {\n",
       "        vertical-align: top;\n",
       "    }\n",
       "\n",
       "    .dataframe thead th {\n",
       "        text-align: right;\n",
       "    }\n",
       "</style>\n",
       "<table border=\"1\" class=\"dataframe\">\n",
       "  <thead>\n",
       "    <tr style=\"text-align: right;\">\n",
       "      <th></th>\n",
       "      <th>station_id</th>\n",
       "      <th>station_name</th>\n",
       "      <th>full_station_name</th>\n",
       "      <th>station_number</th>\n",
       "      <th>station_type</th>\n",
       "      <th>latitude</th>\n",
       "      <th>longitude</th>\n",
       "      <th>county_name</th>\n",
       "      <th>sample_count</th>\n",
       "      <th>sample_date_min</th>\n",
       "      <th>sample_date_max</th>\n",
       "    </tr>\n",
       "  </thead>\n",
       "  <tbody>\n",
       "    <tr>\n",
       "      <th>0</th>\n",
       "      <td>47023</td>\n",
       "      <td>Frank Sieferman</td>\n",
       "      <td>Frank Sieferman New Well</td>\n",
       "      <td>01N01E01A001M</td>\n",
       "      <td>Groundwater</td>\n",
       "      <td>33.0000</td>\n",
       "      <td>-121.0000</td>\n",
       "      <td>Yolo</td>\n",
       "      <td>1</td>\n",
       "      <td>06/23/2008 15:00</td>\n",
       "      <td>06/23/2008 15:00</td>\n",
       "    </tr>\n",
       "    <tr>\n",
       "      <th>1</th>\n",
       "      <td>6134</td>\n",
       "      <td>01N01E33K001M</td>\n",
       "      <td>01N01E33K001M</td>\n",
       "      <td>01N01E33K001M</td>\n",
       "      <td>Groundwater</td>\n",
       "      <td>37.8868</td>\n",
       "      <td>-121.8682</td>\n",
       "      <td>Contra Costa</td>\n",
       "      <td>1</td>\n",
       "      <td>05/20/1981 13:45</td>\n",
       "      <td>05/20/1981 13:45</td>\n",
       "    </tr>\n",
       "    <tr>\n",
       "      <th>2</th>\n",
       "      <td>6135</td>\n",
       "      <td>01N01W03N001M</td>\n",
       "      <td>01N01W03N001M</td>\n",
       "      <td>01N01W03N001M</td>\n",
       "      <td>Groundwater</td>\n",
       "      <td>37.9583</td>\n",
       "      <td>-121.9669</td>\n",
       "      <td>Contra Costa</td>\n",
       "      <td>9</td>\n",
       "      <td>07/23/1974 15:15</td>\n",
       "      <td>08/16/1990 12:15</td>\n",
       "    </tr>\n",
       "    <tr>\n",
       "      <th>3</th>\n",
       "      <td>6136</td>\n",
       "      <td>01N01W04A001M</td>\n",
       "      <td>01N01W04A001M</td>\n",
       "      <td>01N01W04A001M</td>\n",
       "      <td>Groundwater</td>\n",
       "      <td>37.9663</td>\n",
       "      <td>-121.9734</td>\n",
       "      <td>Contra Costa</td>\n",
       "      <td>9</td>\n",
       "      <td>08/04/1972 15:00</td>\n",
       "      <td>09/15/1989 08:00</td>\n",
       "    </tr>\n",
       "    <tr>\n",
       "      <th>4</th>\n",
       "      <td>6137</td>\n",
       "      <td>01N01W07K001M</td>\n",
       "      <td>01N01W07K001M</td>\n",
       "      <td>01N01W07K001M</td>\n",
       "      <td>Groundwater</td>\n",
       "      <td>37.9460</td>\n",
       "      <td>-122.0155</td>\n",
       "      <td>Contra Costa</td>\n",
       "      <td>9</td>\n",
       "      <td>08/03/1973 09:30</td>\n",
       "      <td>09/15/1989 09:15</td>\n",
       "    </tr>\n",
       "  </tbody>\n",
       "</table>\n",
       "</div>"
      ],
      "text/plain": [
       "   station_id     station_name         full_station_name station_number  \\\n",
       "0       47023  Frank Sieferman  Frank Sieferman New Well  01N01E01A001M   \n",
       "1        6134    01N01E33K001M             01N01E33K001M  01N01E33K001M   \n",
       "2        6135    01N01W03N001M             01N01W03N001M  01N01W03N001M   \n",
       "3        6136    01N01W04A001M             01N01W04A001M  01N01W04A001M   \n",
       "4        6137    01N01W07K001M             01N01W07K001M  01N01W07K001M   \n",
       "\n",
       "  station_type  latitude  longitude   county_name  sample_count  \\\n",
       "0  Groundwater   33.0000  -121.0000          Yolo             1   \n",
       "1  Groundwater   37.8868  -121.8682  Contra Costa             1   \n",
       "2  Groundwater   37.9583  -121.9669  Contra Costa             9   \n",
       "3  Groundwater   37.9663  -121.9734  Contra Costa             9   \n",
       "4  Groundwater   37.9460  -122.0155  Contra Costa             9   \n",
       "\n",
       "    sample_date_min   sample_date_max  \n",
       "0  06/23/2008 15:00  06/23/2008 15:00  \n",
       "1  05/20/1981 13:45  05/20/1981 13:45  \n",
       "2  07/23/1974 15:15  08/16/1990 12:15  \n",
       "3  08/04/1972 15:00  09/15/1989 08:00  \n",
       "4  08/03/1973 09:30  09/15/1989 09:15  "
      ]
     },
     "execution_count": 7,
     "metadata": {},
     "output_type": "execute_result"
    }
   ],
   "source": [
    "st.info()\n",
    "st.head()"
   ]
  },
  {
   "cell_type": "markdown",
   "id": "4c4b52e2",
   "metadata": {},
   "source": [
    "**See number of stations per county**"
   ]
  },
  {
   "cell_type": "code",
   "execution_count": 8,
   "id": "d442cbc4",
   "metadata": {
    "tags": []
   },
   "outputs": [
    {
     "data": {
      "image/png": "[encoded data removed]",
      "text/plain": [
       "<Figure size 864x864 with 1 Axes>"
      ]
     },
     "metadata": {
      "needs_background": "light"
     },
     "output_type": "display_data"
    }
   ],
   "source": [
    "county_station_counts = st['county_name'].value_counts().reset_index()\n",
    "county_station_counts.columns = ['county_name', 'station_count']\n",
    "\n",
    "plt.figure(figsize=(12, 12))\n",
    "sns.barplot(x='station_count', y='county_name', data=county_station_counts)\n",
    "plt.xlabel('Number of Stations')\n",
    "plt.ylabel('County Name')\n",
    "plt.title('Number of Stations per County')\n",
    "plt.show()\n"
   ]
  },
  {
   "cell_type": "code",
   "execution_count": 9,
   "id": "8231c551",
   "metadata": {
    "tags": []
   },
   "outputs": [
    {
     "name": "stdout",
     "output_type": "stream",
     "text": [
      "number of San Diego stations: 1948\n"
     ]
    }
   ],
   "source": [
    "san_diego_stations_count = st[st['county_name'] == 'San Diego'].shape[0]\n",
    "print(\"number of San Diego stations:\", san_diego_stations_count)"
   ]
  },
  {
   "cell_type": "markdown",
   "id": "e00dde39",
   "metadata": {},
   "source": [
    "We have the option to filter for San Diego stations during data processing. This will leave us with 1948 stations remaining."
   ]
  },
  {
   "cell_type": "markdown",
   "id": "7a4c18c2",
   "metadata": {},
   "source": [
    "**See Distribution of Station Types**"
   ]
  },
  {
   "cell_type": "code",
   "execution_count": 10,
   "id": "e0acb475",
   "metadata": {
    "tags": []
   },
   "outputs": [
    {
     "data": {
      "image/png": "[encoded data removed]",
      "text/plain": [
       "<Figure size 864x432 with 1 Axes>"
      ]
     },
     "metadata": {
      "needs_background": "light"
     },
     "output_type": "display_data"
    }
   ],
   "source": [
    "#get count of station types\n",
    "station_type_counts = st['station_type'].value_counts()\n",
    "\n",
    "#generate plot\n",
    "plt.figure(figsize=(12, 6))\n",
    "sns.barplot(x=station_type_counts.index, y=station_type_counts.values)\n",
    "plt.xlabel('Station Type')\n",
    "plt.ylabel('Count')\n",
    "plt.title('Counts of Station Type')\n",
    "plt.tight_layout()\n",
    "plt.show()\n"
   ]
  },
  {
   "cell_type": "markdown",
   "id": "dab2e1b9",
   "metadata": {},
   "source": [
    "## Explore Period of Record"
   ]
  },
  {
   "cell_type": "code",
   "execution_count": 11,
   "id": "6f4784d0",
   "metadata": {
    "tags": []
   },
   "outputs": [
    {
     "name": "stdout",
     "output_type": "stream",
     "text": [
      "<class 'pandas.core.frame.DataFrame'>\n",
      "RangeIndex: 733915 entries, 0 to 733914\n",
      "Data columns (total 12 columns):\n",
      " #   Column             Non-Null Count   Dtype  \n",
      "---  ------             --------------   -----  \n",
      " 0   station_id         733915 non-null  int64  \n",
      " 1   station_name       733915 non-null  object \n",
      " 2   full_station_name  733915 non-null  object \n",
      " 3   station_number     733915 non-null  object \n",
      " 4   station_type       733915 non-null  object \n",
      " 5   latitude           723662 non-null  float64\n",
      " 6   longitude          723662 non-null  float64\n",
      " 7   county_name        733915 non-null  object \n",
      " 8   parameter          733915 non-null  object \n",
      " 9   sample_count       733915 non-null  int64  \n",
      " 10  sample_date_min    733915 non-null  object \n",
      " 11  sample_date_max    733915 non-null  object \n",
      "dtypes: float64(2), int64(2), object(8)\n",
      "memory usage: 67.2+ MB\n"
     ]
    },
    {
     "data": {
      "text/html": [
       "<div>\n",
       "<style scoped>\n",
       "    .dataframe tbody tr th:only-of-type {\n",
       "        vertical-align: middle;\n",
       "    }\n",
       "\n",
       "    .dataframe tbody tr th {\n",
       "        vertical-align: top;\n",
       "    }\n",
       "\n",
       "    .dataframe thead th {\n",
       "        text-align: right;\n",
       "    }\n",
       "</style>\n",
       "<table border=\"1\" class=\"dataframe\">\n",
       "  <thead>\n",
       "    <tr style=\"text-align: right;\">\n",
       "      <th></th>\n",
       "      <th>station_id</th>\n",
       "      <th>station_name</th>\n",
       "      <th>full_station_name</th>\n",
       "      <th>station_number</th>\n",
       "      <th>station_type</th>\n",
       "      <th>latitude</th>\n",
       "      <th>longitude</th>\n",
       "      <th>county_name</th>\n",
       "      <th>parameter</th>\n",
       "      <th>sample_count</th>\n",
       "      <th>sample_date_min</th>\n",
       "      <th>sample_date_max</th>\n",
       "    </tr>\n",
       "  </thead>\n",
       "  <tbody>\n",
       "    <tr>\n",
       "      <th>0</th>\n",
       "      <td>47023</td>\n",
       "      <td>Frank Sieferman</td>\n",
       "      <td>Frank Sieferman New Well</td>\n",
       "      <td>01N01E01A001M</td>\n",
       "      <td>Groundwater</td>\n",
       "      <td>33.0</td>\n",
       "      <td>-121.0</td>\n",
       "      <td>Yolo</td>\n",
       "      <td>Dissolved Aluminum</td>\n",
       "      <td>1</td>\n",
       "      <td>06/23/2008 15:00</td>\n",
       "      <td>06/23/2008 15:00</td>\n",
       "    </tr>\n",
       "    <tr>\n",
       "      <th>1</th>\n",
       "      <td>47023</td>\n",
       "      <td>Frank Sieferman</td>\n",
       "      <td>Frank Sieferman New Well</td>\n",
       "      <td>01N01E01A001M</td>\n",
       "      <td>Groundwater</td>\n",
       "      <td>33.0</td>\n",
       "      <td>-121.0</td>\n",
       "      <td>Yolo</td>\n",
       "      <td>Dissolved Antimony</td>\n",
       "      <td>1</td>\n",
       "      <td>06/23/2008 15:00</td>\n",
       "      <td>06/23/2008 15:00</td>\n",
       "    </tr>\n",
       "    <tr>\n",
       "      <th>2</th>\n",
       "      <td>47023</td>\n",
       "      <td>Frank Sieferman</td>\n",
       "      <td>Frank Sieferman New Well</td>\n",
       "      <td>01N01E01A001M</td>\n",
       "      <td>Groundwater</td>\n",
       "      <td>33.0</td>\n",
       "      <td>-121.0</td>\n",
       "      <td>Yolo</td>\n",
       "      <td>Dissolved Arsenic</td>\n",
       "      <td>1</td>\n",
       "      <td>06/23/2008 15:00</td>\n",
       "      <td>06/23/2008 15:00</td>\n",
       "    </tr>\n",
       "    <tr>\n",
       "      <th>3</th>\n",
       "      <td>47023</td>\n",
       "      <td>Frank Sieferman</td>\n",
       "      <td>Frank Sieferman New Well</td>\n",
       "      <td>01N01E01A001M</td>\n",
       "      <td>Groundwater</td>\n",
       "      <td>33.0</td>\n",
       "      <td>-121.0</td>\n",
       "      <td>Yolo</td>\n",
       "      <td>Dissolved Barium</td>\n",
       "      <td>1</td>\n",
       "      <td>06/23/2008 15:00</td>\n",
       "      <td>06/23/2008 15:00</td>\n",
       "    </tr>\n",
       "    <tr>\n",
       "      <th>4</th>\n",
       "      <td>47023</td>\n",
       "      <td>Frank Sieferman</td>\n",
       "      <td>Frank Sieferman New Well</td>\n",
       "      <td>01N01E01A001M</td>\n",
       "      <td>Groundwater</td>\n",
       "      <td>33.0</td>\n",
       "      <td>-121.0</td>\n",
       "      <td>Yolo</td>\n",
       "      <td>Dissolved Beryllium</td>\n",
       "      <td>1</td>\n",
       "      <td>06/23/2008 15:00</td>\n",
       "      <td>06/23/2008 15:00</td>\n",
       "    </tr>\n",
       "  </tbody>\n",
       "</table>\n",
       "</div>"
      ],
      "text/plain": [
       "   station_id     station_name         full_station_name station_number  \\\n",
       "0       47023  Frank Sieferman  Frank Sieferman New Well  01N01E01A001M   \n",
       "1       47023  Frank Sieferman  Frank Sieferman New Well  01N01E01A001M   \n",
       "2       47023  Frank Sieferman  Frank Sieferman New Well  01N01E01A001M   \n",
       "3       47023  Frank Sieferman  Frank Sieferman New Well  01N01E01A001M   \n",
       "4       47023  Frank Sieferman  Frank Sieferman New Well  01N01E01A001M   \n",
       "\n",
       "  station_type  latitude  longitude county_name            parameter  \\\n",
       "0  Groundwater      33.0     -121.0        Yolo   Dissolved Aluminum   \n",
       "1  Groundwater      33.0     -121.0        Yolo   Dissolved Antimony   \n",
       "2  Groundwater      33.0     -121.0        Yolo    Dissolved Arsenic   \n",
       "3  Groundwater      33.0     -121.0        Yolo     Dissolved Barium   \n",
       "4  Groundwater      33.0     -121.0        Yolo  Dissolved Beryllium   \n",
       "\n",
       "   sample_count   sample_date_min   sample_date_max  \n",
       "0             1  06/23/2008 15:00  06/23/2008 15:00  \n",
       "1             1  06/23/2008 15:00  06/23/2008 15:00  \n",
       "2             1  06/23/2008 15:00  06/23/2008 15:00  \n",
       "3             1  06/23/2008 15:00  06/23/2008 15:00  \n",
       "4             1  06/23/2008 15:00  06/23/2008 15:00  "
      ]
     },
     "execution_count": 11,
     "metadata": {},
     "output_type": "execute_result"
    }
   ],
   "source": [
    "por.info()\n",
    "por.head()"
   ]
  },
  {
   "cell_type": "markdown",
   "id": "2477cd9c",
   "metadata": {},
   "source": [
    "**Examine the Date Range of Water Quality Collection**"
   ]
  },
  {
   "cell_type": "code",
   "execution_count": 12,
   "id": "9d760da5",
   "metadata": {
    "tags": []
   },
   "outputs": [
    {
     "name": "stdout",
     "output_type": "stream",
     "text": [
      "Earliest sample_date_min: 1903-03-23 00:00:00\n",
      "Latest sample_date_max: 2024-01-04 12:59:00\n"
     ]
    }
   ],
   "source": [
    "#first convert dates in por to datetime\n",
    "por['sample_date_min'] = pd.to_datetime(por['sample_date_min'])\n",
    "por['sample_date_max'] = pd.to_datetime(por['sample_date_max'])\n",
    "\n",
    "#identify the minimum and max values\n",
    "min_sample_date_min = por['sample_date_min'].min()\n",
    "max_sample_date_max = por['sample_date_max'].max()\n",
    "\n",
    "#print\n",
    "print(\"Earliest sample_date_min:\", min_sample_date_min)\n",
    "print(\"Latest sample_date_max:\", max_sample_date_max)\n"
   ]
  },
  {
   "cell_type": "markdown",
   "id": "2f8f8d76",
   "metadata": {},
   "source": [
    "## Explore Lab Results"
   ]
  },
  {
   "cell_type": "code",
   "execution_count": 13,
   "id": "67942c45",
   "metadata": {
    "tags": []
   },
   "outputs": [
    {
     "name": "stdout",
     "output_type": "stream",
     "text": [
      "<class 'pandas.core.frame.DataFrame'>\n",
      "RangeIndex: 4610840 entries, 0 to 4610839\n",
      "Data columns (total 18 columns):\n",
      " #   Column              Dtype  \n",
      "---  ------              -----  \n",
      " 0   station_id          int64  \n",
      " 1   station_name        object \n",
      " 2   full_station_name   object \n",
      " 3   station_number      object \n",
      " 4   station_type        object \n",
      " 5   latitude            float64\n",
      " 6   longitude           float64\n",
      " 7   status              object \n",
      " 8   county_name         object \n",
      " 9   sample_code         object \n",
      " 10  sample_date         object \n",
      " 11  sample_depth        float64\n",
      " 12  sample_depth_units  object \n",
      " 13  parameter           object \n",
      " 14  result              object \n",
      " 15  reporting_limit     float64\n",
      " 16  units               object \n",
      " 17  method_name         object \n",
      "dtypes: float64(4), int64(1), object(13)\n",
      "memory usage: 633.2+ MB\n"
     ]
    },
    {
     "data": {
      "text/html": [
       "<div>\n",
       "<style scoped>\n",
       "    .dataframe tbody tr th:only-of-type {\n",
       "        vertical-align: middle;\n",
       "    }\n",
       "\n",
       "    .dataframe tbody tr th {\n",
       "        vertical-align: top;\n",
       "    }\n",
       "\n",
       "    .dataframe thead th {\n",
       "        text-align: right;\n",
       "    }\n",
       "</style>\n",
       "<table border=\"1\" class=\"dataframe\">\n",
       "  <thead>\n",
       "    <tr style=\"text-align: right;\">\n",
       "      <th></th>\n",
       "      <th>station_id</th>\n",
       "      <th>station_name</th>\n",
       "      <th>full_station_name</th>\n",
       "      <th>station_number</th>\n",
       "      <th>station_type</th>\n",
       "      <th>latitude</th>\n",
       "      <th>longitude</th>\n",
       "      <th>status</th>\n",
       "      <th>county_name</th>\n",
       "      <th>sample_code</th>\n",
       "      <th>sample_date</th>\n",
       "      <th>sample_depth</th>\n",
       "      <th>sample_depth_units</th>\n",
       "      <th>parameter</th>\n",
       "      <th>result</th>\n",
       "      <th>reporting_limit</th>\n",
       "      <th>units</th>\n",
       "      <th>method_name</th>\n",
       "    </tr>\n",
       "  </thead>\n",
       "  <tbody>\n",
       "    <tr>\n",
       "      <th>0</th>\n",
       "      <td>8135</td>\n",
       "      <td>01S04E32C001M</td>\n",
       "      <td>01S04E32C001M</td>\n",
       "      <td>01S04E32C001M</td>\n",
       "      <td>Groundwater</td>\n",
       "      <td>37.8073</td>\n",
       "      <td>-121.5617</td>\n",
       "      <td>Public, Review Status Unknown</td>\n",
       "      <td>Alameda</td>\n",
       "      <td>WDIS_0719152</td>\n",
       "      <td>05/03/1967 09:00</td>\n",
       "      <td>NaN</td>\n",
       "      <td>Feet</td>\n",
       "      <td>Conductance</td>\n",
       "      <td>3480</td>\n",
       "      <td>1.0</td>\n",
       "      <td>uS/cm</td>\n",
       "      <td>EPA 120.1</td>\n",
       "    </tr>\n",
       "    <tr>\n",
       "      <th>1</th>\n",
       "      <td>8135</td>\n",
       "      <td>01S04E32C001M</td>\n",
       "      <td>01S04E32C001M</td>\n",
       "      <td>01S04E32C001M</td>\n",
       "      <td>Groundwater</td>\n",
       "      <td>37.8073</td>\n",
       "      <td>-121.5617</td>\n",
       "      <td>Public, Review Status Unknown</td>\n",
       "      <td>Alameda</td>\n",
       "      <td>WDIS_0719152</td>\n",
       "      <td>05/03/1967 09:00</td>\n",
       "      <td>NaN</td>\n",
       "      <td>Feet</td>\n",
       "      <td>Dissolved Boron</td>\n",
       "      <td>7.7</td>\n",
       "      <td>0.1</td>\n",
       "      <td>mg/L</td>\n",
       "      <td>Std Method 4500-B, C</td>\n",
       "    </tr>\n",
       "    <tr>\n",
       "      <th>2</th>\n",
       "      <td>8135</td>\n",
       "      <td>01S04E32C001M</td>\n",
       "      <td>01S04E32C001M</td>\n",
       "      <td>01S04E32C001M</td>\n",
       "      <td>Groundwater</td>\n",
       "      <td>37.8073</td>\n",
       "      <td>-121.5617</td>\n",
       "      <td>Public, Review Status Unknown</td>\n",
       "      <td>Alameda</td>\n",
       "      <td>WDIS_0719152</td>\n",
       "      <td>05/03/1967 09:00</td>\n",
       "      <td>NaN</td>\n",
       "      <td>Feet</td>\n",
       "      <td>Dissolved Calcium</td>\n",
       "      <td>68</td>\n",
       "      <td>1.0</td>\n",
       "      <td>mg/L</td>\n",
       "      <td>EPA 215.2</td>\n",
       "    </tr>\n",
       "    <tr>\n",
       "      <th>3</th>\n",
       "      <td>8135</td>\n",
       "      <td>01S04E32C001M</td>\n",
       "      <td>01S04E32C001M</td>\n",
       "      <td>01S04E32C001M</td>\n",
       "      <td>Groundwater</td>\n",
       "      <td>37.8073</td>\n",
       "      <td>-121.5617</td>\n",
       "      <td>Public, Review Status Unknown</td>\n",
       "      <td>Alameda</td>\n",
       "      <td>WDIS_0719152</td>\n",
       "      <td>05/03/1967 09:00</td>\n",
       "      <td>NaN</td>\n",
       "      <td>Feet</td>\n",
       "      <td>Dissolved Chloride</td>\n",
       "      <td>758</td>\n",
       "      <td>0.1</td>\n",
       "      <td>mg/L</td>\n",
       "      <td>Std Method 4500-Cl, B</td>\n",
       "    </tr>\n",
       "    <tr>\n",
       "      <th>4</th>\n",
       "      <td>8135</td>\n",
       "      <td>01S04E32C001M</td>\n",
       "      <td>01S04E32C001M</td>\n",
       "      <td>01S04E32C001M</td>\n",
       "      <td>Groundwater</td>\n",
       "      <td>37.8073</td>\n",
       "      <td>-121.5617</td>\n",
       "      <td>Public, Review Status Unknown</td>\n",
       "      <td>Alameda</td>\n",
       "      <td>WDIS_0719152</td>\n",
       "      <td>05/03/1967 09:00</td>\n",
       "      <td>NaN</td>\n",
       "      <td>Feet</td>\n",
       "      <td>Dissolved Magnesium</td>\n",
       "      <td>59</td>\n",
       "      <td>0.1</td>\n",
       "      <td>mg/L</td>\n",
       "      <td>Std Method 3500-Mg, E</td>\n",
       "    </tr>\n",
       "  </tbody>\n",
       "</table>\n",
       "</div>"
      ],
      "text/plain": [
       "   station_id   station_name full_station_name station_number station_type  \\\n",
       "0        8135  01S04E32C001M     01S04E32C001M  01S04E32C001M  Groundwater   \n",
       "1        8135  01S04E32C001M     01S04E32C001M  01S04E32C001M  Groundwater   \n",
       "2        8135  01S04E32C001M     01S04E32C001M  01S04E32C001M  Groundwater   \n",
       "3        8135  01S04E32C001M     01S04E32C001M  01S04E32C001M  Groundwater   \n",
       "4        8135  01S04E32C001M     01S04E32C001M  01S04E32C001M  Groundwater   \n",
       "\n",
       "   latitude  longitude                         status county_name  \\\n",
       "0   37.8073  -121.5617  Public, Review Status Unknown     Alameda   \n",
       "1   37.8073  -121.5617  Public, Review Status Unknown     Alameda   \n",
       "2   37.8073  -121.5617  Public, Review Status Unknown     Alameda   \n",
       "3   37.8073  -121.5617  Public, Review Status Unknown     Alameda   \n",
       "4   37.8073  -121.5617  Public, Review Status Unknown     Alameda   \n",
       "\n",
       "    sample_code       sample_date  sample_depth sample_depth_units  \\\n",
       "0  WDIS_0719152  05/03/1967 09:00           NaN               Feet   \n",
       "1  WDIS_0719152  05/03/1967 09:00           NaN               Feet   \n",
       "2  WDIS_0719152  05/03/1967 09:00           NaN               Feet   \n",
       "3  WDIS_0719152  05/03/1967 09:00           NaN               Feet   \n",
       "4  WDIS_0719152  05/03/1967 09:00           NaN               Feet   \n",
       "\n",
       "             parameter result  reporting_limit  units            method_name  \n",
       "0          Conductance   3480              1.0  uS/cm              EPA 120.1  \n",
       "1      Dissolved Boron    7.7              0.1   mg/L   Std Method 4500-B, C  \n",
       "2    Dissolved Calcium     68              1.0   mg/L              EPA 215.2  \n",
       "3   Dissolved Chloride    758              0.1   mg/L  Std Method 4500-Cl, B  \n",
       "4  Dissolved Magnesium     59              0.1   mg/L  Std Method 3500-Mg, E  "
      ]
     },
     "execution_count": 13,
     "metadata": {},
     "output_type": "execute_result"
    }
   ],
   "source": [
    "lr.info()\n",
    "lr.head()"
   ]
  },
  {
   "cell_type": "markdown",
   "id": "7b4de3fb",
   "metadata": {},
   "source": [
    "**Investigate unique tested parameters**"
   ]
  },
  {
   "cell_type": "code",
   "execution_count": 14,
   "id": "b44e3ec7",
   "metadata": {
    "tags": []
   },
   "outputs": [
    {
     "name": "stdout",
     "output_type": "stream",
     "text": [
      "Number of measured parameters: 437\n"
     ]
    }
   ],
   "source": [
    "num_unique_parameters_lr = lr['parameter'].nunique()\n",
    "print(\"Number of measured parameters:\", num_unique_parameters_lr)"
   ]
  },
  {
   "cell_type": "markdown",
   "id": "0bfcf505",
   "metadata": {},
   "source": [
    "This is a lot of parameters - let's just see distribution of top 30 paramters for now. Can filter later on. "
   ]
  },
  {
   "cell_type": "code",
   "execution_count": 15,
   "id": "9a4d596b",
   "metadata": {
    "tags": []
   },
   "outputs": [
    {
     "data": {
      "image/png": "[encoded data removed]",
      "text/plain": [
       "<Figure size 864x432 with 1 Axes>"
      ]
     },
     "metadata": {
      "needs_background": "light"
     },
     "output_type": "display_data"
    }
   ],
   "source": [
    "#get the count of each parameter in lr\n",
    "parameter_counts_lr = lr['parameter'].value_counts()\n",
    "\n",
    "#generate df for plot\n",
    "parameter_counts_lr_df = parameter_counts_lr.reset_index()\n",
    "parameter_counts_lr_df.columns = ['parameter', 'count']\n",
    "\n",
    "#select top parameters, can change x\n",
    "x = 20\n",
    "top_x_parameters_lr = parameter_counts_lr_df.head(20)\n",
    "\n",
    "#create barplot visualizing the top parameters\n",
    "plt.figure(figsize=(12, 6))\n",
    "sns.barplot(x='parameter', y='count', data=top_x_parameters_lr, palette='viridis')\n",
    "plt.xlabel('Parameter')\n",
    "plt.ylabel('Count')\n",
    "plt.title('Top 30 Parameters by Count - LAB RESULTS')\n",
    "plt.xticks(rotation=90)\n",
    "plt.show()\n"
   ]
  },
  {
   "cell_type": "markdown",
   "id": "2dc9c023",
   "metadata": {
    "tags": []
   },
   "source": [
    "## Explore Field Results"
   ]
  },
  {
   "cell_type": "code",
   "execution_count": 16,
   "id": "45f654b6",
   "metadata": {
    "tags": []
   },
   "outputs": [
    {
     "name": "stdout",
     "output_type": "stream",
     "text": [
      "<class 'pandas.core.frame.DataFrame'>\n",
      "RangeIndex: 1199457 entries, 0 to 1199456\n",
      "Data columns (total 22 columns):\n",
      " #   Column               Non-Null Count    Dtype  \n",
      "---  ------               --------------    -----  \n",
      " 0   station_id           1199457 non-null  int64  \n",
      " 1   station_name         1199457 non-null  object \n",
      " 2   station_number       1199457 non-null  object \n",
      " 3   full_station_name    1199457 non-null  object \n",
      " 4   station_type         1199457 non-null  object \n",
      " 5   latitude             1187572 non-null  float64\n",
      " 6   longitude            1187572 non-null  float64\n",
      " 7   status               1199457 non-null  object \n",
      " 8   county_name          1199457 non-null  object \n",
      " 9   sample_code          1199457 non-null  object \n",
      " 10  sample_date          1199457 non-null  object \n",
      " 11  sample_depth         634376 non-null   float64\n",
      " 12  sample_depth_units   1199457 non-null  object \n",
      " 13  anl_data_type        136604 non-null   object \n",
      " 14  parameter            1199457 non-null  object \n",
      " 15  fdr_result           1069029 non-null  float64\n",
      " 16  fdr_text_result      124439 non-null   object \n",
      " 17  fdr_date_result      4434 non-null     object \n",
      " 18  fdr_reporting_limit  1026713 non-null  float64\n",
      " 19  uns_name             1199457 non-null  object \n",
      " 20  mth_name             1199457 non-null  object \n",
      " 21  fdr_footnote         120788 non-null   object \n",
      "dtypes: float64(5), int64(1), object(16)\n",
      "memory usage: 201.3+ MB\n"
     ]
    },
    {
     "data": {
      "text/html": [
       "<div>\n",
       "<style scoped>\n",
       "    .dataframe tbody tr th:only-of-type {\n",
       "        vertical-align: middle;\n",
       "    }\n",
       "\n",
       "    .dataframe tbody tr th {\n",
       "        vertical-align: top;\n",
       "    }\n",
       "\n",
       "    .dataframe thead th {\n",
       "        text-align: right;\n",
       "    }\n",
       "</style>\n",
       "<table border=\"1\" class=\"dataframe\">\n",
       "  <thead>\n",
       "    <tr style=\"text-align: right;\">\n",
       "      <th></th>\n",
       "      <th>station_id</th>\n",
       "      <th>station_name</th>\n",
       "      <th>station_number</th>\n",
       "      <th>full_station_name</th>\n",
       "      <th>station_type</th>\n",
       "      <th>latitude</th>\n",
       "      <th>longitude</th>\n",
       "      <th>status</th>\n",
       "      <th>county_name</th>\n",
       "      <th>sample_code</th>\n",
       "      <th>...</th>\n",
       "      <th>sample_depth_units</th>\n",
       "      <th>anl_data_type</th>\n",
       "      <th>parameter</th>\n",
       "      <th>fdr_result</th>\n",
       "      <th>fdr_text_result</th>\n",
       "      <th>fdr_date_result</th>\n",
       "      <th>fdr_reporting_limit</th>\n",
       "      <th>uns_name</th>\n",
       "      <th>mth_name</th>\n",
       "      <th>fdr_footnote</th>\n",
       "    </tr>\n",
       "  </thead>\n",
       "  <tbody>\n",
       "    <tr>\n",
       "      <th>0</th>\n",
       "      <td>12</td>\n",
       "      <td>H.O. Banks Headworks</td>\n",
       "      <td>KA000331</td>\n",
       "      <td>Delta P.P. Headworks at H.O. Banks PP</td>\n",
       "      <td>Surface Water</td>\n",
       "      <td>37.8019</td>\n",
       "      <td>-121.6203</td>\n",
       "      <td>Public, Review Status Unknown</td>\n",
       "      <td>Alameda</td>\n",
       "      <td>OM0168A0001</td>\n",
       "      <td>...</td>\n",
       "      <td>Feet</td>\n",
       "      <td>NaN</td>\n",
       "      <td>DissolvedOxygen</td>\n",
       "      <td>9.2</td>\n",
       "      <td>NaN</td>\n",
       "      <td>NaN</td>\n",
       "      <td>0.2</td>\n",
       "      <td>mg/L</td>\n",
       "      <td>EPA 360.2 (Field)</td>\n",
       "      <td>NaN</td>\n",
       "    </tr>\n",
       "    <tr>\n",
       "      <th>1</th>\n",
       "      <td>12</td>\n",
       "      <td>H.O. Banks Headworks</td>\n",
       "      <td>KA000331</td>\n",
       "      <td>Delta P.P. Headworks at H.O. Banks PP</td>\n",
       "      <td>Surface Water</td>\n",
       "      <td>37.8019</td>\n",
       "      <td>-121.6203</td>\n",
       "      <td>Public, Review Status Unknown</td>\n",
       "      <td>Alameda</td>\n",
       "      <td>OM0168A0001</td>\n",
       "      <td>...</td>\n",
       "      <td>Feet</td>\n",
       "      <td>NaN</td>\n",
       "      <td>ElectricalConductance</td>\n",
       "      <td>515.0</td>\n",
       "      <td>NaN</td>\n",
       "      <td>NaN</td>\n",
       "      <td>1.0</td>\n",
       "      <td>uS/cm</td>\n",
       "      <td>Std Method 2510-B (Field)</td>\n",
       "      <td>NaN</td>\n",
       "    </tr>\n",
       "    <tr>\n",
       "      <th>2</th>\n",
       "      <td>12</td>\n",
       "      <td>H.O. Banks Headworks</td>\n",
       "      <td>KA000331</td>\n",
       "      <td>Delta P.P. Headworks at H.O. Banks PP</td>\n",
       "      <td>Surface Water</td>\n",
       "      <td>37.8019</td>\n",
       "      <td>-121.6203</td>\n",
       "      <td>Public, Review Status Unknown</td>\n",
       "      <td>Alameda</td>\n",
       "      <td>OM0168A0001</td>\n",
       "      <td>...</td>\n",
       "      <td>Feet</td>\n",
       "      <td>NaN</td>\n",
       "      <td>WaterTemperature</td>\n",
       "      <td>6.7</td>\n",
       "      <td>NaN</td>\n",
       "      <td>NaN</td>\n",
       "      <td>0.1</td>\n",
       "      <td>°C</td>\n",
       "      <td>EPA 170.1 (Field)</td>\n",
       "      <td>NaN</td>\n",
       "    </tr>\n",
       "    <tr>\n",
       "      <th>3</th>\n",
       "      <td>12</td>\n",
       "      <td>H.O. Banks Headworks</td>\n",
       "      <td>KA000331</td>\n",
       "      <td>Delta P.P. Headworks at H.O. Banks PP</td>\n",
       "      <td>Surface Water</td>\n",
       "      <td>37.8019</td>\n",
       "      <td>-121.6203</td>\n",
       "      <td>Public, Review Status Unknown</td>\n",
       "      <td>Alameda</td>\n",
       "      <td>OM0168A0001</td>\n",
       "      <td>...</td>\n",
       "      <td>Feet</td>\n",
       "      <td>NaN</td>\n",
       "      <td>pH</td>\n",
       "      <td>7.3</td>\n",
       "      <td>NaN</td>\n",
       "      <td>NaN</td>\n",
       "      <td>0.1</td>\n",
       "      <td>pH Units</td>\n",
       "      <td>EPA 150.1 (Field)</td>\n",
       "      <td>NaN</td>\n",
       "    </tr>\n",
       "    <tr>\n",
       "      <th>4</th>\n",
       "      <td>12</td>\n",
       "      <td>H.O. Banks Headworks</td>\n",
       "      <td>KA000331</td>\n",
       "      <td>Delta P.P. Headworks at H.O. Banks PP</td>\n",
       "      <td>Surface Water</td>\n",
       "      <td>37.8019</td>\n",
       "      <td>-121.6203</td>\n",
       "      <td>Public, Review Status Unknown</td>\n",
       "      <td>Alameda</td>\n",
       "      <td>OM0268A0006</td>\n",
       "      <td>...</td>\n",
       "      <td>Feet</td>\n",
       "      <td>NaN</td>\n",
       "      <td>DissolvedOxygen</td>\n",
       "      <td>9.7</td>\n",
       "      <td>NaN</td>\n",
       "      <td>NaN</td>\n",
       "      <td>0.2</td>\n",
       "      <td>mg/L</td>\n",
       "      <td>EPA 360.2 (Field)</td>\n",
       "      <td>NaN</td>\n",
       "    </tr>\n",
       "  </tbody>\n",
       "</table>\n",
       "<p>5 rows × 22 columns</p>\n",
       "</div>"
      ],
      "text/plain": [
       "   station_id          station_name station_number  \\\n",
       "0          12  H.O. Banks Headworks       KA000331   \n",
       "1          12  H.O. Banks Headworks       KA000331   \n",
       "2          12  H.O. Banks Headworks       KA000331   \n",
       "3          12  H.O. Banks Headworks       KA000331   \n",
       "4          12  H.O. Banks Headworks       KA000331   \n",
       "\n",
       "                       full_station_name   station_type  latitude  longitude  \\\n",
       "0  Delta P.P. Headworks at H.O. Banks PP  Surface Water   37.8019  -121.6203   \n",
       "1  Delta P.P. Headworks at H.O. Banks PP  Surface Water   37.8019  -121.6203   \n",
       "2  Delta P.P. Headworks at H.O. Banks PP  Surface Water   37.8019  -121.6203   \n",
       "3  Delta P.P. Headworks at H.O. Banks PP  Surface Water   37.8019  -121.6203   \n",
       "4  Delta P.P. Headworks at H.O. Banks PP  Surface Water   37.8019  -121.6203   \n",
       "\n",
       "                          status county_name  sample_code  ...  \\\n",
       "0  Public, Review Status Unknown     Alameda  OM0168A0001  ...   \n",
       "1  Public, Review Status Unknown     Alameda  OM0168A0001  ...   \n",
       "2  Public, Review Status Unknown     Alameda  OM0168A0001  ...   \n",
       "3  Public, Review Status Unknown     Alameda  OM0168A0001  ...   \n",
       "4  Public, Review Status Unknown     Alameda  OM0268A0006  ...   \n",
       "\n",
       "  sample_depth_units  anl_data_type              parameter fdr_result  \\\n",
       "0               Feet            NaN        DissolvedOxygen        9.2   \n",
       "1               Feet            NaN  ElectricalConductance      515.0   \n",
       "2               Feet            NaN       WaterTemperature        6.7   \n",
       "3               Feet            NaN                     pH        7.3   \n",
       "4               Feet            NaN        DissolvedOxygen        9.7   \n",
       "\n",
       "  fdr_text_result  fdr_date_result fdr_reporting_limit  uns_name  \\\n",
       "0             NaN              NaN                 0.2      mg/L   \n",
       "1             NaN              NaN                 1.0     uS/cm   \n",
       "2             NaN              NaN                 0.1        °C   \n",
       "3             NaN              NaN                 0.1  pH Units   \n",
       "4             NaN              NaN                 0.2      mg/L   \n",
       "\n",
       "                    mth_name fdr_footnote  \n",
       "0          EPA 360.2 (Field)          NaN  \n",
       "1  Std Method 2510-B (Field)          NaN  \n",
       "2          EPA 170.1 (Field)          NaN  \n",
       "3          EPA 150.1 (Field)          NaN  \n",
       "4          EPA 360.2 (Field)          NaN  \n",
       "\n",
       "[5 rows x 22 columns]"
      ]
     },
     "execution_count": 16,
     "metadata": {},
     "output_type": "execute_result"
    }
   ],
   "source": [
    "fr.info()\n",
    "fr.head()"
   ]
  },
  {
   "cell_type": "code",
   "execution_count": 17,
   "id": "f5f6e6b8",
   "metadata": {
    "tags": []
   },
   "outputs": [
    {
     "data": {
      "image/png": "[encoded data removed]",
      "text/plain": [
       "<Figure size 864x432 with 1 Axes>"
      ]
     },
     "metadata": {
      "needs_background": "light"
     },
     "output_type": "display_data"
    }
   ],
   "source": [
    "#get the count of each parameter in fr\n",
    "parameter_counts_fr = fr['parameter'].value_counts()\n",
    "\n",
    "#generate df for plot\n",
    "parameter_counts_fr_df = parameter_counts_fr.reset_index()\n",
    "parameter_counts_fr_df.columns = ['parameter', 'count']\n",
    "\n",
    "#select top parameters, can change x\n",
    "x = 20\n",
    "top_x_parameters_fr = parameter_counts_fr_df.head(20)\n",
    "\n",
    "#create barplot visualizing the top parameters\n",
    "plt.figure(figsize=(12, 6))\n",
    "sns.barplot(x='parameter', y='count', data=top_x_parameters_fr, palette='viridis')\n",
    "plt.xlabel('Parameter')\n",
    "plt.ylabel('Count')\n",
    "plt.title('Top X Parameters by Count - FIELD RESULTS')\n",
    "plt.xticks(rotation=90)\n",
    "plt.show()\n"
   ]
  },
  {
   "cell_type": "markdown",
   "id": "983bb0f4-8dfd-4f59-adec-43db54ffc1b5",
   "metadata": {
    "tags": []
   },
   "source": [
    "# Data Preparation \n"
   ]
  },
  {
   "cell_type": "markdown",
   "id": "e9c3af9a-694d-4aaa-a230-ef4b11c8db45",
   "metadata": {
    "tags": []
   },
   "source": [
    "## Handle Missing Values"
   ]
  },
  {
   "cell_type": "code",
   "execution_count": 18,
   "id": "19c92b83-91ec-4c57-8d97-c02128ce8c97",
   "metadata": {
    "tags": []
   },
   "outputs": [
    {
     "name": "stdout",
     "output_type": "stream",
     "text": [
      "Missing Values in Stations dataset:\n",
      "station_id             0\n",
      "station_name           0\n",
      "full_station_name      0\n",
      "station_number         0\n",
      "station_type           0\n",
      "latitude             278\n",
      "longitude            278\n",
      "county_name            0\n",
      "sample_count           0\n",
      "sample_date_min        0\n",
      "sample_date_max        0\n",
      "dtype: int64\n",
      "\n",
      "Missing Values in Period of Record dataset:\n",
      "station_id               0\n",
      "station_name             0\n",
      "full_station_name        0\n",
      "station_number           0\n",
      "station_type             0\n",
      "latitude             10253\n",
      "longitude            10253\n",
      "county_name              0\n",
      "parameter                0\n",
      "sample_count             0\n",
      "sample_date_min          0\n",
      "sample_date_max          0\n",
      "dtype: int64\n",
      "\n",
      "Missing Values in Field Results dataset:\n",
      "station_id                   0\n",
      "station_name                 0\n",
      "station_number               0\n",
      "full_station_name            0\n",
      "station_type                 0\n",
      "latitude                 11885\n",
      "longitude                11885\n",
      "status                       0\n",
      "county_name                  0\n",
      "sample_code                  0\n",
      "sample_date                  0\n",
      "sample_depth            565081\n",
      "sample_depth_units           0\n",
      "anl_data_type          1062853\n",
      "parameter                    0\n",
      "fdr_result              130428\n",
      "fdr_text_result        1075018\n",
      "fdr_date_result        1195023\n",
      "fdr_reporting_limit     172744\n",
      "uns_name                     0\n",
      "mth_name                     0\n",
      "fdr_footnote           1078669\n",
      "dtype: int64\n",
      "\n",
      "Missing Values in Lab Results dataset:\n",
      "station_id                  0\n",
      "station_name                0\n",
      "full_station_name           0\n",
      "station_number              0\n",
      "station_type                0\n",
      "latitude               138083\n",
      "longitude              138083\n",
      "status                      0\n",
      "county_name                 0\n",
      "sample_code                 0\n",
      "sample_date                 0\n",
      "sample_depth          2783155\n",
      "sample_depth_units          0\n",
      "parameter                   0\n",
      "result                  40969\n",
      "reporting_limit         17465\n",
      "units                       0\n",
      "method_name                 0\n",
      "dtype: int64\n"
     ]
    }
   ],
   "source": [
    "# Identify missing values\n",
    "missing_values_st = st.isnull().sum()\n",
    "missing_values_por = por.isnull().sum()\n",
    "missing_values_fr = fr.isnull().sum()\n",
    "missing_values_lr = lr.isnull().sum()\n",
    "\n",
    "# Print missing value counts for each dataset\n",
    "print(\"Missing Values in Stations dataset:\")\n",
    "print(missing_values_st)\n",
    "print(\"\\nMissing Values in Period of Record dataset:\")\n",
    "print(missing_values_por)\n",
    "print(\"\\nMissing Values in Field Results dataset:\")\n",
    "print(missing_values_fr)\n",
    "print(\"\\nMissing Values in Lab Results dataset:\")\n",
    "print(missing_values_lr)\n",
    "\n"
   ]
  },
  {
   "cell_type": "markdown",
   "id": "e85c5542-0cc7-4212-928a-881aacb66d94",
   "metadata": {},
   "source": [
    "### Creating a Subset of San Diego in Station Dataset"
   ]
  },
  {
   "cell_type": "code",
   "execution_count": 19,
   "id": "285115f1-8c0e-45a8-9225-bf9069b72386",
   "metadata": {
    "tags": []
   },
   "outputs": [
    {
     "name": "stdout",
     "output_type": "stream",
     "text": [
      "Total count of rows in st_sanDiego dataframe: 1948\n",
      "Missing Values in for San Diego county in Stations dataset:\n",
      "station_id           0\n",
      "station_name         0\n",
      "full_station_name    0\n",
      "station_number       0\n",
      "station_type         0\n",
      "latitude             2\n",
      "longitude            2\n",
      "county_name          0\n",
      "sample_count         0\n",
      "sample_date_min      0\n",
      "sample_date_max      0\n",
      "dtype: int64\n",
      "Percentage of missing values in latitude San Diego County (Stations): 0.10266940451745381\n",
      "Percentage of missing values in longitude San Diego County (Stations): 0.10266940451745381\n"
     ]
    }
   ],
   "source": [
    "# Create a subset of the data for San Diego County\n",
    "st_sanDiego = st[st['county_name'] == 'San Diego']\n",
    "\n",
    "# Show the total count of rows in st_sanDiego dataframe\n",
    "print(\"Total count of rows in st_sanDiego dataframe:\", st_sanDiego.shape[0])\n",
    "\n",
    "#Identify missing values\n",
    "missing_values_st_sanDiego = st_sanDiego.isnull().sum()\n",
    "\n",
    "# Print missing value counts for each dataset\n",
    "print(\"Missing Values in for San Diego county in Stations dataset:\")\n",
    "print(missing_values_st_sanDiego)\n",
    "\n",
    "# Calculate the percentage of missing values for latitude and longitude columns in st\n",
    "percentage_missing_latitude_st_sanDiego = (st_sanDiego['latitude'].isnull().sum() / len(st_sanDiego)) * 100\n",
    "percentage_missing_longitude_st_sanDiego = (st_sanDiego['longitude'].isnull().sum() / len(st_sanDiego)) * 100\n",
    "\n",
    "print(\"Percentage of missing values in latitude San Diego County (Stations):\", percentage_missing_latitude_st_sanDiego)\n",
    "print(\"Percentage of missing values in longitude San Diego County (Stations):\", percentage_missing_longitude_st_sanDiego)\n"
   ]
  },
  {
   "cell_type": "code",
   "execution_count": 20,
   "id": "8c20e0ac-9f52-4474-9756-cac49fa9cf96",
   "metadata": {
    "tags": []
   },
   "outputs": [
    {
     "name": "stdout",
     "output_type": "stream",
     "text": [
      "Missing Values in San Diego County Stations dataset:\n",
      "station_id           0\n",
      "station_name         0\n",
      "full_station_name    0\n",
      "station_number       0\n",
      "station_type         0\n",
      "latitude             0\n",
      "longitude            0\n",
      "county_name          0\n",
      "sample_count         0\n",
      "sample_date_min      0\n",
      "sample_date_max      0\n",
      "dtype: int64\n",
      "Total count of rows in st_sanDiego dataframe after dropping missing values: 1946\n"
     ]
    }
   ],
   "source": [
    "# Drop rows with missing latitude and longitude values in st_sanDiego\n",
    "st_sanDiego.dropna(subset=['latitude', 'longitude'], inplace=True)\n",
    "\n",
    "# Identify missing values\n",
    "missing_values_st_sanDiego = st_sanDiego.isnull().sum()\n",
    "\n",
    "# Print missing value counts for each dataset\n",
    "print(\"Missing Values in San Diego County Stations dataset:\")\n",
    "print(missing_values_st_sanDiego)\n",
    "\n",
    "# Show the total count of rows after dropping missing values\n",
    "print(\"Total count of rows in st_sanDiego dataframe after dropping missing values:\", st_sanDiego.shape[0])\n"
   ]
  },
  {
   "cell_type": "markdown",
   "id": "2f2824db-4d69-4044-b2fd-84776f4ea116",
   "metadata": {},
   "source": [
    "### Creating a subset in San Diego county in Lab Results "
   ]
  },
  {
   "cell_type": "code",
   "execution_count": 21,
   "id": "a0e90ce5-842e-4034-89ca-6615c4a14731",
   "metadata": {
    "tags": []
   },
   "outputs": [
    {
     "name": "stdout",
     "output_type": "stream",
     "text": [
      "Total count of rows in lr_sanDiego dataframe: 101507\n",
      "Missing Values in for San Diego county in Lab Result dataset:\n",
      "station_id                 0\n",
      "station_name               0\n",
      "full_station_name          0\n",
      "station_number             0\n",
      "station_type               0\n",
      "latitude                  29\n",
      "longitude                 29\n",
      "status                     0\n",
      "county_name                0\n",
      "sample_code                0\n",
      "sample_date                0\n",
      "sample_depth          101069\n",
      "sample_depth_units         0\n",
      "parameter                  0\n",
      "result                   213\n",
      "reporting_limit          213\n",
      "units                      0\n",
      "method_name                0\n",
      "dtype: int64\n"
     ]
    }
   ],
   "source": [
    "# Create a subset of the data for San Diego County\n",
    "lr_sanDiego = lr[lr['county_name'] == 'San Diego']\n",
    "\n",
    "# Show the total count of rows in lr_sanDiego dataframe\n",
    "print(\"Total count of rows in lr_sanDiego dataframe:\", lr_sanDiego.shape[0])\n",
    "\n",
    "#Identify missing values\n",
    "missing_values_lr_sanDiego = lr_sanDiego.isnull().sum()\n",
    "\n",
    "# Print missing value counts for each dataset\n",
    "print(\"Missing Values in for San Diego county in Lab Result dataset:\")\n",
    "print(missing_values_lr_sanDiego)\n"
   ]
  },
  {
   "cell_type": "code",
   "execution_count": 22,
   "id": "754c5bcb-8f39-4f99-9af8-2f32b917b10c",
   "metadata": {
    "tags": []
   },
   "outputs": [
    {
     "name": "stdout",
     "output_type": "stream",
     "text": [
      "Percentage of missing values in latitude (Lab Results): 0.02856945826396209\n",
      "Percentage of missing values in longitude (Lab Results): 0.02856945826396209\n",
      "Percentage of missing values in sample depth (Lab Results): 99.56850266484085\n",
      "Percentage of missing values in result type (Lab Results): 0.20983774518013534\n",
      "Percentage of missing values in reporting limit (Lab Results): 0.20983774518013534\n"
     ]
    }
   ],
   "source": [
    "# Calculate the percentage of missing values for other columns\n",
    "percentage_missing_latitude_lr_sanDiego = (lr_sanDiego['latitude'].isnull().sum() / lr_sanDiego.shape[0]) * 100\n",
    "percentage_missing_longitude_lr_sanDiego = (lr_sanDiego['longitude'].isnull().sum() / lr_sanDiego.shape[0]) * 100\n",
    "percentage_missing_sample_depth_lr_sanDiego = (lr_sanDiego['sample_depth'].isnull().sum() / len(lr_sanDiego)) * 100\n",
    "percentage_missing_result_lr_sanDiego = (lr_sanDiego['result'].isnull().sum() / len(lr_sanDiego)) * 100\n",
    "percentage_missing_reporting_limit_lr_sanDiego = (lr_sanDiego['reporting_limit'].isnull().sum() / len(lr_sanDiego)) * 100\n",
    "\n",
    "# Print the percentage of missing values for other columns\n",
    "print(\"Percentage of missing values in latitude (Lab Results):\", percentage_missing_latitude_lr_sanDiego)\n",
    "print(\"Percentage of missing values in longitude (Lab Results):\", percentage_missing_longitude_lr_sanDiego)\n",
    "print(\"Percentage of missing values in sample depth (Lab Results):\", percentage_missing_sample_depth_lr_sanDiego)\n",
    "print(\"Percentage of missing values in result type (Lab Results):\", percentage_missing_result_lr_sanDiego)\n",
    "print(\"Percentage of missing values in reporting limit (Lab Results):\", percentage_missing_reporting_limit_lr_sanDiego)\n"
   ]
  },
  {
   "cell_type": "code",
   "execution_count": 23,
   "id": "78962f59-15cc-4dd1-86b0-b116a2cdf10e",
   "metadata": {
    "tags": []
   },
   "outputs": [
    {
     "name": "stdout",
     "output_type": "stream",
     "text": [
      "Missing values in lr_sanDiego after handling:\n",
      "station_id                 0\n",
      "station_name               0\n",
      "full_station_name          0\n",
      "station_number             0\n",
      "station_type               0\n",
      "latitude                   0\n",
      "longitude                  0\n",
      "status                     0\n",
      "county_name                0\n",
      "sample_code                0\n",
      "sample_date                0\n",
      "sample_depth          100838\n",
      "sample_depth_units         0\n",
      "parameter                  0\n",
      "result                     0\n",
      "reporting_limit            0\n",
      "units                      0\n",
      "method_name                0\n",
      "dtype: int64\n",
      "Total count of rows in lr_sanDiego dataframe after dropping missing values: 101267\n"
     ]
    }
   ],
   "source": [
    "# Drop rows with missing latitude and longitude values in lr_sanDiego\n",
    "lr_sanDiego.dropna(subset=['latitude', 'longitude', 'result'], inplace=True)\n",
    "\n",
    "# Confirm that missing values have been handled\n",
    "print(\"Missing values in lr_sanDiego after handling:\")\n",
    "print(lr_sanDiego.isnull().sum())\n",
    "\n",
    "# Show the total count of rows after dropping missing values\n",
    "print(\"Total count of rows in lr_sanDiego dataframe after dropping missing values:\", lr_sanDiego.shape[0])\n"
   ]
  },
  {
   "cell_type": "code",
   "execution_count": 24,
   "id": "79900c22-0b28-4987-85b9-f95e1823cd07",
   "metadata": {
    "tags": []
   },
   "outputs": [
    {
     "name": "stdout",
     "output_type": "stream",
     "text": [
      "Missing values in lr_sanDiego after handling:\n",
      "station_id            0\n",
      "station_name          0\n",
      "full_station_name     0\n",
      "station_number        0\n",
      "station_type          0\n",
      "latitude              0\n",
      "longitude             0\n",
      "status                0\n",
      "county_name           0\n",
      "sample_code           0\n",
      "sample_date           0\n",
      "sample_depth          0\n",
      "sample_depth_units    0\n",
      "parameter             0\n",
      "result                0\n",
      "reporting_limit       0\n",
      "units                 0\n",
      "method_name           0\n",
      "dtype: int64\n",
      "Total count of rows in lr_sanDiego dataframe after dropping missing values: 101267\n"
     ]
    }
   ],
   "source": [
    "\n",
    "# Calculate the mode value of 'sample_depth' column\n",
    "mode_sample_depth = lr_sanDiego['sample_depth'].mode()[0]\n",
    "\n",
    "# Replace missing values in 'sample_depth' column with the mode\n",
    "lr_sanDiego['sample_depth'].fillna(mode_sample_depth, inplace=True)\n",
    "\n",
    "# Confirm that missing values have been handled\n",
    "print(\"Missing values in lr_sanDiego after handling:\")\n",
    "print(lr_sanDiego.isnull().sum())\n",
    "\n",
    "#Show the total count of rows after dropping missing values\n",
    "print(\"Total count of rows in lr_sanDiego dataframe after dropping missing values:\", lr_sanDiego.shape[0])\n"
   ]
  },
  {
   "cell_type": "markdown",
   "id": "1dddbe23-18e2-4341-bc8b-46e5b5171e5b",
   "metadata": {},
   "source": [
    "### Handling Missing Values in Period of Record Dataset"
   ]
  },
  {
   "cell_type": "code",
   "execution_count": 25,
   "id": "aad95659-2dc3-4273-93ba-d46e20e66513",
   "metadata": {
    "tags": []
   },
   "outputs": [
    {
     "name": "stdout",
     "output_type": "stream",
     "text": [
      "Total count of rows in por_sanDiego dataframe: 26410\n",
      "Missing Values in for San Diego county in period of record dataset:\n",
      "station_id            0\n",
      "station_name          0\n",
      "full_station_name     0\n",
      "station_number        0\n",
      "station_type          0\n",
      "latitude             29\n",
      "longitude            29\n",
      "county_name           0\n",
      "parameter             0\n",
      "sample_count          0\n",
      "sample_date_min       0\n",
      "sample_date_max       0\n",
      "dtype: int64\n"
     ]
    }
   ],
   "source": [
    "# Create a subset of the data for San Diego County\n",
    "por_sanDiego = por[por['county_name'] == 'San Diego']\n",
    "\n",
    "# Show the total count of rows in st_sanDiego dataframe\n",
    "print(\"Total count of rows in por_sanDiego dataframe:\", por_sanDiego.shape[0])\n",
    "\n",
    "#Identify missing values\n",
    "missing_values_por_sanDiego = por_sanDiego.isnull().sum()\n",
    "\n",
    "#Print missing value counts for period of record dataset\n",
    "print(\"Missing Values in for San Diego county in period of record dataset:\")\n",
    "print(missing_values_por_sanDiego)\n"
   ]
  },
  {
   "cell_type": "markdown",
   "id": "787dc0f7-4049-4953-8ea5-2ab52f943d17",
   "metadata": {},
   "source": [
    "### Creating a Subset of San Diego in Field Result Dataset"
   ]
  },
  {
   "cell_type": "code",
   "execution_count": 26,
   "id": "afce7b59-8b84-435f-a6d1-02b5278345ac",
   "metadata": {
    "tags": []
   },
   "outputs": [
    {
     "name": "stdout",
     "output_type": "stream",
     "text": [
      "Total count of rows in fr_sanDiego dataframe: 9051\n",
      "Missing Values in for San Diego county in field results dataset:\n",
      "station_id                0\n",
      "station_name              0\n",
      "station_number            0\n",
      "full_station_name         0\n",
      "station_type              0\n",
      "latitude                  5\n",
      "longitude                 5\n",
      "status                    0\n",
      "county_name               0\n",
      "sample_code               0\n",
      "sample_date               0\n",
      "sample_depth           8698\n",
      "sample_depth_units        0\n",
      "anl_data_type          7973\n",
      "parameter                 0\n",
      "fdr_result             1083\n",
      "fdr_text_result        7998\n",
      "fdr_date_result        9045\n",
      "fdr_reporting_limit    1114\n",
      "uns_name                  0\n",
      "mth_name                  0\n",
      "fdr_footnote           8080\n",
      "dtype: int64\n",
      "Total count of null values in fr_sanDiego dataset: 44001\n",
      "Percentage of missing values in fr_sanDiego dataset: 22.097508060385092\n"
     ]
    }
   ],
   "source": [
    "# Create a subset of the data for San Diego County\n",
    "fr_sanDiego = fr[fr['county_name'] == 'San Diego']\n",
    "\n",
    "# Show the total count of rows in st_sanDiego dataframe\n",
    "print(\"Total count of rows in fr_sanDiego dataframe:\", fr_sanDiego.shape[0])\n",
    "\n",
    "#Identify missing values\n",
    "missing_values_fr_sanDiego = fr_sanDiego.isnull().sum()\n",
    "\n",
    "# Print missing value counts for each dataset\n",
    "print(\"Missing Values in for San Diego county in field results dataset:\")\n",
    "print(missing_values_fr_sanDiego)\n",
    "\n",
    "# Calculate the total count of null values in the fr_sanDiego subset dataset\n",
    "total_null_count_fr_sanDiego = fr_sanDiego.isnull().sum().sum()\n",
    "\n",
    "# Print the total count of null values\n",
    "print(\"Total count of null values in fr_sanDiego dataset:\", total_null_count_fr_sanDiego)\n",
    "\n",
    "# Calculate the total number of data points in fr_sanDiego\n",
    "total_data_points_fr_sanDiego = fr_sanDiego.size\n",
    "\n",
    "# Calculate the percentage of missing values\n",
    "percentage_missing_values_fr_sanDiego = (total_null_count_fr_sanDiego / total_data_points_fr_sanDiego) * 100\n",
    "\n",
    "# Print the percentage of missing values\n",
    "print(\"Percentage of missing values in fr_sanDiego dataset:\", percentage_missing_values_fr_sanDiego)\n",
    "\n"
   ]
  },
  {
   "cell_type": "code",
   "execution_count": 27,
   "id": "866bb5ea-2ea0-4d30-b680-5892b64730e4",
   "metadata": {
    "tags": []
   },
   "outputs": [
    {
     "name": "stdout",
     "output_type": "stream",
     "text": [
      "Percentage of missing values in latitude (Field Results): 0.055242514639266375\n",
      "Percentage of missing values in longitude (Field Results): 0.055242514639266375\n",
      "Percentage of missing values in sample depth (Field Results): 96.09987846646779\n",
      "Percentage of missing values in analysis data type (Field Results): 88.08971384377416\n",
      "Percentage of missing values in field result (Field Results): 11.965528670865098\n",
      "Percentage of missing values in field result text (Field Results): 88.3659264169705\n",
      "Percentage of missing values in field result date (Field Results): 99.93370898243288\n",
      "Percentage of missing values in field result reporting limit (Field Results): 12.308032261628549\n",
      "Percentage of missing values in field result footnote (Field Results): 89.27190365705448\n"
     ]
    }
   ],
   "source": [
    "\n",
    "# Calculate the percentage of missing values for other columns\n",
    "percentage_missing_latitude_fr_sanDiego = (fr_sanDiego['latitude'].isnull().sum() / fr_sanDiego.shape[0]) * 100\n",
    "percentage_missing_longitude_fr_sanDiego = (fr_sanDiego['longitude'].isnull().sum() / fr_sanDiego.shape[0]) * 100\n",
    "percentage_missing_sample_depth_fr_sanDiego = (fr_sanDiego['sample_depth'].isnull().sum() / len(fr_sanDiego)) * 100\n",
    "percentage_missing_analysis_type_fr_sanDiego = (fr_sanDiego['anl_data_type'].isnull().sum() / len(fr_sanDiego)) * 100\n",
    "percentage_missing_field_result_fr_sanDiego = (fr_sanDiego['fdr_result'].isnull().sum() / len(fr_sanDiego)) * 100\n",
    "percentage_missing_field_result_text_fr_sanDiego = (fr_sanDiego['fdr_text_result'].isnull().sum() / len(fr_sanDiego)) * 100\n",
    "percentage_missing_field_result_date_fr_sanDiego = (fr_sanDiego['fdr_date_result'].isnull().sum() / len(fr_sanDiego)) * 100\n",
    "percentage_missing_reporting_limit_fr_sanDiego = (fr_sanDiego['fdr_reporting_limit'].isnull().sum() / len(fr_sanDiego)) * 100\n",
    "percentage_missing_field_result_footnote_fr_sanDiego = (fr_sanDiego['fdr_footnote'].isnull().sum() / len(fr_sanDiego)) * 100\n",
    "\n",
    "# Print the percentage of missing values for other columns\n",
    "print(\"Percentage of missing values in latitude (Field Results):\", percentage_missing_latitude_fr_sanDiego)\n",
    "print(\"Percentage of missing values in longitude (Field Results):\", percentage_missing_longitude_fr_sanDiego)\n",
    "print(\"Percentage of missing values in sample depth (Field Results):\", percentage_missing_sample_depth_fr_sanDiego)\n",
    "print(\"Percentage of missing values in analysis data type (Field Results):\", percentage_missing_analysis_type_fr_sanDiego)\n",
    "print(\"Percentage of missing values in field result (Field Results):\", percentage_missing_field_result_fr_sanDiego)\n",
    "print(\"Percentage of missing values in field result text (Field Results):\", percentage_missing_field_result_text_fr_sanDiego)\n",
    "print(\"Percentage of missing values in field result date (Field Results):\", percentage_missing_field_result_date_fr_sanDiego)\n",
    "print(\"Percentage of missing values in field result reporting limit (Field Results):\", percentage_missing_reporting_limit_fr_sanDiego)\n",
    "print(\"Percentage of missing values in field result footnote (Field Results):\", percentage_missing_field_result_footnote_fr_sanDiego)\n"
   ]
  },
  {
   "cell_type": "code",
   "execution_count": 28,
   "id": "d676914f-0cc3-4930-96e9-cb76b4e3591c",
   "metadata": {
    "tags": []
   },
   "outputs": [
    {
     "name": "stdout",
     "output_type": "stream",
     "text": [
      "Missing values in fr_sanDiego after handling:\n",
      "station_id                0\n",
      "station_name              0\n",
      "station_number            0\n",
      "full_station_name         0\n",
      "station_type              0\n",
      "latitude                  0\n",
      "longitude                 0\n",
      "status                    0\n",
      "county_name               0\n",
      "sample_code               0\n",
      "sample_date               0\n",
      "sample_depth           8693\n",
      "sample_depth_units        0\n",
      "anl_data_type          7968\n",
      "parameter                 0\n",
      "fdr_result                0\n",
      "fdr_text_result        7993\n",
      "fdr_date_result        9040\n",
      "fdr_reporting_limit       0\n",
      "uns_name                  0\n",
      "mth_name                  0\n",
      "fdr_footnote           8075\n",
      "dtype: int64\n"
     ]
    }
   ],
   "source": [
    "# Drop rows with missing latitude and longitude values in fr_sanDiego\n",
    "fr_sanDiego.dropna(subset=['latitude', 'longitude'], inplace=True)\n",
    "\n",
    "# Replace missing values in other columns with mean values\n",
    "fr_sanDiego['fdr_result'].fillna(fr_sanDiego['fdr_result'].mean(), inplace=True)\n",
    "fr_sanDiego['fdr_reporting_limit'].fillna(fr_sanDiego['fdr_reporting_limit'].mean(), inplace=True)\n",
    "\n",
    "# Confirm that missing values have been handled\n",
    "print(\"Missing values in fr_sanDiego after handling:\")\n",
    "print(fr_sanDiego.isnull().sum())\n"
   ]
  },
  {
   "cell_type": "code",
   "execution_count": 29,
   "id": "f23793ba-6699-41f5-b520-11b0d0cfcda7",
   "metadata": {
    "tags": []
   },
   "outputs": [
    {
     "name": "stdout",
     "output_type": "stream",
     "text": [
      "Missing values in fr_sanDiego after handling:\n",
      "station_id             0\n",
      "station_name           0\n",
      "station_number         0\n",
      "full_station_name      0\n",
      "station_type           0\n",
      "latitude               0\n",
      "longitude              0\n",
      "status                 0\n",
      "county_name            0\n",
      "sample_code            0\n",
      "sample_date            0\n",
      "sample_depth           0\n",
      "sample_depth_units     0\n",
      "anl_data_type          0\n",
      "parameter              0\n",
      "fdr_result             0\n",
      "fdr_text_result        0\n",
      "fdr_date_result        0\n",
      "fdr_reporting_limit    0\n",
      "uns_name               0\n",
      "mth_name               0\n",
      "fdr_footnote           0\n",
      "dtype: int64\n"
     ]
    }
   ],
   "source": [
    "# Calculate the mode value for each column\n",
    "sample_depth_mode = fr_sanDiego['sample_depth'].mode()[0]\n",
    "anl_data_type_mode = fr_sanDiego['anl_data_type'].mode()[0]\n",
    "fdr_text_result_mode = fr_sanDiego['fdr_text_result'].mode()[0]\n",
    "fdr_date_result_mode = fr_sanDiego['fdr_date_result'].mode()[0]\n",
    "fdr_footnote_mode = fr_sanDiego['fdr_footnote'].mode()[0]\n",
    "\n",
    "# Replace missing values with mode values\n",
    "fr_sanDiego['sample_depth'].fillna(sample_depth_mode, inplace=True)\n",
    "fr_sanDiego['anl_data_type'].fillna(anl_data_type_mode, inplace=True)\n",
    "fr_sanDiego['fdr_text_result'].fillna(fdr_text_result_mode, inplace=True)\n",
    "fr_sanDiego['fdr_date_result'].fillna(fdr_date_result_mode, inplace=True)\n",
    "fr_sanDiego['fdr_footnote'].fillna(fdr_footnote_mode, inplace=True)\n",
    "\n",
    "# Print the null counts after handling missing values\n",
    "print(\"Missing values in fr_sanDiego after handling:\")\n",
    "print(fr_sanDiego.isnull().sum())\n"
   ]
  },
  {
   "cell_type": "markdown",
   "id": "0eacb59f-0d8a-4fa7-b8bb-c494957033a4",
   "metadata": {},
   "source": [
    "### Outliers Exploration"
   ]
  },
  {
   "cell_type": "code",
   "execution_count": 30,
   "id": "9cfa31a8-7593-43b0-8c69-7ad182b017f0",
   "metadata": {
    "tags": []
   },
   "outputs": [
    {
     "data": {
      "image/png": "[encoded data removed]",
      "text/plain": [
       "<Figure size 720x432 with 1 Axes>"
      ]
     },
     "metadata": {
      "needs_background": "light"
     },
     "output_type": "display_data"
    },
    {
     "data": {
      "image/png": "[encoded data removed]",
      "text/plain": [
       "<Figure size 720x432 with 1 Axes>"
      ]
     },
     "metadata": {
      "needs_background": "light"
     },
     "output_type": "display_data"
    },
    {
     "data": {
      "image/png": "[encoded data removed]",
      "text/plain": [
       "<Figure size 720x432 with 1 Axes>"
      ]
     },
     "metadata": {
      "needs_background": "light"
     },
     "output_type": "display_data"
    },
    {
     "data": {
      "image/png": "[encoded data removed]",
      "text/plain": [
       "<Figure size 720x432 with 1 Axes>"
      ]
     },
     "metadata": {
      "needs_background": "light"
     },
     "output_type": "display_data"
    }
   ],
   "source": [
    "\n",
    "\n",
    "# Create box plots for each dataset to visualize outliers\n",
    "plt.figure(figsize=(10, 6))\n",
    "sns.boxplot(data=st_sanDiego)  \n",
    "plt.title('Box Plot of st_sanDiego Outliers')\n",
    "plt.xlabel('Features')\n",
    "plt.ylabel('Values')\n",
    "plt.xticks(rotation=45)\n",
    "plt.show()\n",
    "\n",
    "plt.figure(figsize=(10, 6))\n",
    "sns.boxplot(data=por_sanDiego)  \n",
    "plt.title('Box Plot of por_sanDiego Outliers')\n",
    "plt.xlabel('Features')\n",
    "plt.ylabel('Values')\n",
    "plt.xticks(rotation=45)\n",
    "plt.show()\n",
    "\n",
    "plt.figure(figsize=(10, 6))\n",
    "sns.boxplot(data=fr_sanDiego)  \n",
    "plt.title('Box Plot of fr_sanDiego Outliers')\n",
    "plt.xlabel('Features')\n",
    "plt.ylabel('Values')\n",
    "plt.xticks(rotation=45)\n",
    "plt.show()\n",
    "\n",
    "plt.figure(figsize=(10, 6))\n",
    "sns.boxplot(data=lr_sanDiego)  \n",
    "plt.title('Box Plot of lr_sanDiego Outliers')\n",
    "plt.xlabel('Features')\n",
    "plt.ylabel('Values')\n",
    "plt.xticks(rotation=45)\n",
    "plt.show()\n"
   ]
  },
  {
   "cell_type": "markdown",
   "id": "bc666e1d-b8f7-4ad7-a0a5-59d11aabcbf4",
   "metadata": {},
   "source": [
    "Feature Creation "
   ]
  },
  {
   "cell_type": "code",
   "execution_count": 31,
   "id": "d708ca14-8bbe-44c2-a591-054e3816db50",
   "metadata": {
    "tags": []
   },
   "outputs": [],
   "source": [
    "#convert sample_date_min and sample_date_max columns to datetime objects to facilitate time-based analysis\n",
    "st_sanDiego['sample_date_min'] = pd.to_datetime(st_sanDiego['sample_date_min'], format='%m/%d/%Y %H:%M')\n",
    "st_sanDiego['sample_date_max'] = pd.to_datetime(st_sanDiego['sample_date_max'], format='%m/%d/%Y %H:%M')\n",
    "\n",
    "por_sanDiego['sample_date_min'] = pd.to_datetime(por_sanDiego['sample_date_min'], format='%m/%d/%Y %H:%M')\n",
    "por_sanDiego['sample_date_max'] = pd.to_datetime(por_sanDiego['sample_date_max'], format='%m/%d/%Y %H:%M')\n",
    "\n",
    "fr_sanDiego['sample_date'] = pd.to_datetime(fr_sanDiego['sample_date'], format='%Y-%m-%d %H:%M:%S')\n",
    "lr_sanDiego['sample_date'] = pd.to_datetime(lr_sanDiego['sample_date'], format='%m/%d/%Y %H:%M')\n"
   ]
  },
  {
   "cell_type": "markdown",
   "id": "af6e2703-6939-4286-8143-95641d8c9cb3",
   "metadata": {},
   "source": [
    "One hot encoding for categorical data"
   ]
  },
  {
   "cell_type": "code",
   "execution_count": 32,
   "id": "ae387f56-8cb0-4b5b-876c-0719d67ea42e",
   "metadata": {
    "tags": []
   },
   "outputs": [],
   "source": [
    "st_sanDiego = pd.get_dummies(st_sanDiego, columns=['station_type'], prefix='station_type')\n"
   ]
  },
  {
   "cell_type": "code",
   "execution_count": 33,
   "id": "16cfafed-9136-4ad6-8363-b2bd3ceadfb0",
   "metadata": {
    "tags": []
   },
   "outputs": [],
   "source": [
    "# label encoding using sklearn\n",
    "\n",
    "label_encoder = LabelEncoder()\n",
    "st_sanDiego['station_name_encoded'] = label_encoder.fit_transform(st_sanDiego['station_name'])\n"
   ]
  },
  {
   "cell_type": "code",
   "execution_count": 34,
   "id": "e1e34b33-53c2-44df-970b-d6635cb8a307",
   "metadata": {
    "tags": []
   },
   "outputs": [],
   "source": [
    "# label encoding using sklearn\n",
    "\n",
    "label_encoder = LabelEncoder()\n",
    "fr_sanDiego['station_name_encoded'] = label_encoder.fit_transform(fr_sanDiego['station_name'])\n"
   ]
  },
  {
   "cell_type": "code",
   "execution_count": 35,
   "id": "6ae0deaf-f2a8-49dc-99e1-383edec0edd2",
   "metadata": {
    "tags": []
   },
   "outputs": [],
   "source": [
    "# label encoding using sklearn\n",
    "\n",
    "label_encoder = LabelEncoder()\n",
    "por_sanDiego['station_name_encoded'] = label_encoder.fit_transform(por_sanDiego['station_name'])\n"
   ]
  },
  {
   "cell_type": "code",
   "execution_count": 36,
   "id": "f4d0e01c-e9b2-4a93-9517-f59fa27058a5",
   "metadata": {
    "tags": []
   },
   "outputs": [],
   "source": [
    "# label encoding using sklearn\n",
    "\n",
    "label_encoder = LabelEncoder()\n",
    "lr_sanDiego['station_name_encoded'] = label_encoder.fit_transform(lr_sanDiego['station_name'])\n"
   ]
  },
  {
   "cell_type": "markdown",
   "id": "bbf24d83-661b-4cc2-93d3-0f38fbb46b71",
   "metadata": {},
   "source": [
    "### Dropping Unnecessary Columns for each dataset"
   ]
  },
  {
   "cell_type": "code",
   "execution_count": 37,
   "id": "6d33b0bd-c73d-45b9-acbc-6f7d433c4f28",
   "metadata": {
    "tags": []
   },
   "outputs": [
    {
     "name": "stdout",
     "output_type": "stream",
     "text": [
      "       station_id  latitude  longitude county_name\n",
      "15284       21453   33.6110  -117.6241   San Diego\n",
      "16696       22879   33.5428  -117.1425   San Diego\n",
      "16735       22919   33.5825  -117.2447   San Diego\n",
      "17749       23932   33.4289  -116.8370   San Diego\n",
      "17851       24039   33.4330  -117.2228   San Diego\n"
     ]
    }
   ],
   "source": [
    "# Define the columns to keep\n",
    "st_sanDiego_columns = ['station_id', 'latitude', 'longitude', 'county_name']\n",
    "\n",
    "# Filter the DataFrame to keep only the desired columns\n",
    "st_sanDiego_df = st_sanDiego[st_sanDiego_columns]\n",
    "\n",
    "print(st_sanDiego_df.head())  \n"
   ]
  },
  {
   "cell_type": "code",
   "execution_count": 38,
   "id": "eda66a4c-00cc-4735-9d21-e85ac901551c",
   "metadata": {
    "tags": []
   },
   "outputs": [
    {
     "name": "stdout",
     "output_type": "stream",
     "text": [
      "        station_id  latitude  longitude county_name           parameter\n",
      "211730       21453    33.611  -117.6241   San Diego         Conductance\n",
      "211731       21453    33.611  -117.6241   San Diego     Dissolved Boron\n",
      "211732       21453    33.611  -117.6241   San Diego   Dissolved Calcium\n",
      "211733       21453    33.611  -117.6241   San Diego  Dissolved Chloride\n",
      "211734       21453    33.611  -117.6241   San Diego  Dissolved Fluoride\n"
     ]
    }
   ],
   "source": [
    "por_sanDiego_columns = ['station_id', 'latitude', 'longitude', 'county_name', 'parameter']\n",
    "\n",
    "# Filter the DataFrame to keep only the desired columns\n",
    "por_sanDiego_df = por_sanDiego[por_sanDiego_columns]\n",
    "\n",
    "print(por_sanDiego_df.head())  "
   ]
  },
  {
   "cell_type": "code",
   "execution_count": 39,
   "id": "3d2473ab-89b7-4b53-8fcd-3c254eaac764",
   "metadata": {
    "tags": []
   },
   "outputs": [
    {
     "name": "stdout",
     "output_type": "stream",
     "text": [
      "        station_id  latitude  longitude         sample_date county_name  \\\n",
      "682387        5576   33.1542    -116.48 1988-04-27 11:00:00   San Diego   \n",
      "682388        5576   33.1542    -116.48 1988-04-27 11:00:00   San Diego   \n",
      "682389        5576   33.1542    -116.48 1988-04-27 11:00:00   San Diego   \n",
      "682390        5576   33.1542    -116.48 1988-04-27 11:00:00   San Diego   \n",
      "682391        5576   33.1542    -116.48 1988-04-27 11:00:00   San Diego   \n",
      "\n",
      "               parameter   fdr_result uns_name  \n",
      "682387       Field Notes   172.100771           \n",
      "682388       Conductance  1250.000000    uS/cm  \n",
      "682389   DissolvedOxygen     6.300000     mg/L  \n",
      "682390     Flow, channel     0.000000      cfs  \n",
      "682391  WaterTemperature    71.000000       °F  \n"
     ]
    },
    {
     "data": {
      "text/html": [
       "<div>\n",
       "<style scoped>\n",
       "    .dataframe tbody tr th:only-of-type {\n",
       "        vertical-align: middle;\n",
       "    }\n",
       "\n",
       "    .dataframe tbody tr th {\n",
       "        vertical-align: top;\n",
       "    }\n",
       "\n",
       "    .dataframe thead th {\n",
       "        text-align: right;\n",
       "    }\n",
       "</style>\n",
       "<table border=\"1\" class=\"dataframe\">\n",
       "  <thead>\n",
       "    <tr style=\"text-align: right;\">\n",
       "      <th></th>\n",
       "      <th>station_id</th>\n",
       "      <th>latitude</th>\n",
       "      <th>longitude</th>\n",
       "      <th>sample_date</th>\n",
       "      <th>county_name</th>\n",
       "      <th>parameter</th>\n",
       "      <th>fdr_result</th>\n",
       "      <th>uns_name</th>\n",
       "    </tr>\n",
       "  </thead>\n",
       "  <tbody>\n",
       "    <tr>\n",
       "      <th>682387</th>\n",
       "      <td>5576</td>\n",
       "      <td>33.1542</td>\n",
       "      <td>-116.48</td>\n",
       "      <td>1988-04-27 11:00:00</td>\n",
       "      <td>San Diego</td>\n",
       "      <td>Field Notes</td>\n",
       "      <td>172.100771</td>\n",
       "      <td></td>\n",
       "    </tr>\n",
       "    <tr>\n",
       "      <th>682388</th>\n",
       "      <td>5576</td>\n",
       "      <td>33.1542</td>\n",
       "      <td>-116.48</td>\n",
       "      <td>1988-04-27 11:00:00</td>\n",
       "      <td>San Diego</td>\n",
       "      <td>Conductance</td>\n",
       "      <td>1250.000000</td>\n",
       "      <td>uS/cm</td>\n",
       "    </tr>\n",
       "    <tr>\n",
       "      <th>682389</th>\n",
       "      <td>5576</td>\n",
       "      <td>33.1542</td>\n",
       "      <td>-116.48</td>\n",
       "      <td>1988-04-27 11:00:00</td>\n",
       "      <td>San Diego</td>\n",
       "      <td>DissolvedOxygen</td>\n",
       "      <td>6.300000</td>\n",
       "      <td>mg/L</td>\n",
       "    </tr>\n",
       "    <tr>\n",
       "      <th>682390</th>\n",
       "      <td>5576</td>\n",
       "      <td>33.1542</td>\n",
       "      <td>-116.48</td>\n",
       "      <td>1988-04-27 11:00:00</td>\n",
       "      <td>San Diego</td>\n",
       "      <td>Flow, channel</td>\n",
       "      <td>0.000000</td>\n",
       "      <td>cfs</td>\n",
       "    </tr>\n",
       "    <tr>\n",
       "      <th>682391</th>\n",
       "      <td>5576</td>\n",
       "      <td>33.1542</td>\n",
       "      <td>-116.48</td>\n",
       "      <td>1988-04-27 11:00:00</td>\n",
       "      <td>San Diego</td>\n",
       "      <td>WaterTemperature</td>\n",
       "      <td>71.000000</td>\n",
       "      <td>°F</td>\n",
       "    </tr>\n",
       "  </tbody>\n",
       "</table>\n",
       "</div>"
      ],
      "text/plain": [
       "        station_id  latitude  longitude         sample_date county_name  \\\n",
       "682387        5576   33.1542    -116.48 1988-04-27 11:00:00   San Diego   \n",
       "682388        5576   33.1542    -116.48 1988-04-27 11:00:00   San Diego   \n",
       "682389        5576   33.1542    -116.48 1988-04-27 11:00:00   San Diego   \n",
       "682390        5576   33.1542    -116.48 1988-04-27 11:00:00   San Diego   \n",
       "682391        5576   33.1542    -116.48 1988-04-27 11:00:00   San Diego   \n",
       "\n",
       "               parameter   fdr_result uns_name  \n",
       "682387       Field Notes   172.100771           \n",
       "682388       Conductance  1250.000000    uS/cm  \n",
       "682389   DissolvedOxygen     6.300000     mg/L  \n",
       "682390     Flow, channel     0.000000      cfs  \n",
       "682391  WaterTemperature    71.000000       °F  "
      ]
     },
     "execution_count": 39,
     "metadata": {},
     "output_type": "execute_result"
    }
   ],
   "source": [
    "# Define the columns to keep\n",
    "fr_sanDiego_columns = ['station_id', 'latitude', 'longitude', 'sample_date','county_name', 'parameter', 'fdr_result', 'uns_name']\n",
    "\n",
    "# Filter the DataFrame to keep only the desired columns\n",
    "fr_sanDiego_df = fr_sanDiego[fr_sanDiego_columns]\n",
    "\n",
    "print(fr_sanDiego_df.head())  \n",
    "fr_sanDiego_df.head()"
   ]
  },
  {
   "cell_type": "code",
   "execution_count": 40,
   "id": "cfd3b4a9-6dc6-4626-98f8-35c43508b4db",
   "metadata": {
    "tags": []
   },
   "outputs": [
    {
     "name": "stdout",
     "output_type": "stream",
     "text": [
      "         station_id sample_date  latitude  longitude county_name  \\\n",
      "3092634       21453  1964-07-16    33.611  -117.6241   San Diego   \n",
      "3092635       21453  1964-07-16    33.611  -117.6241   San Diego   \n",
      "3092636       21453  1964-07-16    33.611  -117.6241   San Diego   \n",
      "3092637       21453  1964-07-16    33.611  -117.6241   San Diego   \n",
      "3092638       21453  1964-07-16    33.611  -117.6241   San Diego   \n",
      "\n",
      "                  parameter result  units  \n",
      "3092634         Conductance    660  uS/cm  \n",
      "3092635     Dissolved Boron    .02   mg/L  \n",
      "3092636   Dissolved Calcium     61   mg/L  \n",
      "3092637  Dissolved Chloride     69   mg/L  \n",
      "3092638  Dissolved Fluoride     .2   mg/L  \n"
     ]
    }
   ],
   "source": [
    "\n",
    "\n",
    "# Define the columns to keep\n",
    "lr_sanDiego_columns = ['station_id', 'sample_date', 'latitude', 'longitude', 'county_name', 'parameter', 'result', 'units']\n",
    "\n",
    "# Filter the DataFrame to keep only the desired columns\n",
    "lr_sanDiego_df = lr_sanDiego[lr_sanDiego_columns]\n",
    "\n",
    "print(lr_sanDiego_df.head())  \n"
   ]
  },
  {
   "cell_type": "code",
   "execution_count": 41,
   "id": "43c4a7d5-aba4-4a38-b88d-59f8e29ff61b",
   "metadata": {
    "tags": []
   },
   "outputs": [],
   "source": [
    "# Assuming you have already loaded the four datasets into DataFrames named st_sanDiego_df, por_sanDiego_df, fr_sanDiego_df, and lr_sanDiego_df\n",
    "\n",
    "# Merge st_sanDiego_df with por_sanDiego_df on 'station_id'\n",
    "#merged_df = st_sanDiego_df.merge(por_sanDiego_df[['station_id', 'latitude', 'longitude', 'county_name', 'parameter']], on='station_id', how='left')\n",
    "\n",
    "# Merge merged_df with fr_sanDiego_df on 'station_id'\n",
    "#merged_df = merged_df.merge(fr_sanDiego_df[['station_id', 'latitude', 'longitude', 'county_name', 'parameter', 'fdr_result', 'uns_name']], on='station_id', how='left')\n",
    "\n",
    "# Merge merged_df with lr_sanDiego_df on 'station_id'\n",
    "#merged_df = merged_df.merge(lr_sanDiego_df[['station_id', 'latitude', 'longitude', 'county_name', 'parameter', 'result', 'units']], on='station_id', how='left')\n",
    "\n",
    "# Now merged_df contains the combined data from all four datasets using 'station_id' as the key\n",
    "#print(merged_df.head())  # Optionally, you can print the first few rows to verify\n",
    "\n"
   ]
  },
  {
   "cell_type": "markdown",
   "id": "18f70595-a439-452a-8606-0ea339b98299",
   "metadata": {},
   "source": [
    "### Reformat Lab and Field Results; Extract Parameters as Fields"
   ]
  },
  {
   "cell_type": "markdown",
   "id": "4a8c92d8-d410-46fe-8ea5-bb6836dc17cb",
   "metadata": {},
   "source": [
    "**Filter for which parameters to keep in lab and field results.**"
   ]
  },
  {
   "cell_type": "code",
   "execution_count": 42,
   "id": "9d4d57c6-945c-4be2-970a-1017e2dd1490",
   "metadata": {
    "tags": []
   },
   "outputs": [],
   "source": [
    "#filter num. How many parameters do we want to evaluate? Probably 10. \n",
    "\n",
    "lr_filter = ['Dissolved Chlorine', 'Total Alkalinity', 'Dissolved Sodium', 'Conductance', 'Dissolved Calcium', 'pH']\n",
    "fr_filter = ['WaterTemperature','pH','DissolvedOxygen','SpecificConductance','Conductance','Turbidity']\n",
    "\n",
    "lr_sanDiego_df_filtered = lr_sanDiego_df[lr_sanDiego_df['parameter'].isin(lr_filter)]\n",
    "fr_sanDiego_df_filtered = fr_sanDiego_df[fr_sanDiego_df['parameter'].isin(fr_filter)]"
   ]
  },
  {
   "cell_type": "markdown",
   "id": "ef2875dc-d028-47c2-8d6e-802186dd5fc6",
   "metadata": {},
   "source": [
    "**Pivot Fields in Lab Results.**"
   ]
  },
  {
   "cell_type": "code",
   "execution_count": 43,
   "id": "f050e563-7248-489d-aee8-b55aa523ed53",
   "metadata": {
    "tags": []
   },
   "outputs": [
    {
     "data": {
      "text/html": [
       "<div>\n",
       "<style scoped>\n",
       "    .dataframe tbody tr th:only-of-type {\n",
       "        vertical-align: middle;\n",
       "    }\n",
       "\n",
       "    .dataframe tbody tr th {\n",
       "        vertical-align: top;\n",
       "    }\n",
       "\n",
       "    .dataframe thead tr th {\n",
       "        text-align: left;\n",
       "    }\n",
       "</style>\n",
       "<table border=\"1\" class=\"dataframe\">\n",
       "  <thead>\n",
       "    <tr>\n",
       "      <th></th>\n",
       "      <th>station_id</th>\n",
       "      <th>sample_date</th>\n",
       "      <th>latitude</th>\n",
       "      <th>longitude</th>\n",
       "      <th>county_name</th>\n",
       "      <th colspan=\"5\" halign=\"left\">result</th>\n",
       "      <th colspan=\"5\" halign=\"left\">units</th>\n",
       "    </tr>\n",
       "    <tr>\n",
       "      <th>parameter</th>\n",
       "      <th></th>\n",
       "      <th></th>\n",
       "      <th></th>\n",
       "      <th></th>\n",
       "      <th></th>\n",
       "      <th>Conductance</th>\n",
       "      <th>Dissolved Calcium</th>\n",
       "      <th>Dissolved Sodium</th>\n",
       "      <th>Total Alkalinity</th>\n",
       "      <th>pH</th>\n",
       "      <th>Conductance</th>\n",
       "      <th>Dissolved Calcium</th>\n",
       "      <th>Dissolved Sodium</th>\n",
       "      <th>Total Alkalinity</th>\n",
       "      <th>pH</th>\n",
       "    </tr>\n",
       "  </thead>\n",
       "  <tbody>\n",
       "    <tr>\n",
       "      <th>1117</th>\n",
       "      <td>5762</td>\n",
       "      <td>2001-11-28 10:45:00</td>\n",
       "      <td>33.1145</td>\n",
       "      <td>-117.1300</td>\n",
       "      <td>San Diego</td>\n",
       "      <td>NaN</td>\n",
       "      <td>105</td>\n",
       "      <td>194</td>\n",
       "      <td>250</td>\n",
       "      <td>NaN</td>\n",
       "      <td>NaN</td>\n",
       "      <td>mg/L</td>\n",
       "      <td>mg/L</td>\n",
       "      <td>mg/L as CaCO3</td>\n",
       "      <td>NaN</td>\n",
       "    </tr>\n",
       "    <tr>\n",
       "      <th>1437</th>\n",
       "      <td>5765</td>\n",
       "      <td>2001-11-28 12:00:00</td>\n",
       "      <td>32.8389</td>\n",
       "      <td>-117.0425</td>\n",
       "      <td>San Diego</td>\n",
       "      <td>NaN</td>\n",
       "      <td>75</td>\n",
       "      <td>NaN</td>\n",
       "      <td>NaN</td>\n",
       "      <td>NaN</td>\n",
       "      <td>NaN</td>\n",
       "      <td>mg/L</td>\n",
       "      <td>NaN</td>\n",
       "      <td>NaN</td>\n",
       "      <td>NaN</td>\n",
       "    </tr>\n",
       "    <tr>\n",
       "      <th>445</th>\n",
       "      <td>5643</td>\n",
       "      <td>2002-05-08 10:00:00</td>\n",
       "      <td>33.3984</td>\n",
       "      <td>-117.2625</td>\n",
       "      <td>San Diego</td>\n",
       "      <td>NaN</td>\n",
       "      <td>111</td>\n",
       "      <td>119</td>\n",
       "      <td>198</td>\n",
       "      <td>NaN</td>\n",
       "      <td>NaN</td>\n",
       "      <td>mg/L</td>\n",
       "      <td>mg/L</td>\n",
       "      <td>mg/L as CaCO3</td>\n",
       "      <td>NaN</td>\n",
       "    </tr>\n",
       "    <tr>\n",
       "      <th>1118</th>\n",
       "      <td>5762</td>\n",
       "      <td>2002-05-08 11:15:00</td>\n",
       "      <td>33.1145</td>\n",
       "      <td>-117.1300</td>\n",
       "      <td>San Diego</td>\n",
       "      <td>NaN</td>\n",
       "      <td>97</td>\n",
       "      <td>210</td>\n",
       "      <td>311</td>\n",
       "      <td>NaN</td>\n",
       "      <td>NaN</td>\n",
       "      <td>mg/L</td>\n",
       "      <td>mg/L</td>\n",
       "      <td>mg/L as CaCO3</td>\n",
       "      <td>NaN</td>\n",
       "    </tr>\n",
       "    <tr>\n",
       "      <th>1438</th>\n",
       "      <td>5765</td>\n",
       "      <td>2002-05-08 12:15:00</td>\n",
       "      <td>32.8389</td>\n",
       "      <td>-117.0425</td>\n",
       "      <td>San Diego</td>\n",
       "      <td>NaN</td>\n",
       "      <td>98</td>\n",
       "      <td>NaN</td>\n",
       "      <td>NaN</td>\n",
       "      <td>NaN</td>\n",
       "      <td>NaN</td>\n",
       "      <td>mg/L</td>\n",
       "      <td>NaN</td>\n",
       "      <td>NaN</td>\n",
       "      <td>NaN</td>\n",
       "    </tr>\n",
       "  </tbody>\n",
       "</table>\n",
       "</div>"
      ],
      "text/plain": [
       "          station_id         sample_date latitude longitude county_name  \\\n",
       "parameter                                                                 \n",
       "1117            5762 2001-11-28 10:45:00  33.1145 -117.1300   San Diego   \n",
       "1437            5765 2001-11-28 12:00:00  32.8389 -117.0425   San Diego   \n",
       "445             5643 2002-05-08 10:00:00  33.3984 -117.2625   San Diego   \n",
       "1118            5762 2002-05-08 11:15:00  33.1145 -117.1300   San Diego   \n",
       "1438            5765 2002-05-08 12:15:00  32.8389 -117.0425   San Diego   \n",
       "\n",
       "               result                                                      \\\n",
       "parameter Conductance Dissolved Calcium Dissolved Sodium Total Alkalinity   \n",
       "1117              NaN               105              194              250   \n",
       "1437              NaN                75              NaN              NaN   \n",
       "445               NaN               111              119              198   \n",
       "1118              NaN                97              210              311   \n",
       "1438              NaN                98              NaN              NaN   \n",
       "\n",
       "                     units                                     \\\n",
       "parameter   pH Conductance Dissolved Calcium Dissolved Sodium   \n",
       "1117       NaN         NaN              mg/L             mg/L   \n",
       "1437       NaN         NaN              mg/L              NaN   \n",
       "445        NaN         NaN              mg/L             mg/L   \n",
       "1118       NaN         NaN              mg/L             mg/L   \n",
       "1438       NaN         NaN              mg/L              NaN   \n",
       "\n",
       "                                 \n",
       "parameter Total Alkalinity   pH  \n",
       "1117         mg/L as CaCO3  NaN  \n",
       "1437                   NaN  NaN  \n",
       "445          mg/L as CaCO3  NaN  \n",
       "1118         mg/L as CaCO3  NaN  \n",
       "1438                   NaN  NaN  "
      ]
     },
     "execution_count": 43,
     "metadata": {},
     "output_type": "execute_result"
    }
   ],
   "source": [
    "pivot_lr_sd = lr_sanDiego_df_filtered.pivot_table(index=['station_id', 'sample_date', 'latitude', 'longitude', 'county_name'], \n",
    "                                                 columns='parameter', \n",
    "                                                 values=['result', 'units'], \n",
    "                                                 aggfunc={'result': 'first', 'units': 'first'}).reset_index()\n",
    "pivot_lr_sd = pivot_lr_sd.sort_values(by='sample_date')\n",
    "\n",
    "\n",
    "pivot_lr_sd.tail()"
   ]
  },
  {
   "cell_type": "markdown",
   "id": "8d50ce63-e681-4a6d-91bc-90cf632b3a82",
   "metadata": {},
   "source": [
    "**Pivot Fields in Field Results**"
   ]
  },
  {
   "cell_type": "code",
   "execution_count": 44,
   "id": "a9d78a98-8c32-43ee-be39-65797f1ff9d9",
   "metadata": {},
   "outputs": [
    {
     "data": {
      "text/html": [
       "<div>\n",
       "<style scoped>\n",
       "    .dataframe tbody tr th:only-of-type {\n",
       "        vertical-align: middle;\n",
       "    }\n",
       "\n",
       "    .dataframe tbody tr th {\n",
       "        vertical-align: top;\n",
       "    }\n",
       "\n",
       "    .dataframe thead th {\n",
       "        text-align: right;\n",
       "    }\n",
       "</style>\n",
       "<table border=\"1\" class=\"dataframe\">\n",
       "  <thead>\n",
       "    <tr style=\"text-align: right;\">\n",
       "      <th></th>\n",
       "      <th>station_id</th>\n",
       "      <th>sample_date</th>\n",
       "      <th>latitude</th>\n",
       "      <th>longitude</th>\n",
       "      <th>county_name</th>\n",
       "      <th>fdr_result Conductance</th>\n",
       "      <th>fdr_result DissolvedOxygen</th>\n",
       "      <th>fdr_result SpecificConductance</th>\n",
       "      <th>fdr_result WaterTemperature</th>\n",
       "      <th>fdr_result pH</th>\n",
       "      <th>uns_name Conductance</th>\n",
       "      <th>uns_name DissolvedOxygen</th>\n",
       "      <th>uns_name SpecificConductance</th>\n",
       "      <th>uns_name WaterTemperature</th>\n",
       "      <th>uns_name pH</th>\n",
       "    </tr>\n",
       "  </thead>\n",
       "  <tbody>\n",
       "    <tr>\n",
       "      <th>2217</th>\n",
       "      <td>27915</td>\n",
       "      <td>1949-12-22 00:00:00</td>\n",
       "      <td>33.2186</td>\n",
       "      <td>-117.3409</td>\n",
       "      <td>San Diego</td>\n",
       "      <td>NaN</td>\n",
       "      <td>NaN</td>\n",
       "      <td>NaN</td>\n",
       "      <td>64.0</td>\n",
       "      <td>NaN</td>\n",
       "      <td>NaN</td>\n",
       "      <td>NaN</td>\n",
       "      <td>NaN</td>\n",
       "      <td>°F</td>\n",
       "      <td>NaN</td>\n",
       "    </tr>\n",
       "    <tr>\n",
       "      <th>2481</th>\n",
       "      <td>28000</td>\n",
       "      <td>1949-12-23 11:30:00</td>\n",
       "      <td>33.2112</td>\n",
       "      <td>-117.3568</td>\n",
       "      <td>San Diego</td>\n",
       "      <td>NaN</td>\n",
       "      <td>NaN</td>\n",
       "      <td>NaN</td>\n",
       "      <td>64.0</td>\n",
       "      <td>NaN</td>\n",
       "      <td>NaN</td>\n",
       "      <td>NaN</td>\n",
       "      <td>NaN</td>\n",
       "      <td>°F</td>\n",
       "      <td>NaN</td>\n",
       "    </tr>\n",
       "    <tr>\n",
       "      <th>609</th>\n",
       "      <td>5762</td>\n",
       "      <td>1950-12-21 14:00:00</td>\n",
       "      <td>33.1145</td>\n",
       "      <td>-117.1300</td>\n",
       "      <td>San Diego</td>\n",
       "      <td>1680.0</td>\n",
       "      <td>NaN</td>\n",
       "      <td>NaN</td>\n",
       "      <td>NaN</td>\n",
       "      <td>NaN</td>\n",
       "      <td>uS/cm</td>\n",
       "      <td>NaN</td>\n",
       "      <td>NaN</td>\n",
       "      <td>NaN</td>\n",
       "      <td>NaN</td>\n",
       "    </tr>\n",
       "    <tr>\n",
       "      <th>157</th>\n",
       "      <td>5643</td>\n",
       "      <td>1951-02-14 08:50:00</td>\n",
       "      <td>33.3984</td>\n",
       "      <td>-117.2625</td>\n",
       "      <td>San Diego</td>\n",
       "      <td>NaN</td>\n",
       "      <td>NaN</td>\n",
       "      <td>NaN</td>\n",
       "      <td>NaN</td>\n",
       "      <td>8.4</td>\n",
       "      <td>NaN</td>\n",
       "      <td>NaN</td>\n",
       "      <td>NaN</td>\n",
       "      <td>NaN</td>\n",
       "      <td>pH Units</td>\n",
       "    </tr>\n",
       "    <tr>\n",
       "      <th>610</th>\n",
       "      <td>5762</td>\n",
       "      <td>1951-03-01 15:15:00</td>\n",
       "      <td>33.1145</td>\n",
       "      <td>-117.1300</td>\n",
       "      <td>San Diego</td>\n",
       "      <td>1420.0</td>\n",
       "      <td>NaN</td>\n",
       "      <td>NaN</td>\n",
       "      <td>NaN</td>\n",
       "      <td>NaN</td>\n",
       "      <td>uS/cm</td>\n",
       "      <td>NaN</td>\n",
       "      <td>NaN</td>\n",
       "      <td>NaN</td>\n",
       "      <td>NaN</td>\n",
       "    </tr>\n",
       "  </tbody>\n",
       "</table>\n",
       "</div>"
      ],
      "text/plain": [
       "      station_id         sample_date  latitude  longitude county_name  \\\n",
       "2217       27915 1949-12-22 00:00:00   33.2186  -117.3409   San Diego   \n",
       "2481       28000 1949-12-23 11:30:00   33.2112  -117.3568   San Diego   \n",
       "609         5762 1950-12-21 14:00:00   33.1145  -117.1300   San Diego   \n",
       "157         5643 1951-02-14 08:50:00   33.3984  -117.2625   San Diego   \n",
       "610         5762 1951-03-01 15:15:00   33.1145  -117.1300   San Diego   \n",
       "\n",
       "      fdr_result Conductance  fdr_result DissolvedOxygen  \\\n",
       "2217                     NaN                         NaN   \n",
       "2481                     NaN                         NaN   \n",
       "609                   1680.0                         NaN   \n",
       "157                      NaN                         NaN   \n",
       "610                   1420.0                         NaN   \n",
       "\n",
       "      fdr_result SpecificConductance  fdr_result WaterTemperature  \\\n",
       "2217                             NaN                         64.0   \n",
       "2481                             NaN                         64.0   \n",
       "609                              NaN                          NaN   \n",
       "157                              NaN                          NaN   \n",
       "610                              NaN                          NaN   \n",
       "\n",
       "      fdr_result pH uns_name Conductance uns_name DissolvedOxygen  \\\n",
       "2217            NaN                  NaN                      NaN   \n",
       "2481            NaN                  NaN                      NaN   \n",
       "609             NaN                uS/cm                      NaN   \n",
       "157             8.4                  NaN                      NaN   \n",
       "610             NaN                uS/cm                      NaN   \n",
       "\n",
       "     uns_name SpecificConductance uns_name WaterTemperature uns_name pH  \n",
       "2217                          NaN                        °F         NaN  \n",
       "2481                          NaN                        °F         NaN  \n",
       "609                           NaN                       NaN         NaN  \n",
       "157                           NaN                       NaN    pH Units  \n",
       "610                           NaN                       NaN         NaN  "
      ]
     },
     "execution_count": 44,
     "metadata": {},
     "output_type": "execute_result"
    }
   ],
   "source": [
    "pivot_fr_sd = fr_sanDiego_df_filtered.pivot_table(index=['station_id', 'sample_date', 'latitude', 'longitude', 'county_name'], \n",
    "                                         columns='parameter', \n",
    "                                         values=['fdr_result', 'uns_name'], \n",
    "                                         aggfunc={'fdr_result': 'first', 'uns_name': 'first'}).reset_index()\n",
    "\n",
    "# Remove the name of the index column\n",
    "pivot_fr_sd.columns = [' '.join(col).strip() for col in pivot_fr_sd.columns.values]\n",
    "pivot_fr_sd = pivot_fr_sd.sort_values(by='sample_date')\n",
    "\n",
    "\n",
    "pivot_fr_sd.head()\n"
   ]
  },
  {
   "cell_type": "markdown",
   "id": "43b18f55-da1c-4540-9525-a1645da1f742",
   "metadata": {},
   "source": [
    "**converting fahrenheit to celcius**"
   ]
  },
  {
   "cell_type": "code",
   "execution_count": 45,
   "id": "cf178590-3574-4e6b-8aa7-6717780b5472",
   "metadata": {
    "tags": []
   },
   "outputs": [
    {
     "data": {
      "text/html": [
       "<div>\n",
       "<style scoped>\n",
       "    .dataframe tbody tr th:only-of-type {\n",
       "        vertical-align: middle;\n",
       "    }\n",
       "\n",
       "    .dataframe tbody tr th {\n",
       "        vertical-align: top;\n",
       "    }\n",
       "\n",
       "    .dataframe thead th {\n",
       "        text-align: right;\n",
       "    }\n",
       "</style>\n",
       "<table border=\"1\" class=\"dataframe\">\n",
       "  <thead>\n",
       "    <tr style=\"text-align: right;\">\n",
       "      <th></th>\n",
       "      <th>station_id</th>\n",
       "      <th>sample_date</th>\n",
       "      <th>latitude</th>\n",
       "      <th>longitude</th>\n",
       "      <th>county_name</th>\n",
       "      <th>fdr_result Conductance</th>\n",
       "      <th>fdr_result DissolvedOxygen</th>\n",
       "      <th>fdr_result SpecificConductance</th>\n",
       "      <th>fdr_result WaterTemperature</th>\n",
       "      <th>fdr_result pH</th>\n",
       "      <th>uns_name Conductance</th>\n",
       "      <th>uns_name DissolvedOxygen</th>\n",
       "      <th>uns_name SpecificConductance</th>\n",
       "      <th>uns_name WaterTemperature</th>\n",
       "      <th>uns_name pH</th>\n",
       "    </tr>\n",
       "  </thead>\n",
       "  <tbody>\n",
       "    <tr>\n",
       "      <th>2217</th>\n",
       "      <td>27915</td>\n",
       "      <td>1949-12-22 00:00:00</td>\n",
       "      <td>33.2186</td>\n",
       "      <td>-117.3409</td>\n",
       "      <td>San Diego</td>\n",
       "      <td>NaN</td>\n",
       "      <td>NaN</td>\n",
       "      <td>NaN</td>\n",
       "      <td>17.777778</td>\n",
       "      <td>NaN</td>\n",
       "      <td>NaN</td>\n",
       "      <td>NaN</td>\n",
       "      <td>NaN</td>\n",
       "      <td>°C</td>\n",
       "      <td>NaN</td>\n",
       "    </tr>\n",
       "    <tr>\n",
       "      <th>2481</th>\n",
       "      <td>28000</td>\n",
       "      <td>1949-12-23 11:30:00</td>\n",
       "      <td>33.2112</td>\n",
       "      <td>-117.3568</td>\n",
       "      <td>San Diego</td>\n",
       "      <td>NaN</td>\n",
       "      <td>NaN</td>\n",
       "      <td>NaN</td>\n",
       "      <td>17.777778</td>\n",
       "      <td>NaN</td>\n",
       "      <td>NaN</td>\n",
       "      <td>NaN</td>\n",
       "      <td>NaN</td>\n",
       "      <td>°C</td>\n",
       "      <td>NaN</td>\n",
       "    </tr>\n",
       "    <tr>\n",
       "      <th>609</th>\n",
       "      <td>5762</td>\n",
       "      <td>1950-12-21 14:00:00</td>\n",
       "      <td>33.1145</td>\n",
       "      <td>-117.1300</td>\n",
       "      <td>San Diego</td>\n",
       "      <td>1680.0</td>\n",
       "      <td>NaN</td>\n",
       "      <td>NaN</td>\n",
       "      <td>NaN</td>\n",
       "      <td>NaN</td>\n",
       "      <td>uS/cm</td>\n",
       "      <td>NaN</td>\n",
       "      <td>NaN</td>\n",
       "      <td>NaN</td>\n",
       "      <td>NaN</td>\n",
       "    </tr>\n",
       "    <tr>\n",
       "      <th>157</th>\n",
       "      <td>5643</td>\n",
       "      <td>1951-02-14 08:50:00</td>\n",
       "      <td>33.3984</td>\n",
       "      <td>-117.2625</td>\n",
       "      <td>San Diego</td>\n",
       "      <td>NaN</td>\n",
       "      <td>NaN</td>\n",
       "      <td>NaN</td>\n",
       "      <td>NaN</td>\n",
       "      <td>8.4</td>\n",
       "      <td>NaN</td>\n",
       "      <td>NaN</td>\n",
       "      <td>NaN</td>\n",
       "      <td>NaN</td>\n",
       "      <td>pH Units</td>\n",
       "    </tr>\n",
       "    <tr>\n",
       "      <th>610</th>\n",
       "      <td>5762</td>\n",
       "      <td>1951-03-01 15:15:00</td>\n",
       "      <td>33.1145</td>\n",
       "      <td>-117.1300</td>\n",
       "      <td>San Diego</td>\n",
       "      <td>1420.0</td>\n",
       "      <td>NaN</td>\n",
       "      <td>NaN</td>\n",
       "      <td>NaN</td>\n",
       "      <td>NaN</td>\n",
       "      <td>uS/cm</td>\n",
       "      <td>NaN</td>\n",
       "      <td>NaN</td>\n",
       "      <td>NaN</td>\n",
       "      <td>NaN</td>\n",
       "    </tr>\n",
       "  </tbody>\n",
       "</table>\n",
       "</div>"
      ],
      "text/plain": [
       "      station_id         sample_date  latitude  longitude county_name  \\\n",
       "2217       27915 1949-12-22 00:00:00   33.2186  -117.3409   San Diego   \n",
       "2481       28000 1949-12-23 11:30:00   33.2112  -117.3568   San Diego   \n",
       "609         5762 1950-12-21 14:00:00   33.1145  -117.1300   San Diego   \n",
       "157         5643 1951-02-14 08:50:00   33.3984  -117.2625   San Diego   \n",
       "610         5762 1951-03-01 15:15:00   33.1145  -117.1300   San Diego   \n",
       "\n",
       "      fdr_result Conductance  fdr_result DissolvedOxygen  \\\n",
       "2217                     NaN                         NaN   \n",
       "2481                     NaN                         NaN   \n",
       "609                   1680.0                         NaN   \n",
       "157                      NaN                         NaN   \n",
       "610                   1420.0                         NaN   \n",
       "\n",
       "      fdr_result SpecificConductance  fdr_result WaterTemperature  \\\n",
       "2217                             NaN                    17.777778   \n",
       "2481                             NaN                    17.777778   \n",
       "609                              NaN                          NaN   \n",
       "157                              NaN                          NaN   \n",
       "610                              NaN                          NaN   \n",
       "\n",
       "      fdr_result pH uns_name Conductance uns_name DissolvedOxygen  \\\n",
       "2217            NaN                  NaN                      NaN   \n",
       "2481            NaN                  NaN                      NaN   \n",
       "609             NaN                uS/cm                      NaN   \n",
       "157             8.4                  NaN                      NaN   \n",
       "610             NaN                uS/cm                      NaN   \n",
       "\n",
       "     uns_name SpecificConductance uns_name WaterTemperature uns_name pH  \n",
       "2217                          NaN                        °C         NaN  \n",
       "2481                          NaN                        °C         NaN  \n",
       "609                           NaN                       NaN         NaN  \n",
       "157                           NaN                       NaN    pH Units  \n",
       "610                           NaN                       NaN         NaN  "
      ]
     },
     "execution_count": 45,
     "metadata": {},
     "output_type": "execute_result"
    }
   ],
   "source": [
    "# Convert 'fdr_result WaterTemperature' from Fahrenheit to Celsius if 'uns_name WaterTemperature' is '°F'\n",
    "fahrenheit_mask = pivot_fr_sd['uns_name WaterTemperature'] == '°F'\n",
    "pivot_fr_sd.loc[fahrenheit_mask, 'fdr_result WaterTemperature'] = (\n",
    "    (pivot_fr_sd.loc[fahrenheit_mask, 'fdr_result WaterTemperature'] - 32) * 5/9\n",
    ")\n",
    "\n",
    "# Change 'uns_name WaterTemperature' to '°C' for rows where temperature is in Celsius\n",
    "pivot_fr_sd.loc[fahrenheit_mask, 'uns_name WaterTemperature'] = '°C'\n",
    "\n",
    "#sort columns by sample date.\n",
    "\n",
    "pivot_fr_sd.head()"
   ]
  },
  {
   "cell_type": "markdown",
   "id": "f3b3cb0e-a367-4d30-bf2c-f4e011639256",
   "metadata": {},
   "source": [
    "## Descriptive Statistics of Data within Pivot Fields"
   ]
  },
  {
   "cell_type": "code",
   "execution_count": 46,
   "id": "92c09a8b-290e-4020-8d0f-0c03e64ecf0a",
   "metadata": {
    "tags": []
   },
   "outputs": [
    {
     "name": "stdout",
     "output_type": "stream",
     "text": [
      "Descriptive Statistics for pivot_fr_sd:\n",
      "                                 count          mean           std  \\\n",
      "station_id                      3857.0  21018.671506  12349.460470   \n",
      "latitude                        3857.0     33.041093      0.287922   \n",
      "longitude                       3857.0   -117.112701      0.262136   \n",
      "fdr_result Conductance           597.0   1798.368509   1458.629956   \n",
      "fdr_result DissolvedOxygen       966.0      8.613976      6.000063   \n",
      "fdr_result SpecificConductance    26.0   1597.153846    368.421030   \n",
      "fdr_result WaterTemperature     3731.0     20.300622      4.398005   \n",
      "fdr_result pH                   1212.0      7.732261      0.441947   \n",
      "\n",
      "                                        min          25%         50%  \\\n",
      "station_id                      5576.000000  5765.000000  27526.0000   \n",
      "latitude                          32.541700    32.831500     33.1145   \n",
      "longitude                       -121.855400  -117.262500   -117.1086   \n",
      "fdr_result Conductance           176.000000  1100.000000   1600.0000   \n",
      "fdr_result DissolvedOxygen         0.400000     7.000000      8.4000   \n",
      "fdr_result SpecificConductance   648.000000  1355.500000   1689.0000   \n",
      "fdr_result WaterTemperature      -17.333333    18.888889     20.0000   \n",
      "fdr_result pH                      6.400000     7.400000      7.8000   \n",
      "\n",
      "                                       75%           max  \n",
      "station_id                      31064.0000  46751.000000  \n",
      "latitude                           33.2660     36.568400  \n",
      "longitude                        -117.0342   -116.088100  \n",
      "fdr_result Conductance           2070.0000  13099.000000  \n",
      "fdr_result DissolvedOxygen          9.9000    172.100771  \n",
      "fdr_result SpecificConductance   1851.5000   2260.000000  \n",
      "fdr_result WaterTemperature        22.0000     58.888889  \n",
      "fdr_result pH                       8.0000      9.400000  \n",
      "\n",
      "Descriptive Statistics for pivot_lr_sd:\n",
      "                       count          mean           std        min  \\\n",
      "           parameter                                                  \n",
      "station_id            7909.0  23221.302946  11237.015610  5576.0000   \n",
      "latitude              7909.0     33.047081      0.265701    32.5417   \n",
      "longitude             7909.0   -117.089217      0.260015  -121.8554   \n",
      "\n",
      "                            25%         50%         75%         max  \n",
      "           parameter                                                 \n",
      "station_id            5777.0000  27870.0000  31119.0000  46751.0000  \n",
      "latitude                32.8170     33.1145     33.2556     36.5684  \n",
      "longitude             -117.2875   -117.1012   -116.9660   -115.8260  \n"
     ]
    }
   ],
   "source": [
    "stats_fr = pivot_fr_sd.describe().transpose()\n",
    "\n",
    "# Descriptive statistics for pivot_lr_sd\n",
    "stats_lr = pivot_lr_sd.describe().transpose()\n",
    "\n",
    "# Plotting\n",
    "print(\"Descriptive Statistics for pivot_fr_sd:\")\n",
    "print(stats_fr)\n",
    "\n",
    "print(\"\\nDescriptive Statistics for pivot_lr_sd:\")\n",
    "print(stats_lr)"
   ]
  },
  {
   "cell_type": "markdown",
   "id": "cc9303c6-6da2-425f-87b9-62ebbd356bc2",
   "metadata": {},
   "source": [
    "## Exploring Missing Values in Pivot Fields"
   ]
  },
  {
   "cell_type": "code",
   "execution_count": 47,
   "id": "c70d13a5-216c-488b-80ca-b3c33a9c4e9c",
   "metadata": {
    "tags": []
   },
   "outputs": [
    {
     "name": "stdout",
     "output_type": "stream",
     "text": [
      "Table of Missing Values for pivot_fr_sd:\n",
      "station_id                           0\n",
      "sample_date                          0\n",
      "latitude                             0\n",
      "longitude                            0\n",
      "county_name                          0\n",
      "fdr_result Conductance            3260\n",
      "fdr_result DissolvedOxygen        2891\n",
      "fdr_result SpecificConductance    3831\n",
      "fdr_result WaterTemperature        126\n",
      "fdr_result pH                     2645\n",
      "uns_name Conductance              3260\n",
      "uns_name DissolvedOxygen          2891\n",
      "uns_name SpecificConductance      3831\n",
      "uns_name WaterTemperature          126\n",
      "uns_name pH                       2645\n",
      "dtype: int64\n"
     ]
    },
    {
     "data": {
      "image/png": "[encoded data removed]",
      "text/plain": [
       "<Figure size 720x432 with 1 Axes>"
      ]
     },
     "metadata": {
      "needs_background": "light"
     },
     "output_type": "display_data"
    }
   ],
   "source": [
    "# Define pivot_lr_sd\n",
    "pivot_lr_sd = lr_sanDiego_df_filtered.pivot_table(index=['station_id', 'sample_date', 'latitude', 'longitude', 'county_name'], \n",
    "                                                 columns='parameter', \n",
    "                                                 values=['result', 'units'], \n",
    "                                                 aggfunc={'result': 'first', 'units': 'first'}).reset_index()\n",
    "pivot_lr_sd = pivot_lr_sd.sort_values(by='sample_date')\n",
    "\n",
    "# Define pivot_fr_sd\n",
    "pivot_fr_sd = fr_sanDiego_df_filtered.pivot_table(index=['station_id', 'sample_date', 'latitude', 'longitude', 'county_name'], \n",
    "                                         columns='parameter', \n",
    "                                         values=['fdr_result', 'uns_name'], \n",
    "                                         aggfunc={'fdr_result': 'first', 'uns_name': 'first'}).reset_index()\n",
    "\n",
    "# Remove the name of the index column\n",
    "pivot_fr_sd.columns = [' '.join(col).strip() for col in pivot_fr_sd.columns.values]\n",
    "pivot_fr_sd = pivot_fr_sd.sort_values(by='sample_date')\n",
    "\n",
    "# Table of missing values for pivot_fr_sd\n",
    "missing_values_fr = pivot_fr_sd.isnull().sum()\n",
    "print(\"Table of Missing Values for pivot_fr_sd:\")\n",
    "print(missing_values_fr)\n",
    "\n",
    "missing_percentage_fr = (pivot_fr_sd.isnull().sum() / len(pivot_fr_sd)) * 100\n",
    "\n",
    "# Plot bar chart for missing values\n",
    "plt.figure(figsize=(10, 6))\n",
    "missing_percentage_fr.plot(kind='bar', color='skyblue')\n",
    "plt.title('Percentage of Missing Values for pivot_fr_sd')\n",
    "plt.xlabel('Columns')\n",
    "plt.ylabel('Percentage Missing')\n",
    "plt.xticks(rotation=45, ha='right')\n",
    "plt.tight_layout()\n",
    "plt.show()"
   ]
  },
  {
   "cell_type": "markdown",
   "id": "c7d0d3e9-08ca-48aa-b72c-5ba273289a04",
   "metadata": {},
   "source": [
    "## save transformed files as csv"
   ]
  },
  {
   "cell_type": "markdown",
   "id": "01dae6f0-234f-476a-b45a-9a8d50743154",
   "metadata": {},
   "source": [
    "**stations**"
   ]
  },
  {
   "cell_type": "code",
   "execution_count": 48,
   "id": "77bf4311-fced-4e8c-a057-884dadd567fe",
   "metadata": {
    "tags": []
   },
   "outputs": [
    {
     "data": {
      "text/plain": [
       "{'ResponseMetadata': {'RequestId': '0R1TSB4N75WANR29',\n",
       "  'HostId': 'aO32hQzjjaNeSAhihnzlOd2s4bOWmn1i9ehSMUmgitjGQg7/EKgczg46Sc4ROP/4cm2HK6515Q8=',\n",
       "  'HTTPStatusCode': 200,\n",
       "  'HTTPHeaders': {'x-amz-id-2': 'aO32hQzjjaNeSAhihnzlOd2s4bOWmn1i9ehSMUmgitjGQg7/EKgczg46Sc4ROP/4cm2HK6515Q8=',\n",
       "   'x-amz-request-id': '0R1TSB4N75WANR29',\n",
       "   'date': 'Wed, 03 Apr 2024 01:39:33 GMT',\n",
       "   'x-amz-server-side-encryption': 'AES256',\n",
       "   'etag': '\"448df0aaca6c187188c71e2f9bc7617d\"',\n",
       "   'server': 'AmazonS3',\n",
       "   'content-length': '0'},\n",
       "  'RetryAttempts': 0},\n",
       " 'ETag': '\"448df0aaca6c187188c71e2f9bc7617d\"',\n",
       " 'ServerSideEncryption': 'AES256'}"
      ]
     },
     "execution_count": 48,
     "metadata": {},
     "output_type": "execute_result"
    }
   ],
   "source": [
    "csv_buffer = StringIO()\n",
    "st_sanDiego_df.to_csv(csv_buffer, index=False)\n",
    "\n",
    "# Upload CSV string to S3\n",
    "bucket_name = 'ads508group4finalproject'\n",
    "subfolder_name = 'stations_transformed'\n",
    "file_name = 'stations_transformed.csv'\n",
    "s3_key = f'{subfolder_name}/{file_name}'\n",
    "\n",
    "s3_client = boto3.client('s3')\n",
    "s3_client.put_object(Body=csv_buffer.getvalue(), Bucket=bucket_name, Key=s3_key)\n",
    "\n"
   ]
  },
  {
   "cell_type": "markdown",
   "id": "8b67c521-9f71-4738-bc23-36b11a3bf36a",
   "metadata": {},
   "source": [
    "**period of record**"
   ]
  },
  {
   "cell_type": "code",
   "execution_count": 49,
   "id": "566a0ee5-ab19-4edb-a965-0abde0da8f16",
   "metadata": {
    "tags": []
   },
   "outputs": [
    {
     "data": {
      "text/plain": [
       "{'ResponseMetadata': {'RequestId': '0R1G6DK4CE3F7CZ7',\n",
       "  'HostId': 'pH3qgkwKRoQ7I5RQAJPoQxT3bBSFW0e5dkI3PMznarEeeBb3ZsymHpBjfrl21Zw7pxJfkbsYJGM=',\n",
       "  'HTTPStatusCode': 200,\n",
       "  'HTTPHeaders': {'x-amz-id-2': 'pH3qgkwKRoQ7I5RQAJPoQxT3bBSFW0e5dkI3PMznarEeeBb3ZsymHpBjfrl21Zw7pxJfkbsYJGM=',\n",
       "   'x-amz-request-id': '0R1G6DK4CE3F7CZ7',\n",
       "   'date': 'Wed, 03 Apr 2024 01:39:33 GMT',\n",
       "   'x-amz-server-side-encryption': 'AES256',\n",
       "   'etag': '\"5b0b8963ac15f4ffc186de742907892a\"',\n",
       "   'server': 'AmazonS3',\n",
       "   'content-length': '0'},\n",
       "  'RetryAttempts': 0},\n",
       " 'ETag': '\"5b0b8963ac15f4ffc186de742907892a\"',\n",
       " 'ServerSideEncryption': 'AES256'}"
      ]
     },
     "execution_count": 49,
     "metadata": {},
     "output_type": "execute_result"
    }
   ],
   "source": [
    "csv_buffer = StringIO()\n",
    "por_sanDiego_df.to_csv(csv_buffer, index=False)\n",
    "\n",
    "# Upload CSV string to S3\n",
    "bucket_name = 'ads508group4finalproject'\n",
    "subfolder_name = 'period_of_record_transformed'\n",
    "file_name = 'period_of_record_transformed.csv'\n",
    "s3_key = f'{subfolder_name}/{file_name}'\n",
    "\n",
    "s3_client = boto3.client('s3')\n",
    "s3_client.put_object(Body=csv_buffer.getvalue(), Bucket=bucket_name, Key=s3_key)\n"
   ]
  },
  {
   "cell_type": "markdown",
   "id": "c3769894-4ca7-4fd6-801b-80dea1a588c9",
   "metadata": {},
   "source": [
    "**field results**"
   ]
  },
  {
   "cell_type": "code",
   "execution_count": 50,
   "id": "42bcb417-a8d5-4c30-b53b-f3d9db797923",
   "metadata": {
    "tags": []
   },
   "outputs": [
    {
     "data": {
      "text/plain": [
       "{'ResponseMetadata': {'RequestId': '0R1VQ75FJTQNZ3GV',\n",
       "  'HostId': 'mRcHzej0iLqdOsDcWAuBvMaWxXvk36cOrKk+p/7wvwD+ZahoHLQR63XyRxhhczvJX47/JZOXWX4=',\n",
       "  'HTTPStatusCode': 200,\n",
       "  'HTTPHeaders': {'x-amz-id-2': 'mRcHzej0iLqdOsDcWAuBvMaWxXvk36cOrKk+p/7wvwD+ZahoHLQR63XyRxhhczvJX47/JZOXWX4=',\n",
       "   'x-amz-request-id': '0R1VQ75FJTQNZ3GV',\n",
       "   'date': 'Wed, 03 Apr 2024 01:39:33 GMT',\n",
       "   'x-amz-server-side-encryption': 'AES256',\n",
       "   'etag': '\"fd5c3d0aeb2f6af51946fdb43be0efca\"',\n",
       "   'server': 'AmazonS3',\n",
       "   'content-length': '0'},\n",
       "  'RetryAttempts': 0},\n",
       " 'ETag': '\"fd5c3d0aeb2f6af51946fdb43be0efca\"',\n",
       " 'ServerSideEncryption': 'AES256'}"
      ]
     },
     "execution_count": 50,
     "metadata": {},
     "output_type": "execute_result"
    }
   ],
   "source": [
    "csv_buffer = StringIO()\n",
    "pivot_fr_sd.to_csv(csv_buffer, index=False)\n",
    "#Upload CSV string to S3\n",
    "    \n",
    "bucket_name = 'ads508group4finalproject'\n",
    "subfolder_name = 'field_results_transformed'\n",
    "file_name = 'field_results_transformed.csv'\n",
    "s3_key = f'{subfolder_name}/{file_name}'\n",
    "\n",
    "s3_client = boto3.client('s3')\n",
    "s3_client.put_object(Body=csv_buffer.getvalue(), Bucket=bucket_name, Key=s3_key)"
   ]
  },
  {
   "cell_type": "markdown",
   "id": "a865aeca-77e2-41df-84bc-eae3e51b21c7",
   "metadata": {},
   "source": [
    "**lab results**"
   ]
  },
  {
   "cell_type": "code",
   "execution_count": 51,
   "id": "6e8ca812-2ba1-450d-845f-875716c16355",
   "metadata": {
    "tags": []
   },
   "outputs": [
    {
     "data": {
      "text/plain": [
       "{'ResponseMetadata': {'RequestId': '0R1GJGFERHS9YWQR',\n",
       "  'HostId': 'SZNkUG3UzxV9WuAVFqPL2OX7cnndVeAF8PY3E12rbBTpdMoGVeEn66DocU/ruMoYG8KZtiqSlJI=',\n",
       "  'HTTPStatusCode': 200,\n",
       "  'HTTPHeaders': {'x-amz-id-2': 'SZNkUG3UzxV9WuAVFqPL2OX7cnndVeAF8PY3E12rbBTpdMoGVeEn66DocU/ruMoYG8KZtiqSlJI=',\n",
       "   'x-amz-request-id': '0R1GJGFERHS9YWQR',\n",
       "   'date': 'Wed, 03 Apr 2024 01:39:33 GMT',\n",
       "   'x-amz-server-side-encryption': 'AES256',\n",
       "   'etag': '\"285e343de12cde3ad3ed871464667ee6\"',\n",
       "   'server': 'AmazonS3',\n",
       "   'content-length': '0'},\n",
       "  'RetryAttempts': 0},\n",
       " 'ETag': '\"285e343de12cde3ad3ed871464667ee6\"',\n",
       " 'ServerSideEncryption': 'AES256'}"
      ]
     },
     "execution_count": 51,
     "metadata": {},
     "output_type": "execute_result"
    }
   ],
   "source": [
    "csv_buffer = StringIO()\n",
    "pivot_lr_sd.to_csv(csv_buffer, index=False)\n",
    "\n",
    "\n",
    "#Upload CSV string to S3\n",
    "bucket_name = 'ads508group4finalproject'\n",
    "subfolder_name = 'lab_results_transformed'\n",
    "file_name = 'lab_results_transformed.csv'\n",
    "s3_key = f'{subfolder_name}/{file_name}'\n",
    "\n",
    "s3_client = boto3.client('s3')\n",
    "s3_client.put_object(Body=csv_buffer.getvalue(), Bucket=bucket_name, Key=s3_key)"
   ]
  },
  {
   "cell_type": "markdown",
   "id": "ad8c2a2f-a807-417a-ac75-1ff46ddc807a",
   "metadata": {},
   "source": [
    "## Athena Database"
   ]
  },
  {
   "cell_type": "markdown",
   "id": "c526ec14-a8e0-4b1a-b677-b190f2e20be3",
   "metadata": {},
   "source": [
    "**Import Pyathena**"
   ]
  },
  {
   "cell_type": "code",
   "execution_count": null,
   "id": "600ca91c-414d-4563-a7ab-95ceab4fae0a",
   "metadata": {},
   "outputs": [],
   "source": []
  },
  {
   "cell_type": "code",
   "execution_count": null,
   "id": "8b343b02-77b1-4c9e-95b9-ee5cb7382371",
   "metadata": {
    "tags": []
   },
   "outputs": [],
   "source": []
  },
  {
   "cell_type": "code",
   "execution_count": 52,
   "id": "e8c70a51-6293-4636-a9f9-1e00fb864262",
   "metadata": {},
   "outputs": [
    {
     "name": "stdout",
     "output_type": "stream",
     "text": [
      "CREATE DATABASE IF NOT EXISTS ADS508Group4\n"
     ]
    },
    {
     "data": {
      "text/html": [
       "<div>\n",
       "<style scoped>\n",
       "    .dataframe tbody tr th:only-of-type {\n",
       "        vertical-align: middle;\n",
       "    }\n",
       "\n",
       "    .dataframe tbody tr th {\n",
       "        vertical-align: top;\n",
       "    }\n",
       "\n",
       "    .dataframe thead th {\n",
       "        text-align: right;\n",
       "    }\n",
       "</style>\n",
       "<table border=\"1\" class=\"dataframe\">\n",
       "  <thead>\n",
       "    <tr style=\"text-align: right;\">\n",
       "      <th></th>\n",
       "      <th>database_name</th>\n",
       "    </tr>\n",
       "  </thead>\n",
       "  <tbody>\n",
       "    <tr>\n",
       "      <th>0</th>\n",
       "      <td>ads508group4</td>\n",
       "    </tr>\n",
       "    <tr>\n",
       "      <th>1</th>\n",
       "      <td>default</td>\n",
       "    </tr>\n",
       "  </tbody>\n",
       "</table>\n",
       "</div>"
      ],
      "text/plain": [
       "  database_name\n",
       "0  ads508group4\n",
       "1       default"
      ]
     },
     "execution_count": 52,
     "metadata": {},
     "output_type": "execute_result"
    }
   ],
   "source": [
    "bucket = 'ads508group4finalproject'\n",
    "database_name = \"ADS508Group4\"\n",
    "s3_staging_dir = \"s3://{0}/athena/staging\".format(bucket)\n",
    "conn = connect(region_name=region, s3_staging_dir=s3_staging_dir)\n",
    "region = 'us-east-1'\n",
    "\n",
    "statement = \"CREATE DATABASE IF NOT EXISTS {}\".format(database_name)\n",
    "print(statement)\n",
    "\n",
    "pd.read_sql(statement,conn)\n",
    "\n",
    "statement = \"SHOW DATABASES\"\n",
    "df_show = pd.read_sql(statement,conn)\n",
    "df_show.head(5)\n"
   ]
  },
  {
   "cell_type": "markdown",
   "id": "bc0a9f4b-8782-430e-a5bc-c994ed10863d",
   "metadata": {},
   "source": [
    "# Create Database Tables and import Data"
   ]
  },
  {
   "cell_type": "markdown",
   "id": "1f592500-1c63-4433-b78d-6d3a879c5792",
   "metadata": {},
   "source": [
    "**Stations Table**"
   ]
  },
  {
   "cell_type": "code",
   "execution_count": 53,
   "id": "7ad66a8a-f878-4e79-8ebd-34064f03a3a7",
   "metadata": {},
   "outputs": [
    {
     "name": "stdout",
     "output_type": "stream",
     "text": [
      "  station_id  latitude  longitude county_name\n",
      "0      21453   33.6110  -117.6241   San Diego\n",
      "1      22879   33.5428  -117.1425   San Diego\n",
      "2      22919   33.5825  -117.2447   San Diego\n",
      "3      23932   33.4289  -116.8370   San Diego\n",
      "4      24039   33.4330  -117.2228   San Diego\n"
     ]
    }
   ],
   "source": [
    "#define parameters\n",
    "region = 'us-east-1'\n",
    "bucket = 'ads508group4finalproject'\n",
    "s3_staging_dir = \"s3://{}/athena/staging\".format(bucket)\n",
    "\n",
    "#specify location of where the file that we will ingest data from is located\n",
    "subfolder = \"stations_transformed\"\n",
    "loc = 's3://{}/{}/'.format(bucket, subfolder)\n",
    "#specify database name and database table name\n",
    "database_name = \"ADS508Group4\"\n",
    "table_name = \"stations\"\n",
    "\n",
    "#connect to athena\n",
    "conn = connect(region_name=region, s3_staging_dir=s3_staging_dir)\n",
    "cur = conn.cursor()\n",
    "\n",
    "# sql statement to make table\n",
    "make_stations_table = \"\"\"\n",
    "    CREATE EXTERNAL TABLE IF NOT EXISTS {}.{} (\n",
    "        station_id string,\n",
    "        latitude double,\n",
    "        longitude double,\n",
    "        county_name string\n",
    "    ) ROW FORMAT DELIMITED\n",
    "    FIELDS TERMINATED BY ','\n",
    "    LINES TERMINATED BY '\\\\n'\n",
    "    LOCATION '{}'\n",
    "    TBLPROPERTIES ('compressionType'='gzip', 'skip.header.line.count'='1')\n",
    "\"\"\".format(database_name, table_name, loc)\n",
    "\n",
    "#execute sql statement\n",
    "cur.execute(make_stations_table)\n",
    "\n",
    "#preview first 5 rows\n",
    "head_query = \"SELECT * FROM {}.{} LIMIT 5\".format(database_name, table_name)\n",
    "df_first_5_rows = pd.read_sql(head_query, conn)\n",
    "print(df_first_5_rows)"
   ]
  },
  {
   "cell_type": "markdown",
   "id": "b5df631d-9274-4b1c-bcfb-d8c08fe782f7",
   "metadata": {
    "tags": []
   },
   "source": [
    "**Field Results Table**"
   ]
  },
  {
   "cell_type": "code",
   "execution_count": 54,
   "id": "44387054-8312-4453-a0c2-68db69c6a354",
   "metadata": {
    "tags": []
   },
   "outputs": [
    {
     "name": "stdout",
     "output_type": "stream",
     "text": [
      "  station_id          sample_date  latitude  longitude county_name parameter1  \\\n",
      "0      27915  1949-12-22 00:00:00   33.2186  -117.3409   San Diego              \n",
      "1      28000  1949-12-23 11:30:00   33.2112  -117.3568   San Diego              \n",
      "2       5762  1950-12-21 14:00:00   33.1145  -117.1300   San Diego     1680.0   \n",
      "3       5643  1951-02-14 08:50:00   33.3984  -117.2625   San Diego              \n",
      "4       5762  1951-03-01 15:15:00   33.1145  -117.1300   San Diego     1420.0   \n",
      "\n",
      "  parameter2 result1  result2 units1 units2  \n",
      "0               None     64.0                \n",
      "1               None     64.0                \n",
      "2               None      NaN         uS/cm  \n",
      "3               None      NaN    8.4         \n",
      "4               None      NaN         uS/cm  \n"
     ]
    }
   ],
   "source": [
    "#define parameters\n",
    "region = 'us-east-1'\n",
    "bucket = 'ads508group4finalproject'\n",
    "s3_staging_dir = \"s3://{}/athena/staging\".format(bucket)\n",
    "\n",
    "# Specify the location of the file from which data will be ingested\n",
    "subfolder = \"field_results_transformed\"\n",
    "loc = 's3://{}/{}/'.format(bucket, subfolder)\n",
    "\n",
    "# Specify the database name and table name\n",
    "database_name = \"ADS508Group4\"\n",
    "table_name = \"field_results\"\n",
    "\n",
    "# Connect to Athena\n",
    "conn = connect(region_name=region, s3_staging_dir=s3_staging_dir)\n",
    "cur = conn.cursor()\n",
    "\n",
    "# SQL statement to create the table for field results\n",
    "make_field_results_table = \"\"\"\n",
    "    CREATE EXTERNAL TABLE IF NOT EXISTS {}.{} (\n",
    "        station_id string,\n",
    "        sample_date string,\n",
    "        latitude double,\n",
    "        longitude double,\n",
    "        county_name string,\n",
    "        -- Add more columns as needed based on your field results data\n",
    "        parameter1 string,\n",
    "        parameter2 string,\n",
    "        result1 double,\n",
    "        result2 double,\n",
    "        units1 string,\n",
    "        units2 string\n",
    "    ) ROW FORMAT DELIMITED\n",
    "    FIELDS TERMINATED BY ','\n",
    "    LINES TERMINATED BY '\\\\n'\n",
    "    LOCATION '{}'\n",
    "    TBLPROPERTIES ('compressionType'='gzip', 'skip.header.line.count'='1')\n",
    "\"\"\".format(database_name, table_name, loc)\n",
    "\n",
    "# Execute the SQL statement to create the table\n",
    "cur.execute(make_field_results_table)\n",
    "\n",
    "# Preview first 5 rows\n",
    "head_query = \"SELECT * FROM {}.{} LIMIT 5\".format(database_name, table_name)\n",
    "df_first_5_rows = pd.read_sql(head_query, conn)\n",
    "print(df_first_5_rows)"
   ]
  },
  {
   "cell_type": "markdown",
   "id": "5ee71483-d89a-4934-a8a9-4ed9cf39a68e",
   "metadata": {},
   "source": [
    "**Lab Results Tables**"
   ]
  },
  {
   "cell_type": "code",
   "execution_count": 55,
   "id": "60434c44-37c8-4454-936b-cecbd6a97f60",
   "metadata": {
    "tags": []
   },
   "outputs": [
    {
     "name": "stdout",
     "output_type": "stream",
     "text": [
      "  station_id         station_name full_station_name station_number  \\\n",
      "0                                                                    \n",
      "1      29246  1917-11-20 00:00:00           33.1139       -115.826   \n",
      "2      46749  1917-11-24 00:00:00           32.6183      -116.2006   \n",
      "3      32161  1917-11-26 00:00:00           32.8807       -116.103   \n",
      "4      32162  1917-11-26 00:00:00           32.8807       -116.103   \n",
      "\n",
      "  station_type latitude  longitude            status       county_name  \\\n",
      "0                  None        NaN  Dissolved Sodium  Total Alkalinity   \n",
      "1    San Diego     None       30.0               705               170   \n",
      "2    San Diego     None       43.0                                 182   \n",
      "3    San Diego     None      100.0               338               150   \n",
      "4    San Diego     None      100.0               338               150   \n",
      "\n",
      "  sample_code  sample_date sample_depth sample_depth_units         parameter  \\\n",
      "0          pH  Conductance         None   Dissolved Sodium  Total Alkalinity   \n",
      "1                                  None               mg/L     mg/L as CaCO3   \n",
      "2                                  None                        mg/L as CaCO3   \n",
      "3                                  None               mg/L     mg/L as CaCO3   \n",
      "4                                  None               mg/L     mg/L as CaCO3   \n",
      "\n",
      "  result reporting_limit units method_name  \n",
      "0   None            None  None        None  \n",
      "1   None            None  None        None  \n",
      "2   None            None  None        None  \n",
      "3   None            None  None        None  \n",
      "4   None            None  None        None  \n"
     ]
    }
   ],
   "source": [
    "# Define parameters\n",
    "region = 'us-east-1'\n",
    "bucket = 'ads508group4finalproject'\n",
    "s3_staging_dir = \"s3://{}/athena/staging\".format(bucket)\n",
    "\n",
    "# Specify the location of the file from which data will be ingested\n",
    "subfolder = \"lab_results_transformed\"\n",
    "loc = 's3://{}/{}/'.format(bucket, subfolder)\n",
    "\n",
    "# Specify the database name and table name\n",
    "database_name = \"ADS508Group4\"\n",
    "table_name = \"lab_results\"\n",
    "\n",
    "# Connect to Athena\n",
    "conn = connect(region_name=region, s3_staging_dir=s3_staging_dir)\n",
    "cur = conn.cursor()\n",
    "\n",
    "# SQL statement to create the table for lab results\n",
    "make_lab_results_table = \"\"\"\n",
    "    CREATE EXTERNAL TABLE IF NOT EXISTS {}.{} (\n",
    "        station_id string,\n",
    "        station_name string,\n",
    "        full_station_name string,\n",
    "        station_number string,\n",
    "        station_type string,\n",
    "        latitude double,\n",
    "        longitude double,\n",
    "        status string,\n",
    "        county_name string,\n",
    "        sample_code string,\n",
    "        sample_date string,\n",
    "        sample_depth double,\n",
    "        sample_depth_units string,\n",
    "        parameter string,\n",
    "        result double,\n",
    "        reporting_limit double,\n",
    "        units string,\n",
    "        method_name string\n",
    "    ) ROW FORMAT DELIMITED\n",
    "    FIELDS TERMINATED BY ','\n",
    "    LINES TERMINATED BY '\\\\n'\n",
    "    LOCATION '{}'\n",
    "    TBLPROPERTIES ('compressionType'='gzip', 'skip.header.line.count'='1')\n",
    "\"\"\".format(database_name, table_name, loc)\n",
    "\n",
    "# Execute the SQL statement to create the table for lab results\n",
    "cur.execute(make_lab_results_table)\n",
    "\n",
    "# Preview first 5 rows\n",
    "head_query = \"SELECT * FROM {}.{} LIMIT 5\".format(database_name, table_name)\n",
    "df_first_5_rows = pd.read_sql(head_query, conn)\n",
    "print(df_first_5_rows)"
   ]
  },
  {
   "cell_type": "markdown",
   "id": "12937414-7f3e-453b-a2ef-f0be30004d65",
   "metadata": {},
   "source": [
    "# Modeling"
   ]
  },
  {
   "cell_type": "markdown",
   "id": "f421b740-331f-4c30-8e9b-9edd87f2810b",
   "metadata": {},
   "source": [
    "**Logistic Regression Model**"
   ]
  },
  {
   "cell_type": "code",
   "execution_count": 56,
   "id": "9cb2b846-b975-458f-bd63-a19218c671fb",
   "metadata": {
    "tags": []
   },
   "outputs": [
    {
     "ename": "NameError",
     "evalue": "name 'X_train' is not defined",
     "output_type": "error",
     "traceback": [
      "\u001b[0;31m---------------------------------------------------------------------------\u001b[0m",
      "\u001b[0;31mNameError\u001b[0m                                 Traceback (most recent call last)",
      "Cell \u001b[0;32mIn[56], line 15\u001b[0m\n\u001b[1;32m      6\u001b[0m preprocessor \u001b[38;5;241m=\u001b[39m ColumnTransformer(\n\u001b[1;32m      7\u001b[0m     transformers\u001b[38;5;241m=\u001b[39m[\n\u001b[1;32m      8\u001b[0m         (\u001b[38;5;124m'\u001b[39m\u001b[38;5;124mimputer\u001b[39m\u001b[38;5;124m'\u001b[39m, SimpleImputer(strategy\u001b[38;5;241m=\u001b[39m\u001b[38;5;124m'\u001b[39m\u001b[38;5;124mmean\u001b[39m\u001b[38;5;124m'\u001b[39m), [\u001b[38;5;124m'\u001b[39m\u001b[38;5;124mlatitude\u001b[39m\u001b[38;5;124m'\u001b[39m, \u001b[38;5;124m'\u001b[39m\u001b[38;5;124mlongitude\u001b[39m\u001b[38;5;124m'\u001b[39m])\n\u001b[0;32m   (...)\u001b[0m\n\u001b[1;32m     11\u001b[0m     remainder\u001b[38;5;241m=\u001b[39m\u001b[38;5;124m'\u001b[39m\u001b[38;5;124mpassthrough\u001b[39m\u001b[38;5;124m'\u001b[39m  \u001b[38;5;66;03m# Pass through columns not specified in transformers\u001b[39;00m\n\u001b[1;32m     12\u001b[0m )\n\u001b[1;32m     14\u001b[0m \u001b[38;5;66;03m# Apply preprocessing to X_train\u001b[39;00m\n\u001b[0;32m---> 15\u001b[0m X_train_preprocessed \u001b[38;5;241m=\u001b[39m preprocessor\u001b[38;5;241m.\u001b[39mfit_transform(\u001b[43mX_train\u001b[49m)\n\u001b[1;32m     17\u001b[0m \u001b[38;5;66;03m# Apply preprocessing to X_val and X_test\u001b[39;00m\n\u001b[1;32m     18\u001b[0m X_val_preprocessed \u001b[38;5;241m=\u001b[39m preprocessor\u001b[38;5;241m.\u001b[39mtransform(X_val)\n",
      "\u001b[0;31mNameError\u001b[0m: name 'X_train' is not defined"
     ]
    }
   ],
   "source": [
    "from sklearn.impute import SimpleImputer\n",
    "from sklearn.pipeline import Pipeline\n",
    "from sklearn.compose import ColumnTransformer\n",
    "\n",
    "# Define a pipeline for preprocessing\n",
    "preprocessor = ColumnTransformer(\n",
    "    transformers=[\n",
    "        ('imputer', SimpleImputer(strategy='mean'), ['latitude', 'longitude'])\n",
    "        # Add more preprocessing steps as needed\n",
    "    ],\n",
    "    remainder='passthrough'  # Pass through columns not specified in transformers\n",
    ")\n",
    "\n",
    "# Apply preprocessing to X_train\n",
    "X_train_preprocessed = preprocessor.fit_transform(X_train)\n",
    "\n",
    "# Apply preprocessing to X_val and X_test\n",
    "X_val_preprocessed = preprocessor.transform(X_val)\n",
    "X_test_preprocessed = preprocessor.transform(X_test)\n",
    "\n",
    "# Train logistic regression model on preprocessed data\n",
    "model = LogisticRegression()\n",
    "model.fit(X_train_preprocessed, y_train)\n",
    "\n",
    "merged_data.dropna(inplace=True)\n",
    "\n",
    "# Extract features and target variable\n",
    "X = merged_data[['latitude', 'longitude']]\n",
    "y = merged_data[['result1', 'result2', 'result']]"
   ]
  },
  {
   "cell_type": "code",
   "execution_count": null,
   "id": "fd0e5339-3209-43d0-b956-fb15d15656cf",
   "metadata": {
    "tags": []
   },
   "outputs": [],
   "source": [
    "import pandas as pd\n",
    "from sklearn.model_selection import train_test_split\n",
    "from sklearn.linear_model import LogisticRegression\n",
    "from sklearn.metrics import accuracy_score\n",
    "from pyathena import connect\n",
    "from io import StringIO\n",
    "import boto3\n",
    "\n",
    "# Define parameters\n",
    "region = 'us-east-1'\n",
    "bucket = 'ads508group4finalproject'\n",
    "s3_staging_dir = \"s3://{}/athena/staging\".format(bucket)\n",
    "\n",
    "# Connect to Athena\n",
    "conn = connect(region_name=region, s3_staging_dir=s3_staging_dir)\n",
    "cur = conn.cursor()\n",
    "\n",
    "# Define table names\n",
    "stations_table = \"stations\"\n",
    "field_results_table = \"field_results\"\n",
    "lab_results_table = \"lab_results\"\n",
    "\n",
    "# SQL query to fetch data from stations table\n",
    "stations_query = \"SELECT * FROM {}.{}\".format(database_name, stations_table)\n",
    "df_stations = pd.read_sql(stations_query, conn)\n",
    "\n",
    "# SQL query to fetch data from field results table\n",
    "field_results_query = \"SELECT * FROM {}.{}\".format(database_name, field_results_table)\n",
    "df_field_results = pd.read_sql(field_results_query, conn)\n",
    "\n",
    "# SQL query to fetch data from lab results table\n",
    "lab_results_query = \"SELECT * FROM {}.{}\".format(database_name, lab_results_table)\n",
    "df_lab_results = pd.read_sql(lab_results_query, conn)\n",
    "\n",
    "# Merge data from stations, field results, and lab results\n",
    "merged_data = pd.merge(df_stations, df_field_results, on='station_id', how='inner')\n",
    "merged_data = pd.merge(merged_data, df_lab_results, on='station_id', how='inner')\n",
    "\n",
    "# Extract features and target variable\n",
    "X = merged_data[['latitude', 'longitude']]\n",
    "y = merged_data[['result1', 'result2', 'result']]  # Adjust column names as needed\n",
    "\n",
    "# Split the data into training, validation, and test sets\n",
    "X_train, X_temp, y_train, y_temp = train_test_split(X, y, test_size=0.2, random_state=42)\n",
    "X_val, X_test, y_val, y_test = train_test_split(X_temp, y_temp, test_size=0.5, random_state=42)\n",
    "\n",
    "# Reshape y into a 1D array\n",
    "y_train_1d = y_train.values.ravel()\n",
    "y_val_1d = y_val.values.ravel()\n",
    "y_test_1d = y_test.values.ravel()\n",
    "\n",
    "# Train logistic regression model\n",
    "model = LogisticRegression()\n",
    "model.fit(X_train, y_train_1d)\n",
    "\n",
    "# Evaluate the model on the validation set\n",
    "val_preds = model.predict(X_val)\n",
    "val_accuracy = accuracy_score(y_val_1d, val_preds)\n",
    "print(\"Validation Accuracy:\", val_accuracy)\n",
    "\n",
    "# Test the final model on the test set\n",
    "test_preds = model.predict(X_test)\n",
    "test_accuracy = accuracy_score(y_test_1d, test_preds)\n",
    "print(\"Test Accuracy:\", test_accuracy)"
   ]
  },
  {
   "cell_type": "markdown",
   "id": "3ba3dc8f-5819-450e-b3d7-3945e751f0d8",
   "metadata": {},
   "source": [
    "**Random forest**"
   ]
  },
  {
   "cell_type": "code",
   "execution_count": null,
   "id": "6514ec8c-7dd9-4673-9b8e-1cbd699e78f7",
   "metadata": {
    "tags": []
   },
   "outputs": [],
   "source": [
    "import pandas as pd\n",
    "from sklearn.model_selection import train_test_split\n",
    "from sklearn.ensemble import RandomForestClassifier\n",
    "from sklearn.metrics import accuracy_score\n",
    "from pyathena import connect\n",
    "from io import StringIO\n",
    "import boto3\n",
    "\n",
    "# Define parameters\n",
    "region = 'us-east-1'\n",
    "bucket = 'ads508group4finalproject'\n",
    "s3_staging_dir = \"s3://{}/athena/staging\".format(bucket)\n",
    "\n",
    "# Connect to Athena\n",
    "conn = connect(region_name=region, s3_staging_dir=s3_staging_dir)\n",
    "cur = conn.cursor()\n",
    "\n",
    "# Define table names\n",
    "stations_table = \"stations\"\n",
    "field_results_table = \"field_results\"\n",
    "lab_results_table = \"lab_results\"\n",
    "\n",
    "# SQL query to fetch data from stations table\n",
    "stations_query = \"SELECT * FROM {}.{}\".format(database_name, stations_table)\n",
    "df_stations = pd.read_sql(stations_query, conn)\n",
    "\n",
    "# SQL query to fetch data from field results table\n",
    "field_results_query = \"SELECT * FROM {}.{}\".format(database_name, field_results_table)\n",
    "df_field_results = pd.read_sql(field_results_query, conn)\n",
    "\n",
    "# SQL query to fetch data from lab results table\n",
    "lab_results_query = \"SELECT * FROM {}.{}\".format(database_name, lab_results_table)\n",
    "df_lab_results = pd.read_sql(lab_results_query, conn)\n",
    "\n",
    "# Merge data from stations, field results, and lab results\n",
    "merged_data = pd.merge(df_stations, df_field_results, on='station_id', how='inner')\n",
    "merged_data = pd.merge(merged_data, df_lab_results, on='station_id', how='inner')\n",
    "\n",
    "# Extract features and target variable\n",
    "X = merged_data[['latitude', 'longitude']]\n",
    "y = merged_data[['result1', 'result2', 'result']]  # Adjust column names as needed\n",
    "\n",
    "# Split the data into training, validation, and test sets\n",
    "X_train, X_temp, y_train, y_temp = train_test_split(X, y, test_size=0.2, random_state=42)\n",
    "X_val, X_test, y_val, y_test = train_test_split(X_temp, y_temp, test_size=0.5, random_state=42)\n",
    "\n",
    "# Initialize Random Forest classifier with default hyperparameters\n",
    "rf_classifier = RandomForestClassifier(random_state=42)\n",
    "\n",
    "# Train the classifier on the training data\n",
    "rf_classifier.fit(X_train, y_train)\n",
    "\n",
    "# Evaluate the model on the validation set\n",
    "val_preds = rf_classifier.predict(X_val)\n",
    "val_accuracy = accuracy_score(y_val, val_preds)\n",
    "print(\"Validation Accuracy:\", val_accuracy)\n",
    "\n",
    "# Test the final model on the test set\n",
    "test_preds = rf_classifier.predict(X_test)\n",
    "test_accuracy = accuracy_score(y_test, test_preds)\n",
    "print(\"Test Accuracy:\", test_accuracy)"
   ]
  },
  {
   "cell_type": "markdown",
   "id": "864f3af0-473a-489f-9b3e-5382ca70e8de",
   "metadata": {
    "tags": []
   },
   "source": [
    "**k-NN**"
   ]
  },
  {
   "cell_type": "code",
   "execution_count": null,
   "id": "8e820a3d-8715-4b0e-b16f-7914245e30b3",
   "metadata": {
    "tags": []
   },
   "outputs": [],
   "source": [
    "import pandas as pd\n",
    "from sklearn.model_selection import train_test_split\n",
    "from sklearn.neighbors import KNeighborsClassifier\n",
    "from sklearn.metrics import accuracy_score\n",
    "from pyathena import connect\n",
    "from io import StringIO\n",
    "import boto3\n",
    "\n",
    "# Define parameters\n",
    "region = 'us-east-1'\n",
    "bucket = 'ads508group4finalproject'\n",
    "s3_staging_dir = \"s3://{}/athena/staging\".format(bucket)\n",
    "\n",
    "# Connect to Athena\n",
    "conn = connect(region_name=region, s3_staging_dir=s3_staging_dir)\n",
    "cur = conn.cursor()\n",
    "\n",
    "# Define table names\n",
    "stations_table = \"stations\"\n",
    "field_results_table = \"field_results\"\n",
    "lab_results_table = \"lab_results\"\n",
    "\n",
    "# SQL query to fetch data from stations table\n",
    "stations_query = \"SELECT * FROM {}.{}\".format(database_name, stations_table)\n",
    "df_stations = pd.read_sql(stations_query, conn)\n",
    "\n",
    "# SQL query to fetch data from field results table\n",
    "field_results_query = \"SELECT * FROM {}.{}\".format(database_name, field_results_table)\n",
    "df_field_results = pd.read_sql(field_results_query, conn)\n",
    "\n",
    "# SQL query to fetch data from lab results table\n",
    "lab_results_query = \"SELECT * FROM {}.{}\".format(database_name, lab_results_table)\n",
    "df_lab_results = pd.read_sql(lab_results_query, conn)\n",
    "\n",
    "# Merge data from stations, field results, and lab results\n",
    "merged_data = pd.merge(df_stations, df_field_results, on='station_id', how='inner')\n",
    "merged_data = pd.merge(merged_data, df_lab_results, on='station_id', how='inner')\n",
    "\n",
    "# Extract features and target variable\n",
    "X = merged_data[['latitude', 'longitude']]\n",
    "y = merged_data[['result1', 'result2', 'result']]  # Adjust column names as needed\n",
    "\n",
    "# Split the data into training, validation, and test sets\n",
    "X_train, X_temp, y_train, y_temp = train_test_split(X, y, test_size=0.2, random_state=42)\n",
    "X_val, X_test, y_val, y_test = train_test_split(X_temp, y_temp, test_size=0.5, random_state=42)\n",
    "\n",
    "# Train k-Nearest Neighbors model\n",
    "model = KNeighborsClassifier()\n",
    "model.fit(X_train, y_train)\n",
    "\n",
    "# Evaluate the model on the validation set\n",
    "val_preds = model.predict(X_val)\n",
    "val_accuracy = accuracy_score(y_val, val_preds)\n",
    "print(\"Validation Accuracy:\", val_accuracy)\n",
    "\n",
    "# Test the final model on the test set\n",
    "test_preds = model.predict(X_test)\n",
    "test_accuracy = accuracy_score(y_test, test_preds)\n",
    "print(\"Test Accuracy:\", test_accuracy)"
   ]
  },
  {
   "cell_type": "markdown",
   "id": "de37febc-d2c3-4fb5-88fd-0e8dc2a2bb18",
   "metadata": {},
   "source": [
    "**Gradient Boosting**"
   ]
  },
  {
   "cell_type": "code",
   "execution_count": null,
   "id": "2c369f7b-7330-4c00-b4e9-9f0c7f01e974",
   "metadata": {
    "tags": []
   },
   "outputs": [],
   "source": [
    "import pandas as pd\n",
    "from sklearn.model_selection import train_test_split\n",
    "from sklearn.ensemble import GradientBoostingClassifier\n",
    "from sklearn.metrics import accuracy_score\n",
    "from sklearn.impute import SimpleImputer\n",
    "from pyathena import connect\n",
    "from io import StringIO\n",
    "import boto3\n",
    "\n",
    "# Define parameters\n",
    "region = 'us-east-1'\n",
    "bucket = 'ads508group4finalproject'\n",
    "s3_staging_dir = \"s3://{}/athena/staging\".format(bucket)\n",
    "\n",
    "# Connect to Athena\n",
    "conn = connect(region_name=region, s3_staging_dir=s3_staging_dir)\n",
    "cur = conn.cursor()\n",
    "\n",
    "# Define table names\n",
    "stations_table = \"stations\"\n",
    "field_results_table = \"field_results\"\n",
    "lab_results_table = \"lab_results\"\n",
    "\n",
    "# SQL query to fetch data from stations table\n",
    "stations_query = \"SELECT * FROM {}.{}\".format(database_name, stations_table)\n",
    "df_stations = pd.read_sql(stations_query, conn)\n",
    "\n",
    "# SQL query to fetch data from field results table\n",
    "field_results_query = \"SELECT * FROM {}.{}\".format(database_name, field_results_table)\n",
    "df_field_results = pd.read_sql(field_results_query, conn)\n",
    "\n",
    "# SQL query to fetch data from lab results table\n",
    "lab_results_query = \"SELECT * FROM {}.{}\".format(database_name, lab_results_table)\n",
    "df_lab_results = pd.read_sql(lab_results_query, conn)\n",
    "\n",
    "# Merge data from stations, field results, and lab results\n",
    "merged_data = pd.merge(df_stations, df_field_results, on='station_id', how='inner')\n",
    "merged_data = pd.merge(merged_data, df_lab_results, on='station_id', how='inner')\n",
    "\n",
    "# Extract features and target variable\n",
    "X = merged_data[['latitude', 'longitude']]\n",
    "y = merged_data[['result1', 'result2', 'result']]  # Adjust column names as needed\n",
    "\n",
    "# Impute missing values\n",
    "imputer = SimpleImputer(strategy='mean')\n",
    "X_imputed = imputer.fit_transform(X)\n",
    "\n",
    "# Split the data into training, validation, and test sets\n",
    "X_train, X_temp, y_train, y_temp = train_test_split(X_imputed, y, test_size=0.2, random_state=42)\n",
    "X_val, X_test, y_val, y_test = train_test_split(X_temp, y_temp, test_size=0.5, random_state=42)\n",
    "\n",
    "# Train Gradient Boosting model\n",
    "model = GradientBoostingClassifier()\n",
    "model.fit(X_train, y_train)\n",
    "\n",
    "# Evaluate the model on the validation set\n",
    "val_preds = model.predict(X_val)\n",
    "val_accuracy = accuracy_score(y_val, val_preds)\n",
    "print(\"Validation Accuracy:\", val_accuracy)\n",
    "\n",
    "# Test the final model on the test set\n",
    "test_preds = model.predict(X_test)\n",
    "test_accuracy = accuracy_score(y_test, test_preds)\n",
    "print(\"Test Accuracy:\", test_accuracy)"
   ]
  },
  {
   "cell_type": "code",
   "execution_count": null,
   "id": "451c4a33-0fff-4c98-a96f-7b862652a5bb",
   "metadata": {},
   "outputs": [],
   "source": []
  }
 ],
 "metadata": {
  "availableInstances": [
   {
    "_defaultOrder": 0,
    "_isFastLaunch": true,
    "category": "General purpose",
    "gpuNum": 0,
    "hideHardwareSpecs": false,
    "memoryGiB": 4,
    "name": "ml.t3.medium",
    "vcpuNum": 2
   },
   {
    "_defaultOrder": 1,
    "_isFastLaunch": false,
    "category": "General purpose",
    "gpuNum": 0,
    "hideHardwareSpecs": false,
    "memoryGiB": 8,
    "name": "ml.t3.large",
    "vcpuNum": 2
   },
   {
    "_defaultOrder": 2,
    "_isFastLaunch": false,
    "category": "General purpose",
    "gpuNum": 0,
    "hideHardwareSpecs": false,
    "memoryGiB": 16,
    "name": "ml.t3.xlarge",
    "vcpuNum": 4
   },
   {
    "_defaultOrder": 3,
    "_isFastLaunch": false,
    "category": "General purpose",
    "gpuNum": 0,
    "hideHardwareSpecs": false,
    "memoryGiB": 32,
    "name": "ml.t3.2xlarge",
    "vcpuNum": 8
   },
   {
    "_defaultOrder": 4,
    "_isFastLaunch": true,
    "category": "General purpose",
    "gpuNum": 0,
    "hideHardwareSpecs": false,
    "memoryGiB": 8,
    "name": "ml.m5.large",
    "vcpuNum": 2
   },
   {
    "_defaultOrder": 5,
    "_isFastLaunch": false,
    "category": "General purpose",
    "gpuNum": 0,
    "hideHardwareSpecs": false,
    "memoryGiB": 16,
    "name": "ml.m5.xlarge",
    "vcpuNum": 4
   },
   {
    "_defaultOrder": 6,
    "_isFastLaunch": false,
    "category": "General purpose",
    "gpuNum": 0,
    "hideHardwareSpecs": false,
    "memoryGiB": 32,
    "name": "ml.m5.2xlarge",
    "vcpuNum": 8
   },
   {
    "_defaultOrder": 7,
    "_isFastLaunch": false,
    "category": "General purpose",
    "gpuNum": 0,
    "hideHardwareSpecs": false,
    "memoryGiB": 64,
    "name": "ml.m5.4xlarge",
    "vcpuNum": 16
   },
   {
    "_defaultOrder": 8,
    "_isFastLaunch": false,
    "category": "General purpose",
    "gpuNum": 0,
    "hideHardwareSpecs": false,
    "memoryGiB": 128,
    "name": "ml.m5.8xlarge",
    "vcpuNum": 32
   },
   {
    "_defaultOrder": 9,
    "_isFastLaunch": false,
    "category": "General purpose",
    "gpuNum": 0,
    "hideHardwareSpecs": false,
    "memoryGiB": 192,
    "name": "ml.m5.12xlarge",
    "vcpuNum": 48
   },
   {
    "_defaultOrder": 10,
    "_isFastLaunch": false,
    "category": "General purpose",
    "gpuNum": 0,
    "hideHardwareSpecs": false,
    "memoryGiB": 256,
    "name": "ml.m5.16xlarge",
    "vcpuNum": 64
   },
   {
    "_defaultOrder": 11,
    "_isFastLaunch": false,
    "category": "General purpose",
    "gpuNum": 0,
    "hideHardwareSpecs": false,
    "memoryGiB": 384,
    "name": "ml.m5.24xlarge",
    "vcpuNum": 96
   },
   {
    "_defaultOrder": 12,
    "_isFastLaunch": false,
    "category": "General purpose",
    "gpuNum": 0,
    "hideHardwareSpecs": false,
    "memoryGiB": 8,
    "name": "ml.m5d.large",
    "vcpuNum": 2
   },
   {
    "_defaultOrder": 13,
    "_isFastLaunch": false,
    "category": "General purpose",
    "gpuNum": 0,
    "hideHardwareSpecs": false,
    "memoryGiB": 16,
    "name": "ml.m5d.xlarge",
    "vcpuNum": 4
   },
   {
    "_defaultOrder": 14,
    "_isFastLaunch": false,
    "category": "General purpose",
    "gpuNum": 0,
    "hideHardwareSpecs": false,
    "memoryGiB": 32,
    "name": "ml.m5d.2xlarge",
    "vcpuNum": 8
   },
   {
    "_defaultOrder": 15,
    "_isFastLaunch": false,
    "category": "General purpose",
    "gpuNum": 0,
    "hideHardwareSpecs": false,
    "memoryGiB": 64,
    "name": "ml.m5d.4xlarge",
    "vcpuNum": 16
   },
   {
    "_defaultOrder": 16,
    "_isFastLaunch": false,
    "category": "General purpose",
    "gpuNum": 0,
    "hideHardwareSpecs": false,
    "memoryGiB": 128,
    "name": "ml.m5d.8xlarge",
    "vcpuNum": 32
   },
   {
    "_defaultOrder": 17,
    "_isFastLaunch": false,
    "category": "General purpose",
    "gpuNum": 0,
    "hideHardwareSpecs": false,
    "memoryGiB": 192,
    "name": "ml.m5d.12xlarge",
    "vcpuNum": 48
   },
   {
    "_defaultOrder": 18,
    "_isFastLaunch": false,
    "category": "General purpose",
    "gpuNum": 0,
    "hideHardwareSpecs": false,
    "memoryGiB": 256,
    "name": "ml.m5d.16xlarge",
    "vcpuNum": 64
   },
   {
    "_defaultOrder": 19,
    "_isFastLaunch": false,
    "category": "General purpose",
    "gpuNum": 0,
    "hideHardwareSpecs": false,
    "memoryGiB": 384,
    "name": "ml.m5d.24xlarge",
    "vcpuNum": 96
   },
   {
    "_defaultOrder": 20,
    "_isFastLaunch": false,
    "category": "General purpose",
    "gpuNum": 0,
    "hideHardwareSpecs": true,
    "memoryGiB": 0,
    "name": "ml.geospatial.interactive",
    "supportedImageNames": [
     "sagemaker-geospatial-v1-0"
    ],
    "vcpuNum": 0
   },
   {
    "_defaultOrder": 21,
    "_isFastLaunch": true,
    "category": "Compute optimized",
    "gpuNum": 0,
    "hideHardwareSpecs": false,
    "memoryGiB": 4,
    "name": "ml.c5.large",
    "vcpuNum": 2
   },
   {
    "_defaultOrder": 22,
    "_isFastLaunch": false,
    "category": "Compute optimized",
    "gpuNum": 0,
    "hideHardwareSpecs": false,
    "memoryGiB": 8,
    "name": "ml.c5.xlarge",
    "vcpuNum": 4
   },
   {
    "_defaultOrder": 23,
    "_isFastLaunch": false,
    "category": "Compute optimized",
    "gpuNum": 0,
    "hideHardwareSpecs": false,
    "memoryGiB": 16,
    "name": "ml.c5.2xlarge",
    "vcpuNum": 8
   },
   {
    "_defaultOrder": 24,
    "_isFastLaunch": false,
    "category": "Compute optimized",
    "gpuNum": 0,
    "hideHardwareSpecs": false,
    "memoryGiB": 32,
    "name": "ml.c5.4xlarge",
    "vcpuNum": 16
   },
   {
    "_defaultOrder": 25,
    "_isFastLaunch": false,
    "category": "Compute optimized",
    "gpuNum": 0,
    "hideHardwareSpecs": false,
    "memoryGiB": 72,
    "name": "ml.c5.9xlarge",
    "vcpuNum": 36
   },
   {
    "_defaultOrder": 26,
    "_isFastLaunch": false,
    "category": "Compute optimized",
    "gpuNum": 0,
    "hideHardwareSpecs": false,
    "memoryGiB": 96,
    "name": "ml.c5.12xlarge",
    "vcpuNum": 48
   },
   {
    "_defaultOrder": 27,
    "_isFastLaunch": false,
    "category": "Compute optimized",
    "gpuNum": 0,
    "hideHardwareSpecs": false,
    "memoryGiB": 144,
    "name": "ml.c5.18xlarge",
    "vcpuNum": 72
   },
   {
    "_defaultOrder": 28,
    "_isFastLaunch": false,
    "category": "Compute optimized",
    "gpuNum": 0,
    "hideHardwareSpecs": false,
    "memoryGiB": 192,
    "name": "ml.c5.24xlarge",
    "vcpuNum": 96
   },
   {
    "_defaultOrder": 29,
    "_isFastLaunch": true,
    "category": "Accelerated computing",
    "gpuNum": 1,
    "hideHardwareSpecs": false,
    "memoryGiB": 16,
    "name": "ml.g4dn.xlarge",
    "vcpuNum": 4
   },
   {
    "_defaultOrder": 30,
    "_isFastLaunch": false,
    "category": "Accelerated computing",
    "gpuNum": 1,
    "hideHardwareSpecs": false,
    "memoryGiB": 32,
    "name": "ml.g4dn.2xlarge",
    "vcpuNum": 8
   },
   {
    "_defaultOrder": 31,
    "_isFastLaunch": false,
    "category": "Accelerated computing",
    "gpuNum": 1,
    "hideHardwareSpecs": false,
    "memoryGiB": 64,
    "name": "ml.g4dn.4xlarge",
    "vcpuNum": 16
   },
   {
    "_defaultOrder": 32,
    "_isFastLaunch": false,
    "category": "Accelerated computing",
    "gpuNum": 1,
    "hideHardwareSpecs": false,
    "memoryGiB": 128,
    "name": "ml.g4dn.8xlarge",
    "vcpuNum": 32
   },
   {
    "_defaultOrder": 33,
    "_isFastLaunch": false,
    "category": "Accelerated computing",
    "gpuNum": 4,
    "hideHardwareSpecs": false,
    "memoryGiB": 192,
    "name": "ml.g4dn.12xlarge",
    "vcpuNum": 48
   },
   {
    "_defaultOrder": 34,
    "_isFastLaunch": false,
    "category": "Accelerated computing",
    "gpuNum": 1,
    "hideHardwareSpecs": false,
    "memoryGiB": 256,
    "name": "ml.g4dn.16xlarge",
    "vcpuNum": 64
   },
   {
    "_defaultOrder": 35,
    "_isFastLaunch": false,
    "category": "Accelerated computing",
    "gpuNum": 1,
    "hideHardwareSpecs": false,
    "memoryGiB": 61,
    "name": "ml.p3.2xlarge",
    "vcpuNum": 8
   },
   {
    "_defaultOrder": 36,
    "_isFastLaunch": false,
    "category": "Accelerated computing",
    "gpuNum": 4,
    "hideHardwareSpecs": false,
    "memoryGiB": 244,
    "name": "ml.p3.8xlarge",
    "vcpuNum": 32
   },
   {
    "_defaultOrder": 37,
    "_isFastLaunch": false,
    "category": "Accelerated computing",
    "gpuNum": 8,
    "hideHardwareSpecs": false,
    "memoryGiB": 488,
    "name": "ml.p3.16xlarge",
    "vcpuNum": 64
   },
   {
    "_defaultOrder": 38,
    "_isFastLaunch": false,
    "category": "Accelerated computing",
    "gpuNum": 8,
    "hideHardwareSpecs": false,
    "memoryGiB": 768,
    "name": "ml.p3dn.24xlarge",
    "vcpuNum": 96
   },
   {
    "_defaultOrder": 39,
    "_isFastLaunch": false,
    "category": "Memory Optimized",
    "gpuNum": 0,
    "hideHardwareSpecs": false,
    "memoryGiB": 16,
    "name": "ml.r5.large",
    "vcpuNum": 2
   },
   {
    "_defaultOrder": 40,
    "_isFastLaunch": false,
    "category": "Memory Optimized",
    "gpuNum": 0,
    "hideHardwareSpecs": false,
    "memoryGiB": 32,
    "name": "ml.r5.xlarge",
    "vcpuNum": 4
   },
   {
    "_defaultOrder": 41,
    "_isFastLaunch": false,
    "category": "Memory Optimized",
    "gpuNum": 0,
    "hideHardwareSpecs": false,
    "memoryGiB": 64,
    "name": "ml.r5.2xlarge",
    "vcpuNum": 8
   },
   {
    "_defaultOrder": 42,
    "_isFastLaunch": false,
    "category": "Memory Optimized",
    "gpuNum": 0,
    "hideHardwareSpecs": false,
    "memoryGiB": 128,
    "name": "ml.r5.4xlarge",
    "vcpuNum": 16
   },
   {
    "_defaultOrder": 43,
    "_isFastLaunch": false,
    "category": "Memory Optimized",
    "gpuNum": 0,
    "hideHardwareSpecs": false,
    "memoryGiB": 256,
    "name": "ml.r5.8xlarge",
    "vcpuNum": 32
   },
   {
    "_defaultOrder": 44,
    "_isFastLaunch": false,
    "category": "Memory Optimized",
    "gpuNum": 0,
    "hideHardwareSpecs": false,
    "memoryGiB": 384,
    "name": "ml.r5.12xlarge",
    "vcpuNum": 48
   },
   {
    "_defaultOrder": 45,
    "_isFastLaunch": false,
    "category": "Memory Optimized",
    "gpuNum": 0,
    "hideHardwareSpecs": false,
    "memoryGiB": 512,
    "name": "ml.r5.16xlarge",
    "vcpuNum": 64
   },
   {
    "_defaultOrder": 46,
    "_isFastLaunch": false,
    "category": "Memory Optimized",
    "gpuNum": 0,
    "hideHardwareSpecs": false,
    "memoryGiB": 768,
    "name": "ml.r5.24xlarge",
    "vcpuNum": 96
   },
   {
    "_defaultOrder": 47,
    "_isFastLaunch": false,
    "category": "Accelerated computing",
    "gpuNum": 1,
    "hideHardwareSpecs": false,
    "memoryGiB": 16,
    "name": "ml.g5.xlarge",
    "vcpuNum": 4
   },
   {
    "_defaultOrder": 48,
    "_isFastLaunch": false,
    "category": "Accelerated computing",
    "gpuNum": 1,
    "hideHardwareSpecs": false,
    "memoryGiB": 32,
    "name": "ml.g5.2xlarge",
    "vcpuNum": 8
   },
   {
    "_defaultOrder": 49,
    "_isFastLaunch": false,
    "category": "Accelerated computing",
    "gpuNum": 1,
    "hideHardwareSpecs": false,
    "memoryGiB": 64,
    "name": "ml.g5.4xlarge",
    "vcpuNum": 16
   },
   {
    "_defaultOrder": 50,
    "_isFastLaunch": false,
    "category": "Accelerated computing",
    "gpuNum": 1,
    "hideHardwareSpecs": false,
    "memoryGiB": 128,
    "name": "ml.g5.8xlarge",
    "vcpuNum": 32
   },
   {
    "_defaultOrder": 51,
    "_isFastLaunch": false,
    "category": "Accelerated computing",
    "gpuNum": 1,
    "hideHardwareSpecs": false,
    "memoryGiB": 256,
    "name": "ml.g5.16xlarge",
    "vcpuNum": 64
   },
   {
    "_defaultOrder": 52,
    "_isFastLaunch": false,
    "category": "Accelerated computing",
    "gpuNum": 4,
    "hideHardwareSpecs": false,
    "memoryGiB": 192,
    "name": "ml.g5.12xlarge",
    "vcpuNum": 48
   },
   {
    "_defaultOrder": 53,
    "_isFastLaunch": false,
    "category": "Accelerated computing",
    "gpuNum": 4,
    "hideHardwareSpecs": false,
    "memoryGiB": 384,
    "name": "ml.g5.24xlarge",
    "vcpuNum": 96
   },
   {
    "_defaultOrder": 54,
    "_isFastLaunch": false,
    "category": "Accelerated computing",
    "gpuNum": 8,
    "hideHardwareSpecs": false,
    "memoryGiB": 768,
    "name": "ml.g5.48xlarge",
    "vcpuNum": 192
   },
   {
    "_defaultOrder": 55,
    "_isFastLaunch": false,
    "category": "Accelerated computing",
    "gpuNum": 8,
    "hideHardwareSpecs": false,
    "memoryGiB": 1152,
    "name": "ml.p4d.24xlarge",
    "vcpuNum": 96
   },
   {
    "_defaultOrder": 56,
    "_isFastLaunch": false,
    "category": "Accelerated computing",
    "gpuNum": 8,
    "hideHardwareSpecs": false,
    "memoryGiB": 1152,
    "name": "ml.p4de.24xlarge",
    "vcpuNum": 96
   },
   {
    "_defaultOrder": 57,
    "_isFastLaunch": false,
    "category": "Accelerated computing",
    "gpuNum": 0,
    "hideHardwareSpecs": false,
    "memoryGiB": 32,
    "name": "ml.trn1.2xlarge",
    "vcpuNum": 8
   },
   {
    "_defaultOrder": 58,
    "_isFastLaunch": false,
    "category": "Accelerated computing",
    "gpuNum": 0,
    "hideHardwareSpecs": false,
    "memoryGiB": 512,
    "name": "ml.trn1.32xlarge",
    "vcpuNum": 128
   },
   {
    "_defaultOrder": 59,
    "_isFastLaunch": false,
    "category": "Accelerated computing",
    "gpuNum": 0,
    "hideHardwareSpecs": false,
    "memoryGiB": 512,
    "name": "ml.trn1n.32xlarge",
    "vcpuNum": 128
   }
  ],
  "instance_type": "ml.t3.medium",
  "kernelspec": {
   "display_name": "Python 3 (Data Science 2.0)",
   "language": "python",
   "name": "python3__SAGEMAKER_INTERNAL__arn:aws:sagemaker:us-east-1:081325390199:image/sagemaker-data-science-38"
  },
  "language_info": {
   "codemirror_mode": {
    "name": "ipython",
    "version": 3
   },
   "file_extension": ".py",
   "mimetype": "text/x-python",
   "name": "python",
   "nbconvert_exporter": "python",
   "pygments_lexer": "ipython3",
   "version": "3.8.13"
  }
 },
 "nbformat": 4,
 "nbformat_minor": 5
}

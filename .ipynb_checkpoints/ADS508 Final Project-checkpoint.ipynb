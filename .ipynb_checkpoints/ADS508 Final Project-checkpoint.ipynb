{
 "cells": [
  {
   "cell_type": "markdown",
   "id": "de42a83b",
   "metadata": {},
   "source": [
    "### Group 4 ADS508 Final Project\n",
    "\n",
    "Monitoring Water Quality | Released by Tech-AAB\n",
    "\n",
    "Team: Parisa Kamizi, Landon Padgett, Vicky van der Wagt"
   ]
  },
  {
   "cell_type": "markdown",
   "id": "6b9436f4",
   "metadata": {},
   "source": [
    "-----------------------------------------------------------------------"
   ]
  },
  {
   "cell_type": "markdown",
   "id": "d84d09fc",
   "metadata": {},
   "source": [
    "**Import libraries and packages**"
   ]
  },
  {
   "cell_type": "code",
   "execution_count": 5,
   "id": "7f7de637",
   "metadata": {
    "tags": []
   },
   "outputs": [
    {
     "name": "stdout",
     "output_type": "stream",
     "text": [
      "sagemaker.config INFO - Not applying SDK defaults from location: /etc/xdg/sagemaker/config.yaml\n",
      "sagemaker.config INFO - Not applying SDK defaults from location: /root/.config/sagemaker/config.yaml\n",
      "sagemaker.config INFO - Not applying SDK defaults from location: /etc/xdg/sagemaker/config.yaml\n",
      "sagemaker.config INFO - Not applying SDK defaults from location: /root/.config/sagemaker/config.yaml\n"
     ]
    }
   ],
   "source": [
    "import pandas as pd\n",
    "from tabulate import tabulate\n",
    "import seaborn as sns\n",
    "import matplotlib.pyplot as plt\n",
    "import boto3\n",
    "import sagemaker\n",
    "\n",
    "sess = sagemaker.Session()\n",
    "bucket = sess.default_bucket()\n",
    "role = sagemaker.get_execution_role()\n",
    "region = boto3.Session().region_name"
   ]
  },
  {
   "cell_type": "markdown",
   "id": "4340b091-6a38-44a2-b98f-3e32e85189f4",
   "metadata": {},
   "source": [
    "**Download data from s3 into the \"data\" folder\"**\n",
    "\n",
    "*Commented out because it only needs to be done once*"
   ]
  },
  {
   "cell_type": "code",
   "execution_count": 8,
   "id": "f8c34a97-1b0a-4a1c-99be-9b38296982bd",
   "metadata": {
    "tags": []
   },
   "outputs": [],
   "source": [
    "#!aws s3 cp 's3://ads508group4finalproject/stations.csv' ./data/\n",
    "#!aws s3 cp 's3://ads508group4finalproject/field_results.csv' ./data/\n",
    "#!aws s3 cp 's3://ads508group4finalproject/lab_results.csv' ./data/\n",
    "#!aws s3 cp 's3://ads508group4finalproject/period_of_record.csv' ./data/"
   ]
  },
  {
   "cell_type": "code",
   "execution_count": 9,
   "id": "bfa07f9e-a766-4ee2-964a-ec3c3ee24917",
   "metadata": {
    "tags": []
   },
   "outputs": [
    {
     "name": "stderr",
     "output_type": "stream",
     "text": [
      "/opt/conda/lib/python3.8/site-packages/IPython/core/interactiveshell.py:3508: DtypeWarning: Columns (17) have mixed types.Specify dtype option on import or set low_memory=False.\n",
      "  exec(code_obj, self.user_global_ns, self.user_ns)\n"
     ]
    }
   ],
   "source": [
    "st = pd.read_csv(\"./data/stations.csv\")\n",
    "fr = pd.read_csv(\"./data/field_results.csv\")\n",
    "lr = pd.read_csv(\"./data/lab_results.csv\")\n",
    "por = pd.read_csv(\"./data/period_of_record.csv\")"
   ]
  },
  {
   "cell_type": "markdown",
   "id": "bd1cf06d",
   "metadata": {},
   "source": [
    "## Data Exploration"
   ]
  },
  {
   "cell_type": "markdown",
   "id": "5ee81cb2",
   "metadata": {},
   "source": [
    "**Compare df # of rows and columns**"
   ]
  },
  {
   "cell_type": "code",
   "execution_count": 10,
   "id": "b83e7d8b",
   "metadata": {
    "tags": []
   },
   "outputs": [
    {
     "name": "stdout",
     "output_type": "stream",
     "text": [
      "╒════╤══════╤══════════════════╤═════════════╤════════════════╕\n",
      "│    │ df   │ df longname      │   # of Rows │   # of Columns │\n",
      "╞════╪══════╪══════════════════╪═════════════╪════════════════╡\n",
      "│  0 │ st   │ Stations         │       44475 │             11 │\n",
      "├────┼──────┼──────────────────┼─────────────┼────────────────┤\n",
      "│  1 │ por  │ Period of Record │      733915 │             12 │\n",
      "├────┼──────┼──────────────────┼─────────────┼────────────────┤\n",
      "│  2 │ fr   │ Field Results    │     1199457 │             22 │\n",
      "├────┼──────┼──────────────────┼─────────────┼────────────────┤\n",
      "│  3 │ lr   │ Lab Results      │     4610840 │             18 │\n",
      "╘════╧══════╧══════════════════╧═════════════╧════════════════╛\n"
     ]
    }
   ],
   "source": [
    "import pandas as pd\n",
    "\n",
    "#generate dictionary\n",
    "df_data = {\n",
    "    'df': ['st', 'por', 'fr', 'lr'],\n",
    "    'df longname': ['Stations', 'Period of Record', 'Field Results', 'Lab Results'],\n",
    "    '# of Rows': [st.shape[0], por.shape[0], fr.shape[0], lr.shape[0]],\n",
    "    '# of Columns': [st.shape[1], por.shape[1], fr.shape[1], lr.shape[1]]\n",
    "}\n",
    "\n",
    "#convert dictionary into dataframe\n",
    "df_info = pd.DataFrame(df_data)\n",
    "\n",
    "#print dataframe\n",
    "print(tabulate(df_info, headers='keys', tablefmt='fancy_grid'))\n"
   ]
  },
  {
   "cell_type": "markdown",
   "id": "c5dbe068",
   "metadata": {},
   "source": [
    "**Explore Stations**"
   ]
  },
  {
   "cell_type": "code",
   "execution_count": 11,
   "id": "ebcb050b",
   "metadata": {
    "tags": []
   },
   "outputs": [
    {
     "name": "stdout",
     "output_type": "stream",
     "text": [
      "<class 'pandas.core.frame.DataFrame'>\n",
      "RangeIndex: 44475 entries, 0 to 44474\n",
      "Data columns (total 11 columns):\n",
      " #   Column             Non-Null Count  Dtype  \n",
      "---  ------             --------------  -----  \n",
      " 0   station_id         44475 non-null  int64  \n",
      " 1   station_name       44475 non-null  object \n",
      " 2   full_station_name  44475 non-null  object \n",
      " 3   station_number     44475 non-null  object \n",
      " 4   station_type       44475 non-null  object \n",
      " 5   latitude           44197 non-null  float64\n",
      " 6   longitude          44197 non-null  float64\n",
      " 7   county_name        44475 non-null  object \n",
      " 8   sample_count       44475 non-null  int64  \n",
      " 9   sample_date_min    44475 non-null  object \n",
      " 10  sample_date_max    44475 non-null  object \n",
      "dtypes: float64(2), int64(2), object(7)\n",
      "memory usage: 3.7+ MB\n"
     ]
    },
    {
     "data": {
      "text/html": [
       "<div>\n",
       "<style scoped>\n",
       "    .dataframe tbody tr th:only-of-type {\n",
       "        vertical-align: middle;\n",
       "    }\n",
       "\n",
       "    .dataframe tbody tr th {\n",
       "        vertical-align: top;\n",
       "    }\n",
       "\n",
       "    .dataframe thead th {\n",
       "        text-align: right;\n",
       "    }\n",
       "</style>\n",
       "<table border=\"1\" class=\"dataframe\">\n",
       "  <thead>\n",
       "    <tr style=\"text-align: right;\">\n",
       "      <th></th>\n",
       "      <th>station_id</th>\n",
       "      <th>station_name</th>\n",
       "      <th>full_station_name</th>\n",
       "      <th>station_number</th>\n",
       "      <th>station_type</th>\n",
       "      <th>latitude</th>\n",
       "      <th>longitude</th>\n",
       "      <th>county_name</th>\n",
       "      <th>sample_count</th>\n",
       "      <th>sample_date_min</th>\n",
       "      <th>sample_date_max</th>\n",
       "    </tr>\n",
       "  </thead>\n",
       "  <tbody>\n",
       "    <tr>\n",
       "      <th>0</th>\n",
       "      <td>47023</td>\n",
       "      <td>Frank Sieferman</td>\n",
       "      <td>Frank Sieferman New Well</td>\n",
       "      <td>01N01E01A001M</td>\n",
       "      <td>Groundwater</td>\n",
       "      <td>33.0000</td>\n",
       "      <td>-121.0000</td>\n",
       "      <td>Yolo</td>\n",
       "      <td>1</td>\n",
       "      <td>06/23/2008 15:00</td>\n",
       "      <td>06/23/2008 15:00</td>\n",
       "    </tr>\n",
       "    <tr>\n",
       "      <th>1</th>\n",
       "      <td>6134</td>\n",
       "      <td>01N01E33K001M</td>\n",
       "      <td>01N01E33K001M</td>\n",
       "      <td>01N01E33K001M</td>\n",
       "      <td>Groundwater</td>\n",
       "      <td>37.8868</td>\n",
       "      <td>-121.8682</td>\n",
       "      <td>Contra Costa</td>\n",
       "      <td>1</td>\n",
       "      <td>05/20/1981 13:45</td>\n",
       "      <td>05/20/1981 13:45</td>\n",
       "    </tr>\n",
       "    <tr>\n",
       "      <th>2</th>\n",
       "      <td>6135</td>\n",
       "      <td>01N01W03N001M</td>\n",
       "      <td>01N01W03N001M</td>\n",
       "      <td>01N01W03N001M</td>\n",
       "      <td>Groundwater</td>\n",
       "      <td>37.9583</td>\n",
       "      <td>-121.9669</td>\n",
       "      <td>Contra Costa</td>\n",
       "      <td>9</td>\n",
       "      <td>07/23/1974 15:15</td>\n",
       "      <td>08/16/1990 12:15</td>\n",
       "    </tr>\n",
       "    <tr>\n",
       "      <th>3</th>\n",
       "      <td>6136</td>\n",
       "      <td>01N01W04A001M</td>\n",
       "      <td>01N01W04A001M</td>\n",
       "      <td>01N01W04A001M</td>\n",
       "      <td>Groundwater</td>\n",
       "      <td>37.9663</td>\n",
       "      <td>-121.9734</td>\n",
       "      <td>Contra Costa</td>\n",
       "      <td>9</td>\n",
       "      <td>08/04/1972 15:00</td>\n",
       "      <td>09/15/1989 08:00</td>\n",
       "    </tr>\n",
       "    <tr>\n",
       "      <th>4</th>\n",
       "      <td>6137</td>\n",
       "      <td>01N01W07K001M</td>\n",
       "      <td>01N01W07K001M</td>\n",
       "      <td>01N01W07K001M</td>\n",
       "      <td>Groundwater</td>\n",
       "      <td>37.9460</td>\n",
       "      <td>-122.0155</td>\n",
       "      <td>Contra Costa</td>\n",
       "      <td>9</td>\n",
       "      <td>08/03/1973 09:30</td>\n",
       "      <td>09/15/1989 09:15</td>\n",
       "    </tr>\n",
       "  </tbody>\n",
       "</table>\n",
       "</div>"
      ],
      "text/plain": [
       "   station_id     station_name         full_station_name station_number  \\\n",
       "0       47023  Frank Sieferman  Frank Sieferman New Well  01N01E01A001M   \n",
       "1        6134    01N01E33K001M             01N01E33K001M  01N01E33K001M   \n",
       "2        6135    01N01W03N001M             01N01W03N001M  01N01W03N001M   \n",
       "3        6136    01N01W04A001M             01N01W04A001M  01N01W04A001M   \n",
       "4        6137    01N01W07K001M             01N01W07K001M  01N01W07K001M   \n",
       "\n",
       "  station_type  latitude  longitude   county_name  sample_count  \\\n",
       "0  Groundwater   33.0000  -121.0000          Yolo             1   \n",
       "1  Groundwater   37.8868  -121.8682  Contra Costa             1   \n",
       "2  Groundwater   37.9583  -121.9669  Contra Costa             9   \n",
       "3  Groundwater   37.9663  -121.9734  Contra Costa             9   \n",
       "4  Groundwater   37.9460  -122.0155  Contra Costa             9   \n",
       "\n",
       "    sample_date_min   sample_date_max  \n",
       "0  06/23/2008 15:00  06/23/2008 15:00  \n",
       "1  05/20/1981 13:45  05/20/1981 13:45  \n",
       "2  07/23/1974 15:15  08/16/1990 12:15  \n",
       "3  08/04/1972 15:00  09/15/1989 08:00  \n",
       "4  08/03/1973 09:30  09/15/1989 09:15  "
      ]
     },
     "execution_count": 11,
     "metadata": {},
     "output_type": "execute_result"
    }
   ],
   "source": [
    "st.info()\n",
    "st.head()"
   ]
  },
  {
   "cell_type": "markdown",
   "id": "4c4b52e2",
   "metadata": {},
   "source": [
    "**See number of stations per county**"
   ]
  },
  {
   "cell_type": "code",
   "execution_count": 12,
   "id": "d442cbc4",
   "metadata": {
    "tags": []
   },
   "outputs": [
    {
     "data": {
      "image/png": "[encoded data removed]",
      "text/plain": [
       "<Figure size 864x864 with 1 Axes>"
      ]
     },
     "metadata": {
      "needs_background": "light"
     },
     "output_type": "display_data"
    }
   ],
   "source": [
    "county_station_counts = st['county_name'].value_counts().reset_index()\n",
    "county_station_counts.columns = ['county_name', 'station_count']\n",
    "\n",
    "plt.figure(figsize=(12, 12))\n",
    "sns.barplot(x='station_count', y='county_name', data=county_station_counts)\n",
    "plt.xlabel('Number of Stations')\n",
    "plt.ylabel('County Name')\n",
    "plt.title('Number of Stations per County')\n",
    "plt.show()\n"
   ]
  },
  {
   "cell_type": "code",
   "execution_count": 13,
   "id": "8231c551",
   "metadata": {
    "tags": []
   },
   "outputs": [
    {
     "name": "stdout",
     "output_type": "stream",
     "text": [
      "number of San Diego stations: 1948\n"
     ]
    }
   ],
   "source": [
    "san_diego_stations_count = st[st['county_name'] == 'San Diego'].shape[0]\n",
    "print(\"number of San Diego stations:\", san_diego_stations_count)"
   ]
  },
  {
   "cell_type": "markdown",
   "id": "e00dde39",
   "metadata": {},
   "source": [
    "We have the option to filter for San Diego stations during data processing. This will leave us with 1948 stations remaining."
   ]
  },
  {
   "cell_type": "markdown",
   "id": "7a4c18c2",
   "metadata": {},
   "source": [
    "**See Distribution of Station Types**"
   ]
  },
  {
   "cell_type": "code",
   "execution_count": 14,
   "id": "e0acb475",
   "metadata": {
    "tags": []
   },
   "outputs": [
    {
     "data": {
      "image/png": "[encoded data removed]",
      "text/plain": [
       "<Figure size 864x432 with 1 Axes>"
      ]
     },
     "metadata": {
      "needs_background": "light"
     },
     "output_type": "display_data"
    }
   ],
   "source": [
    "#get count of station types\n",
    "station_type_counts = st['station_type'].value_counts()\n",
    "\n",
    "#generate plot\n",
    "plt.figure(figsize=(12, 6))\n",
    "sns.barplot(x=station_type_counts.index, y=station_type_counts.values)\n",
    "plt.xlabel('Station Type')\n",
    "plt.ylabel('Count')\n",
    "plt.title('Counts of Station Type')\n",
    "plt.tight_layout()\n",
    "plt.show()\n"
   ]
  },
  {
   "cell_type": "markdown",
   "id": "dab2e1b9",
   "metadata": {},
   "source": [
    "## Explore Period of Record"
   ]
  },
  {
   "cell_type": "code",
   "execution_count": 15,
   "id": "6f4784d0",
   "metadata": {
    "tags": []
   },
   "outputs": [
    {
     "name": "stdout",
     "output_type": "stream",
     "text": [
      "<class 'pandas.core.frame.DataFrame'>\n",
      "RangeIndex: 733915 entries, 0 to 733914\n",
      "Data columns (total 12 columns):\n",
      " #   Column             Non-Null Count   Dtype  \n",
      "---  ------             --------------   -----  \n",
      " 0   station_id         733915 non-null  int64  \n",
      " 1   station_name       733915 non-null  object \n",
      " 2   full_station_name  733915 non-null  object \n",
      " 3   station_number     733915 non-null  object \n",
      " 4   station_type       733915 non-null  object \n",
      " 5   latitude           723662 non-null  float64\n",
      " 6   longitude          723662 non-null  float64\n",
      " 7   county_name        733915 non-null  object \n",
      " 8   parameter          733915 non-null  object \n",
      " 9   sample_count       733915 non-null  int64  \n",
      " 10  sample_date_min    733915 non-null  object \n",
      " 11  sample_date_max    733915 non-null  object \n",
      "dtypes: float64(2), int64(2), object(8)\n",
      "memory usage: 67.2+ MB\n"
     ]
    },
    {
     "data": {
      "text/html": [
       "<div>\n",
       "<style scoped>\n",
       "    .dataframe tbody tr th:only-of-type {\n",
       "        vertical-align: middle;\n",
       "    }\n",
       "\n",
       "    .dataframe tbody tr th {\n",
       "        vertical-align: top;\n",
       "    }\n",
       "\n",
       "    .dataframe thead th {\n",
       "        text-align: right;\n",
       "    }\n",
       "</style>\n",
       "<table border=\"1\" class=\"dataframe\">\n",
       "  <thead>\n",
       "    <tr style=\"text-align: right;\">\n",
       "      <th></th>\n",
       "      <th>station_id</th>\n",
       "      <th>station_name</th>\n",
       "      <th>full_station_name</th>\n",
       "      <th>station_number</th>\n",
       "      <th>station_type</th>\n",
       "      <th>latitude</th>\n",
       "      <th>longitude</th>\n",
       "      <th>county_name</th>\n",
       "      <th>parameter</th>\n",
       "      <th>sample_count</th>\n",
       "      <th>sample_date_min</th>\n",
       "      <th>sample_date_max</th>\n",
       "    </tr>\n",
       "  </thead>\n",
       "  <tbody>\n",
       "    <tr>\n",
       "      <th>0</th>\n",
       "      <td>47023</td>\n",
       "      <td>Frank Sieferman</td>\n",
       "      <td>Frank Sieferman New Well</td>\n",
       "      <td>01N01E01A001M</td>\n",
       "      <td>Groundwater</td>\n",
       "      <td>33.0</td>\n",
       "      <td>-121.0</td>\n",
       "      <td>Yolo</td>\n",
       "      <td>Dissolved Aluminum</td>\n",
       "      <td>1</td>\n",
       "      <td>06/23/2008 15:00</td>\n",
       "      <td>06/23/2008 15:00</td>\n",
       "    </tr>\n",
       "    <tr>\n",
       "      <th>1</th>\n",
       "      <td>47023</td>\n",
       "      <td>Frank Sieferman</td>\n",
       "      <td>Frank Sieferman New Well</td>\n",
       "      <td>01N01E01A001M</td>\n",
       "      <td>Groundwater</td>\n",
       "      <td>33.0</td>\n",
       "      <td>-121.0</td>\n",
       "      <td>Yolo</td>\n",
       "      <td>Dissolved Antimony</td>\n",
       "      <td>1</td>\n",
       "      <td>06/23/2008 15:00</td>\n",
       "      <td>06/23/2008 15:00</td>\n",
       "    </tr>\n",
       "    <tr>\n",
       "      <th>2</th>\n",
       "      <td>47023</td>\n",
       "      <td>Frank Sieferman</td>\n",
       "      <td>Frank Sieferman New Well</td>\n",
       "      <td>01N01E01A001M</td>\n",
       "      <td>Groundwater</td>\n",
       "      <td>33.0</td>\n",
       "      <td>-121.0</td>\n",
       "      <td>Yolo</td>\n",
       "      <td>Dissolved Arsenic</td>\n",
       "      <td>1</td>\n",
       "      <td>06/23/2008 15:00</td>\n",
       "      <td>06/23/2008 15:00</td>\n",
       "    </tr>\n",
       "    <tr>\n",
       "      <th>3</th>\n",
       "      <td>47023</td>\n",
       "      <td>Frank Sieferman</td>\n",
       "      <td>Frank Sieferman New Well</td>\n",
       "      <td>01N01E01A001M</td>\n",
       "      <td>Groundwater</td>\n",
       "      <td>33.0</td>\n",
       "      <td>-121.0</td>\n",
       "      <td>Yolo</td>\n",
       "      <td>Dissolved Barium</td>\n",
       "      <td>1</td>\n",
       "      <td>06/23/2008 15:00</td>\n",
       "      <td>06/23/2008 15:00</td>\n",
       "    </tr>\n",
       "    <tr>\n",
       "      <th>4</th>\n",
       "      <td>47023</td>\n",
       "      <td>Frank Sieferman</td>\n",
       "      <td>Frank Sieferman New Well</td>\n",
       "      <td>01N01E01A001M</td>\n",
       "      <td>Groundwater</td>\n",
       "      <td>33.0</td>\n",
       "      <td>-121.0</td>\n",
       "      <td>Yolo</td>\n",
       "      <td>Dissolved Beryllium</td>\n",
       "      <td>1</td>\n",
       "      <td>06/23/2008 15:00</td>\n",
       "      <td>06/23/2008 15:00</td>\n",
       "    </tr>\n",
       "  </tbody>\n",
       "</table>\n",
       "</div>"
      ],
      "text/plain": [
       "   station_id     station_name         full_station_name station_number  \\\n",
       "0       47023  Frank Sieferman  Frank Sieferman New Well  01N01E01A001M   \n",
       "1       47023  Frank Sieferman  Frank Sieferman New Well  01N01E01A001M   \n",
       "2       47023  Frank Sieferman  Frank Sieferman New Well  01N01E01A001M   \n",
       "3       47023  Frank Sieferman  Frank Sieferman New Well  01N01E01A001M   \n",
       "4       47023  Frank Sieferman  Frank Sieferman New Well  01N01E01A001M   \n",
       "\n",
       "  station_type  latitude  longitude county_name            parameter  \\\n",
       "0  Groundwater      33.0     -121.0        Yolo   Dissolved Aluminum   \n",
       "1  Groundwater      33.0     -121.0        Yolo   Dissolved Antimony   \n",
       "2  Groundwater      33.0     -121.0        Yolo    Dissolved Arsenic   \n",
       "3  Groundwater      33.0     -121.0        Yolo     Dissolved Barium   \n",
       "4  Groundwater      33.0     -121.0        Yolo  Dissolved Beryllium   \n",
       "\n",
       "   sample_count   sample_date_min   sample_date_max  \n",
       "0             1  06/23/2008 15:00  06/23/2008 15:00  \n",
       "1             1  06/23/2008 15:00  06/23/2008 15:00  \n",
       "2             1  06/23/2008 15:00  06/23/2008 15:00  \n",
       "3             1  06/23/2008 15:00  06/23/2008 15:00  \n",
       "4             1  06/23/2008 15:00  06/23/2008 15:00  "
      ]
     },
     "execution_count": 15,
     "metadata": {},
     "output_type": "execute_result"
    }
   ],
   "source": [
    "por.info()\n",
    "por.head()"
   ]
  },
  {
   "cell_type": "markdown",
   "id": "2477cd9c",
   "metadata": {},
   "source": [
    "**Examine the Date Range of Water Quality Collection**"
   ]
  },
  {
   "cell_type": "code",
   "execution_count": 16,
   "id": "9d760da5",
   "metadata": {
    "tags": []
   },
   "outputs": [
    {
     "name": "stdout",
     "output_type": "stream",
     "text": [
      "Earliest sample_date_min: 1903-03-23 00:00:00\n",
      "Latest sample_date_max: 2024-01-04 12:59:00\n"
     ]
    }
   ],
   "source": [
    "#first convert dates in por to datetime\n",
    "por['sample_date_min'] = pd.to_datetime(por['sample_date_min'])\n",
    "por['sample_date_max'] = pd.to_datetime(por['sample_date_max'])\n",
    "\n",
    "#identify the minimum and max values\n",
    "min_sample_date_min = por['sample_date_min'].min()\n",
    "max_sample_date_max = por['sample_date_max'].max()\n",
    "\n",
    "#print\n",
    "print(\"Earliest sample_date_min:\", min_sample_date_min)\n",
    "print(\"Latest sample_date_max:\", max_sample_date_max)\n"
   ]
  },
  {
   "cell_type": "markdown",
   "id": "2f8f8d76",
   "metadata": {},
   "source": [
    "## Explore Lab Results"
   ]
  },
  {
   "cell_type": "code",
   "execution_count": 17,
   "id": "67942c45",
   "metadata": {
    "tags": []
   },
   "outputs": [
    {
     "name": "stdout",
     "output_type": "stream",
     "text": [
      "<class 'pandas.core.frame.DataFrame'>\n",
      "RangeIndex: 4610840 entries, 0 to 4610839\n",
      "Data columns (total 18 columns):\n",
      " #   Column              Dtype  \n",
      "---  ------              -----  \n",
      " 0   station_id          int64  \n",
      " 1   station_name        object \n",
      " 2   full_station_name   object \n",
      " 3   station_number      object \n",
      " 4   station_type        object \n",
      " 5   latitude            float64\n",
      " 6   longitude           float64\n",
      " 7   status              object \n",
      " 8   county_name         object \n",
      " 9   sample_code         object \n",
      " 10  sample_date         object \n",
      " 11  sample_depth        float64\n",
      " 12  sample_depth_units  object \n",
      " 13  parameter           object \n",
      " 14  result              object \n",
      " 15  reporting_limit     float64\n",
      " 16  units               object \n",
      " 17  method_name         object \n",
      "dtypes: float64(4), int64(1), object(13)\n",
      "memory usage: 633.2+ MB\n"
     ]
    },
    {
     "data": {
      "text/html": [
       "<div>\n",
       "<style scoped>\n",
       "    .dataframe tbody tr th:only-of-type {\n",
       "        vertical-align: middle;\n",
       "    }\n",
       "\n",
       "    .dataframe tbody tr th {\n",
       "        vertical-align: top;\n",
       "    }\n",
       "\n",
       "    .dataframe thead th {\n",
       "        text-align: right;\n",
       "    }\n",
       "</style>\n",
       "<table border=\"1\" class=\"dataframe\">\n",
       "  <thead>\n",
       "    <tr style=\"text-align: right;\">\n",
       "      <th></th>\n",
       "      <th>station_id</th>\n",
       "      <th>station_name</th>\n",
       "      <th>full_station_name</th>\n",
       "      <th>station_number</th>\n",
       "      <th>station_type</th>\n",
       "      <th>latitude</th>\n",
       "      <th>longitude</th>\n",
       "      <th>status</th>\n",
       "      <th>county_name</th>\n",
       "      <th>sample_code</th>\n",
       "      <th>sample_date</th>\n",
       "      <th>sample_depth</th>\n",
       "      <th>sample_depth_units</th>\n",
       "      <th>parameter</th>\n",
       "      <th>result</th>\n",
       "      <th>reporting_limit</th>\n",
       "      <th>units</th>\n",
       "      <th>method_name</th>\n",
       "    </tr>\n",
       "  </thead>\n",
       "  <tbody>\n",
       "    <tr>\n",
       "      <th>0</th>\n",
       "      <td>8135</td>\n",
       "      <td>01S04E32C001M</td>\n",
       "      <td>01S04E32C001M</td>\n",
       "      <td>01S04E32C001M</td>\n",
       "      <td>Groundwater</td>\n",
       "      <td>37.8073</td>\n",
       "      <td>-121.5617</td>\n",
       "      <td>Public, Review Status Unknown</td>\n",
       "      <td>Alameda</td>\n",
       "      <td>WDIS_0719152</td>\n",
       "      <td>05/03/1967 09:00</td>\n",
       "      <td>NaN</td>\n",
       "      <td>Feet</td>\n",
       "      <td>Conductance</td>\n",
       "      <td>3480</td>\n",
       "      <td>1.0</td>\n",
       "      <td>uS/cm</td>\n",
       "      <td>EPA 120.1</td>\n",
       "    </tr>\n",
       "    <tr>\n",
       "      <th>1</th>\n",
       "      <td>8135</td>\n",
       "      <td>01S04E32C001M</td>\n",
       "      <td>01S04E32C001M</td>\n",
       "      <td>01S04E32C001M</td>\n",
       "      <td>Groundwater</td>\n",
       "      <td>37.8073</td>\n",
       "      <td>-121.5617</td>\n",
       "      <td>Public, Review Status Unknown</td>\n",
       "      <td>Alameda</td>\n",
       "      <td>WDIS_0719152</td>\n",
       "      <td>05/03/1967 09:00</td>\n",
       "      <td>NaN</td>\n",
       "      <td>Feet</td>\n",
       "      <td>Dissolved Boron</td>\n",
       "      <td>7.7</td>\n",
       "      <td>0.1</td>\n",
       "      <td>mg/L</td>\n",
       "      <td>Std Method 4500-B, C</td>\n",
       "    </tr>\n",
       "    <tr>\n",
       "      <th>2</th>\n",
       "      <td>8135</td>\n",
       "      <td>01S04E32C001M</td>\n",
       "      <td>01S04E32C001M</td>\n",
       "      <td>01S04E32C001M</td>\n",
       "      <td>Groundwater</td>\n",
       "      <td>37.8073</td>\n",
       "      <td>-121.5617</td>\n",
       "      <td>Public, Review Status Unknown</td>\n",
       "      <td>Alameda</td>\n",
       "      <td>WDIS_0719152</td>\n",
       "      <td>05/03/1967 09:00</td>\n",
       "      <td>NaN</td>\n",
       "      <td>Feet</td>\n",
       "      <td>Dissolved Calcium</td>\n",
       "      <td>68</td>\n",
       "      <td>1.0</td>\n",
       "      <td>mg/L</td>\n",
       "      <td>EPA 215.2</td>\n",
       "    </tr>\n",
       "    <tr>\n",
       "      <th>3</th>\n",
       "      <td>8135</td>\n",
       "      <td>01S04E32C001M</td>\n",
       "      <td>01S04E32C001M</td>\n",
       "      <td>01S04E32C001M</td>\n",
       "      <td>Groundwater</td>\n",
       "      <td>37.8073</td>\n",
       "      <td>-121.5617</td>\n",
       "      <td>Public, Review Status Unknown</td>\n",
       "      <td>Alameda</td>\n",
       "      <td>WDIS_0719152</td>\n",
       "      <td>05/03/1967 09:00</td>\n",
       "      <td>NaN</td>\n",
       "      <td>Feet</td>\n",
       "      <td>Dissolved Chloride</td>\n",
       "      <td>758</td>\n",
       "      <td>0.1</td>\n",
       "      <td>mg/L</td>\n",
       "      <td>Std Method 4500-Cl, B</td>\n",
       "    </tr>\n",
       "    <tr>\n",
       "      <th>4</th>\n",
       "      <td>8135</td>\n",
       "      <td>01S04E32C001M</td>\n",
       "      <td>01S04E32C001M</td>\n",
       "      <td>01S04E32C001M</td>\n",
       "      <td>Groundwater</td>\n",
       "      <td>37.8073</td>\n",
       "      <td>-121.5617</td>\n",
       "      <td>Public, Review Status Unknown</td>\n",
       "      <td>Alameda</td>\n",
       "      <td>WDIS_0719152</td>\n",
       "      <td>05/03/1967 09:00</td>\n",
       "      <td>NaN</td>\n",
       "      <td>Feet</td>\n",
       "      <td>Dissolved Magnesium</td>\n",
       "      <td>59</td>\n",
       "      <td>0.1</td>\n",
       "      <td>mg/L</td>\n",
       "      <td>Std Method 3500-Mg, E</td>\n",
       "    </tr>\n",
       "  </tbody>\n",
       "</table>\n",
       "</div>"
      ],
      "text/plain": [
       "   station_id   station_name full_station_name station_number station_type  \\\n",
       "0        8135  01S04E32C001M     01S04E32C001M  01S04E32C001M  Groundwater   \n",
       "1        8135  01S04E32C001M     01S04E32C001M  01S04E32C001M  Groundwater   \n",
       "2        8135  01S04E32C001M     01S04E32C001M  01S04E32C001M  Groundwater   \n",
       "3        8135  01S04E32C001M     01S04E32C001M  01S04E32C001M  Groundwater   \n",
       "4        8135  01S04E32C001M     01S04E32C001M  01S04E32C001M  Groundwater   \n",
       "\n",
       "   latitude  longitude                         status county_name  \\\n",
       "0   37.8073  -121.5617  Public, Review Status Unknown     Alameda   \n",
       "1   37.8073  -121.5617  Public, Review Status Unknown     Alameda   \n",
       "2   37.8073  -121.5617  Public, Review Status Unknown     Alameda   \n",
       "3   37.8073  -121.5617  Public, Review Status Unknown     Alameda   \n",
       "4   37.8073  -121.5617  Public, Review Status Unknown     Alameda   \n",
       "\n",
       "    sample_code       sample_date  sample_depth sample_depth_units  \\\n",
       "0  WDIS_0719152  05/03/1967 09:00           NaN               Feet   \n",
       "1  WDIS_0719152  05/03/1967 09:00           NaN               Feet   \n",
       "2  WDIS_0719152  05/03/1967 09:00           NaN               Feet   \n",
       "3  WDIS_0719152  05/03/1967 09:00           NaN               Feet   \n",
       "4  WDIS_0719152  05/03/1967 09:00           NaN               Feet   \n",
       "\n",
       "             parameter result  reporting_limit  units            method_name  \n",
       "0          Conductance   3480              1.0  uS/cm              EPA 120.1  \n",
       "1      Dissolved Boron    7.7              0.1   mg/L   Std Method 4500-B, C  \n",
       "2    Dissolved Calcium     68              1.0   mg/L              EPA 215.2  \n",
       "3   Dissolved Chloride    758              0.1   mg/L  Std Method 4500-Cl, B  \n",
       "4  Dissolved Magnesium     59              0.1   mg/L  Std Method 3500-Mg, E  "
      ]
     },
     "execution_count": 17,
     "metadata": {},
     "output_type": "execute_result"
    }
   ],
   "source": [
    "lr.info()\n",
    "lr.head()"
   ]
  },
  {
   "cell_type": "markdown",
   "id": "7b4de3fb",
   "metadata": {},
   "source": [
    "**Investigate unique tested parameters**"
   ]
  },
  {
   "cell_type": "code",
   "execution_count": 18,
   "id": "b44e3ec7",
   "metadata": {
    "tags": []
   },
   "outputs": [
    {
     "name": "stdout",
     "output_type": "stream",
     "text": [
      "Number of measured parameters: 437\n"
     ]
    }
   ],
   "source": [
    "num_unique_parameters_lr = lr['parameter'].nunique()\n",
    "print(\"Number of measured parameters:\", num_unique_parameters_lr)"
   ]
  },
  {
   "cell_type": "markdown",
   "id": "0bfcf505",
   "metadata": {},
   "source": [
    "This is a lot of parameters - let's just see distribution of top 30 paramters for now. Can filter later on. "
   ]
  },
  {
   "cell_type": "code",
   "execution_count": 19,
   "id": "9a4d596b",
   "metadata": {
    "tags": []
   },
   "outputs": [
    {
     "data": {
      "image/png": "[encoded data removed]",
      "text/plain": [
       "<Figure size 864x432 with 1 Axes>"
      ]
     },
     "metadata": {
      "needs_background": "light"
     },
     "output_type": "display_data"
    }
   ],
   "source": [
    "#get the count of each parameter in lr\n",
    "parameter_counts_lr = lr['parameter'].value_counts()\n",
    "\n",
    "#generate df for plot\n",
    "parameter_counts_lr_df = parameter_counts_lr.reset_index()\n",
    "parameter_counts_lr_df.columns = ['parameter', 'count']\n",
    "\n",
    "#select top parameters, can change x\n",
    "x = 20\n",
    "top_x_parameters_lr = parameter_counts_lr_df.head(20)\n",
    "\n",
    "#create barplot visualizing the top parameters\n",
    "plt.figure(figsize=(12, 6))\n",
    "sns.barplot(x='parameter', y='count', data=top_x_parameters_lr, palette='viridis')\n",
    "plt.xlabel('Parameter')\n",
    "plt.ylabel('Count')\n",
    "plt.title('Top 30 Parameters by Count - LAB RESULTS')\n",
    "plt.xticks(rotation=90)\n",
    "plt.show()\n"
   ]
  },
  {
   "cell_type": "markdown",
   "id": "1ac2c681",
   "metadata": {},
   "source": [
    "Can filter for top x number of parameters further down."
   ]
  },
  {
   "cell_type": "markdown",
   "id": "2dc9c023",
   "metadata": {},
   "source": [
    "## Explore Field Results"
   ]
  },
  {
   "cell_type": "code",
   "execution_count": 20,
   "id": "45f654b6",
   "metadata": {
    "tags": []
   },
   "outputs": [
    {
     "name": "stdout",
     "output_type": "stream",
     "text": [
      "<class 'pandas.core.frame.DataFrame'>\n",
      "RangeIndex: 1199457 entries, 0 to 1199456\n",
      "Data columns (total 22 columns):\n",
      " #   Column               Non-Null Count    Dtype  \n",
      "---  ------               --------------    -----  \n",
      " 0   station_id           1199457 non-null  int64  \n",
      " 1   station_name         1199457 non-null  object \n",
      " 2   station_number       1199457 non-null  object \n",
      " 3   full_station_name    1199457 non-null  object \n",
      " 4   station_type         1199457 non-null  object \n",
      " 5   latitude             1187572 non-null  float64\n",
      " 6   longitude            1187572 non-null  float64\n",
      " 7   status               1199457 non-null  object \n",
      " 8   county_name          1199457 non-null  object \n",
      " 9   sample_code          1199457 non-null  object \n",
      " 10  sample_date          1199457 non-null  object \n",
      " 11  sample_depth         634376 non-null   float64\n",
      " 12  sample_depth_units   1199457 non-null  object \n",
      " 13  anl_data_type        136604 non-null   object \n",
      " 14  parameter            1199457 non-null  object \n",
      " 15  fdr_result           1069029 non-null  float64\n",
      " 16  fdr_text_result      124439 non-null   object \n",
      " 17  fdr_date_result      4434 non-null     object \n",
      " 18  fdr_reporting_limit  1026713 non-null  float64\n",
      " 19  uns_name             1199457 non-null  object \n",
      " 20  mth_name             1199457 non-null  object \n",
      " 21  fdr_footnote         120788 non-null   object \n",
      "dtypes: float64(5), int64(1), object(16)\n",
      "memory usage: 201.3+ MB\n"
     ]
    },
    {
     "data": {
      "text/html": [
       "<div>\n",
       "<style scoped>\n",
       "    .dataframe tbody tr th:only-of-type {\n",
       "        vertical-align: middle;\n",
       "    }\n",
       "\n",
       "    .dataframe tbody tr th {\n",
       "        vertical-align: top;\n",
       "    }\n",
       "\n",
       "    .dataframe thead th {\n",
       "        text-align: right;\n",
       "    }\n",
       "</style>\n",
       "<table border=\"1\" class=\"dataframe\">\n",
       "  <thead>\n",
       "    <tr style=\"text-align: right;\">\n",
       "      <th></th>\n",
       "      <th>station_id</th>\n",
       "      <th>station_name</th>\n",
       "      <th>station_number</th>\n",
       "      <th>full_station_name</th>\n",
       "      <th>station_type</th>\n",
       "      <th>latitude</th>\n",
       "      <th>longitude</th>\n",
       "      <th>status</th>\n",
       "      <th>county_name</th>\n",
       "      <th>sample_code</th>\n",
       "      <th>...</th>\n",
       "      <th>sample_depth_units</th>\n",
       "      <th>anl_data_type</th>\n",
       "      <th>parameter</th>\n",
       "      <th>fdr_result</th>\n",
       "      <th>fdr_text_result</th>\n",
       "      <th>fdr_date_result</th>\n",
       "      <th>fdr_reporting_limit</th>\n",
       "      <th>uns_name</th>\n",
       "      <th>mth_name</th>\n",
       "      <th>fdr_footnote</th>\n",
       "    </tr>\n",
       "  </thead>\n",
       "  <tbody>\n",
       "    <tr>\n",
       "      <th>0</th>\n",
       "      <td>12</td>\n",
       "      <td>H.O. Banks Headworks</td>\n",
       "      <td>KA000331</td>\n",
       "      <td>Delta P.P. Headworks at H.O. Banks PP</td>\n",
       "      <td>Surface Water</td>\n",
       "      <td>37.8019</td>\n",
       "      <td>-121.6203</td>\n",
       "      <td>Public, Review Status Unknown</td>\n",
       "      <td>Alameda</td>\n",
       "      <td>OM0168A0001</td>\n",
       "      <td>...</td>\n",
       "      <td>Feet</td>\n",
       "      <td>NaN</td>\n",
       "      <td>DissolvedOxygen</td>\n",
       "      <td>9.2</td>\n",
       "      <td>NaN</td>\n",
       "      <td>NaN</td>\n",
       "      <td>0.2</td>\n",
       "      <td>mg/L</td>\n",
       "      <td>EPA 360.2 (Field)</td>\n",
       "      <td>NaN</td>\n",
       "    </tr>\n",
       "    <tr>\n",
       "      <th>1</th>\n",
       "      <td>12</td>\n",
       "      <td>H.O. Banks Headworks</td>\n",
       "      <td>KA000331</td>\n",
       "      <td>Delta P.P. Headworks at H.O. Banks PP</td>\n",
       "      <td>Surface Water</td>\n",
       "      <td>37.8019</td>\n",
       "      <td>-121.6203</td>\n",
       "      <td>Public, Review Status Unknown</td>\n",
       "      <td>Alameda</td>\n",
       "      <td>OM0168A0001</td>\n",
       "      <td>...</td>\n",
       "      <td>Feet</td>\n",
       "      <td>NaN</td>\n",
       "      <td>ElectricalConductance</td>\n",
       "      <td>515.0</td>\n",
       "      <td>NaN</td>\n",
       "      <td>NaN</td>\n",
       "      <td>1.0</td>\n",
       "      <td>uS/cm</td>\n",
       "      <td>Std Method 2510-B (Field)</td>\n",
       "      <td>NaN</td>\n",
       "    </tr>\n",
       "    <tr>\n",
       "      <th>2</th>\n",
       "      <td>12</td>\n",
       "      <td>H.O. Banks Headworks</td>\n",
       "      <td>KA000331</td>\n",
       "      <td>Delta P.P. Headworks at H.O. Banks PP</td>\n",
       "      <td>Surface Water</td>\n",
       "      <td>37.8019</td>\n",
       "      <td>-121.6203</td>\n",
       "      <td>Public, Review Status Unknown</td>\n",
       "      <td>Alameda</td>\n",
       "      <td>OM0168A0001</td>\n",
       "      <td>...</td>\n",
       "      <td>Feet</td>\n",
       "      <td>NaN</td>\n",
       "      <td>WaterTemperature</td>\n",
       "      <td>6.7</td>\n",
       "      <td>NaN</td>\n",
       "      <td>NaN</td>\n",
       "      <td>0.1</td>\n",
       "      <td>°C</td>\n",
       "      <td>EPA 170.1 (Field)</td>\n",
       "      <td>NaN</td>\n",
       "    </tr>\n",
       "    <tr>\n",
       "      <th>3</th>\n",
       "      <td>12</td>\n",
       "      <td>H.O. Banks Headworks</td>\n",
       "      <td>KA000331</td>\n",
       "      <td>Delta P.P. Headworks at H.O. Banks PP</td>\n",
       "      <td>Surface Water</td>\n",
       "      <td>37.8019</td>\n",
       "      <td>-121.6203</td>\n",
       "      <td>Public, Review Status Unknown</td>\n",
       "      <td>Alameda</td>\n",
       "      <td>OM0168A0001</td>\n",
       "      <td>...</td>\n",
       "      <td>Feet</td>\n",
       "      <td>NaN</td>\n",
       "      <td>pH</td>\n",
       "      <td>7.3</td>\n",
       "      <td>NaN</td>\n",
       "      <td>NaN</td>\n",
       "      <td>0.1</td>\n",
       "      <td>pH Units</td>\n",
       "      <td>EPA 150.1 (Field)</td>\n",
       "      <td>NaN</td>\n",
       "    </tr>\n",
       "    <tr>\n",
       "      <th>4</th>\n",
       "      <td>12</td>\n",
       "      <td>H.O. Banks Headworks</td>\n",
       "      <td>KA000331</td>\n",
       "      <td>Delta P.P. Headworks at H.O. Banks PP</td>\n",
       "      <td>Surface Water</td>\n",
       "      <td>37.8019</td>\n",
       "      <td>-121.6203</td>\n",
       "      <td>Public, Review Status Unknown</td>\n",
       "      <td>Alameda</td>\n",
       "      <td>OM0268A0006</td>\n",
       "      <td>...</td>\n",
       "      <td>Feet</td>\n",
       "      <td>NaN</td>\n",
       "      <td>DissolvedOxygen</td>\n",
       "      <td>9.7</td>\n",
       "      <td>NaN</td>\n",
       "      <td>NaN</td>\n",
       "      <td>0.2</td>\n",
       "      <td>mg/L</td>\n",
       "      <td>EPA 360.2 (Field)</td>\n",
       "      <td>NaN</td>\n",
       "    </tr>\n",
       "  </tbody>\n",
       "</table>\n",
       "<p>5 rows × 22 columns</p>\n",
       "</div>"
      ],
      "text/plain": [
       "   station_id          station_name station_number  \\\n",
       "0          12  H.O. Banks Headworks       KA000331   \n",
       "1          12  H.O. Banks Headworks       KA000331   \n",
       "2          12  H.O. Banks Headworks       KA000331   \n",
       "3          12  H.O. Banks Headworks       KA000331   \n",
       "4          12  H.O. Banks Headworks       KA000331   \n",
       "\n",
       "                       full_station_name   station_type  latitude  longitude  \\\n",
       "0  Delta P.P. Headworks at H.O. Banks PP  Surface Water   37.8019  -121.6203   \n",
       "1  Delta P.P. Headworks at H.O. Banks PP  Surface Water   37.8019  -121.6203   \n",
       "2  Delta P.P. Headworks at H.O. Banks PP  Surface Water   37.8019  -121.6203   \n",
       "3  Delta P.P. Headworks at H.O. Banks PP  Surface Water   37.8019  -121.6203   \n",
       "4  Delta P.P. Headworks at H.O. Banks PP  Surface Water   37.8019  -121.6203   \n",
       "\n",
       "                          status county_name  sample_code  ...  \\\n",
       "0  Public, Review Status Unknown     Alameda  OM0168A0001  ...   \n",
       "1  Public, Review Status Unknown     Alameda  OM0168A0001  ...   \n",
       "2  Public, Review Status Unknown     Alameda  OM0168A0001  ...   \n",
       "3  Public, Review Status Unknown     Alameda  OM0168A0001  ...   \n",
       "4  Public, Review Status Unknown     Alameda  OM0268A0006  ...   \n",
       "\n",
       "  sample_depth_units  anl_data_type              parameter fdr_result  \\\n",
       "0               Feet            NaN        DissolvedOxygen        9.2   \n",
       "1               Feet            NaN  ElectricalConductance      515.0   \n",
       "2               Feet            NaN       WaterTemperature        6.7   \n",
       "3               Feet            NaN                     pH        7.3   \n",
       "4               Feet            NaN        DissolvedOxygen        9.7   \n",
       "\n",
       "  fdr_text_result  fdr_date_result fdr_reporting_limit  uns_name  \\\n",
       "0             NaN              NaN                 0.2      mg/L   \n",
       "1             NaN              NaN                 1.0     uS/cm   \n",
       "2             NaN              NaN                 0.1        °C   \n",
       "3             NaN              NaN                 0.1  pH Units   \n",
       "4             NaN              NaN                 0.2      mg/L   \n",
       "\n",
       "                    mth_name fdr_footnote  \n",
       "0          EPA 360.2 (Field)          NaN  \n",
       "1  Std Method 2510-B (Field)          NaN  \n",
       "2          EPA 170.1 (Field)          NaN  \n",
       "3          EPA 150.1 (Field)          NaN  \n",
       "4          EPA 360.2 (Field)          NaN  \n",
       "\n",
       "[5 rows x 22 columns]"
      ]
     },
     "execution_count": 20,
     "metadata": {},
     "output_type": "execute_result"
    }
   ],
   "source": [
    "fr.info()\n",
    "fr.head()"
   ]
  },
  {
   "cell_type": "code",
   "execution_count": 21,
   "id": "f5f6e6b8",
   "metadata": {
    "tags": []
   },
   "outputs": [
    {
     "data": {
      "image/png": "[encoded data removed]",
      "text/plain": [
       "<Figure size 864x432 with 1 Axes>"
      ]
     },
     "metadata": {
      "needs_background": "light"
     },
     "output_type": "display_data"
    }
   ],
   "source": [
    "#get the count of each parameter in fr\n",
    "parameter_counts_fr = fr['parameter'].value_counts()\n",
    "\n",
    "#generate df for plot\n",
    "parameter_counts_fr_df = parameter_counts_fr.reset_index()\n",
    "parameter_counts_fr_df.columns = ['parameter', 'count']\n",
    "\n",
    "#select top parameters, can change x\n",
    "x = 20\n",
    "top_x_parameters_fr = parameter_counts_fr_df.head(20)\n",
    "\n",
    "#create barplot visualizing the top parameters\n",
    "plt.figure(figsize=(12, 6))\n",
    "sns.barplot(x='parameter', y='count', data=top_x_parameters_fr, palette='viridis')\n",
    "plt.xlabel('Parameter')\n",
    "plt.ylabel('Count')\n",
    "plt.title('Top X Parameters by Count - FIELD RESULTS')\n",
    "plt.xticks(rotation=90)\n",
    "plt.show()\n"
   ]
  },
  {
   "cell_type": "code",
   "execution_count": null,
   "id": "07cc6cd8-71e4-41ca-9cfa-ad50f5535b25",
   "metadata": {},
   "outputs": [],
   "source": []
  }
 ],
 "metadata": {
  "availableInstances": [
   {
    "_defaultOrder": 0,
    "_isFastLaunch": true,
    "category": "General purpose",
    "gpuNum": 0,
    "hideHardwareSpecs": false,
    "memoryGiB": 4,
    "name": "ml.t3.medium",
    "vcpuNum": 2
   },
   {
    "_defaultOrder": 1,
    "_isFastLaunch": false,
    "category": "General purpose",
    "gpuNum": 0,
    "hideHardwareSpecs": false,
    "memoryGiB": 8,
    "name": "ml.t3.large",
    "vcpuNum": 2
   },
   {
    "_defaultOrder": 2,
    "_isFastLaunch": false,
    "category": "General purpose",
    "gpuNum": 0,
    "hideHardwareSpecs": false,
    "memoryGiB": 16,
    "name": "ml.t3.xlarge",
    "vcpuNum": 4
   },
   {
    "_defaultOrder": 3,
    "_isFastLaunch": false,
    "category": "General purpose",
    "gpuNum": 0,
    "hideHardwareSpecs": false,
    "memoryGiB": 32,
    "name": "ml.t3.2xlarge",
    "vcpuNum": 8
   },
   {
    "_defaultOrder": 4,
    "_isFastLaunch": true,
    "category": "General purpose",
    "gpuNum": 0,
    "hideHardwareSpecs": false,
    "memoryGiB": 8,
    "name": "ml.m5.large",
    "vcpuNum": 2
   },
   {
    "_defaultOrder": 5,
    "_isFastLaunch": false,
    "category": "General purpose",
    "gpuNum": 0,
    "hideHardwareSpecs": false,
    "memoryGiB": 16,
    "name": "ml.m5.xlarge",
    "vcpuNum": 4
   },
   {
    "_defaultOrder": 6,
    "_isFastLaunch": false,
    "category": "General purpose",
    "gpuNum": 0,
    "hideHardwareSpecs": false,
    "memoryGiB": 32,
    "name": "ml.m5.2xlarge",
    "vcpuNum": 8
   },
   {
    "_defaultOrder": 7,
    "_isFastLaunch": false,
    "category": "General purpose",
    "gpuNum": 0,
    "hideHardwareSpecs": false,
    "memoryGiB": 64,
    "name": "ml.m5.4xlarge",
    "vcpuNum": 16
   },
   {
    "_defaultOrder": 8,
    "_isFastLaunch": false,
    "category": "General purpose",
    "gpuNum": 0,
    "hideHardwareSpecs": false,
    "memoryGiB": 128,
    "name": "ml.m5.8xlarge",
    "vcpuNum": 32
   },
   {
    "_defaultOrder": 9,
    "_isFastLaunch": false,
    "category": "General purpose",
    "gpuNum": 0,
    "hideHardwareSpecs": false,
    "memoryGiB": 192,
    "name": "ml.m5.12xlarge",
    "vcpuNum": 48
   },
   {
    "_defaultOrder": 10,
    "_isFastLaunch": false,
    "category": "General purpose",
    "gpuNum": 0,
    "hideHardwareSpecs": false,
    "memoryGiB": 256,
    "name": "ml.m5.16xlarge",
    "vcpuNum": 64
   },
   {
    "_defaultOrder": 11,
    "_isFastLaunch": false,
    "category": "General purpose",
    "gpuNum": 0,
    "hideHardwareSpecs": false,
    "memoryGiB": 384,
    "name": "ml.m5.24xlarge",
    "vcpuNum": 96
   },
   {
    "_defaultOrder": 12,
    "_isFastLaunch": false,
    "category": "General purpose",
    "gpuNum": 0,
    "hideHardwareSpecs": false,
    "memoryGiB": 8,
    "name": "ml.m5d.large",
    "vcpuNum": 2
   },
   {
    "_defaultOrder": 13,
    "_isFastLaunch": false,
    "category": "General purpose",
    "gpuNum": 0,
    "hideHardwareSpecs": false,
    "memoryGiB": 16,
    "name": "ml.m5d.xlarge",
    "vcpuNum": 4
   },
   {
    "_defaultOrder": 14,
    "_isFastLaunch": false,
    "category": "General purpose",
    "gpuNum": 0,
    "hideHardwareSpecs": false,
    "memoryGiB": 32,
    "name": "ml.m5d.2xlarge",
    "vcpuNum": 8
   },
   {
    "_defaultOrder": 15,
    "_isFastLaunch": false,
    "category": "General purpose",
    "gpuNum": 0,
    "hideHardwareSpecs": false,
    "memoryGiB": 64,
    "name": "ml.m5d.4xlarge",
    "vcpuNum": 16
   },
   {
    "_defaultOrder": 16,
    "_isFastLaunch": false,
    "category": "General purpose",
    "gpuNum": 0,
    "hideHardwareSpecs": false,
    "memoryGiB": 128,
    "name": "ml.m5d.8xlarge",
    "vcpuNum": 32
   },
   {
    "_defaultOrder": 17,
    "_isFastLaunch": false,
    "category": "General purpose",
    "gpuNum": 0,
    "hideHardwareSpecs": false,
    "memoryGiB": 192,
    "name": "ml.m5d.12xlarge",
    "vcpuNum": 48
   },
   {
    "_defaultOrder": 18,
    "_isFastLaunch": false,
    "category": "General purpose",
    "gpuNum": 0,
    "hideHardwareSpecs": false,
    "memoryGiB": 256,
    "name": "ml.m5d.16xlarge",
    "vcpuNum": 64
   },
   {
    "_defaultOrder": 19,
    "_isFastLaunch": false,
    "category": "General purpose",
    "gpuNum": 0,
    "hideHardwareSpecs": false,
    "memoryGiB": 384,
    "name": "ml.m5d.24xlarge",
    "vcpuNum": 96
   },
   {
    "_defaultOrder": 20,
    "_isFastLaunch": false,
    "category": "General purpose",
    "gpuNum": 0,
    "hideHardwareSpecs": true,
    "memoryGiB": 0,
    "name": "ml.geospatial.interactive",
    "supportedImageNames": [
     "sagemaker-geospatial-v1-0"
    ],
    "vcpuNum": 0
   },
   {
    "_defaultOrder": 21,
    "_isFastLaunch": true,
    "category": "Compute optimized",
    "gpuNum": 0,
    "hideHardwareSpecs": false,
    "memoryGiB": 4,
    "name": "ml.c5.large",
    "vcpuNum": 2
   },
   {
    "_defaultOrder": 22,
    "_isFastLaunch": false,
    "category": "Compute optimized",
    "gpuNum": 0,
    "hideHardwareSpecs": false,
    "memoryGiB": 8,
    "name": "ml.c5.xlarge",
    "vcpuNum": 4
   },
   {
    "_defaultOrder": 23,
    "_isFastLaunch": false,
    "category": "Compute optimized",
    "gpuNum": 0,
    "hideHardwareSpecs": false,
    "memoryGiB": 16,
    "name": "ml.c5.2xlarge",
    "vcpuNum": 8
   },
   {
    "_defaultOrder": 24,
    "_isFastLaunch": false,
    "category": "Compute optimized",
    "gpuNum": 0,
    "hideHardwareSpecs": false,
    "memoryGiB": 32,
    "name": "ml.c5.4xlarge",
    "vcpuNum": 16
   },
   {
    "_defaultOrder": 25,
    "_isFastLaunch": false,
    "category": "Compute optimized",
    "gpuNum": 0,
    "hideHardwareSpecs": false,
    "memoryGiB": 72,
    "name": "ml.c5.9xlarge",
    "vcpuNum": 36
   },
   {
    "_defaultOrder": 26,
    "_isFastLaunch": false,
    "category": "Compute optimized",
    "gpuNum": 0,
    "hideHardwareSpecs": false,
    "memoryGiB": 96,
    "name": "ml.c5.12xlarge",
    "vcpuNum": 48
   },
   {
    "_defaultOrder": 27,
    "_isFastLaunch": false,
    "category": "Compute optimized",
    "gpuNum": 0,
    "hideHardwareSpecs": false,
    "memoryGiB": 144,
    "name": "ml.c5.18xlarge",
    "vcpuNum": 72
   },
   {
    "_defaultOrder": 28,
    "_isFastLaunch": false,
    "category": "Compute optimized",
    "gpuNum": 0,
    "hideHardwareSpecs": false,
    "memoryGiB": 192,
    "name": "ml.c5.24xlarge",
    "vcpuNum": 96
   },
   {
    "_defaultOrder": 29,
    "_isFastLaunch": true,
    "category": "Accelerated computing",
    "gpuNum": 1,
    "hideHardwareSpecs": false,
    "memoryGiB": 16,
    "name": "ml.g4dn.xlarge",
    "vcpuNum": 4
   },
   {
    "_defaultOrder": 30,
    "_isFastLaunch": false,
    "category": "Accelerated computing",
    "gpuNum": 1,
    "hideHardwareSpecs": false,
    "memoryGiB": 32,
    "name": "ml.g4dn.2xlarge",
    "vcpuNum": 8
   },
   {
    "_defaultOrder": 31,
    "_isFastLaunch": false,
    "category": "Accelerated computing",
    "gpuNum": 1,
    "hideHardwareSpecs": false,
    "memoryGiB": 64,
    "name": "ml.g4dn.4xlarge",
    "vcpuNum": 16
   },
   {
    "_defaultOrder": 32,
    "_isFastLaunch": false,
    "category": "Accelerated computing",
    "gpuNum": 1,
    "hideHardwareSpecs": false,
    "memoryGiB": 128,
    "name": "ml.g4dn.8xlarge",
    "vcpuNum": 32
   },
   {
    "_defaultOrder": 33,
    "_isFastLaunch": false,
    "category": "Accelerated computing",
    "gpuNum": 4,
    "hideHardwareSpecs": false,
    "memoryGiB": 192,
    "name": "ml.g4dn.12xlarge",
    "vcpuNum": 48
   },
   {
    "_defaultOrder": 34,
    "_isFastLaunch": false,
    "category": "Accelerated computing",
    "gpuNum": 1,
    "hideHardwareSpecs": false,
    "memoryGiB": 256,
    "name": "ml.g4dn.16xlarge",
    "vcpuNum": 64
   },
   {
    "_defaultOrder": 35,
    "_isFastLaunch": false,
    "category": "Accelerated computing",
    "gpuNum": 1,
    "hideHardwareSpecs": false,
    "memoryGiB": 61,
    "name": "ml.p3.2xlarge",
    "vcpuNum": 8
   },
   {
    "_defaultOrder": 36,
    "_isFastLaunch": false,
    "category": "Accelerated computing",
    "gpuNum": 4,
    "hideHardwareSpecs": false,
    "memoryGiB": 244,
    "name": "ml.p3.8xlarge",
    "vcpuNum": 32
   },
   {
    "_defaultOrder": 37,
    "_isFastLaunch": false,
    "category": "Accelerated computing",
    "gpuNum": 8,
    "hideHardwareSpecs": false,
    "memoryGiB": 488,
    "name": "ml.p3.16xlarge",
    "vcpuNum": 64
   },
   {
    "_defaultOrder": 38,
    "_isFastLaunch": false,
    "category": "Accelerated computing",
    "gpuNum": 8,
    "hideHardwareSpecs": false,
    "memoryGiB": 768,
    "name": "ml.p3dn.24xlarge",
    "vcpuNum": 96
   },
   {
    "_defaultOrder": 39,
    "_isFastLaunch": false,
    "category": "Memory Optimized",
    "gpuNum": 0,
    "hideHardwareSpecs": false,
    "memoryGiB": 16,
    "name": "ml.r5.large",
    "vcpuNum": 2
   },
   {
    "_defaultOrder": 40,
    "_isFastLaunch": false,
    "category": "Memory Optimized",
    "gpuNum": 0,
    "hideHardwareSpecs": false,
    "memoryGiB": 32,
    "name": "ml.r5.xlarge",
    "vcpuNum": 4
   },
   {
    "_defaultOrder": 41,
    "_isFastLaunch": false,
    "category": "Memory Optimized",
    "gpuNum": 0,
    "hideHardwareSpecs": false,
    "memoryGiB": 64,
    "name": "ml.r5.2xlarge",
    "vcpuNum": 8
   },
   {
    "_defaultOrder": 42,
    "_isFastLaunch": false,
    "category": "Memory Optimized",
    "gpuNum": 0,
    "hideHardwareSpecs": false,
    "memoryGiB": 128,
    "name": "ml.r5.4xlarge",
    "vcpuNum": 16
   },
   {
    "_defaultOrder": 43,
    "_isFastLaunch": false,
    "category": "Memory Optimized",
    "gpuNum": 0,
    "hideHardwareSpecs": false,
    "memoryGiB": 256,
    "name": "ml.r5.8xlarge",
    "vcpuNum": 32
   },
   {
    "_defaultOrder": 44,
    "_isFastLaunch": false,
    "category": "Memory Optimized",
    "gpuNum": 0,
    "hideHardwareSpecs": false,
    "memoryGiB": 384,
    "name": "ml.r5.12xlarge",
    "vcpuNum": 48
   },
   {
    "_defaultOrder": 45,
    "_isFastLaunch": false,
    "category": "Memory Optimized",
    "gpuNum": 0,
    "hideHardwareSpecs": false,
    "memoryGiB": 512,
    "name": "ml.r5.16xlarge",
    "vcpuNum": 64
   },
   {
    "_defaultOrder": 46,
    "_isFastLaunch": false,
    "category": "Memory Optimized",
    "gpuNum": 0,
    "hideHardwareSpecs": false,
    "memoryGiB": 768,
    "name": "ml.r5.24xlarge",
    "vcpuNum": 96
   },
   {
    "_defaultOrder": 47,
    "_isFastLaunch": false,
    "category": "Accelerated computing",
    "gpuNum": 1,
    "hideHardwareSpecs": false,
    "memoryGiB": 16,
    "name": "ml.g5.xlarge",
    "vcpuNum": 4
   },
   {
    "_defaultOrder": 48,
    "_isFastLaunch": false,
    "category": "Accelerated computing",
    "gpuNum": 1,
    "hideHardwareSpecs": false,
    "memoryGiB": 32,
    "name": "ml.g5.2xlarge",
    "vcpuNum": 8
   },
   {
    "_defaultOrder": 49,
    "_isFastLaunch": false,
    "category": "Accelerated computing",
    "gpuNum": 1,
    "hideHardwareSpecs": false,
    "memoryGiB": 64,
    "name": "ml.g5.4xlarge",
    "vcpuNum": 16
   },
   {
    "_defaultOrder": 50,
    "_isFastLaunch": false,
    "category": "Accelerated computing",
    "gpuNum": 1,
    "hideHardwareSpecs": false,
    "memoryGiB": 128,
    "name": "ml.g5.8xlarge",
    "vcpuNum": 32
   },
   {
    "_defaultOrder": 51,
    "_isFastLaunch": false,
    "category": "Accelerated computing",
    "gpuNum": 1,
    "hideHardwareSpecs": false,
    "memoryGiB": 256,
    "name": "ml.g5.16xlarge",
    "vcpuNum": 64
   },
   {
    "_defaultOrder": 52,
    "_isFastLaunch": false,
    "category": "Accelerated computing",
    "gpuNum": 4,
    "hideHardwareSpecs": false,
    "memoryGiB": 192,
    "name": "ml.g5.12xlarge",
    "vcpuNum": 48
   },
   {
    "_defaultOrder": 53,
    "_isFastLaunch": false,
    "category": "Accelerated computing",
    "gpuNum": 4,
    "hideHardwareSpecs": false,
    "memoryGiB": 384,
    "name": "ml.g5.24xlarge",
    "vcpuNum": 96
   },
   {
    "_defaultOrder": 54,
    "_isFastLaunch": false,
    "category": "Accelerated computing",
    "gpuNum": 8,
    "hideHardwareSpecs": false,
    "memoryGiB": 768,
    "name": "ml.g5.48xlarge",
    "vcpuNum": 192
   },
   {
    "_defaultOrder": 55,
    "_isFastLaunch": false,
    "category": "Accelerated computing",
    "gpuNum": 8,
    "hideHardwareSpecs": false,
    "memoryGiB": 1152,
    "name": "ml.p4d.24xlarge",
    "vcpuNum": 96
   },
   {
    "_defaultOrder": 56,
    "_isFastLaunch": false,
    "category": "Accelerated computing",
    "gpuNum": 8,
    "hideHardwareSpecs": false,
    "memoryGiB": 1152,
    "name": "ml.p4de.24xlarge",
    "vcpuNum": 96
   },
   {
    "_defaultOrder": 57,
    "_isFastLaunch": false,
    "category": "Accelerated computing",
    "gpuNum": 0,
    "hideHardwareSpecs": false,
    "memoryGiB": 32,
    "name": "ml.trn1.2xlarge",
    "vcpuNum": 8
   },
   {
    "_defaultOrder": 58,
    "_isFastLaunch": false,
    "category": "Accelerated computing",
    "gpuNum": 0,
    "hideHardwareSpecs": false,
    "memoryGiB": 512,
    "name": "ml.trn1.32xlarge",
    "vcpuNum": 128
   },
   {
    "_defaultOrder": 59,
    "_isFastLaunch": false,
    "category": "Accelerated computing",
    "gpuNum": 0,
    "hideHardwareSpecs": false,
    "memoryGiB": 512,
    "name": "ml.trn1n.32xlarge",
    "vcpuNum": 128
   }
  ],
  "instance_type": "ml.t3.medium",
  "kernelspec": {
   "display_name": "Python 3 (Data Science 2.0)",
   "language": "python",
   "name": "python3__SAGEMAKER_INTERNAL__arn:aws:sagemaker:us-east-1:081325390199:image/sagemaker-data-science-38"
  },
  "language_info": {
   "codemirror_mode": {
    "name": "ipython",
    "version": 3
   },
   "file_extension": ".py",
   "mimetype": "text/x-python",
   "name": "python",
   "nbconvert_exporter": "python",
   "pygments_lexer": "ipython3",
   "version": "3.8.13"
  }
 },
 "nbformat": 4,
 "nbformat_minor": 5
}

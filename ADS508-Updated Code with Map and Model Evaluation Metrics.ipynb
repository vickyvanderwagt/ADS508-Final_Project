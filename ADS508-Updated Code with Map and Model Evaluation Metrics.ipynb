{
 "cells": [
  {
   "cell_type": "markdown",
   "id": "de42a83b",
   "metadata": {},
   "source": [
    "# **Group 4 ADS508 Final Project**\n",
    "\n",
    "Monitoring Water Quality | Released by Tech-AAB\n",
    "\n",
    "Team: Parisa Kamizi, Landon Padgett, Vicky van der Wagt"
   ]
  },
  {
   "cell_type": "markdown",
   "id": "6b9436f4",
   "metadata": {},
   "source": [
    "-----------------------------------------------------------------------"
   ]
  },
  {
   "cell_type": "markdown",
   "id": "d84d09fc",
   "metadata": {},
   "source": [
    "# Import required libraries"
   ]
  },
  {
   "cell_type": "code",
   "execution_count": 2,
   "id": "7f7de637",
   "metadata": {
    "tags": []
   },
   "outputs": [
    {
     "name": "stdout",
     "output_type": "stream",
     "text": [
      "sagemaker.config INFO - Not applying SDK defaults from location: /etc/xdg/sagemaker/config.yaml\n",
      "sagemaker.config INFO - Not applying SDK defaults from location: /root/.config/sagemaker/config.yaml\n",
      "\u001b[33mDEPRECATION: pyodbc 4.0.0-unsupported has a non-standard version number. pip 24.0 will enforce this behaviour change. A possible replacement is to upgrade to a newer version of pyodbc or contact the author to suggest that they release a version with a conforming version number. Discussion can be found at https://github.com/pypa/pip/issues/12063\u001b[0m\u001b[33m\n",
      "\u001b[0m\u001b[33mWARNING: Running pip as the 'root' user can result in broken permissions and conflicting behaviour with the system package manager. It is recommended to use a virtual environment instead: https://pip.pypa.io/warnings/venv\u001b[0m\u001b[33m\n",
      "\u001b[0msagemaker.config INFO - Not applying SDK defaults from location: /etc/xdg/sagemaker/config.yaml\n",
      "sagemaker.config INFO - Not applying SDK defaults from location: /root/.config/sagemaker/config.yaml\n",
      "sagemaker.config INFO - Not applying SDK defaults from location: /etc/xdg/sagemaker/config.yaml\n",
      "sagemaker.config INFO - Not applying SDK defaults from location: /root/.config/sagemaker/config.yaml\n"
     ]
    }
   ],
   "source": [
    "import pandas as pd\n",
    "from tabulate import tabulate\n",
    "import seaborn as sns\n",
    "import matplotlib.pyplot as plt\n",
    "import boto3\n",
    "import sagemaker\n",
    "import warnings\n",
    "from sklearn.preprocessing import LabelEncoder\n",
    "from io import StringIO\n",
    "!pip install --disable-pip-version-check -q PyAthena==2.1.0\n",
    "import numpy as np\n",
    "from pyathena import connect\n",
    "from sklearn.model_selection import train_test_split\n",
    "from sklearn.linear_model import LogisticRegression\n",
    "from sklearn.metrics import accuracy_score\n",
    "from io import StringIO\n",
    "from sklearn.impute import SimpleImputer\n",
    "from sklearn.pipeline import Pipeline\n",
    "from sklearn.compose import ColumnTransformer\n",
    "from sklearn.metrics import mean_squared_error, mean_absolute_error, recall_score, precision_score, confusion_matrix\n",
    "from sklearn.ensemble import RandomForestClassifier, GradientBoostingClassifier\n",
    "from sklearn.neighbors import KNeighborsClassifier\n",
    "from sklearn.cluster import DBSCAN\n",
    "from sklearn.metrics import silhouette_score, davies_bouldin_score\n",
    "import geopandas as gpd\n",
    "from shapely.geometry import Point\n",
    "import folium\n",
    "\n",
    "\n",
    "warnings.filterwarnings(\"ignore\")\n",
    "\n",
    "sess = sagemaker.Session()\n",
    "bucket = sess.default_bucket()\n",
    "role = sagemaker.get_execution_role()\n",
    "region = boto3.Session().region_name"
   ]
  },
  {
   "cell_type": "markdown",
   "id": "a417826d-d8aa-4cb8-9863-9e33c60be47e",
   "metadata": {},
   "source": [
    "# Extract Data"
   ]
  },
  {
   "cell_type": "markdown",
   "id": "4340b091-6a38-44a2-b98f-3e32e85189f4",
   "metadata": {},
   "source": [
    "**Download data from s3 into the \"data\" folder\"**\n",
    "\n",
    "*Commented out because it only needs to be done once*"
   ]
  },
  {
   "cell_type": "code",
   "execution_count": 3,
   "id": "f8c34a97-1b0a-4a1c-99be-9b38296982bd",
   "metadata": {
    "tags": []
   },
   "outputs": [],
   "source": [
    "#!aws s3 cp 's3://ads508group4finalproject/stations.csv' ./data/\n",
    "#!aws s3 cp 's3://ads508group4finalproject/field_results.csv' ./data/\n",
    "#!aws s3 cp 's3://ads508group4finalproject/lab_results.csv' ./data/\n",
    "#!aws s3 cp 's3://ads508group4finalproject/period_of_record.csv' ./data/"
   ]
  },
  {
   "cell_type": "code",
   "execution_count": 4,
   "id": "bfa07f9e-a766-4ee2-964a-ec3c3ee24917",
   "metadata": {
    "tags": []
   },
   "outputs": [],
   "source": [
    "st = pd.read_csv(\"./data/stations.csv\")\n",
    "fr = pd.read_csv(\"./data/field_results.csv\")\n",
    "lr = pd.read_csv(\"./data/lab_results.csv\")\n",
    "por = pd.read_csv(\"./data/period_of_record.csv\")"
   ]
  },
  {
   "cell_type": "markdown",
   "id": "bd1cf06d",
   "metadata": {},
   "source": [
    "# Initial Data Exploration"
   ]
  },
  {
   "cell_type": "markdown",
   "id": "5ee81cb2",
   "metadata": {},
   "source": [
    "**Compare df # of rows and columns**"
   ]
  },
  {
   "cell_type": "code",
   "execution_count": 5,
   "id": "b83e7d8b",
   "metadata": {
    "tags": []
   },
   "outputs": [
    {
     "name": "stdout",
     "output_type": "stream",
     "text": [
      "╒════╤══════╤══════════════════╤═════════════╤════════════════╕\n",
      "│    │ df   │ df longname      │   # of Rows │   # of Columns │\n",
      "╞════╪══════╪══════════════════╪═════════════╪════════════════╡\n",
      "│  0 │ st   │ Stations         │       44475 │             11 │\n",
      "├────┼──────┼──────────────────┼─────────────┼────────────────┤\n",
      "│  1 │ por  │ Period of Record │      733915 │             12 │\n",
      "├────┼──────┼──────────────────┼─────────────┼────────────────┤\n",
      "│  2 │ fr   │ Field Results    │     1199457 │             22 │\n",
      "├────┼──────┼──────────────────┼─────────────┼────────────────┤\n",
      "│  3 │ lr   │ Lab Results      │     4610840 │             18 │\n",
      "╘════╧══════╧══════════════════╧═════════════╧════════════════╛\n"
     ]
    }
   ],
   "source": [
    "#generate dictionary\n",
    "df_data = {\n",
    "    'df': ['st', 'por', 'fr', 'lr'],\n",
    "    'df longname': ['Stations', 'Period of Record', 'Field Results', 'Lab Results'],\n",
    "    '# of Rows': [st.shape[0], por.shape[0], fr.shape[0], lr.shape[0]],\n",
    "    '# of Columns': [st.shape[1], por.shape[1], fr.shape[1], lr.shape[1]]\n",
    "}\n",
    "\n",
    "#convert dictionary into dataframe\n",
    "df_info = pd.DataFrame(df_data)\n",
    "\n",
    "#print dataframe\n",
    "print(tabulate(df_info, headers='keys', tablefmt='fancy_grid'))\n"
   ]
  },
  {
   "cell_type": "markdown",
   "id": "c5dbe068",
   "metadata": {},
   "source": [
    "## **Explore Stations**"
   ]
  },
  {
   "cell_type": "code",
   "execution_count": 6,
   "id": "ebcb050b",
   "metadata": {
    "tags": []
   },
   "outputs": [
    {
     "name": "stdout",
     "output_type": "stream",
     "text": [
      "<class 'pandas.core.frame.DataFrame'>\n",
      "RangeIndex: 44475 entries, 0 to 44474\n",
      "Data columns (total 11 columns):\n",
      " #   Column             Non-Null Count  Dtype  \n",
      "---  ------             --------------  -----  \n",
      " 0   station_id         44475 non-null  int64  \n",
      " 1   station_name       44475 non-null  object \n",
      " 2   full_station_name  44475 non-null  object \n",
      " 3   station_number     44475 non-null  object \n",
      " 4   station_type       44475 non-null  object \n",
      " 5   latitude           44197 non-null  float64\n",
      " 6   longitude          44197 non-null  float64\n",
      " 7   county_name        44475 non-null  object \n",
      " 8   sample_count       44475 non-null  int64  \n",
      " 9   sample_date_min    44475 non-null  object \n",
      " 10  sample_date_max    44475 non-null  object \n",
      "dtypes: float64(2), int64(2), object(7)\n",
      "memory usage: 3.7+ MB\n"
     ]
    },
    {
     "data": {
      "text/html": [
       "<div>\n",
       "<style scoped>\n",
       "    .dataframe tbody tr th:only-of-type {\n",
       "        vertical-align: middle;\n",
       "    }\n",
       "\n",
       "    .dataframe tbody tr th {\n",
       "        vertical-align: top;\n",
       "    }\n",
       "\n",
       "    .dataframe thead th {\n",
       "        text-align: right;\n",
       "    }\n",
       "</style>\n",
       "<table border=\"1\" class=\"dataframe\">\n",
       "  <thead>\n",
       "    <tr style=\"text-align: right;\">\n",
       "      <th></th>\n",
       "      <th>station_id</th>\n",
       "      <th>station_name</th>\n",
       "      <th>full_station_name</th>\n",
       "      <th>station_number</th>\n",
       "      <th>station_type</th>\n",
       "      <th>latitude</th>\n",
       "      <th>longitude</th>\n",
       "      <th>county_name</th>\n",
       "      <th>sample_count</th>\n",
       "      <th>sample_date_min</th>\n",
       "      <th>sample_date_max</th>\n",
       "    </tr>\n",
       "  </thead>\n",
       "  <tbody>\n",
       "    <tr>\n",
       "      <th>0</th>\n",
       "      <td>47023</td>\n",
       "      <td>Frank Sieferman</td>\n",
       "      <td>Frank Sieferman New Well</td>\n",
       "      <td>01N01E01A001M</td>\n",
       "      <td>Groundwater</td>\n",
       "      <td>33.0000</td>\n",
       "      <td>-121.0000</td>\n",
       "      <td>Yolo</td>\n",
       "      <td>1</td>\n",
       "      <td>06/23/2008 15:00</td>\n",
       "      <td>06/23/2008 15:00</td>\n",
       "    </tr>\n",
       "    <tr>\n",
       "      <th>1</th>\n",
       "      <td>6134</td>\n",
       "      <td>01N01E33K001M</td>\n",
       "      <td>01N01E33K001M</td>\n",
       "      <td>01N01E33K001M</td>\n",
       "      <td>Groundwater</td>\n",
       "      <td>37.8868</td>\n",
       "      <td>-121.8682</td>\n",
       "      <td>Contra Costa</td>\n",
       "      <td>1</td>\n",
       "      <td>05/20/1981 13:45</td>\n",
       "      <td>05/20/1981 13:45</td>\n",
       "    </tr>\n",
       "    <tr>\n",
       "      <th>2</th>\n",
       "      <td>6135</td>\n",
       "      <td>01N01W03N001M</td>\n",
       "      <td>01N01W03N001M</td>\n",
       "      <td>01N01W03N001M</td>\n",
       "      <td>Groundwater</td>\n",
       "      <td>37.9583</td>\n",
       "      <td>-121.9669</td>\n",
       "      <td>Contra Costa</td>\n",
       "      <td>9</td>\n",
       "      <td>07/23/1974 15:15</td>\n",
       "      <td>08/16/1990 12:15</td>\n",
       "    </tr>\n",
       "    <tr>\n",
       "      <th>3</th>\n",
       "      <td>6136</td>\n",
       "      <td>01N01W04A001M</td>\n",
       "      <td>01N01W04A001M</td>\n",
       "      <td>01N01W04A001M</td>\n",
       "      <td>Groundwater</td>\n",
       "      <td>37.9663</td>\n",
       "      <td>-121.9734</td>\n",
       "      <td>Contra Costa</td>\n",
       "      <td>9</td>\n",
       "      <td>08/04/1972 15:00</td>\n",
       "      <td>09/15/1989 08:00</td>\n",
       "    </tr>\n",
       "    <tr>\n",
       "      <th>4</th>\n",
       "      <td>6137</td>\n",
       "      <td>01N01W07K001M</td>\n",
       "      <td>01N01W07K001M</td>\n",
       "      <td>01N01W07K001M</td>\n",
       "      <td>Groundwater</td>\n",
       "      <td>37.9460</td>\n",
       "      <td>-122.0155</td>\n",
       "      <td>Contra Costa</td>\n",
       "      <td>9</td>\n",
       "      <td>08/03/1973 09:30</td>\n",
       "      <td>09/15/1989 09:15</td>\n",
       "    </tr>\n",
       "  </tbody>\n",
       "</table>\n",
       "</div>"
      ],
      "text/plain": [
       "   station_id     station_name         full_station_name station_number  \\\n",
       "0       47023  Frank Sieferman  Frank Sieferman New Well  01N01E01A001M   \n",
       "1        6134    01N01E33K001M             01N01E33K001M  01N01E33K001M   \n",
       "2        6135    01N01W03N001M             01N01W03N001M  01N01W03N001M   \n",
       "3        6136    01N01W04A001M             01N01W04A001M  01N01W04A001M   \n",
       "4        6137    01N01W07K001M             01N01W07K001M  01N01W07K001M   \n",
       "\n",
       "  station_type  latitude  longitude   county_name  sample_count  \\\n",
       "0  Groundwater   33.0000  -121.0000          Yolo             1   \n",
       "1  Groundwater   37.8868  -121.8682  Contra Costa             1   \n",
       "2  Groundwater   37.9583  -121.9669  Contra Costa             9   \n",
       "3  Groundwater   37.9663  -121.9734  Contra Costa             9   \n",
       "4  Groundwater   37.9460  -122.0155  Contra Costa             9   \n",
       "\n",
       "    sample_date_min   sample_date_max  \n",
       "0  06/23/2008 15:00  06/23/2008 15:00  \n",
       "1  05/20/1981 13:45  05/20/1981 13:45  \n",
       "2  07/23/1974 15:15  08/16/1990 12:15  \n",
       "3  08/04/1972 15:00  09/15/1989 08:00  \n",
       "4  08/03/1973 09:30  09/15/1989 09:15  "
      ]
     },
     "execution_count": 6,
     "metadata": {},
     "output_type": "execute_result"
    }
   ],
   "source": [
    "st.info()\n",
    "st.head()"
   ]
  },
  {
   "cell_type": "markdown",
   "id": "4c4b52e2",
   "metadata": {},
   "source": [
    "**See number of stations per county**"
   ]
  },
  {
   "cell_type": "code",
   "execution_count": 7,
   "id": "d442cbc4",
   "metadata": {
    "tags": []
   },
   "outputs": [
    {
     "data": {
      "image/png": "[encoded data removed]",
      "text/plain": [
       "<Figure size 864x864 with 1 Axes>"
      ]
     },
     "metadata": {
      "needs_background": "light"
     },
     "output_type": "display_data"
    }
   ],
   "source": [
    "county_station_counts = st['county_name'].value_counts().reset_index()\n",
    "county_station_counts.columns = ['county_name', 'station_count']\n",
    "\n",
    "plt.figure(figsize=(12, 12))\n",
    "sns.barplot(x='station_count', y='county_name', data=county_station_counts)\n",
    "plt.xlabel('Number of Stations')\n",
    "plt.ylabel('County Name')\n",
    "plt.title('Number of Stations per County')\n",
    "plt.show()\n"
   ]
  },
  {
   "cell_type": "code",
   "execution_count": 8,
   "id": "8231c551",
   "metadata": {
    "tags": []
   },
   "outputs": [
    {
     "name": "stdout",
     "output_type": "stream",
     "text": [
      "number of San Diego stations: 1948\n"
     ]
    }
   ],
   "source": [
    "san_diego_stations_count = st[st['county_name'] == 'San Diego'].shape[0]\n",
    "print(\"number of San Diego stations:\", san_diego_stations_count)"
   ]
  },
  {
   "cell_type": "markdown",
   "id": "e00dde39",
   "metadata": {},
   "source": [
    "We have the option to filter for San Diego stations during data processing. This will leave us with 1948 stations remaining."
   ]
  },
  {
   "cell_type": "markdown",
   "id": "7a4c18c2",
   "metadata": {},
   "source": [
    "**See Distribution of Station Types**"
   ]
  },
  {
   "cell_type": "code",
   "execution_count": 9,
   "id": "e0acb475",
   "metadata": {
    "tags": []
   },
   "outputs": [
    {
     "data": {
      "image/png": "[encoded data removed]",
      "text/plain": [
       "<Figure size 864x432 with 1 Axes>"
      ]
     },
     "metadata": {
      "needs_background": "light"
     },
     "output_type": "display_data"
    }
   ],
   "source": [
    "#get count of station types\n",
    "station_type_counts = st['station_type'].value_counts()\n",
    "\n",
    "#generate plot\n",
    "plt.figure(figsize=(12, 6))\n",
    "sns.barplot(x=station_type_counts.index, y=station_type_counts.values)\n",
    "plt.xlabel('Station Type')\n",
    "plt.ylabel('Count')\n",
    "plt.title('Counts of Station Type')\n",
    "plt.tight_layout()\n",
    "plt.show()\n"
   ]
  },
  {
   "cell_type": "markdown",
   "id": "dab2e1b9",
   "metadata": {},
   "source": [
    "## Explore Period of Record"
   ]
  },
  {
   "cell_type": "code",
   "execution_count": 10,
   "id": "6f4784d0",
   "metadata": {
    "tags": []
   },
   "outputs": [
    {
     "name": "stdout",
     "output_type": "stream",
     "text": [
      "<class 'pandas.core.frame.DataFrame'>\n",
      "RangeIndex: 733915 entries, 0 to 733914\n",
      "Data columns (total 12 columns):\n",
      " #   Column             Non-Null Count   Dtype  \n",
      "---  ------             --------------   -----  \n",
      " 0   station_id         733915 non-null  int64  \n",
      " 1   station_name       733915 non-null  object \n",
      " 2   full_station_name  733915 non-null  object \n",
      " 3   station_number     733915 non-null  object \n",
      " 4   station_type       733915 non-null  object \n",
      " 5   latitude           723662 non-null  float64\n",
      " 6   longitude          723662 non-null  float64\n",
      " 7   county_name        733915 non-null  object \n",
      " 8   parameter          733915 non-null  object \n",
      " 9   sample_count       733915 non-null  int64  \n",
      " 10  sample_date_min    733915 non-null  object \n",
      " 11  sample_date_max    733915 non-null  object \n",
      "dtypes: float64(2), int64(2), object(8)\n",
      "memory usage: 67.2+ MB\n"
     ]
    },
    {
     "data": {
      "text/html": [
       "<div>\n",
       "<style scoped>\n",
       "    .dataframe tbody tr th:only-of-type {\n",
       "        vertical-align: middle;\n",
       "    }\n",
       "\n",
       "    .dataframe tbody tr th {\n",
       "        vertical-align: top;\n",
       "    }\n",
       "\n",
       "    .dataframe thead th {\n",
       "        text-align: right;\n",
       "    }\n",
       "</style>\n",
       "<table border=\"1\" class=\"dataframe\">\n",
       "  <thead>\n",
       "    <tr style=\"text-align: right;\">\n",
       "      <th></th>\n",
       "      <th>station_id</th>\n",
       "      <th>station_name</th>\n",
       "      <th>full_station_name</th>\n",
       "      <th>station_number</th>\n",
       "      <th>station_type</th>\n",
       "      <th>latitude</th>\n",
       "      <th>longitude</th>\n",
       "      <th>county_name</th>\n",
       "      <th>parameter</th>\n",
       "      <th>sample_count</th>\n",
       "      <th>sample_date_min</th>\n",
       "      <th>sample_date_max</th>\n",
       "    </tr>\n",
       "  </thead>\n",
       "  <tbody>\n",
       "    <tr>\n",
       "      <th>0</th>\n",
       "      <td>47023</td>\n",
       "      <td>Frank Sieferman</td>\n",
       "      <td>Frank Sieferman New Well</td>\n",
       "      <td>01N01E01A001M</td>\n",
       "      <td>Groundwater</td>\n",
       "      <td>33.0</td>\n",
       "      <td>-121.0</td>\n",
       "      <td>Yolo</td>\n",
       "      <td>Dissolved Aluminum</td>\n",
       "      <td>1</td>\n",
       "      <td>06/23/2008 15:00</td>\n",
       "      <td>06/23/2008 15:00</td>\n",
       "    </tr>\n",
       "    <tr>\n",
       "      <th>1</th>\n",
       "      <td>47023</td>\n",
       "      <td>Frank Sieferman</td>\n",
       "      <td>Frank Sieferman New Well</td>\n",
       "      <td>01N01E01A001M</td>\n",
       "      <td>Groundwater</td>\n",
       "      <td>33.0</td>\n",
       "      <td>-121.0</td>\n",
       "      <td>Yolo</td>\n",
       "      <td>Dissolved Antimony</td>\n",
       "      <td>1</td>\n",
       "      <td>06/23/2008 15:00</td>\n",
       "      <td>06/23/2008 15:00</td>\n",
       "    </tr>\n",
       "    <tr>\n",
       "      <th>2</th>\n",
       "      <td>47023</td>\n",
       "      <td>Frank Sieferman</td>\n",
       "      <td>Frank Sieferman New Well</td>\n",
       "      <td>01N01E01A001M</td>\n",
       "      <td>Groundwater</td>\n",
       "      <td>33.0</td>\n",
       "      <td>-121.0</td>\n",
       "      <td>Yolo</td>\n",
       "      <td>Dissolved Arsenic</td>\n",
       "      <td>1</td>\n",
       "      <td>06/23/2008 15:00</td>\n",
       "      <td>06/23/2008 15:00</td>\n",
       "    </tr>\n",
       "    <tr>\n",
       "      <th>3</th>\n",
       "      <td>47023</td>\n",
       "      <td>Frank Sieferman</td>\n",
       "      <td>Frank Sieferman New Well</td>\n",
       "      <td>01N01E01A001M</td>\n",
       "      <td>Groundwater</td>\n",
       "      <td>33.0</td>\n",
       "      <td>-121.0</td>\n",
       "      <td>Yolo</td>\n",
       "      <td>Dissolved Barium</td>\n",
       "      <td>1</td>\n",
       "      <td>06/23/2008 15:00</td>\n",
       "      <td>06/23/2008 15:00</td>\n",
       "    </tr>\n",
       "    <tr>\n",
       "      <th>4</th>\n",
       "      <td>47023</td>\n",
       "      <td>Frank Sieferman</td>\n",
       "      <td>Frank Sieferman New Well</td>\n",
       "      <td>01N01E01A001M</td>\n",
       "      <td>Groundwater</td>\n",
       "      <td>33.0</td>\n",
       "      <td>-121.0</td>\n",
       "      <td>Yolo</td>\n",
       "      <td>Dissolved Beryllium</td>\n",
       "      <td>1</td>\n",
       "      <td>06/23/2008 15:00</td>\n",
       "      <td>06/23/2008 15:00</td>\n",
       "    </tr>\n",
       "  </tbody>\n",
       "</table>\n",
       "</div>"
      ],
      "text/plain": [
       "   station_id     station_name         full_station_name station_number  \\\n",
       "0       47023  Frank Sieferman  Frank Sieferman New Well  01N01E01A001M   \n",
       "1       47023  Frank Sieferman  Frank Sieferman New Well  01N01E01A001M   \n",
       "2       47023  Frank Sieferman  Frank Sieferman New Well  01N01E01A001M   \n",
       "3       47023  Frank Sieferman  Frank Sieferman New Well  01N01E01A001M   \n",
       "4       47023  Frank Sieferman  Frank Sieferman New Well  01N01E01A001M   \n",
       "\n",
       "  station_type  latitude  longitude county_name            parameter  \\\n",
       "0  Groundwater      33.0     -121.0        Yolo   Dissolved Aluminum   \n",
       "1  Groundwater      33.0     -121.0        Yolo   Dissolved Antimony   \n",
       "2  Groundwater      33.0     -121.0        Yolo    Dissolved Arsenic   \n",
       "3  Groundwater      33.0     -121.0        Yolo     Dissolved Barium   \n",
       "4  Groundwater      33.0     -121.0        Yolo  Dissolved Beryllium   \n",
       "\n",
       "   sample_count   sample_date_min   sample_date_max  \n",
       "0             1  06/23/2008 15:00  06/23/2008 15:00  \n",
       "1             1  06/23/2008 15:00  06/23/2008 15:00  \n",
       "2             1  06/23/2008 15:00  06/23/2008 15:00  \n",
       "3             1  06/23/2008 15:00  06/23/2008 15:00  \n",
       "4             1  06/23/2008 15:00  06/23/2008 15:00  "
      ]
     },
     "execution_count": 10,
     "metadata": {},
     "output_type": "execute_result"
    }
   ],
   "source": [
    "por.info()\n",
    "por.head()"
   ]
  },
  {
   "cell_type": "markdown",
   "id": "2477cd9c",
   "metadata": {},
   "source": [
    "**Examine the Date Range of Water Quality Collection**"
   ]
  },
  {
   "cell_type": "code",
   "execution_count": 11,
   "id": "9d760da5",
   "metadata": {
    "tags": []
   },
   "outputs": [
    {
     "name": "stdout",
     "output_type": "stream",
     "text": [
      "Earliest sample_date_min: 1903-03-23 00:00:00\n",
      "Latest sample_date_max: 2024-01-04 12:59:00\n"
     ]
    }
   ],
   "source": [
    "#first convert dates in por to datetime\n",
    "por['sample_date_min'] = pd.to_datetime(por['sample_date_min'])\n",
    "por['sample_date_max'] = pd.to_datetime(por['sample_date_max'])\n",
    "\n",
    "#identify the minimum and max values\n",
    "min_sample_date_min = por['sample_date_min'].min()\n",
    "max_sample_date_max = por['sample_date_max'].max()\n",
    "\n",
    "#print\n",
    "print(\"Earliest sample_date_min:\", min_sample_date_min)\n",
    "print(\"Latest sample_date_max:\", max_sample_date_max)\n"
   ]
  },
  {
   "cell_type": "markdown",
   "id": "2f8f8d76",
   "metadata": {},
   "source": [
    "## Explore Lab Results"
   ]
  },
  {
   "cell_type": "code",
   "execution_count": 12,
   "id": "67942c45",
   "metadata": {
    "tags": []
   },
   "outputs": [
    {
     "name": "stdout",
     "output_type": "stream",
     "text": [
      "<class 'pandas.core.frame.DataFrame'>\n",
      "RangeIndex: 4610840 entries, 0 to 4610839\n",
      "Data columns (total 18 columns):\n",
      " #   Column              Dtype  \n",
      "---  ------              -----  \n",
      " 0   station_id          int64  \n",
      " 1   station_name        object \n",
      " 2   full_station_name   object \n",
      " 3   station_number      object \n",
      " 4   station_type        object \n",
      " 5   latitude            float64\n",
      " 6   longitude           float64\n",
      " 7   status              object \n",
      " 8   county_name         object \n",
      " 9   sample_code         object \n",
      " 10  sample_date         object \n",
      " 11  sample_depth        float64\n",
      " 12  sample_depth_units  object \n",
      " 13  parameter           object \n",
      " 14  result              object \n",
      " 15  reporting_limit     float64\n",
      " 16  units               object \n",
      " 17  method_name         object \n",
      "dtypes: float64(4), int64(1), object(13)\n",
      "memory usage: 633.2+ MB\n"
     ]
    },
    {
     "data": {
      "text/html": [
       "<div>\n",
       "<style scoped>\n",
       "    .dataframe tbody tr th:only-of-type {\n",
       "        vertical-align: middle;\n",
       "    }\n",
       "\n",
       "    .dataframe tbody tr th {\n",
       "        vertical-align: top;\n",
       "    }\n",
       "\n",
       "    .dataframe thead th {\n",
       "        text-align: right;\n",
       "    }\n",
       "</style>\n",
       "<table border=\"1\" class=\"dataframe\">\n",
       "  <thead>\n",
       "    <tr style=\"text-align: right;\">\n",
       "      <th></th>\n",
       "      <th>station_id</th>\n",
       "      <th>station_name</th>\n",
       "      <th>full_station_name</th>\n",
       "      <th>station_number</th>\n",
       "      <th>station_type</th>\n",
       "      <th>latitude</th>\n",
       "      <th>longitude</th>\n",
       "      <th>status</th>\n",
       "      <th>county_name</th>\n",
       "      <th>sample_code</th>\n",
       "      <th>sample_date</th>\n",
       "      <th>sample_depth</th>\n",
       "      <th>sample_depth_units</th>\n",
       "      <th>parameter</th>\n",
       "      <th>result</th>\n",
       "      <th>reporting_limit</th>\n",
       "      <th>units</th>\n",
       "      <th>method_name</th>\n",
       "    </tr>\n",
       "  </thead>\n",
       "  <tbody>\n",
       "    <tr>\n",
       "      <th>0</th>\n",
       "      <td>8135</td>\n",
       "      <td>01S04E32C001M</td>\n",
       "      <td>01S04E32C001M</td>\n",
       "      <td>01S04E32C001M</td>\n",
       "      <td>Groundwater</td>\n",
       "      <td>37.8073</td>\n",
       "      <td>-121.5617</td>\n",
       "      <td>Public, Review Status Unknown</td>\n",
       "      <td>Alameda</td>\n",
       "      <td>WDIS_0719152</td>\n",
       "      <td>05/03/1967 09:00</td>\n",
       "      <td>NaN</td>\n",
       "      <td>Feet</td>\n",
       "      <td>Conductance</td>\n",
       "      <td>3480</td>\n",
       "      <td>1.0</td>\n",
       "      <td>uS/cm</td>\n",
       "      <td>EPA 120.1</td>\n",
       "    </tr>\n",
       "    <tr>\n",
       "      <th>1</th>\n",
       "      <td>8135</td>\n",
       "      <td>01S04E32C001M</td>\n",
       "      <td>01S04E32C001M</td>\n",
       "      <td>01S04E32C001M</td>\n",
       "      <td>Groundwater</td>\n",
       "      <td>37.8073</td>\n",
       "      <td>-121.5617</td>\n",
       "      <td>Public, Review Status Unknown</td>\n",
       "      <td>Alameda</td>\n",
       "      <td>WDIS_0719152</td>\n",
       "      <td>05/03/1967 09:00</td>\n",
       "      <td>NaN</td>\n",
       "      <td>Feet</td>\n",
       "      <td>Dissolved Boron</td>\n",
       "      <td>7.7</td>\n",
       "      <td>0.1</td>\n",
       "      <td>mg/L</td>\n",
       "      <td>Std Method 4500-B, C</td>\n",
       "    </tr>\n",
       "    <tr>\n",
       "      <th>2</th>\n",
       "      <td>8135</td>\n",
       "      <td>01S04E32C001M</td>\n",
       "      <td>01S04E32C001M</td>\n",
       "      <td>01S04E32C001M</td>\n",
       "      <td>Groundwater</td>\n",
       "      <td>37.8073</td>\n",
       "      <td>-121.5617</td>\n",
       "      <td>Public, Review Status Unknown</td>\n",
       "      <td>Alameda</td>\n",
       "      <td>WDIS_0719152</td>\n",
       "      <td>05/03/1967 09:00</td>\n",
       "      <td>NaN</td>\n",
       "      <td>Feet</td>\n",
       "      <td>Dissolved Calcium</td>\n",
       "      <td>68</td>\n",
       "      <td>1.0</td>\n",
       "      <td>mg/L</td>\n",
       "      <td>EPA 215.2</td>\n",
       "    </tr>\n",
       "    <tr>\n",
       "      <th>3</th>\n",
       "      <td>8135</td>\n",
       "      <td>01S04E32C001M</td>\n",
       "      <td>01S04E32C001M</td>\n",
       "      <td>01S04E32C001M</td>\n",
       "      <td>Groundwater</td>\n",
       "      <td>37.8073</td>\n",
       "      <td>-121.5617</td>\n",
       "      <td>Public, Review Status Unknown</td>\n",
       "      <td>Alameda</td>\n",
       "      <td>WDIS_0719152</td>\n",
       "      <td>05/03/1967 09:00</td>\n",
       "      <td>NaN</td>\n",
       "      <td>Feet</td>\n",
       "      <td>Dissolved Chloride</td>\n",
       "      <td>758</td>\n",
       "      <td>0.1</td>\n",
       "      <td>mg/L</td>\n",
       "      <td>Std Method 4500-Cl, B</td>\n",
       "    </tr>\n",
       "    <tr>\n",
       "      <th>4</th>\n",
       "      <td>8135</td>\n",
       "      <td>01S04E32C001M</td>\n",
       "      <td>01S04E32C001M</td>\n",
       "      <td>01S04E32C001M</td>\n",
       "      <td>Groundwater</td>\n",
       "      <td>37.8073</td>\n",
       "      <td>-121.5617</td>\n",
       "      <td>Public, Review Status Unknown</td>\n",
       "      <td>Alameda</td>\n",
       "      <td>WDIS_0719152</td>\n",
       "      <td>05/03/1967 09:00</td>\n",
       "      <td>NaN</td>\n",
       "      <td>Feet</td>\n",
       "      <td>Dissolved Magnesium</td>\n",
       "      <td>59</td>\n",
       "      <td>0.1</td>\n",
       "      <td>mg/L</td>\n",
       "      <td>Std Method 3500-Mg, E</td>\n",
       "    </tr>\n",
       "  </tbody>\n",
       "</table>\n",
       "</div>"
      ],
      "text/plain": [
       "   station_id   station_name full_station_name station_number station_type  \\\n",
       "0        8135  01S04E32C001M     01S04E32C001M  01S04E32C001M  Groundwater   \n",
       "1        8135  01S04E32C001M     01S04E32C001M  01S04E32C001M  Groundwater   \n",
       "2        8135  01S04E32C001M     01S04E32C001M  01S04E32C001M  Groundwater   \n",
       "3        8135  01S04E32C001M     01S04E32C001M  01S04E32C001M  Groundwater   \n",
       "4        8135  01S04E32C001M     01S04E32C001M  01S04E32C001M  Groundwater   \n",
       "\n",
       "   latitude  longitude                         status county_name  \\\n",
       "0   37.8073  -121.5617  Public, Review Status Unknown     Alameda   \n",
       "1   37.8073  -121.5617  Public, Review Status Unknown     Alameda   \n",
       "2   37.8073  -121.5617  Public, Review Status Unknown     Alameda   \n",
       "3   37.8073  -121.5617  Public, Review Status Unknown     Alameda   \n",
       "4   37.8073  -121.5617  Public, Review Status Unknown     Alameda   \n",
       "\n",
       "    sample_code       sample_date  sample_depth sample_depth_units  \\\n",
       "0  WDIS_0719152  05/03/1967 09:00           NaN               Feet   \n",
       "1  WDIS_0719152  05/03/1967 09:00           NaN               Feet   \n",
       "2  WDIS_0719152  05/03/1967 09:00           NaN               Feet   \n",
       "3  WDIS_0719152  05/03/1967 09:00           NaN               Feet   \n",
       "4  WDIS_0719152  05/03/1967 09:00           NaN               Feet   \n",
       "\n",
       "             parameter result  reporting_limit  units            method_name  \n",
       "0          Conductance   3480              1.0  uS/cm              EPA 120.1  \n",
       "1      Dissolved Boron    7.7              0.1   mg/L   Std Method 4500-B, C  \n",
       "2    Dissolved Calcium     68              1.0   mg/L              EPA 215.2  \n",
       "3   Dissolved Chloride    758              0.1   mg/L  Std Method 4500-Cl, B  \n",
       "4  Dissolved Magnesium     59              0.1   mg/L  Std Method 3500-Mg, E  "
      ]
     },
     "execution_count": 12,
     "metadata": {},
     "output_type": "execute_result"
    }
   ],
   "source": [
    "lr.info()\n",
    "lr.head()"
   ]
  },
  {
   "cell_type": "markdown",
   "id": "7b4de3fb",
   "metadata": {},
   "source": [
    "**Investigate unique tested parameters**"
   ]
  },
  {
   "cell_type": "code",
   "execution_count": 13,
   "id": "b44e3ec7",
   "metadata": {
    "tags": []
   },
   "outputs": [
    {
     "name": "stdout",
     "output_type": "stream",
     "text": [
      "Number of measured parameters: 437\n"
     ]
    }
   ],
   "source": [
    "num_unique_parameters_lr = lr['parameter'].nunique()\n",
    "print(\"Number of measured parameters:\", num_unique_parameters_lr)"
   ]
  },
  {
   "cell_type": "markdown",
   "id": "0bfcf505",
   "metadata": {},
   "source": [
    "This is a lot of parameters - let's just see distribution of top 30 paramters for now. Can filter later on. "
   ]
  },
  {
   "cell_type": "code",
   "execution_count": 14,
   "id": "9a4d596b",
   "metadata": {
    "tags": []
   },
   "outputs": [
    {
     "data": {
      "image/png": "[encoded data removed]",
      "text/plain": [
       "<Figure size 864x432 with 1 Axes>"
      ]
     },
     "metadata": {
      "needs_background": "light"
     },
     "output_type": "display_data"
    }
   ],
   "source": [
    "#get the count of each parameter in lr\n",
    "parameter_counts_lr = lr['parameter'].value_counts()\n",
    "\n",
    "#generate df for plot\n",
    "parameter_counts_lr_df = parameter_counts_lr.reset_index()\n",
    "parameter_counts_lr_df.columns = ['parameter', 'count']\n",
    "\n",
    "#select top parameters, can change x\n",
    "x = 20\n",
    "top_x_parameters_lr = parameter_counts_lr_df.head(20)\n",
    "\n",
    "#create barplot visualizing the top parameters\n",
    "plt.figure(figsize=(12, 6))\n",
    "sns.barplot(x='parameter', y='count', data=top_x_parameters_lr, palette='viridis')\n",
    "plt.xlabel('Parameter')\n",
    "plt.ylabel('Count')\n",
    "plt.title('Top 30 Parameters by Count - LAB RESULTS')\n",
    "plt.xticks(rotation=90)\n",
    "plt.show()\n"
   ]
  },
  {
   "cell_type": "markdown",
   "id": "2dc9c023",
   "metadata": {
    "tags": []
   },
   "source": [
    "## Explore Field Results"
   ]
  },
  {
   "cell_type": "code",
   "execution_count": 15,
   "id": "45f654b6",
   "metadata": {
    "tags": []
   },
   "outputs": [
    {
     "name": "stdout",
     "output_type": "stream",
     "text": [
      "<class 'pandas.core.frame.DataFrame'>\n",
      "RangeIndex: 1199457 entries, 0 to 1199456\n",
      "Data columns (total 22 columns):\n",
      " #   Column               Non-Null Count    Dtype  \n",
      "---  ------               --------------    -----  \n",
      " 0   station_id           1199457 non-null  int64  \n",
      " 1   station_name         1199457 non-null  object \n",
      " 2   station_number       1199457 non-null  object \n",
      " 3   full_station_name    1199457 non-null  object \n",
      " 4   station_type         1199457 non-null  object \n",
      " 5   latitude             1187572 non-null  float64\n",
      " 6   longitude            1187572 non-null  float64\n",
      " 7   status               1199457 non-null  object \n",
      " 8   county_name          1199457 non-null  object \n",
      " 9   sample_code          1199457 non-null  object \n",
      " 10  sample_date          1199457 non-null  object \n",
      " 11  sample_depth         634376 non-null   float64\n",
      " 12  sample_depth_units   1199457 non-null  object \n",
      " 13  anl_data_type        136604 non-null   object \n",
      " 14  parameter            1199457 non-null  object \n",
      " 15  fdr_result           1069029 non-null  float64\n",
      " 16  fdr_text_result      124439 non-null   object \n",
      " 17  fdr_date_result      4434 non-null     object \n",
      " 18  fdr_reporting_limit  1026713 non-null  float64\n",
      " 19  uns_name             1199457 non-null  object \n",
      " 20  mth_name             1199457 non-null  object \n",
      " 21  fdr_footnote         120788 non-null   object \n",
      "dtypes: float64(5), int64(1), object(16)\n",
      "memory usage: 201.3+ MB\n"
     ]
    },
    {
     "data": {
      "text/html": [
       "<div>\n",
       "<style scoped>\n",
       "    .dataframe tbody tr th:only-of-type {\n",
       "        vertical-align: middle;\n",
       "    }\n",
       "\n",
       "    .dataframe tbody tr th {\n",
       "        vertical-align: top;\n",
       "    }\n",
       "\n",
       "    .dataframe thead th {\n",
       "        text-align: right;\n",
       "    }\n",
       "</style>\n",
       "<table border=\"1\" class=\"dataframe\">\n",
       "  <thead>\n",
       "    <tr style=\"text-align: right;\">\n",
       "      <th></th>\n",
       "      <th>station_id</th>\n",
       "      <th>station_name</th>\n",
       "      <th>station_number</th>\n",
       "      <th>full_station_name</th>\n",
       "      <th>station_type</th>\n",
       "      <th>latitude</th>\n",
       "      <th>longitude</th>\n",
       "      <th>status</th>\n",
       "      <th>county_name</th>\n",
       "      <th>sample_code</th>\n",
       "      <th>...</th>\n",
       "      <th>sample_depth_units</th>\n",
       "      <th>anl_data_type</th>\n",
       "      <th>parameter</th>\n",
       "      <th>fdr_result</th>\n",
       "      <th>fdr_text_result</th>\n",
       "      <th>fdr_date_result</th>\n",
       "      <th>fdr_reporting_limit</th>\n",
       "      <th>uns_name</th>\n",
       "      <th>mth_name</th>\n",
       "      <th>fdr_footnote</th>\n",
       "    </tr>\n",
       "  </thead>\n",
       "  <tbody>\n",
       "    <tr>\n",
       "      <th>0</th>\n",
       "      <td>12</td>\n",
       "      <td>H.O. Banks Headworks</td>\n",
       "      <td>KA000331</td>\n",
       "      <td>Delta P.P. Headworks at H.O. Banks PP</td>\n",
       "      <td>Surface Water</td>\n",
       "      <td>37.8019</td>\n",
       "      <td>-121.6203</td>\n",
       "      <td>Public, Review Status Unknown</td>\n",
       "      <td>Alameda</td>\n",
       "      <td>OM0168A0001</td>\n",
       "      <td>...</td>\n",
       "      <td>Feet</td>\n",
       "      <td>NaN</td>\n",
       "      <td>DissolvedOxygen</td>\n",
       "      <td>9.2</td>\n",
       "      <td>NaN</td>\n",
       "      <td>NaN</td>\n",
       "      <td>0.2</td>\n",
       "      <td>mg/L</td>\n",
       "      <td>EPA 360.2 (Field)</td>\n",
       "      <td>NaN</td>\n",
       "    </tr>\n",
       "    <tr>\n",
       "      <th>1</th>\n",
       "      <td>12</td>\n",
       "      <td>H.O. Banks Headworks</td>\n",
       "      <td>KA000331</td>\n",
       "      <td>Delta P.P. Headworks at H.O. Banks PP</td>\n",
       "      <td>Surface Water</td>\n",
       "      <td>37.8019</td>\n",
       "      <td>-121.6203</td>\n",
       "      <td>Public, Review Status Unknown</td>\n",
       "      <td>Alameda</td>\n",
       "      <td>OM0168A0001</td>\n",
       "      <td>...</td>\n",
       "      <td>Feet</td>\n",
       "      <td>NaN</td>\n",
       "      <td>ElectricalConductance</td>\n",
       "      <td>515.0</td>\n",
       "      <td>NaN</td>\n",
       "      <td>NaN</td>\n",
       "      <td>1.0</td>\n",
       "      <td>uS/cm</td>\n",
       "      <td>Std Method 2510-B (Field)</td>\n",
       "      <td>NaN</td>\n",
       "    </tr>\n",
       "    <tr>\n",
       "      <th>2</th>\n",
       "      <td>12</td>\n",
       "      <td>H.O. Banks Headworks</td>\n",
       "      <td>KA000331</td>\n",
       "      <td>Delta P.P. Headworks at H.O. Banks PP</td>\n",
       "      <td>Surface Water</td>\n",
       "      <td>37.8019</td>\n",
       "      <td>-121.6203</td>\n",
       "      <td>Public, Review Status Unknown</td>\n",
       "      <td>Alameda</td>\n",
       "      <td>OM0168A0001</td>\n",
       "      <td>...</td>\n",
       "      <td>Feet</td>\n",
       "      <td>NaN</td>\n",
       "      <td>WaterTemperature</td>\n",
       "      <td>6.7</td>\n",
       "      <td>NaN</td>\n",
       "      <td>NaN</td>\n",
       "      <td>0.1</td>\n",
       "      <td>°C</td>\n",
       "      <td>EPA 170.1 (Field)</td>\n",
       "      <td>NaN</td>\n",
       "    </tr>\n",
       "    <tr>\n",
       "      <th>3</th>\n",
       "      <td>12</td>\n",
       "      <td>H.O. Banks Headworks</td>\n",
       "      <td>KA000331</td>\n",
       "      <td>Delta P.P. Headworks at H.O. Banks PP</td>\n",
       "      <td>Surface Water</td>\n",
       "      <td>37.8019</td>\n",
       "      <td>-121.6203</td>\n",
       "      <td>Public, Review Status Unknown</td>\n",
       "      <td>Alameda</td>\n",
       "      <td>OM0168A0001</td>\n",
       "      <td>...</td>\n",
       "      <td>Feet</td>\n",
       "      <td>NaN</td>\n",
       "      <td>pH</td>\n",
       "      <td>7.3</td>\n",
       "      <td>NaN</td>\n",
       "      <td>NaN</td>\n",
       "      <td>0.1</td>\n",
       "      <td>pH Units</td>\n",
       "      <td>EPA 150.1 (Field)</td>\n",
       "      <td>NaN</td>\n",
       "    </tr>\n",
       "    <tr>\n",
       "      <th>4</th>\n",
       "      <td>12</td>\n",
       "      <td>H.O. Banks Headworks</td>\n",
       "      <td>KA000331</td>\n",
       "      <td>Delta P.P. Headworks at H.O. Banks PP</td>\n",
       "      <td>Surface Water</td>\n",
       "      <td>37.8019</td>\n",
       "      <td>-121.6203</td>\n",
       "      <td>Public, Review Status Unknown</td>\n",
       "      <td>Alameda</td>\n",
       "      <td>OM0268A0006</td>\n",
       "      <td>...</td>\n",
       "      <td>Feet</td>\n",
       "      <td>NaN</td>\n",
       "      <td>DissolvedOxygen</td>\n",
       "      <td>9.7</td>\n",
       "      <td>NaN</td>\n",
       "      <td>NaN</td>\n",
       "      <td>0.2</td>\n",
       "      <td>mg/L</td>\n",
       "      <td>EPA 360.2 (Field)</td>\n",
       "      <td>NaN</td>\n",
       "    </tr>\n",
       "  </tbody>\n",
       "</table>\n",
       "<p>5 rows × 22 columns</p>\n",
       "</div>"
      ],
      "text/plain": [
       "   station_id          station_name station_number  \\\n",
       "0          12  H.O. Banks Headworks       KA000331   \n",
       "1          12  H.O. Banks Headworks       KA000331   \n",
       "2          12  H.O. Banks Headworks       KA000331   \n",
       "3          12  H.O. Banks Headworks       KA000331   \n",
       "4          12  H.O. Banks Headworks       KA000331   \n",
       "\n",
       "                       full_station_name   station_type  latitude  longitude  \\\n",
       "0  Delta P.P. Headworks at H.O. Banks PP  Surface Water   37.8019  -121.6203   \n",
       "1  Delta P.P. Headworks at H.O. Banks PP  Surface Water   37.8019  -121.6203   \n",
       "2  Delta P.P. Headworks at H.O. Banks PP  Surface Water   37.8019  -121.6203   \n",
       "3  Delta P.P. Headworks at H.O. Banks PP  Surface Water   37.8019  -121.6203   \n",
       "4  Delta P.P. Headworks at H.O. Banks PP  Surface Water   37.8019  -121.6203   \n",
       "\n",
       "                          status county_name  sample_code  ...  \\\n",
       "0  Public, Review Status Unknown     Alameda  OM0168A0001  ...   \n",
       "1  Public, Review Status Unknown     Alameda  OM0168A0001  ...   \n",
       "2  Public, Review Status Unknown     Alameda  OM0168A0001  ...   \n",
       "3  Public, Review Status Unknown     Alameda  OM0168A0001  ...   \n",
       "4  Public, Review Status Unknown     Alameda  OM0268A0006  ...   \n",
       "\n",
       "  sample_depth_units  anl_data_type              parameter fdr_result  \\\n",
       "0               Feet            NaN        DissolvedOxygen        9.2   \n",
       "1               Feet            NaN  ElectricalConductance      515.0   \n",
       "2               Feet            NaN       WaterTemperature        6.7   \n",
       "3               Feet            NaN                     pH        7.3   \n",
       "4               Feet            NaN        DissolvedOxygen        9.7   \n",
       "\n",
       "  fdr_text_result  fdr_date_result fdr_reporting_limit  uns_name  \\\n",
       "0             NaN              NaN                 0.2      mg/L   \n",
       "1             NaN              NaN                 1.0     uS/cm   \n",
       "2             NaN              NaN                 0.1        °C   \n",
       "3             NaN              NaN                 0.1  pH Units   \n",
       "4             NaN              NaN                 0.2      mg/L   \n",
       "\n",
       "                    mth_name fdr_footnote  \n",
       "0          EPA 360.2 (Field)          NaN  \n",
       "1  Std Method 2510-B (Field)          NaN  \n",
       "2          EPA 170.1 (Field)          NaN  \n",
       "3          EPA 150.1 (Field)          NaN  \n",
       "4          EPA 360.2 (Field)          NaN  \n",
       "\n",
       "[5 rows x 22 columns]"
      ]
     },
     "execution_count": 15,
     "metadata": {},
     "output_type": "execute_result"
    }
   ],
   "source": [
    "fr.info()\n",
    "fr.head()"
   ]
  },
  {
   "cell_type": "code",
   "execution_count": 16,
   "id": "f5f6e6b8",
   "metadata": {
    "tags": []
   },
   "outputs": [
    {
     "data": {
      "image/png": "[encoded data removed]",
      "text/plain": [
       "<Figure size 864x432 with 1 Axes>"
      ]
     },
     "metadata": {
      "needs_background": "light"
     },
     "output_type": "display_data"
    }
   ],
   "source": [
    "#get the count of each parameter in fr\n",
    "parameter_counts_fr = fr['parameter'].value_counts()\n",
    "\n",
    "#generate df for plot\n",
    "parameter_counts_fr_df = parameter_counts_fr.reset_index()\n",
    "parameter_counts_fr_df.columns = ['parameter', 'count']\n",
    "\n",
    "#select top parameters, can change x\n",
    "x = 20\n",
    "top_x_parameters_fr = parameter_counts_fr_df.head(20)\n",
    "\n",
    "#create barplot visualizing the top parameters\n",
    "plt.figure(figsize=(12, 6))\n",
    "sns.barplot(x='parameter', y='count', data=top_x_parameters_fr, palette='viridis')\n",
    "plt.xlabel('Parameter')\n",
    "plt.ylabel('Count')\n",
    "plt.title('Top X Parameters by Count - FIELD RESULTS')\n",
    "plt.xticks(rotation=90)\n",
    "plt.show()\n"
   ]
  },
  {
   "cell_type": "markdown",
   "id": "983bb0f4-8dfd-4f59-adec-43db54ffc1b5",
   "metadata": {
    "tags": []
   },
   "source": [
    "# Data Preparation \n"
   ]
  },
  {
   "cell_type": "markdown",
   "id": "e9c3af9a-694d-4aaa-a230-ef4b11c8db45",
   "metadata": {
    "tags": []
   },
   "source": [
    "## Handle Missing Values"
   ]
  },
  {
   "cell_type": "code",
   "execution_count": 17,
   "id": "19c92b83-91ec-4c57-8d97-c02128ce8c97",
   "metadata": {
    "tags": []
   },
   "outputs": [
    {
     "name": "stdout",
     "output_type": "stream",
     "text": [
      "Missing Values in Stations dataset:\n",
      "station_id             0\n",
      "station_name           0\n",
      "full_station_name      0\n",
      "station_number         0\n",
      "station_type           0\n",
      "latitude             278\n",
      "longitude            278\n",
      "county_name            0\n",
      "sample_count           0\n",
      "sample_date_min        0\n",
      "sample_date_max        0\n",
      "dtype: int64\n",
      "\n",
      "Missing Values in Period of Record dataset:\n",
      "station_id               0\n",
      "station_name             0\n",
      "full_station_name        0\n",
      "station_number           0\n",
      "station_type             0\n",
      "latitude             10253\n",
      "longitude            10253\n",
      "county_name              0\n",
      "parameter                0\n",
      "sample_count             0\n",
      "sample_date_min          0\n",
      "sample_date_max          0\n",
      "dtype: int64\n",
      "\n",
      "Missing Values in Field Results dataset:\n",
      "station_id                   0\n",
      "station_name                 0\n",
      "station_number               0\n",
      "full_station_name            0\n",
      "station_type                 0\n",
      "latitude                 11885\n",
      "longitude                11885\n",
      "status                       0\n",
      "county_name                  0\n",
      "sample_code                  0\n",
      "sample_date                  0\n",
      "sample_depth            565081\n",
      "sample_depth_units           0\n",
      "anl_data_type          1062853\n",
      "parameter                    0\n",
      "fdr_result              130428\n",
      "fdr_text_result        1075018\n",
      "fdr_date_result        1195023\n",
      "fdr_reporting_limit     172744\n",
      "uns_name                     0\n",
      "mth_name                     0\n",
      "fdr_footnote           1078669\n",
      "dtype: int64\n",
      "\n",
      "Missing Values in Lab Results dataset:\n",
      "station_id                  0\n",
      "station_name                0\n",
      "full_station_name           0\n",
      "station_number              0\n",
      "station_type                0\n",
      "latitude               138083\n",
      "longitude              138083\n",
      "status                      0\n",
      "county_name                 0\n",
      "sample_code                 0\n",
      "sample_date                 0\n",
      "sample_depth          2783155\n",
      "sample_depth_units          0\n",
      "parameter                   0\n",
      "result                  40969\n",
      "reporting_limit         17465\n",
      "units                       0\n",
      "method_name                 0\n",
      "dtype: int64\n"
     ]
    }
   ],
   "source": [
    "# Identify missing values\n",
    "missing_values_st = st.isnull().sum()\n",
    "missing_values_por = por.isnull().sum()\n",
    "missing_values_fr = fr.isnull().sum()\n",
    "missing_values_lr = lr.isnull().sum()\n",
    "\n",
    "# Print missing value counts for each dataset\n",
    "print(\"Missing Values in Stations dataset:\")\n",
    "print(missing_values_st)\n",
    "print(\"\\nMissing Values in Period of Record dataset:\")\n",
    "print(missing_values_por)\n",
    "print(\"\\nMissing Values in Field Results dataset:\")\n",
    "print(missing_values_fr)\n",
    "print(\"\\nMissing Values in Lab Results dataset:\")\n",
    "print(missing_values_lr)\n",
    "\n"
   ]
  },
  {
   "cell_type": "markdown",
   "id": "e85c5542-0cc7-4212-928a-881aacb66d94",
   "metadata": {},
   "source": [
    "## Creating a Subset of San Diego in Station Dataset"
   ]
  },
  {
   "cell_type": "code",
   "execution_count": 18,
   "id": "285115f1-8c0e-45a8-9225-bf9069b72386",
   "metadata": {
    "tags": []
   },
   "outputs": [
    {
     "name": "stdout",
     "output_type": "stream",
     "text": [
      "Total count of rows in st_sanDiego dataframe: 1948\n",
      "Missing Values in for San Diego county in Stations dataset:\n",
      "station_id           0\n",
      "station_name         0\n",
      "full_station_name    0\n",
      "station_number       0\n",
      "station_type         0\n",
      "latitude             2\n",
      "longitude            2\n",
      "county_name          0\n",
      "sample_count         0\n",
      "sample_date_min      0\n",
      "sample_date_max      0\n",
      "dtype: int64\n",
      "Percentage of missing values in latitude San Diego County (Stations): 0.10266940451745381\n",
      "Percentage of missing values in longitude San Diego County (Stations): 0.10266940451745381\n"
     ]
    }
   ],
   "source": [
    "# Create a subset of the data for San Diego County\n",
    "st_sanDiego = st[st['county_name'] == 'San Diego']\n",
    "\n",
    "# Show the total count of rows in st_sanDiego dataframe\n",
    "print(\"Total count of rows in st_sanDiego dataframe:\", st_sanDiego.shape[0])\n",
    "\n",
    "#Identify missing values\n",
    "missing_values_st_sanDiego = st_sanDiego.isnull().sum()\n",
    "\n",
    "# Print missing value counts for each dataset\n",
    "print(\"Missing Values in for San Diego county in Stations dataset:\")\n",
    "print(missing_values_st_sanDiego)\n",
    "\n",
    "# Calculate the percentage of missing values for latitude and longitude columns in st\n",
    "percentage_missing_latitude_st_sanDiego = (st_sanDiego['latitude'].isnull().sum() / len(st_sanDiego)) * 100\n",
    "percentage_missing_longitude_st_sanDiego = (st_sanDiego['longitude'].isnull().sum() / len(st_sanDiego)) * 100\n",
    "\n",
    "print(\"Percentage of missing values in latitude San Diego County (Stations):\", percentage_missing_latitude_st_sanDiego)\n",
    "print(\"Percentage of missing values in longitude San Diego County (Stations):\", percentage_missing_longitude_st_sanDiego)\n"
   ]
  },
  {
   "cell_type": "code",
   "execution_count": 19,
   "id": "8c20e0ac-9f52-4474-9756-cac49fa9cf96",
   "metadata": {
    "tags": []
   },
   "outputs": [
    {
     "name": "stdout",
     "output_type": "stream",
     "text": [
      "Missing Values in San Diego County Stations dataset:\n",
      "station_id           0\n",
      "station_name         0\n",
      "full_station_name    0\n",
      "station_number       0\n",
      "station_type         0\n",
      "latitude             0\n",
      "longitude            0\n",
      "county_name          0\n",
      "sample_count         0\n",
      "sample_date_min      0\n",
      "sample_date_max      0\n",
      "dtype: int64\n",
      "Total count of rows in st_sanDiego dataframe after dropping missing values: 1946\n"
     ]
    }
   ],
   "source": [
    "# Drop rows with missing latitude and longitude values in st_sanDiego\n",
    "st_sanDiego.dropna(subset=['latitude', 'longitude'], inplace=True)\n",
    "\n",
    "# Identify missing values\n",
    "missing_values_st_sanDiego = st_sanDiego.isnull().sum()\n",
    "\n",
    "# Print missing value counts for each dataset\n",
    "print(\"Missing Values in San Diego County Stations dataset:\")\n",
    "print(missing_values_st_sanDiego)\n",
    "\n",
    "# Show the total count of rows after dropping missing values\n",
    "print(\"Total count of rows in st_sanDiego dataframe after dropping missing values:\", st_sanDiego.shape[0])\n"
   ]
  },
  {
   "cell_type": "markdown",
   "id": "2f2824db-4d69-4044-b2fd-84776f4ea116",
   "metadata": {},
   "source": [
    "## Creating a subset in San Diego county in Lab Results "
   ]
  },
  {
   "cell_type": "code",
   "execution_count": 20,
   "id": "a0e90ce5-842e-4034-89ca-6615c4a14731",
   "metadata": {
    "tags": []
   },
   "outputs": [
    {
     "name": "stdout",
     "output_type": "stream",
     "text": [
      "Total count of rows in lr_sanDiego dataframe: 101507\n",
      "Missing Values in for San Diego county in Lab Result dataset:\n",
      "station_id                 0\n",
      "station_name               0\n",
      "full_station_name          0\n",
      "station_number             0\n",
      "station_type               0\n",
      "latitude                  29\n",
      "longitude                 29\n",
      "status                     0\n",
      "county_name                0\n",
      "sample_code                0\n",
      "sample_date                0\n",
      "sample_depth          101069\n",
      "sample_depth_units         0\n",
      "parameter                  0\n",
      "result                   213\n",
      "reporting_limit          213\n",
      "units                      0\n",
      "method_name                0\n",
      "dtype: int64\n"
     ]
    }
   ],
   "source": [
    "# Create a subset of the data for San Diego County\n",
    "lr_sanDiego = lr[lr['county_name'] == 'San Diego']\n",
    "\n",
    "# Show the total count of rows in lr_sanDiego dataframe\n",
    "print(\"Total count of rows in lr_sanDiego dataframe:\", lr_sanDiego.shape[0])\n",
    "\n",
    "#Identify missing values\n",
    "missing_values_lr_sanDiego = lr_sanDiego.isnull().sum()\n",
    "\n",
    "# Print missing value counts for each dataset\n",
    "print(\"Missing Values in for San Diego county in Lab Result dataset:\")\n",
    "print(missing_values_lr_sanDiego)\n"
   ]
  },
  {
   "cell_type": "code",
   "execution_count": 21,
   "id": "754c5bcb-8f39-4f99-9af8-2f32b917b10c",
   "metadata": {
    "tags": []
   },
   "outputs": [
    {
     "name": "stdout",
     "output_type": "stream",
     "text": [
      "Percentage of missing values in latitude (Lab Results): 0.02856945826396209\n",
      "Percentage of missing values in longitude (Lab Results): 0.02856945826396209\n",
      "Percentage of missing values in sample depth (Lab Results): 99.56850266484085\n",
      "Percentage of missing values in result type (Lab Results): 0.20983774518013534\n",
      "Percentage of missing values in reporting limit (Lab Results): 0.20983774518013534\n"
     ]
    }
   ],
   "source": [
    "# Calculate the percentage of missing values for other columns\n",
    "percentage_missing_latitude_lr_sanDiego = (lr_sanDiego['latitude'].isnull().sum() / lr_sanDiego.shape[0]) * 100\n",
    "percentage_missing_longitude_lr_sanDiego = (lr_sanDiego['longitude'].isnull().sum() / lr_sanDiego.shape[0]) * 100\n",
    "percentage_missing_sample_depth_lr_sanDiego = (lr_sanDiego['sample_depth'].isnull().sum() / len(lr_sanDiego)) * 100\n",
    "percentage_missing_result_lr_sanDiego = (lr_sanDiego['result'].isnull().sum() / len(lr_sanDiego)) * 100\n",
    "percentage_missing_reporting_limit_lr_sanDiego = (lr_sanDiego['reporting_limit'].isnull().sum() / len(lr_sanDiego)) * 100\n",
    "\n",
    "# Print the percentage of missing values for other columns\n",
    "print(\"Percentage of missing values in latitude (Lab Results):\", percentage_missing_latitude_lr_sanDiego)\n",
    "print(\"Percentage of missing values in longitude (Lab Results):\", percentage_missing_longitude_lr_sanDiego)\n",
    "print(\"Percentage of missing values in sample depth (Lab Results):\", percentage_missing_sample_depth_lr_sanDiego)\n",
    "print(\"Percentage of missing values in result type (Lab Results):\", percentage_missing_result_lr_sanDiego)\n",
    "print(\"Percentage of missing values in reporting limit (Lab Results):\", percentage_missing_reporting_limit_lr_sanDiego)\n"
   ]
  },
  {
   "cell_type": "code",
   "execution_count": 22,
   "id": "78962f59-15cc-4dd1-86b0-b116a2cdf10e",
   "metadata": {
    "tags": []
   },
   "outputs": [
    {
     "name": "stdout",
     "output_type": "stream",
     "text": [
      "Missing values in lr_sanDiego after handling:\n",
      "station_id                 0\n",
      "station_name               0\n",
      "full_station_name          0\n",
      "station_number             0\n",
      "station_type               0\n",
      "latitude                   0\n",
      "longitude                  0\n",
      "status                     0\n",
      "county_name                0\n",
      "sample_code                0\n",
      "sample_date                0\n",
      "sample_depth          100838\n",
      "sample_depth_units         0\n",
      "parameter                  0\n",
      "result                     0\n",
      "reporting_limit            0\n",
      "units                      0\n",
      "method_name                0\n",
      "dtype: int64\n",
      "Total count of rows in lr_sanDiego dataframe after dropping missing values: 101267\n"
     ]
    }
   ],
   "source": [
    "# Drop rows with missing latitude and longitude values in lr_sanDiego\n",
    "lr_sanDiego.dropna(subset=['latitude', 'longitude', 'result'], inplace=True)\n",
    "\n",
    "# Confirm that missing values have been handled\n",
    "print(\"Missing values in lr_sanDiego after handling:\")\n",
    "print(lr_sanDiego.isnull().sum())\n",
    "\n",
    "# Show the total count of rows after dropping missing values\n",
    "print(\"Total count of rows in lr_sanDiego dataframe after dropping missing values:\", lr_sanDiego.shape[0])\n"
   ]
  },
  {
   "cell_type": "code",
   "execution_count": 23,
   "id": "79900c22-0b28-4987-85b9-f95e1823cd07",
   "metadata": {
    "tags": []
   },
   "outputs": [
    {
     "name": "stdout",
     "output_type": "stream",
     "text": [
      "Missing values in lr_sanDiego after handling:\n",
      "station_id            0\n",
      "station_name          0\n",
      "full_station_name     0\n",
      "station_number        0\n",
      "station_type          0\n",
      "latitude              0\n",
      "longitude             0\n",
      "status                0\n",
      "county_name           0\n",
      "sample_code           0\n",
      "sample_date           0\n",
      "sample_depth          0\n",
      "sample_depth_units    0\n",
      "parameter             0\n",
      "result                0\n",
      "reporting_limit       0\n",
      "units                 0\n",
      "method_name           0\n",
      "dtype: int64\n",
      "Total count of rows in lr_sanDiego dataframe after dropping missing values: 101267\n"
     ]
    }
   ],
   "source": [
    "\n",
    "# Calculate the mode value of 'sample_depth' column\n",
    "mode_sample_depth = lr_sanDiego['sample_depth'].mode()[0]\n",
    "\n",
    "# Replace missing values in 'sample_depth' column with the mode\n",
    "lr_sanDiego['sample_depth'].fillna(mode_sample_depth, inplace=True)\n",
    "\n",
    "# Confirm that missing values have been handled\n",
    "print(\"Missing values in lr_sanDiego after handling:\")\n",
    "print(lr_sanDiego.isnull().sum())\n",
    "\n",
    "#Show the total count of rows after dropping missing values\n",
    "print(\"Total count of rows in lr_sanDiego dataframe after dropping missing values:\", lr_sanDiego.shape[0])\n"
   ]
  },
  {
   "cell_type": "markdown",
   "id": "1dddbe23-18e2-4341-bc8b-46e5b5171e5b",
   "metadata": {},
   "source": [
    "## Handling Missing Values in Period of Record Dataset"
   ]
  },
  {
   "cell_type": "code",
   "execution_count": 24,
   "id": "aad95659-2dc3-4273-93ba-d46e20e66513",
   "metadata": {
    "tags": []
   },
   "outputs": [
    {
     "name": "stdout",
     "output_type": "stream",
     "text": [
      "Total count of rows in por_sanDiego dataframe: 26410\n",
      "Missing Values in for San Diego county in period of record dataset:\n",
      "station_id            0\n",
      "station_name          0\n",
      "full_station_name     0\n",
      "station_number        0\n",
      "station_type          0\n",
      "latitude             29\n",
      "longitude            29\n",
      "county_name           0\n",
      "parameter             0\n",
      "sample_count          0\n",
      "sample_date_min       0\n",
      "sample_date_max       0\n",
      "dtype: int64\n"
     ]
    }
   ],
   "source": [
    "# Create a subset of the data for San Diego County\n",
    "por_sanDiego = por[por['county_name'] == 'San Diego']\n",
    "\n",
    "# Show the total count of rows in st_sanDiego dataframe\n",
    "print(\"Total count of rows in por_sanDiego dataframe:\", por_sanDiego.shape[0])\n",
    "\n",
    "#Identify missing values\n",
    "missing_values_por_sanDiego = por_sanDiego.isnull().sum()\n",
    "\n",
    "#Print missing value counts for period of record dataset\n",
    "print(\"Missing Values in for San Diego county in period of record dataset:\")\n",
    "print(missing_values_por_sanDiego)\n"
   ]
  },
  {
   "cell_type": "markdown",
   "id": "787dc0f7-4049-4953-8ea5-2ab52f943d17",
   "metadata": {},
   "source": [
    "## Creating a Subset of San Diego in Field Result Dataset"
   ]
  },
  {
   "cell_type": "code",
   "execution_count": 25,
   "id": "afce7b59-8b84-435f-a6d1-02b5278345ac",
   "metadata": {
    "tags": []
   },
   "outputs": [
    {
     "name": "stdout",
     "output_type": "stream",
     "text": [
      "Total count of rows in fr_sanDiego dataframe: 9051\n",
      "Missing Values in for San Diego county in field results dataset:\n",
      "station_id                0\n",
      "station_name              0\n",
      "station_number            0\n",
      "full_station_name         0\n",
      "station_type              0\n",
      "latitude                  5\n",
      "longitude                 5\n",
      "status                    0\n",
      "county_name               0\n",
      "sample_code               0\n",
      "sample_date               0\n",
      "sample_depth           8698\n",
      "sample_depth_units        0\n",
      "anl_data_type          7973\n",
      "parameter                 0\n",
      "fdr_result             1083\n",
      "fdr_text_result        7998\n",
      "fdr_date_result        9045\n",
      "fdr_reporting_limit    1114\n",
      "uns_name                  0\n",
      "mth_name                  0\n",
      "fdr_footnote           8080\n",
      "dtype: int64\n",
      "Total count of null values in fr_sanDiego dataset: 44001\n",
      "Percentage of missing values in fr_sanDiego dataset: 22.097508060385092\n"
     ]
    }
   ],
   "source": [
    "# Create a subset of the data for San Diego County\n",
    "fr_sanDiego = fr[fr['county_name'] == 'San Diego']\n",
    "\n",
    "# Show the total count of rows in st_sanDiego dataframe\n",
    "print(\"Total count of rows in fr_sanDiego dataframe:\", fr_sanDiego.shape[0])\n",
    "\n",
    "#Identify missing values\n",
    "missing_values_fr_sanDiego = fr_sanDiego.isnull().sum()\n",
    "\n",
    "# Print missing value counts for each dataset\n",
    "print(\"Missing Values in for San Diego county in field results dataset:\")\n",
    "print(missing_values_fr_sanDiego)\n",
    "\n",
    "# Calculate the total count of null values in the fr_sanDiego subset dataset\n",
    "total_null_count_fr_sanDiego = fr_sanDiego.isnull().sum().sum()\n",
    "\n",
    "# Print the total count of null values\n",
    "print(\"Total count of null values in fr_sanDiego dataset:\", total_null_count_fr_sanDiego)\n",
    "\n",
    "# Calculate the total number of data points in fr_sanDiego\n",
    "total_data_points_fr_sanDiego = fr_sanDiego.size\n",
    "\n",
    "# Calculate the percentage of missing values\n",
    "percentage_missing_values_fr_sanDiego = (total_null_count_fr_sanDiego / total_data_points_fr_sanDiego) * 100\n",
    "\n",
    "# Print the percentage of missing values\n",
    "print(\"Percentage of missing values in fr_sanDiego dataset:\", percentage_missing_values_fr_sanDiego)\n",
    "\n"
   ]
  },
  {
   "cell_type": "code",
   "execution_count": 26,
   "id": "866bb5ea-2ea0-4d30-b680-5892b64730e4",
   "metadata": {
    "tags": []
   },
   "outputs": [
    {
     "name": "stdout",
     "output_type": "stream",
     "text": [
      "Percentage of missing values in latitude (Field Results): 0.055242514639266375\n",
      "Percentage of missing values in longitude (Field Results): 0.055242514639266375\n",
      "Percentage of missing values in sample depth (Field Results): 96.09987846646779\n",
      "Percentage of missing values in analysis data type (Field Results): 88.08971384377416\n",
      "Percentage of missing values in field result (Field Results): 11.965528670865098\n",
      "Percentage of missing values in field result text (Field Results): 88.3659264169705\n",
      "Percentage of missing values in field result date (Field Results): 99.93370898243288\n",
      "Percentage of missing values in field result reporting limit (Field Results): 12.308032261628549\n",
      "Percentage of missing values in field result footnote (Field Results): 89.27190365705448\n"
     ]
    }
   ],
   "source": [
    "\n",
    "# Calculate the percentage of missing values for other columns\n",
    "percentage_missing_latitude_fr_sanDiego = (fr_sanDiego['latitude'].isnull().sum() / fr_sanDiego.shape[0]) * 100\n",
    "percentage_missing_longitude_fr_sanDiego = (fr_sanDiego['longitude'].isnull().sum() / fr_sanDiego.shape[0]) * 100\n",
    "percentage_missing_sample_depth_fr_sanDiego = (fr_sanDiego['sample_depth'].isnull().sum() / len(fr_sanDiego)) * 100\n",
    "percentage_missing_analysis_type_fr_sanDiego = (fr_sanDiego['anl_data_type'].isnull().sum() / len(fr_sanDiego)) * 100\n",
    "percentage_missing_field_result_fr_sanDiego = (fr_sanDiego['fdr_result'].isnull().sum() / len(fr_sanDiego)) * 100\n",
    "percentage_missing_field_result_text_fr_sanDiego = (fr_sanDiego['fdr_text_result'].isnull().sum() / len(fr_sanDiego)) * 100\n",
    "percentage_missing_field_result_date_fr_sanDiego = (fr_sanDiego['fdr_date_result'].isnull().sum() / len(fr_sanDiego)) * 100\n",
    "percentage_missing_reporting_limit_fr_sanDiego = (fr_sanDiego['fdr_reporting_limit'].isnull().sum() / len(fr_sanDiego)) * 100\n",
    "percentage_missing_field_result_footnote_fr_sanDiego = (fr_sanDiego['fdr_footnote'].isnull().sum() / len(fr_sanDiego)) * 100\n",
    "\n",
    "# Print the percentage of missing values for other columns\n",
    "print(\"Percentage of missing values in latitude (Field Results):\", percentage_missing_latitude_fr_sanDiego)\n",
    "print(\"Percentage of missing values in longitude (Field Results):\", percentage_missing_longitude_fr_sanDiego)\n",
    "print(\"Percentage of missing values in sample depth (Field Results):\", percentage_missing_sample_depth_fr_sanDiego)\n",
    "print(\"Percentage of missing values in analysis data type (Field Results):\", percentage_missing_analysis_type_fr_sanDiego)\n",
    "print(\"Percentage of missing values in field result (Field Results):\", percentage_missing_field_result_fr_sanDiego)\n",
    "print(\"Percentage of missing values in field result text (Field Results):\", percentage_missing_field_result_text_fr_sanDiego)\n",
    "print(\"Percentage of missing values in field result date (Field Results):\", percentage_missing_field_result_date_fr_sanDiego)\n",
    "print(\"Percentage of missing values in field result reporting limit (Field Results):\", percentage_missing_reporting_limit_fr_sanDiego)\n",
    "print(\"Percentage of missing values in field result footnote (Field Results):\", percentage_missing_field_result_footnote_fr_sanDiego)\n"
   ]
  },
  {
   "cell_type": "code",
   "execution_count": 27,
   "id": "d676914f-0cc3-4930-96e9-cb76b4e3591c",
   "metadata": {
    "tags": []
   },
   "outputs": [
    {
     "name": "stdout",
     "output_type": "stream",
     "text": [
      "Missing values in fr_sanDiego after handling:\n",
      "station_id                0\n",
      "station_name              0\n",
      "station_number            0\n",
      "full_station_name         0\n",
      "station_type              0\n",
      "latitude                  0\n",
      "longitude                 0\n",
      "status                    0\n",
      "county_name               0\n",
      "sample_code               0\n",
      "sample_date               0\n",
      "sample_depth           8693\n",
      "sample_depth_units        0\n",
      "anl_data_type          7968\n",
      "parameter                 0\n",
      "fdr_result                0\n",
      "fdr_text_result        7993\n",
      "fdr_date_result        9040\n",
      "fdr_reporting_limit       0\n",
      "uns_name                  0\n",
      "mth_name                  0\n",
      "fdr_footnote           8075\n",
      "dtype: int64\n"
     ]
    }
   ],
   "source": [
    "# Drop rows with missing latitude and longitude values in fr_sanDiego\n",
    "fr_sanDiego.dropna(subset=['latitude', 'longitude'], inplace=True)\n",
    "\n",
    "# Replace missing values in other columns with mean values\n",
    "fr_sanDiego['fdr_result'].fillna(fr_sanDiego['fdr_result'].mean(), inplace=True)\n",
    "fr_sanDiego['fdr_reporting_limit'].fillna(fr_sanDiego['fdr_reporting_limit'].mean(), inplace=True)\n",
    "\n",
    "# Confirm that missing values have been handled\n",
    "print(\"Missing values in fr_sanDiego after handling:\")\n",
    "print(fr_sanDiego.isnull().sum())\n"
   ]
  },
  {
   "cell_type": "code",
   "execution_count": 28,
   "id": "f23793ba-6699-41f5-b520-11b0d0cfcda7",
   "metadata": {
    "tags": []
   },
   "outputs": [
    {
     "name": "stdout",
     "output_type": "stream",
     "text": [
      "Missing values in fr_sanDiego after handling:\n",
      "station_id             0\n",
      "station_name           0\n",
      "station_number         0\n",
      "full_station_name      0\n",
      "station_type           0\n",
      "latitude               0\n",
      "longitude              0\n",
      "status                 0\n",
      "county_name            0\n",
      "sample_code            0\n",
      "sample_date            0\n",
      "sample_depth           0\n",
      "sample_depth_units     0\n",
      "anl_data_type          0\n",
      "parameter              0\n",
      "fdr_result             0\n",
      "fdr_text_result        0\n",
      "fdr_date_result        0\n",
      "fdr_reporting_limit    0\n",
      "uns_name               0\n",
      "mth_name               0\n",
      "fdr_footnote           0\n",
      "dtype: int64\n"
     ]
    }
   ],
   "source": [
    "# Calculate the mode value for each column\n",
    "sample_depth_mode = fr_sanDiego['sample_depth'].mode()[0]\n",
    "anl_data_type_mode = fr_sanDiego['anl_data_type'].mode()[0]\n",
    "fdr_text_result_mode = fr_sanDiego['fdr_text_result'].mode()[0]\n",
    "fdr_date_result_mode = fr_sanDiego['fdr_date_result'].mode()[0]\n",
    "fdr_footnote_mode = fr_sanDiego['fdr_footnote'].mode()[0]\n",
    "\n",
    "# Replace missing values with mode values\n",
    "fr_sanDiego['sample_depth'].fillna(sample_depth_mode, inplace=True)\n",
    "fr_sanDiego['anl_data_type'].fillna(anl_data_type_mode, inplace=True)\n",
    "fr_sanDiego['fdr_text_result'].fillna(fdr_text_result_mode, inplace=True)\n",
    "fr_sanDiego['fdr_date_result'].fillna(fdr_date_result_mode, inplace=True)\n",
    "fr_sanDiego['fdr_footnote'].fillna(fdr_footnote_mode, inplace=True)\n",
    "\n",
    "# Print the null counts after handling missing values\n",
    "print(\"Missing values in fr_sanDiego after handling:\")\n",
    "print(fr_sanDiego.isnull().sum())\n"
   ]
  },
  {
   "cell_type": "markdown",
   "id": "0eacb59f-0d8a-4fa7-b8bb-c494957033a4",
   "metadata": {},
   "source": [
    "## Outliers Exploration"
   ]
  },
  {
   "cell_type": "code",
   "execution_count": 29,
   "id": "9cfa31a8-7593-43b0-8c69-7ad182b017f0",
   "metadata": {
    "tags": []
   },
   "outputs": [
    {
     "data": {
      "image/png": "[encoded data removed]",
      "text/plain": [
       "<Figure size 720x432 with 1 Axes>"
      ]
     },
     "metadata": {
      "needs_background": "light"
     },
     "output_type": "display_data"
    },
    {
     "data": {
      "image/png": "[encoded data removed]",
      "text/plain": [
       "<Figure size 720x432 with 1 Axes>"
      ]
     },
     "metadata": {
      "needs_background": "light"
     },
     "output_type": "display_data"
    },
    {
     "data": {
      "image/png": "[encoded data removed]",
      "text/plain": [
       "<Figure size 720x432 with 1 Axes>"
      ]
     },
     "metadata": {
      "needs_background": "light"
     },
     "output_type": "display_data"
    },
    {
     "data": {
      "image/png": "[encoded data removed]",
      "text/plain": [
       "<Figure size 720x432 with 1 Axes>"
      ]
     },
     "metadata": {
      "needs_background": "light"
     },
     "output_type": "display_data"
    }
   ],
   "source": [
    "# Create box plots for each dataset to visualize outliers\n",
    "\n",
    "plt.figure(figsize=(10, 6))\n",
    "sns.boxplot(data=st_sanDiego)  \n",
    "plt.title('Box Plot of st_sanDiego Outliers')\n",
    "plt.xlabel('Features')\n",
    "plt.ylabel('Values')\n",
    "plt.xticks(rotation=45)\n",
    "plt.show()\n",
    "\n",
    "plt.figure(figsize=(10, 6))\n",
    "sns.boxplot(data=por_sanDiego)  \n",
    "plt.title('Box Plot of por_sanDiego Outliers')\n",
    "plt.xlabel('Features')\n",
    "plt.ylabel('Values')\n",
    "plt.xticks(rotation=45)\n",
    "plt.show()\n",
    "\n",
    "plt.figure(figsize=(10, 6))\n",
    "sns.boxplot(data=fr_sanDiego)  \n",
    "plt.title('Box Plot of fr_sanDiego Outliers')\n",
    "plt.xlabel('Features')\n",
    "plt.ylabel('Values')\n",
    "plt.xticks(rotation=45)\n",
    "plt.show()\n",
    "\n",
    "plt.figure(figsize=(10, 6))\n",
    "sns.boxplot(data=lr_sanDiego)  \n",
    "plt.title('Box Plot of lr_sanDiego Outliers')\n",
    "plt.xlabel('Features')\n",
    "plt.ylabel('Values')\n",
    "plt.xticks(rotation=45)\n",
    "plt.show()\n"
   ]
  },
  {
   "cell_type": "markdown",
   "id": "bc666e1d-b8f7-4ad7-a0a5-59d11aabcbf4",
   "metadata": {},
   "source": [
    "## Data Type and Unit Conversions"
   ]
  },
  {
   "cell_type": "markdown",
   "id": "b20942e1-12de-4026-b95a-98dccccec1a6",
   "metadata": {
    "tags": []
   },
   "source": [
    "* **Convert sample_date_min and sample_date_max columns to datetime objects to facilitate time-based analysis**\n"
   ]
  },
  {
   "cell_type": "code",
   "execution_count": 30,
   "id": "d708ca14-8bbe-44c2-a591-054e3816db50",
   "metadata": {
    "tags": []
   },
   "outputs": [],
   "source": [
    "st_sanDiego['sample_date_min'] = pd.to_datetime(st_sanDiego['sample_date_min'], format='%m/%d/%Y %H:%M')\n",
    "st_sanDiego['sample_date_max'] = pd.to_datetime(st_sanDiego['sample_date_max'], format='%m/%d/%Y %H:%M')\n",
    "\n",
    "por_sanDiego['sample_date_min'] = pd.to_datetime(por_sanDiego['sample_date_min'], format='%m/%d/%Y %H:%M')\n",
    "por_sanDiego['sample_date_max'] = pd.to_datetime(por_sanDiego['sample_date_max'], format='%m/%d/%Y %H:%M')\n",
    "\n",
    "fr_sanDiego['sample_date'] = pd.to_datetime(fr_sanDiego['sample_date'], format='%Y-%m-%d %H:%M:%S')\n",
    "lr_sanDiego['sample_date'] = pd.to_datetime(lr_sanDiego['sample_date'], format='%m/%d/%Y %H:%M')\n"
   ]
  },
  {
   "cell_type": "markdown",
   "id": "07c999db-e087-47d6-ab44-f2416aa57c7e",
   "metadata": {},
   "source": [
    "* Check unit types"
   ]
  },
  {
   "cell_type": "code",
   "execution_count": 31,
   "id": "cc0c8414-d67c-4f40-95c2-5cbe378f28dc",
   "metadata": {
    "tags": []
   },
   "outputs": [
    {
     "data": {
      "text/html": [
       "<div>\n",
       "<style scoped>\n",
       "    .dataframe tbody tr th:only-of-type {\n",
       "        vertical-align: middle;\n",
       "    }\n",
       "\n",
       "    .dataframe tbody tr th {\n",
       "        vertical-align: top;\n",
       "    }\n",
       "\n",
       "    .dataframe thead th {\n",
       "        text-align: right;\n",
       "    }\n",
       "</style>\n",
       "<table border=\"1\" class=\"dataframe\">\n",
       "  <thead>\n",
       "    <tr style=\"text-align: right;\">\n",
       "      <th></th>\n",
       "      <th>station_id</th>\n",
       "      <th>station_name</th>\n",
       "      <th>station_number</th>\n",
       "      <th>full_station_name</th>\n",
       "      <th>station_type</th>\n",
       "      <th>latitude</th>\n",
       "      <th>longitude</th>\n",
       "      <th>status</th>\n",
       "      <th>county_name</th>\n",
       "      <th>sample_code</th>\n",
       "      <th>...</th>\n",
       "      <th>sample_depth_units</th>\n",
       "      <th>anl_data_type</th>\n",
       "      <th>parameter</th>\n",
       "      <th>fdr_result</th>\n",
       "      <th>fdr_text_result</th>\n",
       "      <th>fdr_date_result</th>\n",
       "      <th>fdr_reporting_limit</th>\n",
       "      <th>uns_name</th>\n",
       "      <th>mth_name</th>\n",
       "      <th>fdr_footnote</th>\n",
       "    </tr>\n",
       "  </thead>\n",
       "  <tbody>\n",
       "    <tr>\n",
       "      <th>682387</th>\n",
       "      <td>5576</td>\n",
       "      <td>GRAPEVINE CYN CR AT</td>\n",
       "      <td>W4520000</td>\n",
       "      <td>GRAPEVINE CYN CR AT ANGELINA SPR</td>\n",
       "      <td>Surface Water</td>\n",
       "      <td>33.1542</td>\n",
       "      <td>-116.48</td>\n",
       "      <td>Public, Review Status Unknown</td>\n",
       "      <td>San Diego</td>\n",
       "      <td>WDIS_0226099</td>\n",
       "      <td>...</td>\n",
       "      <td>Feet</td>\n",
       "      <td>Memo</td>\n",
       "      <td>Field Notes</td>\n",
       "      <td>172.100771</td>\n",
       "      <td>*See Units Note</td>\n",
       "      <td>1899-12-30</td>\n",
       "      <td>0.302572</td>\n",
       "      <td></td>\n",
       "      <td>Notes (Field)</td>\n",
       "      <td>DO Units Note - mg/L: WDIS DO Units not specif...</td>\n",
       "    </tr>\n",
       "    <tr>\n",
       "      <th>682388</th>\n",
       "      <td>5576</td>\n",
       "      <td>GRAPEVINE CYN CR AT</td>\n",
       "      <td>W4520000</td>\n",
       "      <td>GRAPEVINE CYN CR AT ANGELINA SPR</td>\n",
       "      <td>Surface Water</td>\n",
       "      <td>33.1542</td>\n",
       "      <td>-116.48</td>\n",
       "      <td>Public, Review Status Unknown</td>\n",
       "      <td>San Diego</td>\n",
       "      <td>WDIS_0226099</td>\n",
       "      <td>...</td>\n",
       "      <td>Feet</td>\n",
       "      <td>Memo</td>\n",
       "      <td>Conductance</td>\n",
       "      <td>1250.000000</td>\n",
       "      <td>*See Units Note</td>\n",
       "      <td>1899-12-30</td>\n",
       "      <td>1.000000</td>\n",
       "      <td>uS/cm</td>\n",
       "      <td>Std Method 2510-B (Field)</td>\n",
       "      <td>DO Units Note - mg/L: WDIS DO Units not specif...</td>\n",
       "    </tr>\n",
       "    <tr>\n",
       "      <th>682389</th>\n",
       "      <td>5576</td>\n",
       "      <td>GRAPEVINE CYN CR AT</td>\n",
       "      <td>W4520000</td>\n",
       "      <td>GRAPEVINE CYN CR AT ANGELINA SPR</td>\n",
       "      <td>Surface Water</td>\n",
       "      <td>33.1542</td>\n",
       "      <td>-116.48</td>\n",
       "      <td>Public, Review Status Unknown</td>\n",
       "      <td>San Diego</td>\n",
       "      <td>WDIS_0226099</td>\n",
       "      <td>...</td>\n",
       "      <td>Feet</td>\n",
       "      <td>Memo</td>\n",
       "      <td>DissolvedOxygen</td>\n",
       "      <td>6.300000</td>\n",
       "      <td>*See Units Note</td>\n",
       "      <td>1899-12-30</td>\n",
       "      <td>0.200000</td>\n",
       "      <td>mg/L</td>\n",
       "      <td>EPA 360.2 (Field)</td>\n",
       "      <td>DO Units Note - mg/L: WDIS DO Units not specif...</td>\n",
       "    </tr>\n",
       "    <tr>\n",
       "      <th>682390</th>\n",
       "      <td>5576</td>\n",
       "      <td>GRAPEVINE CYN CR AT</td>\n",
       "      <td>W4520000</td>\n",
       "      <td>GRAPEVINE CYN CR AT ANGELINA SPR</td>\n",
       "      <td>Surface Water</td>\n",
       "      <td>33.1542</td>\n",
       "      <td>-116.48</td>\n",
       "      <td>Public, Review Status Unknown</td>\n",
       "      <td>San Diego</td>\n",
       "      <td>WDIS_0226099</td>\n",
       "      <td>...</td>\n",
       "      <td>Feet</td>\n",
       "      <td>Memo</td>\n",
       "      <td>Flow, channel</td>\n",
       "      <td>0.000000</td>\n",
       "      <td>*See Units Note</td>\n",
       "      <td>1899-12-30</td>\n",
       "      <td>1.000000</td>\n",
       "      <td>cfs</td>\n",
       "      <td>Flow, Channel</td>\n",
       "      <td>DO Units Note - mg/L: WDIS DO Units not specif...</td>\n",
       "    </tr>\n",
       "    <tr>\n",
       "      <th>682391</th>\n",
       "      <td>5576</td>\n",
       "      <td>GRAPEVINE CYN CR AT</td>\n",
       "      <td>W4520000</td>\n",
       "      <td>GRAPEVINE CYN CR AT ANGELINA SPR</td>\n",
       "      <td>Surface Water</td>\n",
       "      <td>33.1542</td>\n",
       "      <td>-116.48</td>\n",
       "      <td>Public, Review Status Unknown</td>\n",
       "      <td>San Diego</td>\n",
       "      <td>WDIS_0226099</td>\n",
       "      <td>...</td>\n",
       "      <td>Feet</td>\n",
       "      <td>Memo</td>\n",
       "      <td>WaterTemperature</td>\n",
       "      <td>71.000000</td>\n",
       "      <td>*See Units Note</td>\n",
       "      <td>1899-12-30</td>\n",
       "      <td>0.100000</td>\n",
       "      <td>°F</td>\n",
       "      <td>EPA 170.1 (Field)</td>\n",
       "      <td>DO Units Note - mg/L: WDIS DO Units not specif...</td>\n",
       "    </tr>\n",
       "  </tbody>\n",
       "</table>\n",
       "<p>5 rows × 22 columns</p>\n",
       "</div>"
      ],
      "text/plain": [
       "        station_id          station_name station_number  \\\n",
       "682387        5576  GRAPEVINE CYN CR AT        W4520000   \n",
       "682388        5576  GRAPEVINE CYN CR AT        W4520000   \n",
       "682389        5576  GRAPEVINE CYN CR AT        W4520000   \n",
       "682390        5576  GRAPEVINE CYN CR AT        W4520000   \n",
       "682391        5576  GRAPEVINE CYN CR AT        W4520000   \n",
       "\n",
       "                        full_station_name   station_type  latitude  longitude  \\\n",
       "682387  GRAPEVINE CYN CR AT ANGELINA SPR   Surface Water   33.1542    -116.48   \n",
       "682388  GRAPEVINE CYN CR AT ANGELINA SPR   Surface Water   33.1542    -116.48   \n",
       "682389  GRAPEVINE CYN CR AT ANGELINA SPR   Surface Water   33.1542    -116.48   \n",
       "682390  GRAPEVINE CYN CR AT ANGELINA SPR   Surface Water   33.1542    -116.48   \n",
       "682391  GRAPEVINE CYN CR AT ANGELINA SPR   Surface Water   33.1542    -116.48   \n",
       "\n",
       "                               status county_name   sample_code  ...  \\\n",
       "682387  Public, Review Status Unknown   San Diego  WDIS_0226099  ...   \n",
       "682388  Public, Review Status Unknown   San Diego  WDIS_0226099  ...   \n",
       "682389  Public, Review Status Unknown   San Diego  WDIS_0226099  ...   \n",
       "682390  Public, Review Status Unknown   San Diego  WDIS_0226099  ...   \n",
       "682391  Public, Review Status Unknown   San Diego  WDIS_0226099  ...   \n",
       "\n",
       "       sample_depth_units  anl_data_type         parameter   fdr_result  \\\n",
       "682387               Feet           Memo       Field Notes   172.100771   \n",
       "682388               Feet           Memo       Conductance  1250.000000   \n",
       "682389               Feet           Memo   DissolvedOxygen     6.300000   \n",
       "682390               Feet           Memo     Flow, channel     0.000000   \n",
       "682391               Feet           Memo  WaterTemperature    71.000000   \n",
       "\n",
       "        fdr_text_result  fdr_date_result fdr_reporting_limit uns_name  \\\n",
       "682387  *See Units Note       1899-12-30            0.302572            \n",
       "682388  *See Units Note       1899-12-30            1.000000    uS/cm   \n",
       "682389  *See Units Note       1899-12-30            0.200000     mg/L   \n",
       "682390  *See Units Note       1899-12-30            1.000000      cfs   \n",
       "682391  *See Units Note       1899-12-30            0.100000       °F   \n",
       "\n",
       "                         mth_name  \\\n",
       "682387              Notes (Field)   \n",
       "682388  Std Method 2510-B (Field)   \n",
       "682389          EPA 360.2 (Field)   \n",
       "682390              Flow, Channel   \n",
       "682391          EPA 170.1 (Field)   \n",
       "\n",
       "                                             fdr_footnote  \n",
       "682387  DO Units Note - mg/L: WDIS DO Units not specif...  \n",
       "682388  DO Units Note - mg/L: WDIS DO Units not specif...  \n",
       "682389  DO Units Note - mg/L: WDIS DO Units not specif...  \n",
       "682390  DO Units Note - mg/L: WDIS DO Units not specif...  \n",
       "682391  DO Units Note - mg/L: WDIS DO Units not specif...  \n",
       "\n",
       "[5 rows x 22 columns]"
      ]
     },
     "execution_count": 31,
     "metadata": {},
     "output_type": "execute_result"
    }
   ],
   "source": [
    "fr_sanDiego.head()"
   ]
  },
  {
   "cell_type": "markdown",
   "id": "f2943f53-b0c1-4c57-b2f8-7659ec657684",
   "metadata": {},
   "source": [
    "* **Convert any Temperature Data Collected in Fahrenheit to Celcius**"
   ]
  },
  {
   "cell_type": "code",
   "execution_count": 32,
   "id": "7237d4ef-a4c2-4c7e-8893-e38c75af9df9",
   "metadata": {
    "tags": []
   },
   "outputs": [],
   "source": [
    "\n",
    "# Convert 'fdr_result WaterTemperature' from Fahrenheit to Celsius if 'uns_name WaterTemperature' is '°F'\n",
    "fahrenheit_mask = fr_sanDiego['uns_name'] == '°F'\n",
    "fr_sanDiego.loc[fahrenheit_mask, 'fdr_result'] = (\n",
    "    (fr_sanDiego.loc[fahrenheit_mask, 'fdr_result'] - 32) * 5/9\n",
    ")\n",
    "\n",
    "# Change 'uns_name WaterTemperature' to '°C' for rows where temperature is in Celsius\n",
    "fr_sanDiego.loc[fahrenheit_mask, 'uns_name'] = '°C'"
   ]
  },
  {
   "cell_type": "markdown",
   "id": "af6e2703-6939-4286-8143-95641d8c9cb3",
   "metadata": {},
   "source": [
    "## One hot encoding for categorical data"
   ]
  },
  {
   "cell_type": "code",
   "execution_count": 33,
   "id": "ae387f56-8cb0-4b5b-876c-0719d67ea42e",
   "metadata": {
    "tags": []
   },
   "outputs": [],
   "source": [
    "st_sanDiego = pd.get_dummies(st_sanDiego, columns=['station_type'], prefix='station_type')\n"
   ]
  },
  {
   "cell_type": "code",
   "execution_count": 34,
   "id": "16cfafed-9136-4ad6-8363-b2bd3ceadfb0",
   "metadata": {
    "tags": []
   },
   "outputs": [],
   "source": [
    "# label encoding using sklearn\n",
    "label_encoder = LabelEncoder()\n",
    "\n",
    "#encode stations dataframe, San Diego subset\n",
    "st_sanDiego['station_name_encoded'] = label_encoder.fit_transform(st_sanDiego['station_name'])\n",
    "\n",
    "fr_sanDiego['station_name_encoded'] = label_encoder.fit_transform(fr_sanDiego['station_name'])\n",
    "\n",
    "por_sanDiego['station_name_encoded'] = label_encoder.fit_transform(por_sanDiego['station_name'])\n",
    "\n",
    "lr_sanDiego['station_name_encoded'] = label_encoder.fit_transform(lr_sanDiego['station_name'])\n"
   ]
  },
  {
   "cell_type": "markdown",
   "id": "bbf24d83-661b-4cc2-93d3-0f38fbb46b71",
   "metadata": {},
   "source": [
    "## Dropping Unnecessary Columns for each dataset"
   ]
  },
  {
   "cell_type": "markdown",
   "id": "f7212e9e-5e74-400e-969e-5a5248f4a0b1",
   "metadata": {},
   "source": [
    "**Stations dataframe columns**"
   ]
  },
  {
   "cell_type": "code",
   "execution_count": 35,
   "id": "6d33b0bd-c73d-45b9-acbc-6f7d433c4f28",
   "metadata": {
    "tags": []
   },
   "outputs": [
    {
     "name": "stdout",
     "output_type": "stream",
     "text": [
      "       station_id  latitude  longitude county_name\n",
      "15284       21453   33.6110  -117.6241   San Diego\n",
      "16696       22879   33.5428  -117.1425   San Diego\n",
      "16735       22919   33.5825  -117.2447   San Diego\n",
      "17749       23932   33.4289  -116.8370   San Diego\n",
      "17851       24039   33.4330  -117.2228   San Diego\n"
     ]
    }
   ],
   "source": [
    "# Define the columns to keep\n",
    "st_sanDiego_columns = ['station_id', 'latitude', 'longitude', 'county_name']\n",
    "\n",
    "# Filter the DataFrame to keep only the desired columns\n",
    "st_sanDiego_df = st_sanDiego[st_sanDiego_columns]\n",
    "\n",
    "print(st_sanDiego_df.head())  \n"
   ]
  },
  {
   "cell_type": "markdown",
   "id": "cf377f7e-2347-4d33-92ad-cd9524b85d90",
   "metadata": {},
   "source": [
    "**Period of record dataframe columns**"
   ]
  },
  {
   "cell_type": "code",
   "execution_count": 36,
   "id": "eda66a4c-00cc-4735-9d21-e85ac901551c",
   "metadata": {
    "tags": []
   },
   "outputs": [
    {
     "name": "stdout",
     "output_type": "stream",
     "text": [
      "        station_id  latitude  longitude county_name           parameter\n",
      "211730       21453    33.611  -117.6241   San Diego         Conductance\n",
      "211731       21453    33.611  -117.6241   San Diego     Dissolved Boron\n",
      "211732       21453    33.611  -117.6241   San Diego   Dissolved Calcium\n",
      "211733       21453    33.611  -117.6241   San Diego  Dissolved Chloride\n",
      "211734       21453    33.611  -117.6241   San Diego  Dissolved Fluoride\n"
     ]
    }
   ],
   "source": [
    "por_sanDiego_columns = ['station_id', 'latitude', 'longitude', 'county_name', 'parameter']\n",
    "\n",
    "# Filter the DataFrame to keep only the desired columns\n",
    "por_sanDiego_df = por_sanDiego[por_sanDiego_columns]\n",
    "\n",
    "print(por_sanDiego_df.head())  "
   ]
  },
  {
   "cell_type": "markdown",
   "id": "4a2a8f18-e875-49a9-8000-e09958aa0398",
   "metadata": {},
   "source": [
    "**Field Results dataframe columns**"
   ]
  },
  {
   "cell_type": "code",
   "execution_count": 37,
   "id": "3d2473ab-89b7-4b53-8fcd-3c254eaac764",
   "metadata": {
    "tags": []
   },
   "outputs": [
    {
     "name": "stdout",
     "output_type": "stream",
     "text": [
      "        station_id  latitude  longitude         sample_date county_name  \\\n",
      "682387        5576   33.1542    -116.48 1988-04-27 11:00:00   San Diego   \n",
      "682388        5576   33.1542    -116.48 1988-04-27 11:00:00   San Diego   \n",
      "682389        5576   33.1542    -116.48 1988-04-27 11:00:00   San Diego   \n",
      "682390        5576   33.1542    -116.48 1988-04-27 11:00:00   San Diego   \n",
      "682391        5576   33.1542    -116.48 1988-04-27 11:00:00   San Diego   \n",
      "\n",
      "               parameter   fdr_result uns_name  \n",
      "682387       Field Notes   172.100771           \n",
      "682388       Conductance  1250.000000    uS/cm  \n",
      "682389   DissolvedOxygen     6.300000     mg/L  \n",
      "682390     Flow, channel     0.000000      cfs  \n",
      "682391  WaterTemperature    21.666667       °C  \n"
     ]
    },
    {
     "data": {
      "text/html": [
       "<div>\n",
       "<style scoped>\n",
       "    .dataframe tbody tr th:only-of-type {\n",
       "        vertical-align: middle;\n",
       "    }\n",
       "\n",
       "    .dataframe tbody tr th {\n",
       "        vertical-align: top;\n",
       "    }\n",
       "\n",
       "    .dataframe thead th {\n",
       "        text-align: right;\n",
       "    }\n",
       "</style>\n",
       "<table border=\"1\" class=\"dataframe\">\n",
       "  <thead>\n",
       "    <tr style=\"text-align: right;\">\n",
       "      <th></th>\n",
       "      <th>station_id</th>\n",
       "      <th>latitude</th>\n",
       "      <th>longitude</th>\n",
       "      <th>sample_date</th>\n",
       "      <th>county_name</th>\n",
       "      <th>parameter</th>\n",
       "      <th>fdr_result</th>\n",
       "      <th>uns_name</th>\n",
       "    </tr>\n",
       "  </thead>\n",
       "  <tbody>\n",
       "    <tr>\n",
       "      <th>682387</th>\n",
       "      <td>5576</td>\n",
       "      <td>33.1542</td>\n",
       "      <td>-116.48</td>\n",
       "      <td>1988-04-27 11:00:00</td>\n",
       "      <td>San Diego</td>\n",
       "      <td>Field Notes</td>\n",
       "      <td>172.100771</td>\n",
       "      <td></td>\n",
       "    </tr>\n",
       "    <tr>\n",
       "      <th>682388</th>\n",
       "      <td>5576</td>\n",
       "      <td>33.1542</td>\n",
       "      <td>-116.48</td>\n",
       "      <td>1988-04-27 11:00:00</td>\n",
       "      <td>San Diego</td>\n",
       "      <td>Conductance</td>\n",
       "      <td>1250.000000</td>\n",
       "      <td>uS/cm</td>\n",
       "    </tr>\n",
       "    <tr>\n",
       "      <th>682389</th>\n",
       "      <td>5576</td>\n",
       "      <td>33.1542</td>\n",
       "      <td>-116.48</td>\n",
       "      <td>1988-04-27 11:00:00</td>\n",
       "      <td>San Diego</td>\n",
       "      <td>DissolvedOxygen</td>\n",
       "      <td>6.300000</td>\n",
       "      <td>mg/L</td>\n",
       "    </tr>\n",
       "    <tr>\n",
       "      <th>682390</th>\n",
       "      <td>5576</td>\n",
       "      <td>33.1542</td>\n",
       "      <td>-116.48</td>\n",
       "      <td>1988-04-27 11:00:00</td>\n",
       "      <td>San Diego</td>\n",
       "      <td>Flow, channel</td>\n",
       "      <td>0.000000</td>\n",
       "      <td>cfs</td>\n",
       "    </tr>\n",
       "    <tr>\n",
       "      <th>682391</th>\n",
       "      <td>5576</td>\n",
       "      <td>33.1542</td>\n",
       "      <td>-116.48</td>\n",
       "      <td>1988-04-27 11:00:00</td>\n",
       "      <td>San Diego</td>\n",
       "      <td>WaterTemperature</td>\n",
       "      <td>21.666667</td>\n",
       "      <td>°C</td>\n",
       "    </tr>\n",
       "  </tbody>\n",
       "</table>\n",
       "</div>"
      ],
      "text/plain": [
       "        station_id  latitude  longitude         sample_date county_name  \\\n",
       "682387        5576   33.1542    -116.48 1988-04-27 11:00:00   San Diego   \n",
       "682388        5576   33.1542    -116.48 1988-04-27 11:00:00   San Diego   \n",
       "682389        5576   33.1542    -116.48 1988-04-27 11:00:00   San Diego   \n",
       "682390        5576   33.1542    -116.48 1988-04-27 11:00:00   San Diego   \n",
       "682391        5576   33.1542    -116.48 1988-04-27 11:00:00   San Diego   \n",
       "\n",
       "               parameter   fdr_result uns_name  \n",
       "682387       Field Notes   172.100771           \n",
       "682388       Conductance  1250.000000    uS/cm  \n",
       "682389   DissolvedOxygen     6.300000     mg/L  \n",
       "682390     Flow, channel     0.000000      cfs  \n",
       "682391  WaterTemperature    21.666667       °C  "
      ]
     },
     "execution_count": 37,
     "metadata": {},
     "output_type": "execute_result"
    }
   ],
   "source": [
    "# Define the columns to keep\n",
    "fr_sanDiego_columns = ['station_id', 'latitude', 'longitude', 'sample_date','county_name', 'parameter', 'fdr_result', 'uns_name']\n",
    "\n",
    "# Filter the DataFrame to keep only the desired columns\n",
    "fr_sanDiego_df = fr_sanDiego[fr_sanDiego_columns]\n",
    "\n",
    "print(fr_sanDiego_df.head())  \n",
    "fr_sanDiego_df.head()"
   ]
  },
  {
   "cell_type": "markdown",
   "id": "35d084ee-c25b-4125-bc8c-7eb237f2964d",
   "metadata": {},
   "source": [
    "**Lab results dataframe columns**"
   ]
  },
  {
   "cell_type": "code",
   "execution_count": 38,
   "id": "cfd3b4a9-6dc6-4626-98f8-35c43508b4db",
   "metadata": {
    "tags": []
   },
   "outputs": [
    {
     "name": "stdout",
     "output_type": "stream",
     "text": [
      "         station_id sample_date  latitude  longitude county_name  \\\n",
      "3092634       21453  1964-07-16    33.611  -117.6241   San Diego   \n",
      "3092635       21453  1964-07-16    33.611  -117.6241   San Diego   \n",
      "3092636       21453  1964-07-16    33.611  -117.6241   San Diego   \n",
      "3092637       21453  1964-07-16    33.611  -117.6241   San Diego   \n",
      "3092638       21453  1964-07-16    33.611  -117.6241   San Diego   \n",
      "\n",
      "                  parameter result  units  \n",
      "3092634         Conductance    660  uS/cm  \n",
      "3092635     Dissolved Boron    .02   mg/L  \n",
      "3092636   Dissolved Calcium     61   mg/L  \n",
      "3092637  Dissolved Chloride     69   mg/L  \n",
      "3092638  Dissolved Fluoride     .2   mg/L  \n"
     ]
    }
   ],
   "source": [
    "# Define the columns to keep\n",
    "lr_sanDiego_columns = ['station_id', 'sample_date', 'latitude', 'longitude', 'county_name', 'parameter', 'result', 'units']\n",
    "\n",
    "# Filter the DataFrame to keep only the desired columns\n",
    "lr_sanDiego_df = lr_sanDiego[lr_sanDiego_columns]\n",
    "\n",
    "print(lr_sanDiego_df.head())  \n"
   ]
  },
  {
   "cell_type": "markdown",
   "id": "18f70595-a439-452a-8606-0ea339b98299",
   "metadata": {},
   "source": [
    "## Reformat Lab and Field Results; Extract Top Parameters as Fields, Save Units"
   ]
  },
  {
   "cell_type": "markdown",
   "id": "4a8c92d8-d410-46fe-8ea5-bb6836dc17cb",
   "metadata": {},
   "source": [
    "**Filter for which parameters to keep in lab and field results**"
   ]
  },
  {
   "cell_type": "code",
   "execution_count": 39,
   "id": "9d4d57c6-945c-4be2-970a-1017e2dd1490",
   "metadata": {
    "tags": []
   },
   "outputs": [],
   "source": [
    "lr_filter = ['Dissolved Chlorine', 'Total Alkalinity', 'Dissolved Sodium', 'Conductance', 'Dissolved Calcium', 'pH']\n",
    "fr_filter = ['WaterTemperature','pH','DissolvedOxygen','SpecificConductance','Conductance','Turbidity']\n",
    "\n",
    "lr_sanDiego_df_filtered = lr_sanDiego_df[lr_sanDiego_df['parameter'].isin(lr_filter)]\n",
    "fr_sanDiego_df_filtered = fr_sanDiego_df[fr_sanDiego_df['parameter'].isin(fr_filter)]"
   ]
  },
  {
   "cell_type": "markdown",
   "id": "393c23db-2f7e-4ec6-a447-57127ab2d260",
   "metadata": {},
   "source": [
    "**Make table containing the unit types, ensure that chosen parameters all are measured in the same units**"
   ]
  },
  {
   "cell_type": "code",
   "execution_count": 40,
   "id": "94350709-6574-499a-a41b-214c0d3b93e7",
   "metadata": {
    "tags": []
   },
   "outputs": [
    {
     "data": {
      "text/html": [
       "<div>\n",
       "<style scoped>\n",
       "    .dataframe tbody tr th:only-of-type {\n",
       "        vertical-align: middle;\n",
       "    }\n",
       "\n",
       "    .dataframe tbody tr th {\n",
       "        vertical-align: top;\n",
       "    }\n",
       "\n",
       "    .dataframe thead th {\n",
       "        text-align: right;\n",
       "    }\n",
       "</style>\n",
       "<table border=\"1\" class=\"dataframe\">\n",
       "  <thead>\n",
       "    <tr style=\"text-align: right;\">\n",
       "      <th></th>\n",
       "      <th>count_unique_units</th>\n",
       "      <th>unique_units</th>\n",
       "    </tr>\n",
       "    <tr>\n",
       "      <th>parameter</th>\n",
       "      <th></th>\n",
       "      <th></th>\n",
       "    </tr>\n",
       "  </thead>\n",
       "  <tbody>\n",
       "    <tr>\n",
       "      <th>Conductance</th>\n",
       "      <td>1</td>\n",
       "      <td>[uS/cm]</td>\n",
       "    </tr>\n",
       "    <tr>\n",
       "      <th>Dissolved Calcium</th>\n",
       "      <td>1</td>\n",
       "      <td>[mg/L]</td>\n",
       "    </tr>\n",
       "    <tr>\n",
       "      <th>Dissolved Sodium</th>\n",
       "      <td>1</td>\n",
       "      <td>[mg/L]</td>\n",
       "    </tr>\n",
       "    <tr>\n",
       "      <th>Total Alkalinity</th>\n",
       "      <td>1</td>\n",
       "      <td>[mg/L as CaCO3]</td>\n",
       "    </tr>\n",
       "    <tr>\n",
       "      <th>pH</th>\n",
       "      <td>1</td>\n",
       "      <td>[pH Units]</td>\n",
       "    </tr>\n",
       "  </tbody>\n",
       "</table>\n",
       "</div>"
      ],
      "text/plain": [
       "                   count_unique_units     unique_units\n",
       "parameter                                             \n",
       "Conductance                         1          [uS/cm]\n",
       "Dissolved Calcium                   1           [mg/L]\n",
       "Dissolved Sodium                    1           [mg/L]\n",
       "Total Alkalinity                    1  [mg/L as CaCO3]\n",
       "pH                                  1       [pH Units]"
      ]
     },
     "execution_count": 40,
     "metadata": {},
     "output_type": "execute_result"
    }
   ],
   "source": [
    "units_lr_sanDiego = lr_sanDiego_df_filtered.groupby('parameter')['units'].agg(['nunique', 'unique'])\n",
    "units_lr_sanDiego.columns = ['count_unique_units', 'unique_units']\n",
    "units_lr_sanDiego"
   ]
  },
  {
   "cell_type": "code",
   "execution_count": 41,
   "id": "404f3cfb-8a73-46fa-96d5-fbd800f038a2",
   "metadata": {
    "tags": []
   },
   "outputs": [
    {
     "data": {
      "text/html": [
       "<div>\n",
       "<style scoped>\n",
       "    .dataframe tbody tr th:only-of-type {\n",
       "        vertical-align: middle;\n",
       "    }\n",
       "\n",
       "    .dataframe tbody tr th {\n",
       "        vertical-align: top;\n",
       "    }\n",
       "\n",
       "    .dataframe thead th {\n",
       "        text-align: right;\n",
       "    }\n",
       "</style>\n",
       "<table border=\"1\" class=\"dataframe\">\n",
       "  <thead>\n",
       "    <tr style=\"text-align: right;\">\n",
       "      <th></th>\n",
       "      <th>count_unique_units</th>\n",
       "      <th>unique_units</th>\n",
       "    </tr>\n",
       "    <tr>\n",
       "      <th>parameter</th>\n",
       "      <th></th>\n",
       "      <th></th>\n",
       "    </tr>\n",
       "  </thead>\n",
       "  <tbody>\n",
       "    <tr>\n",
       "      <th>Conductance</th>\n",
       "      <td>1</td>\n",
       "      <td>[uS/cm]</td>\n",
       "    </tr>\n",
       "    <tr>\n",
       "      <th>DissolvedOxygen</th>\n",
       "      <td>1</td>\n",
       "      <td>[mg/L]</td>\n",
       "    </tr>\n",
       "    <tr>\n",
       "      <th>SpecificConductance</th>\n",
       "      <td>1</td>\n",
       "      <td>[uS/cm@25 °C]</td>\n",
       "    </tr>\n",
       "    <tr>\n",
       "      <th>WaterTemperature</th>\n",
       "      <td>1</td>\n",
       "      <td>[°C]</td>\n",
       "    </tr>\n",
       "    <tr>\n",
       "      <th>pH</th>\n",
       "      <td>1</td>\n",
       "      <td>[pH Units]</td>\n",
       "    </tr>\n",
       "  </tbody>\n",
       "</table>\n",
       "</div>"
      ],
      "text/plain": [
       "                     count_unique_units   unique_units\n",
       "parameter                                             \n",
       "Conductance                           1        [uS/cm]\n",
       "DissolvedOxygen                       1         [mg/L]\n",
       "SpecificConductance                   1  [uS/cm@25 °C]\n",
       "WaterTemperature                      1           [°C]\n",
       "pH                                    1     [pH Units]"
      ]
     },
     "execution_count": 41,
     "metadata": {},
     "output_type": "execute_result"
    }
   ],
   "source": [
    "units_fr_sanDiego = fr_sanDiego_df_filtered.groupby('parameter')['uns_name'].agg(['nunique', 'unique'])\n",
    "units_fr_sanDiego.columns = ['count_unique_units', 'unique_units']\n",
    "units_fr_sanDiego"
   ]
  },
  {
   "cell_type": "markdown",
   "id": "ef2875dc-d028-47c2-8d6e-802186dd5fc6",
   "metadata": {},
   "source": [
    "**Make each parameter its own column - Lab Results**"
   ]
  },
  {
   "cell_type": "code",
   "execution_count": 42,
   "id": "f050e563-7248-489d-aee8-b55aa523ed53",
   "metadata": {
    "tags": []
   },
   "outputs": [],
   "source": [
    "pivot_lr_sd_with_units = lr_sanDiego_df_filtered.pivot_table(index=['station_id', 'sample_date', 'latitude', 'longitude', 'county_name'], \n",
    "                                                 columns='parameter', \n",
    "                                                 values=['result', 'units'], \n",
    "                                                 aggfunc={'result': 'first', 'units': 'first'}).reset_index()\n",
    "\n",
    "\n",
    "pivot_lr_sd= lr_sanDiego_df_filtered.pivot_table(index=['station_id', 'sample_date', 'latitude', 'longitude', 'county_name'], \n",
    "                                                 columns='parameter', \n",
    "                                                 values=['result'], \n",
    "                                                 aggfunc={'result': 'first'}).reset_index()\n",
    "\n",
    "\n",
    "#make header in same row\n",
    "pivot_lr_sd.columns = [' '.join(col).strip() for col in pivot_lr_sd.columns.values]\n",
    "\n",
    "#remove result string from column headers\n",
    "pivot_lr_sd.columns = [col.replace('result ', '') for col in pivot_lr_sd.columns]\n",
    "\n",
    "#sort by sample date\n",
    "pivot_lr_sd = pivot_lr_sd.sort_values(by='sample_date')\n",
    "\n"
   ]
  },
  {
   "cell_type": "markdown",
   "id": "8d50ce63-e681-4a6d-91bc-90cf632b3a82",
   "metadata": {},
   "source": [
    "**Make each parameter its own column - Field Results**"
   ]
  },
  {
   "cell_type": "code",
   "execution_count": 43,
   "id": "a9d78a98-8c32-43ee-be39-65797f1ff9d9",
   "metadata": {
    "tags": []
   },
   "outputs": [],
   "source": [
    "pivot_fr_sd_with_units = fr_sanDiego_df_filtered.pivot_table(index=['station_id', 'sample_date', 'latitude', 'longitude', 'county_name'], \n",
    "                                         columns='parameter', \n",
    "                                         values=['fdr_result', 'uns_name'], \n",
    "                                         aggfunc={'fdr_result': 'first', 'uns_name': 'first'}).reset_index()\n",
    "\n",
    "pivot_fr_sd = fr_sanDiego_df_filtered.pivot_table(index=['station_id', 'sample_date', 'latitude', 'longitude', 'county_name'], \n",
    "                                         columns='parameter', \n",
    "                                         values=['fdr_result'], \n",
    "                                         aggfunc={'fdr_result': 'first'}).reset_index()\n",
    "\n",
    "# Remove the name of the index column\n",
    "pivot_fr_sd.columns = [' '.join(col).strip() for col in pivot_fr_sd.columns.values]\n",
    "\n",
    "pivot_fr_sd.columns = [col.replace('fdr_result ', '') for col in pivot_fr_sd.columns]\n",
    "\n",
    "pivot_fr_sd = pivot_fr_sd.sort_values(by='sample_date')"
   ]
  },
  {
   "cell_type": "markdown",
   "id": "f3b3cb0e-a367-4d30-bf2c-f4e011639256",
   "metadata": {},
   "source": [
    "## Descriptive Statistics of Parameters"
   ]
  },
  {
   "cell_type": "code",
   "execution_count": 44,
   "id": "92c09a8b-290e-4020-8d0f-0c03e64ecf0a",
   "metadata": {
    "tags": []
   },
   "outputs": [
    {
     "name": "stdout",
     "output_type": "stream",
     "text": [
      "Descriptive Statistics for pivot_fr_sd:\n",
      "                      count          mean           std          min  \\\n",
      "station_id           3857.0  21018.671506  12349.460470  5576.000000   \n",
      "latitude             3857.0     33.041093      0.287922    32.541700   \n",
      "longitude            3857.0   -117.112701      0.262136  -121.855400   \n",
      "Conductance           597.0   1798.368509   1458.629956   176.000000   \n",
      "DissolvedOxygen       966.0      8.613976      6.000063     0.400000   \n",
      "SpecificConductance    26.0   1597.153846    368.421030   648.000000   \n",
      "WaterTemperature     3731.0     20.300622      4.398005   -17.333333   \n",
      "pH                   1212.0      7.732261      0.441947     6.400000   \n",
      "\n",
      "                             25%         50%         75%           max  \n",
      "station_id           5765.000000  27526.0000  31064.0000  46751.000000  \n",
      "latitude               32.831500     33.1145     33.2660     36.568400  \n",
      "longitude            -117.262500   -117.1086   -117.0342   -116.088100  \n",
      "Conductance          1100.000000   1600.0000   2070.0000  13099.000000  \n",
      "DissolvedOxygen         7.000000      8.4000      9.9000    172.100771  \n",
      "SpecificConductance  1355.500000   1689.0000   1851.5000   2260.000000  \n",
      "WaterTemperature       18.888889     20.0000     22.0000     58.888889  \n",
      "pH                      7.400000      7.8000      8.0000      9.400000  \n",
      "\n",
      "Descriptive Statistics for pivot_lr_sd:\n",
      "             count          mean           std        min        25%  \\\n",
      "station_id  7909.0  23221.302946  11237.015610  5576.0000  5777.0000   \n",
      "latitude    7909.0     33.047081      0.265701    32.5417    32.8170   \n",
      "longitude   7909.0   -117.089217      0.260015  -121.8554  -117.2875   \n",
      "\n",
      "                   50%         75%         max  \n",
      "station_id  27870.0000  31119.0000  46751.0000  \n",
      "latitude       33.1145     33.2556     36.5684  \n",
      "longitude    -117.1012   -116.9660   -115.8260  \n"
     ]
    }
   ],
   "source": [
    "stats_fr = pivot_fr_sd.describe().transpose()\n",
    "\n",
    "# Descriptive statistics for pivot_lr_sd\n",
    "stats_lr = pivot_lr_sd.describe().transpose()\n",
    "\n",
    "# Plotting\n",
    "print(\"Descriptive Statistics for pivot_fr_sd:\")\n",
    "print(stats_fr)\n",
    "\n",
    "print(\"\\nDescriptive Statistics for pivot_lr_sd:\")\n",
    "print(stats_lr)"
   ]
  },
  {
   "cell_type": "markdown",
   "id": "cc9303c6-6da2-425f-87b9-62ebbd356bc2",
   "metadata": {},
   "source": [
    "## Exploring New Missing Values in Results"
   ]
  },
  {
   "cell_type": "code",
   "execution_count": 45,
   "id": "c70d13a5-216c-488b-80ca-b3c33a9c4e9c",
   "metadata": {
    "tags": []
   },
   "outputs": [
    {
     "name": "stdout",
     "output_type": "stream",
     "text": [
      "Table of Missing Values for pivot_fr_sd:\n",
      "station_id                0\n",
      "sample_date               0\n",
      "latitude                  0\n",
      "longitude                 0\n",
      "county_name               0\n",
      "Conductance            3260\n",
      "DissolvedOxygen        2891\n",
      "SpecificConductance    3831\n",
      "WaterTemperature        126\n",
      "pH                     2645\n",
      "dtype: int64\n"
     ]
    },
    {
     "data": {
      "image/png": "[encoded data removed]",
      "text/plain": [
       "<Figure size 720x432 with 1 Axes>"
      ]
     },
     "metadata": {
      "needs_background": "light"
     },
     "output_type": "display_data"
    }
   ],
   "source": [
    "# Table of missing values for pivot_fr_sd\n",
    "missing_values_fr = pivot_fr_sd.isnull().sum()\n",
    "print(\"Table of Missing Values for pivot_fr_sd:\")\n",
    "print(missing_values_fr)\n",
    "\n",
    "missing_percentage_fr = (pivot_fr_sd.isnull().sum() / len(pivot_fr_sd)) * 100\n",
    "\n",
    "# Plot bar chart for missing values\n",
    "plt.figure(figsize=(10, 6))\n",
    "missing_percentage_fr.plot(kind='bar', color='skyblue')\n",
    "plt.title('Percentage of Missing Values for Field Results (San Diego)')\n",
    "plt.xlabel('Columns')\n",
    "plt.ylabel('Percentage Missing')\n",
    "plt.xticks(rotation=45, ha='right')\n",
    "plt.tight_layout()\n",
    "plt.show()"
   ]
  },
  {
   "cell_type": "markdown",
   "id": "46897b96-a852-4e80-8425-643ace49c9d4",
   "metadata": {},
   "source": [
    "## Exploring New Missing Values in Lab Results"
   ]
  },
  {
   "cell_type": "code",
   "execution_count": 46,
   "id": "2f6d29f9-782b-404d-abba-6dcfd50a69ac",
   "metadata": {
    "tags": []
   },
   "outputs": [
    {
     "name": "stdout",
     "output_type": "stream",
     "text": [
      "Table of Missing Values for pivot_lr_sd:\n",
      "station_id              0\n",
      "sample_date             0\n",
      "latitude                0\n",
      "longitude               0\n",
      "county_name             0\n",
      "Conductance           736\n",
      "Dissolved Calcium    1412\n",
      "Dissolved Sodium     1408\n",
      "Total Alkalinity      677\n",
      "pH                    928\n",
      "dtype: int64\n"
     ]
    },
    {
     "data": {
      "image/png": "[encoded data removed]",
      "text/plain": [
       "<Figure size 720x432 with 1 Axes>"
      ]
     },
     "metadata": {
      "needs_background": "light"
     },
     "output_type": "display_data"
    }
   ],
   "source": [
    "# Table of missing values for pivot_fr_sd\n",
    "missing_values_lr = pivot_lr_sd.isnull().sum()\n",
    "print(\"Table of Missing Values for pivot_lr_sd:\")\n",
    "print(missing_values_lr)\n",
    "\n",
    "missing_percentage_lr = (pivot_lr_sd.isnull().sum() / len(pivot_lr_sd)) * 100\n",
    "\n",
    "# Plot bar chart for missing values\n",
    "plt.figure(figsize=(10, 6))\n",
    "missing_percentage_lr.plot(kind='bar', color='skyblue')\n",
    "plt.title('Percentage of Missing Values for Lab Results (San Diego)')\n",
    "plt.xlabel('Columns')\n",
    "plt.ylabel('Percentage Missing')\n",
    "plt.ylim(0,100)\n",
    "plt.xticks(rotation=45, ha='right')\n",
    "plt.tight_layout()\n",
    "plt.show()"
   ]
  },
  {
   "cell_type": "markdown",
   "id": "c7d0d3e9-08ca-48aa-b72c-5ba273289a04",
   "metadata": {},
   "source": [
    "## Save transformed files as csv files in S3 bucket"
   ]
  },
  {
   "cell_type": "markdown",
   "id": "01dae6f0-234f-476a-b45a-9a8d50743154",
   "metadata": {},
   "source": [
    "**stations**"
   ]
  },
  {
   "cell_type": "code",
   "execution_count": 47,
   "id": "77bf4311-fced-4e8c-a057-884dadd567fe",
   "metadata": {
    "tags": []
   },
   "outputs": [
    {
     "data": {
      "text/plain": [
       "{'ResponseMetadata': {'RequestId': 'W031Q62S5NDHEWC0',\n",
       "  'HostId': 'Huu3Xxgq2IcoDty1yQi47dpXVybmc0s9ItmOtxJmE6bx0pSaPupFh8TDrwv6PgSmLBIUKUEKlPw=',\n",
       "  'HTTPStatusCode': 200,\n",
       "  'HTTPHeaders': {'x-amz-id-2': 'Huu3Xxgq2IcoDty1yQi47dpXVybmc0s9ItmOtxJmE6bx0pSaPupFh8TDrwv6PgSmLBIUKUEKlPw=',\n",
       "   'x-amz-request-id': 'W031Q62S5NDHEWC0',\n",
       "   'date': 'Thu, 11 Apr 2024 19:12:15 GMT',\n",
       "   'x-amz-server-side-encryption': 'AES256',\n",
       "   'etag': '\"448df0aaca6c187188c71e2f9bc7617d\"',\n",
       "   'server': 'AmazonS3',\n",
       "   'content-length': '0'},\n",
       "  'RetryAttempts': 0},\n",
       " 'ETag': '\"448df0aaca6c187188c71e2f9bc7617d\"',\n",
       " 'ServerSideEncryption': 'AES256'}"
      ]
     },
     "execution_count": 47,
     "metadata": {},
     "output_type": "execute_result"
    }
   ],
   "source": [
    "csv_buffer = StringIO()\n",
    "st_sanDiego_df.to_csv(csv_buffer, index=False)\n",
    "\n",
    "# Upload CSV string to S3\n",
    "bucket_name = 'ads508group4finalproject'\n",
    "subfolder_name = 'stations_transformed'\n",
    "file_name = 'stations_transformed.csv'\n",
    "s3_key = f'{subfolder_name}/{file_name}'\n",
    "\n",
    "s3_client = boto3.client('s3')\n",
    "s3_client.put_object(Body=csv_buffer.getvalue(), Bucket=bucket_name, Key=s3_key)\n",
    "\n"
   ]
  },
  {
   "cell_type": "markdown",
   "id": "8b67c521-9f71-4738-bc23-36b11a3bf36a",
   "metadata": {},
   "source": [
    "**period of record**"
   ]
  },
  {
   "cell_type": "code",
   "execution_count": 48,
   "id": "566a0ee5-ab19-4edb-a965-0abde0da8f16",
   "metadata": {
    "tags": []
   },
   "outputs": [
    {
     "data": {
      "text/plain": [
       "{'ResponseMetadata': {'RequestId': 'W030CS6QS21XVSQE',\n",
       "  'HostId': 'h1liVaQ8FG9hnwXaVYGOgHktb7MXwWDP5ThrJKQ6dFLMZKDjb7SBLYPv3Ml5hGzrzRJW9h5NbsBu3DyF7zoXpw==',\n",
       "  'HTTPStatusCode': 200,\n",
       "  'HTTPHeaders': {'x-amz-id-2': 'h1liVaQ8FG9hnwXaVYGOgHktb7MXwWDP5ThrJKQ6dFLMZKDjb7SBLYPv3Ml5hGzrzRJW9h5NbsBu3DyF7zoXpw==',\n",
       "   'x-amz-request-id': 'W030CS6QS21XVSQE',\n",
       "   'date': 'Thu, 11 Apr 2024 19:12:15 GMT',\n",
       "   'x-amz-server-side-encryption': 'AES256',\n",
       "   'etag': '\"5b0b8963ac15f4ffc186de742907892a\"',\n",
       "   'server': 'AmazonS3',\n",
       "   'content-length': '0'},\n",
       "  'RetryAttempts': 0},\n",
       " 'ETag': '\"5b0b8963ac15f4ffc186de742907892a\"',\n",
       " 'ServerSideEncryption': 'AES256'}"
      ]
     },
     "execution_count": 48,
     "metadata": {},
     "output_type": "execute_result"
    }
   ],
   "source": [
    "csv_buffer = StringIO()\n",
    "por_sanDiego_df.to_csv(csv_buffer, index=False)\n",
    "\n",
    "# Upload CSV string to S3\n",
    "bucket_name = 'ads508group4finalproject'\n",
    "subfolder_name = 'period_of_record_transformed'\n",
    "file_name = 'period_of_record_transformed.csv'\n",
    "s3_key = f'{subfolder_name}/{file_name}'\n",
    "\n",
    "s3_client = boto3.client('s3')\n",
    "s3_client.put_object(Body=csv_buffer.getvalue(), Bucket=bucket_name, Key=s3_key)\n"
   ]
  },
  {
   "cell_type": "markdown",
   "id": "c3769894-4ca7-4fd6-801b-80dea1a588c9",
   "metadata": {},
   "source": [
    "**field results**"
   ]
  },
  {
   "cell_type": "code",
   "execution_count": 49,
   "id": "42bcb417-a8d5-4c30-b53b-f3d9db797923",
   "metadata": {
    "tags": []
   },
   "outputs": [
    {
     "data": {
      "text/plain": [
       "{'ResponseMetadata': {'RequestId': 'SA3RADNM265JJSW7',\n",
       "  'HostId': 'LkkfG/XzM336ZDF22f5G5iU1xGsAm7kWwSp4hLTxBG/kLwMq7py7ZumoJDCJRWqz3GBTtppSKsM=',\n",
       "  'HTTPStatusCode': 200,\n",
       "  'HTTPHeaders': {'x-amz-id-2': 'LkkfG/XzM336ZDF22f5G5iU1xGsAm7kWwSp4hLTxBG/kLwMq7py7ZumoJDCJRWqz3GBTtppSKsM=',\n",
       "   'x-amz-request-id': 'SA3RADNM265JJSW7',\n",
       "   'date': 'Thu, 11 Apr 2024 19:12:16 GMT',\n",
       "   'x-amz-server-side-encryption': 'AES256',\n",
       "   'etag': '\"9ee0fa32c2df0558182a9a12bd61d803\"',\n",
       "   'server': 'AmazonS3',\n",
       "   'content-length': '0'},\n",
       "  'RetryAttempts': 0},\n",
       " 'ETag': '\"9ee0fa32c2df0558182a9a12bd61d803\"',\n",
       " 'ServerSideEncryption': 'AES256'}"
      ]
     },
     "execution_count": 49,
     "metadata": {},
     "output_type": "execute_result"
    }
   ],
   "source": [
    "csv_buffer = StringIO()\n",
    "pivot_fr_sd.to_csv(csv_buffer, index=False)\n",
    "#Upload CSV string to S3\n",
    "    \n",
    "bucket_name = 'ads508group4finalproject'\n",
    "subfolder_name = 'field_results_transformed'\n",
    "file_name = 'field_results_transformed.csv'\n",
    "s3_key = f'{subfolder_name}/{file_name}'\n",
    "\n",
    "s3_client = boto3.client('s3')\n",
    "s3_client.put_object(Body=csv_buffer.getvalue(), Bucket=bucket_name, Key=s3_key)"
   ]
  },
  {
   "cell_type": "markdown",
   "id": "a865aeca-77e2-41df-84bc-eae3e51b21c7",
   "metadata": {},
   "source": [
    "**lab results**"
   ]
  },
  {
   "cell_type": "code",
   "execution_count": 50,
   "id": "6e8ca812-2ba1-450d-845f-875716c16355",
   "metadata": {
    "tags": []
   },
   "outputs": [
    {
     "data": {
      "text/plain": [
       "{'ResponseMetadata': {'RequestId': 'SA3VKPGB1QGAP2Y2',\n",
       "  'HostId': 'ypmtdi2A37aMdjhH6DhHgCYvlSSMFTgc68KDnTqrp6UYnZqqivPuJydGqCaS4W1xNMBB79w0rhH8y3upP3dt296GAzwP5Zq2',\n",
       "  'HTTPStatusCode': 200,\n",
       "  'HTTPHeaders': {'x-amz-id-2': 'ypmtdi2A37aMdjhH6DhHgCYvlSSMFTgc68KDnTqrp6UYnZqqivPuJydGqCaS4W1xNMBB79w0rhH8y3upP3dt296GAzwP5Zq2',\n",
       "   'x-amz-request-id': 'SA3VKPGB1QGAP2Y2',\n",
       "   'date': 'Thu, 11 Apr 2024 19:12:16 GMT',\n",
       "   'x-amz-server-side-encryption': 'AES256',\n",
       "   'etag': '\"7a8dada489505dd453280b1fda9c6a83\"',\n",
       "   'server': 'AmazonS3',\n",
       "   'content-length': '0'},\n",
       "  'RetryAttempts': 0},\n",
       " 'ETag': '\"7a8dada489505dd453280b1fda9c6a83\"',\n",
       " 'ServerSideEncryption': 'AES256'}"
      ]
     },
     "execution_count": 50,
     "metadata": {},
     "output_type": "execute_result"
    }
   ],
   "source": [
    "csv_buffer = StringIO()\n",
    "pivot_lr_sd.to_csv(csv_buffer, index=False)\n",
    "\n",
    "\n",
    "#Upload CSV string to S3\n",
    "bucket_name = 'ads508group4finalproject'\n",
    "subfolder_name = 'lab_results_transformed'\n",
    "file_name = 'lab_results_transformed.csv'\n",
    "s3_key = f'{subfolder_name}/{file_name}'\n",
    "\n",
    "s3_client = boto3.client('s3')\n",
    "s3_client.put_object(Body=csv_buffer.getvalue(), Bucket=bucket_name, Key=s3_key)"
   ]
  },
  {
   "cell_type": "markdown",
   "id": "ad8c2a2f-a807-417a-ac75-1ff46ddc807a",
   "metadata": {},
   "source": [
    "# Athena Database"
   ]
  },
  {
   "cell_type": "markdown",
   "id": "49232250-e843-4d91-8f21-3df2131dac5b",
   "metadata": {},
   "source": [
    "## Create Database"
   ]
  },
  {
   "cell_type": "code",
   "execution_count": 51,
   "id": "e8c70a51-6293-4636-a9f9-1e00fb864262",
   "metadata": {
    "tags": []
   },
   "outputs": [
    {
     "name": "stdout",
     "output_type": "stream",
     "text": [
      "CREATE DATABASE IF NOT EXISTS ADS508Group4\n"
     ]
    },
    {
     "data": {
      "text/html": [
       "<div>\n",
       "<style scoped>\n",
       "    .dataframe tbody tr th:only-of-type {\n",
       "        vertical-align: middle;\n",
       "    }\n",
       "\n",
       "    .dataframe tbody tr th {\n",
       "        vertical-align: top;\n",
       "    }\n",
       "\n",
       "    .dataframe thead th {\n",
       "        text-align: right;\n",
       "    }\n",
       "</style>\n",
       "<table border=\"1\" class=\"dataframe\">\n",
       "  <thead>\n",
       "    <tr style=\"text-align: right;\">\n",
       "      <th></th>\n",
       "      <th>database_name</th>\n",
       "    </tr>\n",
       "  </thead>\n",
       "  <tbody>\n",
       "    <tr>\n",
       "      <th>0</th>\n",
       "      <td>ads508group4</td>\n",
       "    </tr>\n",
       "    <tr>\n",
       "      <th>1</th>\n",
       "      <td>default</td>\n",
       "    </tr>\n",
       "  </tbody>\n",
       "</table>\n",
       "</div>"
      ],
      "text/plain": [
       "  database_name\n",
       "0  ads508group4\n",
       "1       default"
      ]
     },
     "execution_count": 51,
     "metadata": {},
     "output_type": "execute_result"
    }
   ],
   "source": [
    "#define parameters\n",
    "bucket = 'ads508group4finalproject'\n",
    "database_name = \"ADS508Group4\"\n",
    "s3_staging_dir = \"s3://{0}/athena/staging\".format(bucket)\n",
    "region = 'us-east-1'\n",
    "\n",
    "#establish connection to Athena database\n",
    "conn = connect(region_name=region, s3_staging_dir=s3_staging_dir)\n",
    "#create curosr object that can be used to execute queries\n",
    "cur = conn.cursor()\n",
    "\n",
    "statement = \"CREATE DATABASE IF NOT EXISTS {}\".format(database_name)\n",
    "print(statement)\n",
    "\n",
    "pd.read_sql(statement,conn)\n",
    "\n",
    "statement = \"SHOW DATABASES\"\n",
    "df_show = pd.read_sql(statement,conn)\n",
    "df_show.head(5)\n"
   ]
  },
  {
   "cell_type": "markdown",
   "id": "bc0a9f4b-8782-430e-a5bc-c994ed10863d",
   "metadata": {},
   "source": [
    "## Create Database Tables and import Data"
   ]
  },
  {
   "cell_type": "markdown",
   "id": "1f592500-1c63-4433-b78d-6d3a879c5792",
   "metadata": {},
   "source": [
    "**Stations Table**"
   ]
  },
  {
   "cell_type": "code",
   "execution_count": 52,
   "id": "7ad66a8a-f878-4e79-8ebd-34064f03a3a7",
   "metadata": {
    "tags": []
   },
   "outputs": [
    {
     "name": "stdout",
     "output_type": "stream",
     "text": [
      "  station_id  latitude  longitude county_name\n",
      "0      21453   33.6110  -117.6241   San Diego\n",
      "1      22879   33.5428  -117.1425   San Diego\n",
      "2      22919   33.5825  -117.2447   San Diego\n",
      "3      23932   33.4289  -116.8370   San Diego\n",
      "4      24039   33.4330  -117.2228   San Diego\n"
     ]
    }
   ],
   "source": [
    "#specify location of where the file that we will ingest data from is located\n",
    "subfolder = \"stations_transformed\"\n",
    "loc = 's3://{}/{}/'.format(bucket, subfolder)\n",
    "#specify database table name\n",
    "table_name = \"stations\"\n",
    "\n",
    "# sql statement to make table\n",
    "make_stations_table = \"\"\"\n",
    "    CREATE EXTERNAL TABLE IF NOT EXISTS {}.{} (\n",
    "        station_id int,\n",
    "        latitude double,\n",
    "        longitude double,\n",
    "        county_name string\n",
    "    ) ROW FORMAT DELIMITED\n",
    "    FIELDS TERMINATED BY ','\n",
    "    LINES TERMINATED BY '\\\\n'\n",
    "    LOCATION '{}'\n",
    "    TBLPROPERTIES ('compressionType'='gzip', 'skip.header.line.count'='1')\n",
    "\"\"\".format(database_name, table_name, loc)\n",
    "\n",
    "#execute sql statement\n",
    "cur.execute(make_stations_table)\n",
    "\n",
    "#preview first 5 rows\n",
    "head_query = \"SELECT * FROM {}.{} LIMIT 5\".format(database_name, table_name)\n",
    "df_first_5_rows = pd.read_sql(head_query, conn)\n",
    "print(df_first_5_rows)"
   ]
  },
  {
   "cell_type": "markdown",
   "id": "b5df631d-9274-4b1c-bcfb-d8c08fe782f7",
   "metadata": {
    "tags": []
   },
   "source": [
    "**Field Results Table**"
   ]
  },
  {
   "cell_type": "code",
   "execution_count": 53,
   "id": "44387054-8312-4453-a0c2-68db69c6a354",
   "metadata": {
    "tags": []
   },
   "outputs": [
    {
     "name": "stdout",
     "output_type": "stream",
     "text": [
      "  station_id          sample_date  latitude  longitude county_name  \\\n",
      "0      27915  1949-12-22 00:00:00   33.2186  -117.3409   San Diego   \n",
      "1      28000  1949-12-23 11:30:00   33.2112  -117.3568   San Diego   \n",
      "2       5762  1950-12-21 14:00:00   33.1145  -117.1300   San Diego   \n",
      "3       5643  1951-02-14 08:50:00   33.3984  -117.2625   San Diego   \n",
      "4       5762  1951-03-01 15:15:00   33.1145  -117.1300   San Diego   \n",
      "\n",
      "   conductance dissolvedoxygen specificconductance  watertemperature   ph  \n",
      "0          NaN            None                None         17.777778       \n",
      "1          NaN            None                None         17.777778       \n",
      "2       1680.0            None                None               NaN       \n",
      "3          NaN            None                None               NaN  8.4  \n",
      "4       1420.0            None                None               NaN       \n"
     ]
    }
   ],
   "source": [
    "#specify location of where the file that we will ingest data from is located\n",
    "subfolder = \"field_results_transformed\"\n",
    "loc = 's3://{}/{}/'.format(bucket, subfolder)\n",
    "# Specify the table name\n",
    "table_name = \"field_results\"\n",
    "\n",
    "# SQL statement to create the table for field results\n",
    "make_field_results_table = \"\"\"\n",
    "    CREATE EXTERNAL TABLE IF NOT EXISTS {}.{} (\n",
    "        station_id int,\n",
    "        sample_date DATE,\n",
    "        latitude double,\n",
    "        longitude double,\n",
    "        county_name string,\n",
    "        -- Add more columns as needed based on your field results data\n",
    "        Conductance double,\n",
    "        DissolvedOxygen double,\n",
    "        SpecificConductance double,\n",
    "        WaterTemperature double,\n",
    "        pH string\n",
    "    ) ROW FORMAT DELIMITED\n",
    "    FIELDS TERMINATED BY ','\n",
    "    LINES TERMINATED BY '\\\\n'\n",
    "    LOCATION '{}'\n",
    "    TBLPROPERTIES ('compressionType'='gzip', 'skip.header.line.count'='1')\n",
    "\"\"\".format(database_name, table_name, loc)\n",
    "\n",
    "# Execute the SQL statement to create the table\n",
    "cur.execute(make_field_results_table)\n",
    "\n",
    "# Preview first 5 rows\n",
    "head_query = \"SELECT * FROM {}.{} LIMIT 5\".format(database_name, table_name)\n",
    "df_first_5_rows = pd.read_sql(head_query, conn)\n",
    "print(df_first_5_rows)"
   ]
  },
  {
   "cell_type": "markdown",
   "id": "5ee71483-d89a-4934-a8a9-4ed9cf39a68e",
   "metadata": {},
   "source": [
    "**Lab Results Tables**"
   ]
  },
  {
   "cell_type": "code",
   "execution_count": 54,
   "id": "60434c44-37c8-4454-936b-cecbd6a97f60",
   "metadata": {
    "tags": []
   },
   "outputs": [
    {
     "name": "stdout",
     "output_type": "stream",
     "text": [
      "  station_id          sample_date latitude  longitude county_name conductance  \\\n",
      "0      29246  1917-11-20 00:00:00  33.1139   -115.826   San Diego        None   \n",
      "1      46749  1917-11-24 00:00:00  32.6183  -116.2006   San Diego        None   \n",
      "2      32161  1917-11-26 00:00:00  32.8807   -116.103   San Diego        None   \n",
      "3      32162  1917-11-26 00:00:00  32.8807   -116.103   San Diego        None   \n",
      "4      46698  1917-11-27 00:00:00   32.968  -116.3464   San Diego        None   \n",
      "\n",
      "   dissolvedcalcium  dissolvedsodium  totalalkalinity ph  \n",
      "0              30.0            705.0            170.0     \n",
      "1              43.0              NaN            182.0     \n",
      "2             100.0            338.0            150.0     \n",
      "3             100.0            338.0            150.0     \n",
      "4             101.0              NaN            217.0     \n"
     ]
    }
   ],
   "source": [
    "# Specify the location of the file from which data will be ingested\n",
    "subfolder = \"lab_results_transformed\"\n",
    "loc = 's3://{}/{}/'.format(bucket, subfolder)\n",
    "#specify database table name\n",
    "table_name = \"lab_results\"\n",
    "\n",
    "# SQL statement to create the table for lab results\n",
    "make_lab_results_table = \"\"\"\n",
    "    CREATE EXTERNAL TABLE IF NOT EXISTS {}.{} (\n",
    "        station_id int,\n",
    "        sample_date\t DATE,\n",
    "        latitude double,\n",
    "        longitude double,\n",
    "        county_name string,\n",
    "        Conductance double,\n",
    "        DissolvedCalcium double,\n",
    "        DissolvedSodium\t double,\n",
    "        TotalAlkalinity\t double,\n",
    "        pH double\n",
    "    ) ROW FORMAT DELIMITED\n",
    "    FIELDS TERMINATED BY ','\n",
    "    LINES TERMINATED BY '\\\\n'\n",
    "    LOCATION '{}'\n",
    "    TBLPROPERTIES ('compressionType'='gzip', 'skip.header.line.count'='1')\n",
    "\"\"\".format(database_name, table_name, loc)\n",
    "\n",
    "# Execute the SQL statement to create the table for lab results\n",
    "cur.execute(make_lab_results_table)\n",
    "\n",
    "# Preview first 5 rows\n",
    "head_query = \"SELECT * FROM {}.{} LIMIT 5\".format(database_name, table_name)\n",
    "df_first_5_rows = pd.read_sql(head_query, conn)\n",
    "print(df_first_5_rows)"
   ]
  },
  {
   "cell_type": "markdown",
   "id": "12937414-7f3e-453b-a2ef-f0be30004d65",
   "metadata": {
    "tags": []
   },
   "source": [
    "# Model Preparation"
   ]
  },
  {
   "cell_type": "markdown",
   "id": "719cd9ff-083a-431c-9ba2-f6c057098755",
   "metadata": {},
   "source": [
    "**Merge tables together for modeling**"
   ]
  },
  {
   "cell_type": "code",
   "execution_count": 55,
   "id": "49ab43e7-d2e5-4ba3-bd47-398b978aff5d",
   "metadata": {
    "tags": []
   },
   "outputs": [],
   "source": [
    "# Define table names\n",
    "stations_table = \"stations\"\n",
    "field_results_table = \"field_results\"\n",
    "lab_results_table = \"lab_results\"\n",
    "\n",
    "# SQL query to fetch data from stations and lab results query\n",
    "\n",
    "merged_df_query = \"\"\"SELECT \n",
    "                        lr.sample_date, \n",
    "                        st.station_id,\n",
    "                        st.latitude,\n",
    "                        st.longitude,\n",
    "                        lr.conductance, \n",
    "                        lr.dissolvedcalcium, \n",
    "                        lr.dissolvedsodium, \n",
    "                        lr.totalalkalinity, \n",
    "                        lr.pH AS lab_ph\n",
    "                    FROM ADS508Group4.lab_results lr\n",
    "                    INNER JOIN ADS508Group4.stations st ON st.station_id = lr.station_id\n",
    "                    \"\"\"\n",
    "\n",
    "merged_df = pd.read_sql(merged_df_query, conn)\n",
    "\n",
    "#close cursor and connection \n",
    "cur.close()\n",
    "conn.close()"
   ]
  },
  {
   "cell_type": "code",
   "execution_count": 56,
   "id": "2a35832f-5c47-4210-9aa4-b14af6aae7ce",
   "metadata": {
    "tags": []
   },
   "outputs": [
    {
     "name": "stdout",
     "output_type": "stream",
     "text": [
      "7909\n",
      "sample_date            0\n",
      "station_id             0\n",
      "latitude               0\n",
      "longitude              0\n",
      "conductance          736\n",
      "dissolvedcalcium    1417\n",
      "dissolvedsodium     1408\n",
      "totalalkalinity      677\n",
      "lab_ph                 0\n",
      "dtype: int64\n"
     ]
    }
   ],
   "source": [
    "# Print the first few rows of merged_df_filtered\n",
    "print(len(merged_df))\n",
    "\n",
    "missing_values_count = merged_df.isnull().sum()\n",
    "print(missing_values_count)"
   ]
  },
  {
   "cell_type": "markdown",
   "id": "2afc1ee3-2e11-4c4a-96e9-f753c6f3b06c",
   "metadata": {},
   "source": [
    "## Generate Target Variable, Specify Acceptable Ranges\n",
    "\n",
    "Classify Water Quality into Acceptable and Unacceptable. Acceptable means requiring less processing for drinking. Unacceptable means requiring more processing for drinking"
   ]
  },
  {
   "cell_type": "code",
   "execution_count": 60,
   "id": "d0dce2ba-7057-4778-9900-fba5018192f3",
   "metadata": {
    "tags": []
   },
   "outputs": [
    {
     "name": "stdout",
     "output_type": "stream",
     "text": [
      "0    6885\n",
      "1    1024\n",
      "Name: acceptable, dtype: int64\n"
     ]
    },
    {
     "data": {
      "text/html": [
       "<div>\n",
       "<style scoped>\n",
       "    .dataframe tbody tr th:only-of-type {\n",
       "        vertical-align: middle;\n",
       "    }\n",
       "\n",
       "    .dataframe tbody tr th {\n",
       "        vertical-align: top;\n",
       "    }\n",
       "\n",
       "    .dataframe thead th {\n",
       "        text-align: right;\n",
       "    }\n",
       "</style>\n",
       "<table border=\"1\" class=\"dataframe\">\n",
       "  <thead>\n",
       "    <tr style=\"text-align: right;\">\n",
       "      <th></th>\n",
       "      <th>sample_date</th>\n",
       "      <th>station_id</th>\n",
       "      <th>latitude</th>\n",
       "      <th>longitude</th>\n",
       "      <th>conductance</th>\n",
       "      <th>dissolvedcalcium</th>\n",
       "      <th>dissolvedsodium</th>\n",
       "      <th>totalalkalinity</th>\n",
       "      <th>lab_ph</th>\n",
       "      <th>acceptable</th>\n",
       "    </tr>\n",
       "  </thead>\n",
       "  <tbody>\n",
       "    <tr>\n",
       "      <th>0</th>\n",
       "      <td>1917-11-20 00:00:00</td>\n",
       "      <td>29246</td>\n",
       "      <td>33.1139</td>\n",
       "      <td>-115.8260</td>\n",
       "      <td>NaN</td>\n",
       "      <td>30.0</td>\n",
       "      <td>705.0</td>\n",
       "      <td>170.0</td>\n",
       "      <td>NaN</td>\n",
       "      <td>0</td>\n",
       "    </tr>\n",
       "    <tr>\n",
       "      <th>1</th>\n",
       "      <td>1917-11-24 00:00:00</td>\n",
       "      <td>46749</td>\n",
       "      <td>32.6183</td>\n",
       "      <td>-116.2006</td>\n",
       "      <td>NaN</td>\n",
       "      <td>43.0</td>\n",
       "      <td>NaN</td>\n",
       "      <td>182.0</td>\n",
       "      <td>NaN</td>\n",
       "      <td>0</td>\n",
       "    </tr>\n",
       "    <tr>\n",
       "      <th>2</th>\n",
       "      <td>1917-11-26 00:00:00</td>\n",
       "      <td>32161</td>\n",
       "      <td>32.8807</td>\n",
       "      <td>-116.1030</td>\n",
       "      <td>NaN</td>\n",
       "      <td>100.0</td>\n",
       "      <td>338.0</td>\n",
       "      <td>150.0</td>\n",
       "      <td>NaN</td>\n",
       "      <td>0</td>\n",
       "    </tr>\n",
       "    <tr>\n",
       "      <th>3</th>\n",
       "      <td>1917-11-26 00:00:00</td>\n",
       "      <td>32162</td>\n",
       "      <td>32.8807</td>\n",
       "      <td>-116.1030</td>\n",
       "      <td>NaN</td>\n",
       "      <td>100.0</td>\n",
       "      <td>338.0</td>\n",
       "      <td>150.0</td>\n",
       "      <td>NaN</td>\n",
       "      <td>0</td>\n",
       "    </tr>\n",
       "    <tr>\n",
       "      <th>4</th>\n",
       "      <td>1917-11-27 00:00:00</td>\n",
       "      <td>46698</td>\n",
       "      <td>32.9680</td>\n",
       "      <td>-116.3464</td>\n",
       "      <td>NaN</td>\n",
       "      <td>101.0</td>\n",
       "      <td>NaN</td>\n",
       "      <td>217.0</td>\n",
       "      <td>NaN</td>\n",
       "      <td>0</td>\n",
       "    </tr>\n",
       "  </tbody>\n",
       "</table>\n",
       "</div>"
      ],
      "text/plain": [
       "           sample_date station_id  latitude  longitude  conductance  \\\n",
       "0  1917-11-20 00:00:00      29246   33.1139  -115.8260          NaN   \n",
       "1  1917-11-24 00:00:00      46749   32.6183  -116.2006          NaN   \n",
       "2  1917-11-26 00:00:00      32161   32.8807  -116.1030          NaN   \n",
       "3  1917-11-26 00:00:00      32162   32.8807  -116.1030          NaN   \n",
       "4  1917-11-27 00:00:00      46698   32.9680  -116.3464          NaN   \n",
       "\n",
       "   dissolvedcalcium  dissolvedsodium  totalalkalinity  lab_ph  acceptable  \n",
       "0              30.0            705.0            170.0     NaN           0  \n",
       "1              43.0              NaN            182.0     NaN           0  \n",
       "2             100.0            338.0            150.0     NaN           0  \n",
       "3             100.0            338.0            150.0     NaN           0  \n",
       "4             101.0              NaN            217.0     NaN           0  "
      ]
     },
     "execution_count": 60,
     "metadata": {},
     "output_type": "execute_result"
    }
   ],
   "source": [
    "#conductance: 50-800\n",
    "#dissolvedsodium: 20-200\n",
    "#totalalkalinity:100-300\n",
    "#labpH:6.5 to 8.5\n",
    "merged_df['lab_ph'] = merged_df['lab_ph'].replace('', np.nan)\n",
    "\n",
    "merged_df['lab_ph'] = merged_df['lab_ph'].astype(float)\n",
    "\n",
    "\n",
    "cond_conductance = (merged_df['conductance'] >= 50) & (merged_df['conductance'] <= 800)\n",
    "cond_dissolvedsodium = (merged_df['dissolvedsodium'] >= 20) & (merged_df['dissolvedsodium'] <= 200)\n",
    "cond_totalalkalinity = (merged_df['totalalkalinity'] >= 100) & (merged_df['totalalkalinity'] <= 300)\n",
    "cond_dissolvedcalcium = (merged_df['dissolvedcalcium'] >= 0) & (merged_df['dissolvedcalcium'] <= 200) #double check this value\n",
    "cond_ph = (merged_df['lab_ph'] >= 6.5) & (merged_df['lab_ph'] <= 8.5)\n",
    "\n",
    "# Create the 'acceptable' column\n",
    "merged_df['acceptable'] = np.where(cond_conductance & cond_dissolvedsodium & cond_totalalkalinity & cond_dissolvedcalcium, 1, 0)\n",
    "\n",
    "# Display the updated dataframe\n",
    "merged_df.head()\n",
    "\n",
    "counts = merged_df['acceptable'].value_counts()\n",
    "print(counts)\n",
    "\n",
    "merged_df.head()"
   ]
  },
  {
   "cell_type": "markdown",
   "id": "3ed3f802-8003-4a62-9fd0-19b1345689c0",
   "metadata": {
    "tags": []
   },
   "source": [
    "## Additional Data Exploration"
   ]
  },
  {
   "cell_type": "code",
   "execution_count": 61,
   "id": "6464d8d5-57bd-4ae9-9e2d-80b7c29e5cae",
   "metadata": {
    "tags": []
   },
   "outputs": [
    {
     "data": {
      "image/png": "[encoded data removed]",
      "text/plain": [
       "<Figure size 720x432 with 1 Axes>"
      ]
     },
     "metadata": {
      "needs_background": "light"
     },
     "output_type": "display_data"
    },
    {
     "name": "stdout",
     "output_type": "stream",
     "text": [
      "sample_date            0\n",
      "station_id             0\n",
      "latitude               0\n",
      "longitude              0\n",
      "conductance          736\n",
      "dissolvedcalcium    1417\n",
      "dissolvedsodium     1408\n",
      "totalalkalinity      677\n",
      "lab_ph               928\n",
      "acceptable             0\n",
      "dtype: int64\n"
     ]
    }
   ],
   "source": [
    "#replace empty fields with null\n",
    "merged_df['lab_ph'] = merged_df['lab_ph'].replace('', float('nan'))\n",
    "#convert to numeric datatype\n",
    "merged_df['lab_ph'] = pd.to_numeric(merged_df['lab_ph'], errors='coerce')\n",
    "\n",
    "null_values_count = merged_df.isnull().sum()\n",
    "\n",
    "merged_df['sample_date'] = pd.to_datetime(merged_df['sample_date'])\n",
    "\n",
    "merged_df['decade'] = (merged_df['sample_date'].dt.year // 10) * 10\n",
    "\n",
    "# Group by decade and calculate total missing values per column\n",
    "missing_values_by_decade = merged_df.groupby('decade').apply(lambda x: x.isnull().sum().sum())\n",
    "\n",
    "# Plot the total missing values by decade\n",
    "plt.figure(figsize=(10, 6))\n",
    "missing_values_by_decade.plot(kind='bar', color='skyblue')\n",
    "plt.title('Total Missing Values by Decade')\n",
    "plt.xlabel('Decade')\n",
    "plt.ylabel('Total Missing Values')\n",
    "plt.xticks(rotation=45)\n",
    "plt.tight_layout()\n",
    "plt.show()\n",
    "\n",
    "print(null_values_count)"
   ]
  },
  {
   "cell_type": "code",
   "execution_count": 62,
   "id": "f8f61925-3aca-49d6-9456-830730a57e09",
   "metadata": {
    "tags": []
   },
   "outputs": [
    {
     "ename": "NameError",
     "evalue": "name 'merged_df_filtered' is not defined",
     "output_type": "error",
     "traceback": [
      "\u001b[0;31m---------------------------------------------------------------------------\u001b[0m",
      "\u001b[0;31mNameError\u001b[0m                                 Traceback (most recent call last)",
      "Cell \u001b[0;32mIn[62], line 12\u001b[0m\n\u001b[1;32m     10\u001b[0m \u001b[38;5;66;03m# Iterate over each column and create a boxplot in a separate subplot\u001b[39;00m\n\u001b[1;32m     11\u001b[0m \u001b[38;5;28;01mfor\u001b[39;00m i, column \u001b[38;5;129;01min\u001b[39;00m \u001b[38;5;28menumerate\u001b[39m(columns):\n\u001b[0;32m---> 12\u001b[0m     axs[i]\u001b[38;5;241m.\u001b[39mboxplot(\u001b[43mmerged_df_filtered\u001b[49m[column]\u001b[38;5;241m.\u001b[39mdropna())\n\u001b[1;32m     13\u001b[0m     axs[i]\u001b[38;5;241m.\u001b[39mset_title(column)\n\u001b[1;32m     14\u001b[0m     axs[i]\u001b[38;5;241m.\u001b[39mset_ylabel(\u001b[38;5;124m'\u001b[39m\u001b[38;5;124mValue\u001b[39m\u001b[38;5;124m'\u001b[39m)\n",
      "\u001b[0;31mNameError\u001b[0m: name 'merged_df_filtered' is not defined"
     ]
    },
    {
     "data": {
      "image/png": "[encoded data removed]",
      "text/plain": [
       "<Figure size 1296x720 with 4 Axes>"
      ]
     },
     "metadata": {
      "needs_background": "light"
     },
     "output_type": "display_data"
    }
   ],
   "source": [
    "# List of columns for the boxplot\n",
    "columns = ['conductance','dissolvedsodium', 'totalalkalinity', 'lab_ph']\n",
    "\n",
    "# Create a 2x3 grid of subplots\n",
    "fig, axs = plt.subplots(2, 2, figsize=(18, 10))\n",
    "\n",
    "# Flatten the 2x3 grid of subplots into a 1D array for easy iteration\n",
    "axs = axs.flatten()\n",
    "\n",
    "# Iterate over each column and create a boxplot in a separate subplot\n",
    "for i, column in enumerate(columns):\n",
    "    axs[i].boxplot(merged_df_filtered[column].dropna())\n",
    "    axs[i].set_title(column)\n",
    "    axs[i].set_ylabel('Value')\n",
    "\n",
    "# Adjust the layout of subplots\n",
    "plt.tight_layout()\n",
    "plt.show()\n"
   ]
  },
  {
   "cell_type": "code",
   "execution_count": null,
   "id": "063aad76-8d00-4500-b9d2-71a050208910",
   "metadata": {
    "tags": []
   },
   "outputs": [],
   "source": [
    "#there was a random datapoint out of san diego county\n",
    "merged_df = merged_df[merged_df['latitude'] <= 34]\n",
    "columns = ['conductance', 'dissolvedcalcium', 'dissolvedsodium', 'totalalkalinity', 'lab_ph']\n",
    "\n",
    "# Create a 2x3 grid of subplots\n",
    "fig, axs = plt.subplots(2, 3, figsize=(18, 12))\n",
    "\n",
    "# Flatten the axs array to iterate over it\n",
    "axs = axs.flatten()\n",
    "\n",
    "# Iterate over the columns and plot a scatter plot in each subplot\n",
    "for i, col in enumerate(columns):\n",
    "    # Create a scatter plot\n",
    "    scatter = axs[i].scatter(merged_df['longitude'], merged_df['latitude'], c=merged_df[col], cmap='viridis')\n",
    "\n",
    "    # Add colorbar\n",
    "    plt.colorbar(scatter, ax=axs[i], label=col)\n",
    "\n",
    "    # Add labels and title\n",
    "    axs[i].set_xlabel('Longitude')\n",
    "    axs[i].set_ylabel('Latitude')\n",
    "    axs[i].set_title(f'Scatter Plot of Longitude vs Latitude (Color: {col})')\n",
    "\n",
    "# Adjust layout\n",
    "plt.tight_layout()\n",
    "plt.show()\n"
   ]
  },
  {
   "cell_type": "markdown",
   "id": "7969f5c9-a892-40a3-81c8-7cefe1d8c1ca",
   "metadata": {},
   "source": [
    "**Correlation Matrix**"
   ]
  },
  {
   "cell_type": "code",
   "execution_count": null,
   "id": "abf2723d-96c2-4cf3-9607-c620608ba5a4",
   "metadata": {
    "tags": []
   },
   "outputs": [],
   "source": [
    "corr_matrix = merged_df.corr()\n",
    "\n",
    "# Create a heatmap\n",
    "plt.figure(figsize=(10, 8))\n",
    "sns.heatmap(corr_matrix, annot=True, cmap='coolwarm', fmt=\".2f\")\n",
    "plt.title('Correlation Matrix')\n",
    "plt.show()"
   ]
  },
  {
   "cell_type": "code",
   "execution_count": null,
   "id": "bd64bb4e-68b8-4cf5-a56a-f300dca28046",
   "metadata": {
    "tags": []
   },
   "outputs": [],
   "source": [
    "# Create a scatter plot\n",
    "plt.figure(figsize=(10, 8))\n",
    "scatter = plt.scatter(merged_df['longitude'], merged_df['latitude'], \n",
    "                      c=merged_df['acceptable'], cmap='coolwarm', alpha=0.2)\n",
    "\n",
    "# Add a colorbar\n",
    "plt.colorbar(scatter, label='Acceptable (1: Green, 0: Red)')\n",
    "\n",
    "# Add labels and title\n",
    "plt.xlabel('Longitude')\n",
    "plt.ylabel('Latitude')\n",
    "plt.title('Scatter Plot of Latitude vs Longitude (Color: Acceptable)')\n",
    "\n",
    "# Show plot\n",
    "plt.show()\n"
   ]
  },
  {
   "cell_type": "markdown",
   "id": "b3884b52-d133-4aba-b4de-77dc4667c9cc",
   "metadata": {},
   "source": [
    "## Drop any fields containing null values"
   ]
  },
  {
   "cell_type": "code",
   "execution_count": 63,
   "id": "1575b84b-8469-4dcd-9dbf-6e024bf0b350",
   "metadata": {
    "tags": []
   },
   "outputs": [],
   "source": [
    "merged_df = merged_df.dropna()"
   ]
  },
  {
   "cell_type": "code",
   "execution_count": 64,
   "id": "b43bd914-af32-4ea4-82ae-7047989a8dd7",
   "metadata": {
    "tags": []
   },
   "outputs": [
    {
     "data": {
      "text/html": [
       "<div>\n",
       "<style scoped>\n",
       "    .dataframe tbody tr th:only-of-type {\n",
       "        vertical-align: middle;\n",
       "    }\n",
       "\n",
       "    .dataframe tbody tr th {\n",
       "        vertical-align: top;\n",
       "    }\n",
       "\n",
       "    .dataframe thead th {\n",
       "        text-align: right;\n",
       "    }\n",
       "</style>\n",
       "<table border=\"1\" class=\"dataframe\">\n",
       "  <thead>\n",
       "    <tr style=\"text-align: right;\">\n",
       "      <th></th>\n",
       "      <th>sample_date</th>\n",
       "      <th>station_id</th>\n",
       "      <th>latitude</th>\n",
       "      <th>longitude</th>\n",
       "      <th>conductance</th>\n",
       "      <th>dissolvedcalcium</th>\n",
       "      <th>dissolvedsodium</th>\n",
       "      <th>totalalkalinity</th>\n",
       "      <th>lab_ph</th>\n",
       "      <th>acceptable</th>\n",
       "      <th>decade</th>\n",
       "    </tr>\n",
       "  </thead>\n",
       "  <tbody>\n",
       "    <tr>\n",
       "      <th>111</th>\n",
       "      <td>1947-10-10 00:00:00</td>\n",
       "      <td>5766</td>\n",
       "      <td>32.9128</td>\n",
       "      <td>-116.9256</td>\n",
       "      <td>520.0</td>\n",
       "      <td>22.0</td>\n",
       "      <td>68.0</td>\n",
       "      <td>131.0</td>\n",
       "      <td>8.1</td>\n",
       "      <td>1</td>\n",
       "      <td>1940</td>\n",
       "    </tr>\n",
       "    <tr>\n",
       "      <th>170</th>\n",
       "      <td>1949-10-21 12:00:00</td>\n",
       "      <td>5741</td>\n",
       "      <td>33.3370</td>\n",
       "      <td>-117.1356</td>\n",
       "      <td>526.0</td>\n",
       "      <td>39.0</td>\n",
       "      <td>56.0</td>\n",
       "      <td>159.0</td>\n",
       "      <td>8.3</td>\n",
       "      <td>1</td>\n",
       "      <td>1940</td>\n",
       "    </tr>\n",
       "    <tr>\n",
       "      <th>173</th>\n",
       "      <td>1949-12-06 00:00:00</td>\n",
       "      <td>26456</td>\n",
       "      <td>33.2956</td>\n",
       "      <td>-117.3509</td>\n",
       "      <td>950.0</td>\n",
       "      <td>62.0</td>\n",
       "      <td>116.0</td>\n",
       "      <td>220.0</td>\n",
       "      <td>7.4</td>\n",
       "      <td>0</td>\n",
       "      <td>1940</td>\n",
       "    </tr>\n",
       "    <tr>\n",
       "      <th>174</th>\n",
       "      <td>1949-12-22 00:00:00</td>\n",
       "      <td>27915</td>\n",
       "      <td>33.2186</td>\n",
       "      <td>-117.3409</td>\n",
       "      <td>1210.0</td>\n",
       "      <td>88.0</td>\n",
       "      <td>113.0</td>\n",
       "      <td>247.0</td>\n",
       "      <td>7.7</td>\n",
       "      <td>0</td>\n",
       "      <td>1940</td>\n",
       "    </tr>\n",
       "    <tr>\n",
       "      <th>175</th>\n",
       "      <td>1949-12-23 11:30:00</td>\n",
       "      <td>28000</td>\n",
       "      <td>33.2112</td>\n",
       "      <td>-117.3568</td>\n",
       "      <td>1400.0</td>\n",
       "      <td>100.0</td>\n",
       "      <td>136.0</td>\n",
       "      <td>231.0</td>\n",
       "      <td>7.8</td>\n",
       "      <td>0</td>\n",
       "      <td>1940</td>\n",
       "    </tr>\n",
       "  </tbody>\n",
       "</table>\n",
       "</div>"
      ],
      "text/plain": [
       "            sample_date station_id  latitude  longitude  conductance  \\\n",
       "111 1947-10-10 00:00:00       5766   32.9128  -116.9256        520.0   \n",
       "170 1949-10-21 12:00:00       5741   33.3370  -117.1356        526.0   \n",
       "173 1949-12-06 00:00:00      26456   33.2956  -117.3509        950.0   \n",
       "174 1949-12-22 00:00:00      27915   33.2186  -117.3409       1210.0   \n",
       "175 1949-12-23 11:30:00      28000   33.2112  -117.3568       1400.0   \n",
       "\n",
       "     dissolvedcalcium  dissolvedsodium  totalalkalinity  lab_ph  acceptable  \\\n",
       "111              22.0             68.0            131.0     8.1           1   \n",
       "170              39.0             56.0            159.0     8.3           1   \n",
       "173              62.0            116.0            220.0     7.4           0   \n",
       "174              88.0            113.0            247.0     7.7           0   \n",
       "175             100.0            136.0            231.0     7.8           0   \n",
       "\n",
       "     decade  \n",
       "111    1940  \n",
       "170    1940  \n",
       "173    1940  \n",
       "174    1940  \n",
       "175    1940  "
      ]
     },
     "execution_count": 64,
     "metadata": {},
     "output_type": "execute_result"
    }
   ],
   "source": [
    "merged_df.head()"
   ]
  },
  {
   "cell_type": "markdown",
   "id": "40766b27-dfc9-43e2-af50-46281a6d17a9",
   "metadata": {
    "tags": [],
    "toc-hr-collapsed": true
   },
   "source": [
    "## Subset Training and Testing Dataframes"
   ]
  },
  {
   "cell_type": "code",
   "execution_count": 65,
   "id": "7e2ed24d-3959-4d67-8864-c6bf98be5cc8",
   "metadata": {
    "tags": []
   },
   "outputs": [],
   "source": [
    "# Extract features and target variable\n",
    "X = merged_df[['latitude','longitude']]\n",
    "y = merged_df[['acceptable']]  # Adjust column names as needed\n",
    "\n",
    "# Split the data into training, validation, and test sets\n",
    "X_train, X_temp, y_train, y_temp = train_test_split(X, y, test_size=0.2, random_state=42)\n",
    "X_val, X_test, y_val, y_test = train_test_split(X_temp, y_temp, test_size=0.5, random_state=42)"
   ]
  },
  {
   "cell_type": "markdown",
   "id": "5c642c69-1dba-4e25-99fa-f3e907a6d584",
   "metadata": {},
   "source": [
    "# Modeling"
   ]
  },
  {
   "cell_type": "markdown",
   "id": "f421b740-331f-4c30-8e9b-9edd87f2810b",
   "metadata": {},
   "source": [
    "## Logistic Regression"
   ]
  },
  {
   "cell_type": "code",
   "execution_count": 66,
   "id": "04480a2c-ae22-485a-8d0a-536bc154209d",
   "metadata": {
    "tags": []
   },
   "outputs": [
    {
     "name": "stdout",
     "output_type": "stream",
     "text": [
      "Validation Metrics:\n",
      "Accuracy: 0.8351063829787234\n",
      "Mean Absolute Error: 0.16489361702127658\n",
      "Mean Squared Error: 0.16489361702127658\n",
      "Root Mean Squared Error: 0.40607095072324073\n",
      "Recall (Sensitivity): 0.0\n",
      "Specificity: 1.0\n",
      "\n",
      "Test Metrics:\n",
      "Accuracy: 0.8173758865248227\n",
      "Mean Absolute Error: 0.18262411347517732\n",
      "Mean Squared Error: 0.18262411347517732\n",
      "Root Mean Squared Error: 0.42734542641191015\n",
      "Recall (Sensitivity): 0.0\n",
      "Specificity: 1.0\n"
     ]
    }
   ],
   "source": [
    "# Assuming X_train, X_val, X_test are your feature matrices\n",
    "# Train logistic regression model on preprocessed data\n",
    "model = LogisticRegression()\n",
    "model.fit(X_train, y_train)\n",
    "\n",
    "# Validate the model\n",
    "val_preds = model.predict(X_val)\n",
    "val_accuracy = accuracy_score(y_val, val_preds)\n",
    "val_mae = mean_absolute_error(y_val, val_preds)\n",
    "val_mse = mean_squared_error(y_val, val_preds)\n",
    "val_rmse = np.sqrt(val_mse)\n",
    "val_recall = recall_score(y_val, val_preds)\n",
    "tn, fp, fn, tp = confusion_matrix(y_val, val_preds).ravel()\n",
    "val_specificity = tn / (tn + fp)\n",
    "\n",
    "print(\"Validation Metrics:\")\n",
    "print(\"Accuracy:\", val_accuracy)\n",
    "print(\"Mean Absolute Error:\", val_mae)\n",
    "print(\"Mean Squared Error:\", val_mse)\n",
    "print(\"Root Mean Squared Error:\", val_rmse)\n",
    "print(\"Recall (Sensitivity):\", val_recall)\n",
    "print(\"Specificity:\", val_specificity)\n",
    "\n",
    "# Test the final model on the test set\n",
    "test_preds = model.predict(X_test)\n",
    "test_accuracy = accuracy_score(y_test, test_preds)\n",
    "test_mae = mean_absolute_error(y_test, test_preds)\n",
    "test_mse = mean_squared_error(y_test, test_preds)\n",
    "test_rmse = np.sqrt(test_mse)\n",
    "test_recall = recall_score(y_test, test_preds)\n",
    "tn, fp, fn, tp = confusion_matrix(y_test, test_preds).ravel()\n",
    "test_specificity = tn / (tn + fp)\n",
    "\n",
    "print(\"\\nTest Metrics:\")\n",
    "print(\"Accuracy:\", test_accuracy)\n",
    "print(\"Mean Absolute Error:\", test_mae)\n",
    "print(\"Mean Squared Error:\", test_mse)\n",
    "print(\"Root Mean Squared Error:\", test_rmse)\n",
    "print(\"Recall (Sensitivity):\", test_recall)\n",
    "print(\"Specificity:\", test_specificity)"
   ]
  },
  {
   "cell_type": "markdown",
   "id": "3ba3dc8f-5819-450e-b3d7-3945e751f0d8",
   "metadata": {},
   "source": [
    "## Random Forest"
   ]
  },
  {
   "cell_type": "code",
   "execution_count": 67,
   "id": "6514ec8c-7dd9-4673-9b8e-1cbd699e78f7",
   "metadata": {
    "tags": []
   },
   "outputs": [
    {
     "name": "stdout",
     "output_type": "stream",
     "text": [
      "Validation Metrics:\n",
      "Accuracy: 0.9113475177304965\n",
      "Mean Absolute Error: 0.08865248226950355\n",
      "Mean Squared Error: 0.08865248226950355\n",
      "Root Mean Squared Error: 0.29774566708770683\n",
      "Recall/Sensitivity: 0.6989247311827957\n",
      "Specificity: 0.9113475177304965\n",
      "\n",
      "Test Metrics:\n",
      "Accuracy: 0.9166666666666666\n",
      "Mean Absolute Error: 0.08333333333333333\n",
      "Mean Squared Error: 0.08333333333333333\n",
      "Root Mean Squared Error: 0.28867513459481287\n",
      "Recall/Sensitivity: 0.7184466019417476\n",
      "Specificity: 0.9166666666666666\n"
     ]
    }
   ],
   "source": [
    "\n",
    "# Initialize Random Forest \n",
    "rf_classifier = RandomForestClassifier(random_state=42)\n",
    "\n",
    "# Train the classifier \n",
    "rf_classifier.fit(X_train, y_train)\n",
    "\n",
    "# Evaluate the model on the validation set\n",
    "val_preds = rf_classifier.predict(X_val)\n",
    "val_accuracy = accuracy_score(y_val, val_preds)\n",
    "val_mae = mean_absolute_error(y_val, val_preds)\n",
    "val_mse = mean_squared_error(y_val, val_preds)\n",
    "val_rmse = mean_squared_error(y_val, val_preds, squared=False)\n",
    "val_recall = recall_score(y_val, val_preds)  # Recall is the same as sensitivity in a binary classification problem\n",
    "val_specificity = accuracy_score(y_val, val_preds, normalize=True, sample_weight=None)  # For binary classification, specificity can be calculated as accuracy\n",
    "\n",
    "print(\"Validation Metrics:\")\n",
    "print(\"Accuracy:\", val_accuracy)\n",
    "print(\"Mean Absolute Error:\", val_mae)\n",
    "print(\"Mean Squared Error:\", val_mse)\n",
    "print(\"Root Mean Squared Error:\", val_rmse)\n",
    "print(\"Recall/Sensitivity:\", val_recall)\n",
    "print(\"Specificity:\", val_specificity)\n",
    "\n",
    "# Test the final model on the test set\n",
    "test_preds = rf_classifier.predict(X_test)\n",
    "test_accuracy = accuracy_score(y_test, test_preds)\n",
    "test_mae = mean_absolute_error(y_test, test_preds)\n",
    "test_mse = mean_squared_error(y_test, test_preds)\n",
    "test_rmse = mean_squared_error(y_test, test_preds, squared=False)\n",
    "test_recall = recall_score(y_test, test_preds)  # Recall is the same as sensitivity in a binary classification problem\n",
    "test_specificity = accuracy_score(y_test, test_preds, normalize=True, sample_weight=None)  # For binary classification, specificity can be calculated as accuracy\n",
    "\n",
    "print(\"\\nTest Metrics:\")\n",
    "print(\"Accuracy:\", test_accuracy)\n",
    "print(\"Mean Absolute Error:\", test_mae)\n",
    "print(\"Mean Squared Error:\", test_mse)\n",
    "print(\"Root Mean Squared Error:\", test_rmse)\n",
    "print(\"Recall/Sensitivity:\", test_recall)\n",
    "print(\"Specificity:\", test_specificity)"
   ]
  },
  {
   "cell_type": "markdown",
   "id": "864f3af0-473a-489f-9b3e-5382ca70e8de",
   "metadata": {
    "tags": []
   },
   "source": [
    "## k-Nearest Neighbor"
   ]
  },
  {
   "cell_type": "code",
   "execution_count": 68,
   "id": "8e820a3d-8715-4b0e-b16f-7914245e30b3",
   "metadata": {
    "tags": []
   },
   "outputs": [
    {
     "name": "stdout",
     "output_type": "stream",
     "text": [
      "Validation Metrics:\n",
      "Accuracy: 0.898936170212766\n",
      "Mean Absolute Error: 0.10106382978723404\n",
      "Mean Squared Error: 0.10106382978723404\n",
      "Root Mean Squared Error: 0.31790537866987095\n",
      "Recall/Sensitivity: 0.7419354838709677\n",
      "Specificity: 0.898936170212766\n",
      "\n",
      "Test Metrics:\n",
      "Accuracy: 0.8829787234042553\n",
      "Mean Absolute Error: 0.11702127659574468\n",
      "Mean Squared Error: 0.11702127659574468\n",
      "Root Mean Squared Error: 0.3420837274641176\n",
      "Recall/Sensitivity: 0.6990291262135923\n",
      "Specificity: 0.8829787234042553\n"
     ]
    }
   ],
   "source": [
    "\n",
    "# Train k-Nearest Neighbors model\n",
    "model = KNeighborsClassifier()\n",
    "model.fit(X_train, y_train)\n",
    "\n",
    "# Evaluate the model on the validation set\n",
    "val_preds = model.predict(X_val)\n",
    "val_accuracy = accuracy_score(y_val, val_preds)\n",
    "val_mae = mean_absolute_error(y_val, val_preds)\n",
    "val_mse = mean_squared_error(y_val, val_preds)\n",
    "val_rmse = mean_squared_error(y_val, val_preds, squared=False)\n",
    "val_recall = recall_score(y_val, val_preds)  # Recall is the same as sensitivity in a binary classification problem\n",
    "val_specificity = accuracy_score(y_val, val_preds, normalize=True, sample_weight=None)  # For binary classification, specificity can be calculated as accuracy\n",
    "\n",
    "print(\"Validation Metrics:\")\n",
    "print(\"Accuracy:\", val_accuracy)\n",
    "print(\"Mean Absolute Error:\", val_mae)\n",
    "print(\"Mean Squared Error:\", val_mse)\n",
    "print(\"Root Mean Squared Error:\", val_rmse)\n",
    "print(\"Recall/Sensitivity:\", val_recall)\n",
    "print(\"Specificity:\", val_specificity)\n",
    "\n",
    "# Test the final model on the test set\n",
    "test_preds = model.predict(X_test)\n",
    "test_accuracy = accuracy_score(y_test, test_preds)\n",
    "test_mae = mean_absolute_error(y_test, test_preds)\n",
    "test_mse = mean_squared_error(y_test, test_preds)\n",
    "test_rmse = mean_squared_error(y_test, test_preds, squared=False)\n",
    "test_recall = recall_score(y_test, test_preds)  # Recall is the same as sensitivity in a binary classification problem\n",
    "test_specificity = accuracy_score(y_test, test_preds, normalize=True, sample_weight=None)  # For binary classification, specificity can be calculated as accuracy\n",
    "\n",
    "print(\"\\nTest Metrics:\")\n",
    "print(\"Accuracy:\", test_accuracy)\n",
    "print(\"Mean Absolute Error:\", test_mae)\n",
    "print(\"Mean Squared Error:\", test_mse)\n",
    "print(\"Root Mean Squared Error:\", test_rmse)\n",
    "print(\"Recall/Sensitivity:\", test_recall)\n",
    "print(\"Specificity:\", test_specificity)"
   ]
  },
  {
   "cell_type": "markdown",
   "id": "de37febc-d2c3-4fb5-88fd-0e8dc2a2bb18",
   "metadata": {},
   "source": [
    "## Gradient Boosting"
   ]
  },
  {
   "cell_type": "code",
   "execution_count": 69,
   "id": "2c369f7b-7330-4c00-b4e9-9f0c7f01e974",
   "metadata": {
    "tags": []
   },
   "outputs": [
    {
     "name": "stdout",
     "output_type": "stream",
     "text": [
      "Validation Metrics:\n",
      "Accuracy: 0.8882978723404256\n",
      "Mean Absolute Error: 0.11170212765957446\n",
      "Mean Squared Error: 0.11170212765957446\n",
      "Root Mean Squared Error: 0.3342186823915959\n",
      "Recall/Sensitivity: 0.6129032258064516\n",
      "Specificity: 0.8882978723404256\n",
      "\n",
      "Test Metrics:\n",
      "Accuracy: 0.8936170212765957\n",
      "Mean Absolute Error: 0.10638297872340426\n",
      "Mean Squared Error: 0.10638297872340426\n",
      "Root Mean Squared Error: 0.3261640365267211\n",
      "Recall/Sensitivity: 0.6504854368932039\n",
      "Specificity: 0.8936170212765957\n"
     ]
    }
   ],
   "source": [
    "\n",
    "# Train Gradient Boosting model\n",
    "model = GradientBoostingClassifier()\n",
    "model.fit(X_train, y_train)\n",
    "\n",
    "# Evaluate the model on the validation set\n",
    "val_preds = model.predict(X_val)\n",
    "val_accuracy = accuracy_score(y_val, val_preds)\n",
    "val_mae = mean_absolute_error(y_val, val_preds)\n",
    "val_mse = mean_squared_error(y_val, val_preds)\n",
    "val_rmse = mean_squared_error(y_val, val_preds, squared=False)\n",
    "val_recall = recall_score(y_val, val_preds)  # Recall is the same as sensitivity in a binary classification problem\n",
    "val_specificity = accuracy_score(y_val, val_preds, normalize=True, sample_weight=None)  # For binary classification, specificity can be calculated as accuracy\n",
    "\n",
    "print(\"Validation Metrics:\")\n",
    "print(\"Accuracy:\", val_accuracy)\n",
    "print(\"Mean Absolute Error:\", val_mae)\n",
    "print(\"Mean Squared Error:\", val_mse)\n",
    "print(\"Root Mean Squared Error:\", val_rmse)\n",
    "print(\"Recall/Sensitivity:\", val_recall)\n",
    "print(\"Specificity:\", val_specificity)\n",
    "\n",
    "# Test the final model on the test set\n",
    "test_preds = model.predict(X_test)\n",
    "test_accuracy = accuracy_score(y_test, test_preds)\n",
    "test_mae = mean_absolute_error(y_test, test_preds)\n",
    "test_mse = mean_squared_error(y_test, test_preds)\n",
    "test_rmse = mean_squared_error(y_test, test_preds, squared=False)\n",
    "test_recall = recall_score(y_test, test_preds)  # Recall is the same as sensitivity in a binary classification problem\n",
    "test_specificity = accuracy_score(y_test, test_preds, normalize=True, sample_weight=None)  # For binary classification, specificity can be calculated as accuracy\n",
    "\n",
    "print(\"\\nTest Metrics:\")\n",
    "print(\"Accuracy:\", test_accuracy)\n",
    "print(\"Mean Absolute Error:\", test_mae)\n",
    "print(\"Mean Squared Error:\", test_mse)\n",
    "print(\"Root Mean Squared Error:\", test_rmse)\n",
    "print(\"Recall/Sensitivity:\", test_recall)\n",
    "print(\"Specificity:\", test_specificity)"
   ]
  },
  {
   "cell_type": "markdown",
   "id": "2705409c-439c-473e-a5d8-b5473c25aef8",
   "metadata": {},
   "source": [
    "Yes, you can use clustering algorithms to find the cluster center that represents the highest density of acceptable points in your dataset. One commonly used clustering algorithm for this purpose is DBSCAN (Density-Based Spatial Clustering of Applications with Noise)."
   ]
  },
  {
   "cell_type": "markdown",
   "id": "3f73630a-743a-465e-982f-a282d6c71302",
   "metadata": {},
   "source": [
    "## DBSCAN"
   ]
  },
  {
   "cell_type": "code",
   "execution_count": 71,
   "id": "21b0afbb-42f5-4fa2-a3a3-aa0172eec37c",
   "metadata": {
    "tags": []
   },
   "outputs": [
    {
     "name": "stdout",
     "output_type": "stream",
     "text": [
      "Silhouette Score: 0.37077636267137026\n",
      "Davies-Bouldin Index: 1.5854370086022525\n",
      "Rank 1: Cluster 4 - Center (Latitude, Longitude): [  33.08787129 -116.95470693] - Number of 'acceptable' points: 101\n",
      "Rank 2: Cluster 39 - Center (Latitude, Longitude): [  32.60824923 -116.92943846] - Number of 'acceptable' points: 65\n",
      "Rank 3: Cluster 143 - Center (Latitude, Longitude): [  32.8839 -116.8078] - Number of 'acceptable' points: 57\n",
      "Rank 4: Cluster 11 - Center (Latitude, Longitude): [  33.36103902 -117.0519878 ] - Number of 'acceptable' points: 41\n",
      "Rank 5: Cluster 88 - Center (Latitude, Longitude): [  33.44226389 -117.32249444] - Number of 'acceptable' points: 36\n",
      "Rank 6: Cluster 125 - Center (Latitude, Longitude): [  33.1184 -116.7867] - Number of 'acceptable' points: 36\n",
      "Rank 7: Cluster 58 - Center (Latitude, Longitude): [  33.29552353 -116.97602059] - Number of 'acceptable' points: 34\n",
      "Rank 8: Cluster 38 - Center (Latitude, Longitude): [  32.78102581 -117.04389355] - Number of 'acceptable' points: 31\n",
      "Rank 9: Cluster 48 - Center (Latitude, Longitude): [  33.39607 -117.58499] - Number of 'acceptable' points: 30\n",
      "Rank 10: Cluster 57 - Center (Latitude, Longitude): [  33.26403846 -116.67767692] - Number of 'acceptable' points: 26\n"
     ]
    }
   ],
   "source": [
    "#define parameters\n",
    "X = merged_df[['latitude', 'longitude']].values\n",
    "\n",
    "# apply DBSCAN\n",
    "dbscan = DBSCAN(eps=0.01, min_samples=3)\n",
    "labels = dbscan.fit_predict(X)\n",
    "\n",
    "# calculate silhouette score & Davies-Bouldin index\n",
    "silhouette = silhouette_score(X, labels)\n",
    "davies_bouldin = davies_bouldin_score(X, labels)\n",
    "\n",
    "print(\"Silhouette Score:\", silhouette)\n",
    "print(\"Davies-Bouldin Index:\", davies_bouldin)\n",
    "\n",
    "# unique labels (excluding noise points)\n",
    "unique_labels = np.unique(labels[labels != -1])\n",
    "\n",
    "# calculate cluster centers and counts for 'acceptable' points in each cluster\n",
    "cluster_centers = []\n",
    "for label in unique_labels:\n",
    "    cluster_points = X[(labels == label) & (merged_df['acceptable'] == 1)]\n",
    "    if len(cluster_points) > 0:\n",
    "        cluster_center = np.mean(cluster_points, axis=0)\n",
    "        cluster_centers.append((label, cluster_center, len(cluster_points)))\n",
    "\n",
    "# sort cluster centers by the number of 'acceptable' points\n",
    "cluster_centers.sort(key=lambda x: x[2], reverse=True)\n",
    "\n",
    "# get the top n cluster centers (can choose more or less)\n",
    "top_10_cluster_centers = cluster_centers[:10]\n",
    "\n",
    "# print the top 10 cluster centers\n",
    "for i, (label, center, count) in enumerate(top_10_cluster_centers, 1):\n",
    "    print(f\"Rank {i}: Cluster {label} - Center (Latitude, Longitude): {center} - Number of 'acceptable' points: {count}\")"
   ]
  },
  {
   "cell_type": "code",
   "execution_count": 72,
   "id": "0080596e-180f-4cf1-80d7-8c5d100d15bf",
   "metadata": {
    "tags": []
   },
   "outputs": [
    {
     "data": {
      "text/plain": [
       "<AxesSubplot:>"
      ]
     },
     "execution_count": 72,
     "metadata": {},
     "output_type": "execute_result"
    },
    {
     "data": {
      "image/png": "[encoded data removed]",
      "text/plain": [
       "<Figure size 432x288 with 1 Axes>"
      ]
     },
     "metadata": {
      "needs_background": "light"
     },
     "output_type": "display_data"
    }
   ],
   "source": [
    "# convert cluster centers to geoDataFrame\n",
    "geometry = [Point(center[1], center[0]) for label, center, count in top_10_cluster_centers]\n",
    "gdf = gpd.GeoDataFrame(geometry=geometry, crs='EPSG:4326')\n",
    "\n",
    "# plot the GeoDataFrame\n",
    "gdf.plot(marker='o', color='red', markersize=5)"
   ]
  },
  {
   "cell_type": "markdown",
   "id": "97aa260f-e1b2-460f-bb65-3a24f1d112f4",
   "metadata": {},
   "source": [
    "## Visualize Treatment Plant Location Recommendations"
   ]
  },
  {
   "cell_type": "code",
   "execution_count": 77,
   "id": "d1ed78e8-8e76-45e0-8f57-83d3359b9b11",
   "metadata": {},
   "outputs": [
    {
     "data": {
      "text/html": [
       "<div style=\"width:100%;\"><div style=\"position:relative;width:100%;height:0;padding-bottom:60%;\"><span style=\"color:#565656\">Make this Notebook Trusted to load map: File -> Trust Notebook</span><iframe srcdoc=\"&lt;!DOCTYPE html&gt;\n",
       "&lt;html&gt;\n",
       "&lt;head&gt;\n",
       "    \n",
       "    &lt;meta http-equiv=&quot;content-type&quot; content=&quot;text/html; charset=UTF-8&quot; /&gt;\n",
       "    \n",
       "        &lt;script&gt;\n",
       "            L_NO_TOUCH = false;\n",
       "            L_DISABLE_3D = false;\n",
       "        &lt;/script&gt;\n",
       "    \n",
       "    &lt;style&gt;html, body {width: 100%;height: 100%;margin: 0;padding: 0;}&lt;/style&gt;\n",
       "    &lt;style&gt;#map {position:absolute;top:0;bottom:0;right:0;left:0;}&lt;/style&gt;\n",
       "    &lt;script src=&quot;https://cdn.jsdelivr.net/npm/leaflet@1.9.3/dist/leaflet.js&quot;&gt;&lt;/script&gt;\n",
       "    &lt;script src=&quot;https://code.jquery.com/jquery-3.7.1.min.js&quot;&gt;&lt;/script&gt;\n",
       "    &lt;script src=&quot;https://cdn.jsdelivr.net/npm/bootstrap@5.2.2/dist/js/bootstrap.bundle.min.js&quot;&gt;&lt;/script&gt;\n",
       "    &lt;script src=&quot;https://cdnjs.cloudflare.com/ajax/libs/Leaflet.awesome-markers/2.0.2/leaflet.awesome-markers.js&quot;&gt;&lt;/script&gt;\n",
       "    &lt;link rel=&quot;stylesheet&quot; href=&quot;https://cdn.jsdelivr.net/npm/leaflet@1.9.3/dist/leaflet.css&quot;/&gt;\n",
       "    &lt;link rel=&quot;stylesheet&quot; href=&quot;https://cdn.jsdelivr.net/npm/bootstrap@5.2.2/dist/css/bootstrap.min.css&quot;/&gt;\n",
       "    &lt;link rel=&quot;stylesheet&quot; href=&quot;https://netdna.bootstrapcdn.com/bootstrap/3.0.0/css/bootstrap.min.css&quot;/&gt;\n",
       "    &lt;link rel=&quot;stylesheet&quot; href=&quot;https://cdn.jsdelivr.net/npm/@fortawesome/fontawesome-free@6.2.0/css/all.min.css&quot;/&gt;\n",
       "    &lt;link rel=&quot;stylesheet&quot; href=&quot;https://cdnjs.cloudflare.com/ajax/libs/Leaflet.awesome-markers/2.0.2/leaflet.awesome-markers.css&quot;/&gt;\n",
       "    &lt;link rel=&quot;stylesheet&quot; href=&quot;https://cdn.jsdelivr.net/gh/python-visualization/folium/folium/templates/leaflet.awesome.rotate.min.css&quot;/&gt;\n",
       "    \n",
       "            &lt;meta name=&quot;viewport&quot; content=&quot;width=device-width,\n",
       "                initial-scale=1.0, maximum-scale=1.0, user-scalable=no&quot; /&gt;\n",
       "            &lt;style&gt;\n",
       "                #map_6fb178548ee60a051eebbecd1fa42a2f {\n",
       "                    position: relative;\n",
       "                    width: 100.0%;\n",
       "                    height: 100.0%;\n",
       "                    left: 0.0%;\n",
       "                    top: 0.0%;\n",
       "                }\n",
       "                .leaflet-container { font-size: 1rem; }\n",
       "            &lt;/style&gt;\n",
       "        \n",
       "&lt;/head&gt;\n",
       "&lt;body&gt;\n",
       "    \n",
       "    \n",
       "            &lt;div class=&quot;folium-map&quot; id=&quot;map_6fb178548ee60a051eebbecd1fa42a2f&quot; &gt;&lt;/div&gt;\n",
       "        \n",
       "&lt;/body&gt;\n",
       "&lt;script&gt;\n",
       "    \n",
       "    \n",
       "            var map_6fb178548ee60a051eebbecd1fa42a2f = L.map(\n",
       "                &quot;map_6fb178548ee60a051eebbecd1fa42a2f&quot;,\n",
       "                {\n",
       "                    center: [33.08787128712867, -116.9547069306929],\n",
       "                    crs: L.CRS.EPSG3857,\n",
       "                    zoom: 10,\n",
       "                    zoomControl: true,\n",
       "                    preferCanvas: false,\n",
       "                }\n",
       "            );\n",
       "\n",
       "            \n",
       "\n",
       "        \n",
       "    \n",
       "            var tile_layer_ed8d844bf4a9e32c20f01541dc6811d5 = L.tileLayer(\n",
       "                &quot;https://tile.openstreetmap.org/{z}/{x}/{y}.png&quot;,\n",
       "                {&quot;attribution&quot;: &quot;\\u0026copy; \\u003ca href=\\&quot;https://www.openstreetmap.org/copyright\\&quot;\\u003eOpenStreetMap\\u003c/a\\u003e contributors&quot;, &quot;detectRetina&quot;: false, &quot;maxNativeZoom&quot;: 19, &quot;maxZoom&quot;: 19, &quot;minZoom&quot;: 0, &quot;noWrap&quot;: false, &quot;opacity&quot;: 1, &quot;subdomains&quot;: &quot;abc&quot;, &quot;tms&quot;: false}\n",
       "            );\n",
       "        \n",
       "    \n",
       "            tile_layer_ed8d844bf4a9e32c20f01541dc6811d5.addTo(map_6fb178548ee60a051eebbecd1fa42a2f);\n",
       "        \n",
       "    \n",
       "            var marker_e376187f87dfccc3f4439cb105ca61a7 = L.marker(\n",
       "                [33.08787128712867, -116.9547069306929],\n",
       "                {}\n",
       "            ).addTo(map_6fb178548ee60a051eebbecd1fa42a2f);\n",
       "        \n",
       "    \n",
       "            var icon_15f0b19e2e19bf061d45cf1920d4ba6b = L.AwesomeMarkers.icon(\n",
       "                {&quot;extraClasses&quot;: &quot;fa-rotate-0&quot;, &quot;icon&quot;: &quot;info-sign&quot;, &quot;iconColor&quot;: &quot;white&quot;, &quot;markerColor&quot;: &quot;red&quot;, &quot;prefix&quot;: &quot;glyphicon&quot;}\n",
       "            );\n",
       "            marker_e376187f87dfccc3f4439cb105ca61a7.setIcon(icon_15f0b19e2e19bf061d45cf1920d4ba6b);\n",
       "        \n",
       "    \n",
       "        var popup_7f477ccdbf0c4e20870a81e8d0d621a7 = L.popup({&quot;maxWidth&quot;: &quot;100%&quot;});\n",
       "\n",
       "        \n",
       "            \n",
       "                var html_b2aff258091a36ece24949824b0cc994 = $(`&lt;div id=&quot;html_b2aff258091a36ece24949824b0cc994&quot; style=&quot;width: 100.0%; height: 100.0%;&quot;&gt;Cluster: 4&lt;br&gt;Count: 101&lt;/div&gt;`)[0];\n",
       "                popup_7f477ccdbf0c4e20870a81e8d0d621a7.setContent(html_b2aff258091a36ece24949824b0cc994);\n",
       "            \n",
       "        \n",
       "\n",
       "        marker_e376187f87dfccc3f4439cb105ca61a7.bindPopup(popup_7f477ccdbf0c4e20870a81e8d0d621a7)\n",
       "        ;\n",
       "\n",
       "        \n",
       "    \n",
       "    \n",
       "            var marker_69cdfd173968f0eed2f939992e6560d7 = L.marker(\n",
       "                [32.608249230769204, -116.9294384615383],\n",
       "                {}\n",
       "            ).addTo(map_6fb178548ee60a051eebbecd1fa42a2f);\n",
       "        \n",
       "    \n",
       "            var icon_e9c1e1ab7124ee37feac0a7862559324 = L.AwesomeMarkers.icon(\n",
       "                {&quot;extraClasses&quot;: &quot;fa-rotate-0&quot;, &quot;icon&quot;: &quot;info-sign&quot;, &quot;iconColor&quot;: &quot;white&quot;, &quot;markerColor&quot;: &quot;red&quot;, &quot;prefix&quot;: &quot;glyphicon&quot;}\n",
       "            );\n",
       "            marker_69cdfd173968f0eed2f939992e6560d7.setIcon(icon_e9c1e1ab7124ee37feac0a7862559324);\n",
       "        \n",
       "    \n",
       "        var popup_dd9052b814657dd33907f9238d9ed708 = L.popup({&quot;maxWidth&quot;: &quot;100%&quot;});\n",
       "\n",
       "        \n",
       "            \n",
       "                var html_dba34b7b7ccc510f624ba2903364799a = $(`&lt;div id=&quot;html_dba34b7b7ccc510f624ba2903364799a&quot; style=&quot;width: 100.0%; height: 100.0%;&quot;&gt;Cluster: 39&lt;br&gt;Count: 65&lt;/div&gt;`)[0];\n",
       "                popup_dd9052b814657dd33907f9238d9ed708.setContent(html_dba34b7b7ccc510f624ba2903364799a);\n",
       "            \n",
       "        \n",
       "\n",
       "        marker_69cdfd173968f0eed2f939992e6560d7.bindPopup(popup_dd9052b814657dd33907f9238d9ed708)\n",
       "        ;\n",
       "\n",
       "        \n",
       "    \n",
       "    \n",
       "            var marker_40b762f9f8c364c36651ffb83b218f4c = L.marker(\n",
       "                [32.883900000000025, -116.80779999999986],\n",
       "                {}\n",
       "            ).addTo(map_6fb178548ee60a051eebbecd1fa42a2f);\n",
       "        \n",
       "    \n",
       "            var icon_8871ccd83b00aa5e3a8924e651f869b5 = L.AwesomeMarkers.icon(\n",
       "                {&quot;extraClasses&quot;: &quot;fa-rotate-0&quot;, &quot;icon&quot;: &quot;info-sign&quot;, &quot;iconColor&quot;: &quot;white&quot;, &quot;markerColor&quot;: &quot;red&quot;, &quot;prefix&quot;: &quot;glyphicon&quot;}\n",
       "            );\n",
       "            marker_40b762f9f8c364c36651ffb83b218f4c.setIcon(icon_8871ccd83b00aa5e3a8924e651f869b5);\n",
       "        \n",
       "    \n",
       "        var popup_dc025c314bd38ab65df30fbafc398d7a = L.popup({&quot;maxWidth&quot;: &quot;100%&quot;});\n",
       "\n",
       "        \n",
       "            \n",
       "                var html_3f020d19e90d19587448b690bf108b68 = $(`&lt;div id=&quot;html_3f020d19e90d19587448b690bf108b68&quot; style=&quot;width: 100.0%; height: 100.0%;&quot;&gt;Cluster: 143&lt;br&gt;Count: 57&lt;/div&gt;`)[0];\n",
       "                popup_dc025c314bd38ab65df30fbafc398d7a.setContent(html_3f020d19e90d19587448b690bf108b68);\n",
       "            \n",
       "        \n",
       "\n",
       "        marker_40b762f9f8c364c36651ffb83b218f4c.bindPopup(popup_dc025c314bd38ab65df30fbafc398d7a)\n",
       "        ;\n",
       "\n",
       "        \n",
       "    \n",
       "    \n",
       "            var marker_b686ca72f112d82d9388f6be5864c73f = L.marker(\n",
       "                [33.36103902439025, -117.05198780487804],\n",
       "                {}\n",
       "            ).addTo(map_6fb178548ee60a051eebbecd1fa42a2f);\n",
       "        \n",
       "    \n",
       "            var icon_44f75c0b9d2d95cb129dff89470659de = L.AwesomeMarkers.icon(\n",
       "                {&quot;extraClasses&quot;: &quot;fa-rotate-0&quot;, &quot;icon&quot;: &quot;info-sign&quot;, &quot;iconColor&quot;: &quot;white&quot;, &quot;markerColor&quot;: &quot;red&quot;, &quot;prefix&quot;: &quot;glyphicon&quot;}\n",
       "            );\n",
       "            marker_b686ca72f112d82d9388f6be5864c73f.setIcon(icon_44f75c0b9d2d95cb129dff89470659de);\n",
       "        \n",
       "    \n",
       "        var popup_d4e162338d8a99d06760504ccdc9bef2 = L.popup({&quot;maxWidth&quot;: &quot;100%&quot;});\n",
       "\n",
       "        \n",
       "            \n",
       "                var html_8cc32c6ae0b707d299196a071b6a9445 = $(`&lt;div id=&quot;html_8cc32c6ae0b707d299196a071b6a9445&quot; style=&quot;width: 100.0%; height: 100.0%;&quot;&gt;Cluster: 11&lt;br&gt;Count: 41&lt;/div&gt;`)[0];\n",
       "                popup_d4e162338d8a99d06760504ccdc9bef2.setContent(html_8cc32c6ae0b707d299196a071b6a9445);\n",
       "            \n",
       "        \n",
       "\n",
       "        marker_b686ca72f112d82d9388f6be5864c73f.bindPopup(popup_d4e162338d8a99d06760504ccdc9bef2)\n",
       "        ;\n",
       "\n",
       "        \n",
       "    \n",
       "    \n",
       "            var marker_d9f79884b5ee0acdc6ea7ab22a149b93 = L.marker(\n",
       "                [33.44226388888888, -117.32249444444447],\n",
       "                {}\n",
       "            ).addTo(map_6fb178548ee60a051eebbecd1fa42a2f);\n",
       "        \n",
       "    \n",
       "            var icon_cb631a0f2e8b2555cdbd07cbaf2b03ce = L.AwesomeMarkers.icon(\n",
       "                {&quot;extraClasses&quot;: &quot;fa-rotate-0&quot;, &quot;icon&quot;: &quot;info-sign&quot;, &quot;iconColor&quot;: &quot;white&quot;, &quot;markerColor&quot;: &quot;red&quot;, &quot;prefix&quot;: &quot;glyphicon&quot;}\n",
       "            );\n",
       "            marker_d9f79884b5ee0acdc6ea7ab22a149b93.setIcon(icon_cb631a0f2e8b2555cdbd07cbaf2b03ce);\n",
       "        \n",
       "    \n",
       "        var popup_7a6e968610c52fc78e1dda3fc4d2997b = L.popup({&quot;maxWidth&quot;: &quot;100%&quot;});\n",
       "\n",
       "        \n",
       "            \n",
       "                var html_4313f051340a2af98f07b7c1fa5c9e28 = $(`&lt;div id=&quot;html_4313f051340a2af98f07b7c1fa5c9e28&quot; style=&quot;width: 100.0%; height: 100.0%;&quot;&gt;Cluster: 88&lt;br&gt;Count: 36&lt;/div&gt;`)[0];\n",
       "                popup_7a6e968610c52fc78e1dda3fc4d2997b.setContent(html_4313f051340a2af98f07b7c1fa5c9e28);\n",
       "            \n",
       "        \n",
       "\n",
       "        marker_d9f79884b5ee0acdc6ea7ab22a149b93.bindPopup(popup_7a6e968610c52fc78e1dda3fc4d2997b)\n",
       "        ;\n",
       "\n",
       "        \n",
       "    \n",
       "    \n",
       "            var marker_ab416506eb65b21f8e7f1fdfb7cea5c1 = L.marker(\n",
       "                [33.11839999999999, -116.78670000000008],\n",
       "                {}\n",
       "            ).addTo(map_6fb178548ee60a051eebbecd1fa42a2f);\n",
       "        \n",
       "    \n",
       "            var icon_8f5a254c5268a03d51440d3c304b3ce1 = L.AwesomeMarkers.icon(\n",
       "                {&quot;extraClasses&quot;: &quot;fa-rotate-0&quot;, &quot;icon&quot;: &quot;info-sign&quot;, &quot;iconColor&quot;: &quot;white&quot;, &quot;markerColor&quot;: &quot;red&quot;, &quot;prefix&quot;: &quot;glyphicon&quot;}\n",
       "            );\n",
       "            marker_ab416506eb65b21f8e7f1fdfb7cea5c1.setIcon(icon_8f5a254c5268a03d51440d3c304b3ce1);\n",
       "        \n",
       "    \n",
       "        var popup_4726684d12e27480a972507d14c426a3 = L.popup({&quot;maxWidth&quot;: &quot;100%&quot;});\n",
       "\n",
       "        \n",
       "            \n",
       "                var html_b314e0b972e77a6deead49e0405aac5a = $(`&lt;div id=&quot;html_b314e0b972e77a6deead49e0405aac5a&quot; style=&quot;width: 100.0%; height: 100.0%;&quot;&gt;Cluster: 125&lt;br&gt;Count: 36&lt;/div&gt;`)[0];\n",
       "                popup_4726684d12e27480a972507d14c426a3.setContent(html_b314e0b972e77a6deead49e0405aac5a);\n",
       "            \n",
       "        \n",
       "\n",
       "        marker_ab416506eb65b21f8e7f1fdfb7cea5c1.bindPopup(popup_4726684d12e27480a972507d14c426a3)\n",
       "        ;\n",
       "\n",
       "        \n",
       "    \n",
       "    \n",
       "            var marker_403f844f1569b269365c365a760c2d14 = L.marker(\n",
       "                [33.295523529411746, -116.97602058823524],\n",
       "                {}\n",
       "            ).addTo(map_6fb178548ee60a051eebbecd1fa42a2f);\n",
       "        \n",
       "    \n",
       "            var icon_31cd77e7fffda541af0bbbeaa1be5f77 = L.AwesomeMarkers.icon(\n",
       "                {&quot;extraClasses&quot;: &quot;fa-rotate-0&quot;, &quot;icon&quot;: &quot;info-sign&quot;, &quot;iconColor&quot;: &quot;white&quot;, &quot;markerColor&quot;: &quot;red&quot;, &quot;prefix&quot;: &quot;glyphicon&quot;}\n",
       "            );\n",
       "            marker_403f844f1569b269365c365a760c2d14.setIcon(icon_31cd77e7fffda541af0bbbeaa1be5f77);\n",
       "        \n",
       "    \n",
       "        var popup_625868f2da2f37ef482aad6de3d24552 = L.popup({&quot;maxWidth&quot;: &quot;100%&quot;});\n",
       "\n",
       "        \n",
       "            \n",
       "                var html_299d25ea8380610c068e915502dd43fd = $(`&lt;div id=&quot;html_299d25ea8380610c068e915502dd43fd&quot; style=&quot;width: 100.0%; height: 100.0%;&quot;&gt;Cluster: 58&lt;br&gt;Count: 34&lt;/div&gt;`)[0];\n",
       "                popup_625868f2da2f37ef482aad6de3d24552.setContent(html_299d25ea8380610c068e915502dd43fd);\n",
       "            \n",
       "        \n",
       "\n",
       "        marker_403f844f1569b269365c365a760c2d14.bindPopup(popup_625868f2da2f37ef482aad6de3d24552)\n",
       "        ;\n",
       "\n",
       "        \n",
       "    \n",
       "    \n",
       "            var marker_9efbeff3931c6896df7bd63fbd0abbcb = L.marker(\n",
       "                [32.78102580645162, -117.0438935483871],\n",
       "                {}\n",
       "            ).addTo(map_6fb178548ee60a051eebbecd1fa42a2f);\n",
       "        \n",
       "    \n",
       "            var icon_ba464d9b4353e80bbec3ce93029c9835 = L.AwesomeMarkers.icon(\n",
       "                {&quot;extraClasses&quot;: &quot;fa-rotate-0&quot;, &quot;icon&quot;: &quot;info-sign&quot;, &quot;iconColor&quot;: &quot;white&quot;, &quot;markerColor&quot;: &quot;red&quot;, &quot;prefix&quot;: &quot;glyphicon&quot;}\n",
       "            );\n",
       "            marker_9efbeff3931c6896df7bd63fbd0abbcb.setIcon(icon_ba464d9b4353e80bbec3ce93029c9835);\n",
       "        \n",
       "    \n",
       "        var popup_bffc98414ae1a6945fcfe3dce868ed2b = L.popup({&quot;maxWidth&quot;: &quot;100%&quot;});\n",
       "\n",
       "        \n",
       "            \n",
       "                var html_ec08dd50a7670cc0841c061356a0eb3e = $(`&lt;div id=&quot;html_ec08dd50a7670cc0841c061356a0eb3e&quot; style=&quot;width: 100.0%; height: 100.0%;&quot;&gt;Cluster: 38&lt;br&gt;Count: 31&lt;/div&gt;`)[0];\n",
       "                popup_bffc98414ae1a6945fcfe3dce868ed2b.setContent(html_ec08dd50a7670cc0841c061356a0eb3e);\n",
       "            \n",
       "        \n",
       "\n",
       "        marker_9efbeff3931c6896df7bd63fbd0abbcb.bindPopup(popup_bffc98414ae1a6945fcfe3dce868ed2b)\n",
       "        ;\n",
       "\n",
       "        \n",
       "    \n",
       "    \n",
       "            var marker_37d4751b65c718eee1a01e4ef6797136 = L.marker(\n",
       "                [33.39607, -117.58499000000005],\n",
       "                {}\n",
       "            ).addTo(map_6fb178548ee60a051eebbecd1fa42a2f);\n",
       "        \n",
       "    \n",
       "            var icon_b960c79c1ead7f9f9e948440bbadb791 = L.AwesomeMarkers.icon(\n",
       "                {&quot;extraClasses&quot;: &quot;fa-rotate-0&quot;, &quot;icon&quot;: &quot;info-sign&quot;, &quot;iconColor&quot;: &quot;white&quot;, &quot;markerColor&quot;: &quot;red&quot;, &quot;prefix&quot;: &quot;glyphicon&quot;}\n",
       "            );\n",
       "            marker_37d4751b65c718eee1a01e4ef6797136.setIcon(icon_b960c79c1ead7f9f9e948440bbadb791);\n",
       "        \n",
       "    \n",
       "        var popup_3041a4f89625f9c466998af9eb359fc3 = L.popup({&quot;maxWidth&quot;: &quot;100%&quot;});\n",
       "\n",
       "        \n",
       "            \n",
       "                var html_9c8e92e2f8585452a23702d258c4898a = $(`&lt;div id=&quot;html_9c8e92e2f8585452a23702d258c4898a&quot; style=&quot;width: 100.0%; height: 100.0%;&quot;&gt;Cluster: 48&lt;br&gt;Count: 30&lt;/div&gt;`)[0];\n",
       "                popup_3041a4f89625f9c466998af9eb359fc3.setContent(html_9c8e92e2f8585452a23702d258c4898a);\n",
       "            \n",
       "        \n",
       "\n",
       "        marker_37d4751b65c718eee1a01e4ef6797136.bindPopup(popup_3041a4f89625f9c466998af9eb359fc3)\n",
       "        ;\n",
       "\n",
       "        \n",
       "    \n",
       "    \n",
       "            var marker_c07b270ddc0e128c1d84858343c66a8a = L.marker(\n",
       "                [33.26403846153847, -116.67767692307696],\n",
       "                {}\n",
       "            ).addTo(map_6fb178548ee60a051eebbecd1fa42a2f);\n",
       "        \n",
       "    \n",
       "            var icon_b663f2dba1c4ae5c02b497d2f4bdf933 = L.AwesomeMarkers.icon(\n",
       "                {&quot;extraClasses&quot;: &quot;fa-rotate-0&quot;, &quot;icon&quot;: &quot;info-sign&quot;, &quot;iconColor&quot;: &quot;white&quot;, &quot;markerColor&quot;: &quot;red&quot;, &quot;prefix&quot;: &quot;glyphicon&quot;}\n",
       "            );\n",
       "            marker_c07b270ddc0e128c1d84858343c66a8a.setIcon(icon_b663f2dba1c4ae5c02b497d2f4bdf933);\n",
       "        \n",
       "    \n",
       "        var popup_822cd14d7d933fa91f67be2e25af49f9 = L.popup({&quot;maxWidth&quot;: &quot;100%&quot;});\n",
       "\n",
       "        \n",
       "            \n",
       "                var html_808435843124c86b439ecc27546b5471 = $(`&lt;div id=&quot;html_808435843124c86b439ecc27546b5471&quot; style=&quot;width: 100.0%; height: 100.0%;&quot;&gt;Cluster: 57&lt;br&gt;Count: 26&lt;/div&gt;`)[0];\n",
       "                popup_822cd14d7d933fa91f67be2e25af49f9.setContent(html_808435843124c86b439ecc27546b5471);\n",
       "            \n",
       "        \n",
       "\n",
       "        marker_c07b270ddc0e128c1d84858343c66a8a.bindPopup(popup_822cd14d7d933fa91f67be2e25af49f9)\n",
       "        ;\n",
       "\n",
       "        \n",
       "    \n",
       "&lt;/script&gt;\n",
       "&lt;/html&gt;\" style=\"position:absolute;width:100%;height:100%;left:0;top:0;border:none !important;\" allowfullscreen webkitallowfullscreen mozallowfullscreen></iframe></div></div>"
      ],
      "text/plain": [
       "<folium.folium.Map at 0x7fbe15d010d0>"
      ]
     },
     "execution_count": 77,
     "metadata": {},
     "output_type": "execute_result"
    }
   ],
   "source": [
    "\n",
    "top_10_cluster_centers = cluster_centers[:10]\n",
    "\n",
    "# initialize the map\n",
    "mymap = folium.Map(location=[top_10_cluster_centers[0]['latitude'], top_10_cluster_centers[0]['longitude']], zoom_start=10)\n",
    "\n",
    "# Add markers for cluster centers with labels\n",
    "for center in top_10_cluster_centers:\n",
    "    folium.Marker(\n",
    "        location=[center['latitude'], center['longitude']],\n",
    "        popup=f\"Cluster: {center['label']}<br>Count: {center['count']}\",\n",
    "        icon=folium.Icon(color='red', icon='info-sign')\n",
    "    ).add_to(mymap)\n",
    "\n",
    "\n",
    "\n",
    "# Display the map\n",
    "mymap\n"
   ]
  }
 ],
 "metadata": {
  "availableInstances": [
   {
    "_defaultOrder": 0,
    "_isFastLaunch": true,
    "category": "General purpose",
    "gpuNum": 0,
    "hideHardwareSpecs": false,
    "memoryGiB": 4,
    "name": "ml.t3.medium",
    "vcpuNum": 2
   },
   {
    "_defaultOrder": 1,
    "_isFastLaunch": false,
    "category": "General purpose",
    "gpuNum": 0,
    "hideHardwareSpecs": false,
    "memoryGiB": 8,
    "name": "ml.t3.large",
    "vcpuNum": 2
   },
   {
    "_defaultOrder": 2,
    "_isFastLaunch": false,
    "category": "General purpose",
    "gpuNum": 0,
    "hideHardwareSpecs": false,
    "memoryGiB": 16,
    "name": "ml.t3.xlarge",
    "vcpuNum": 4
   },
   {
    "_defaultOrder": 3,
    "_isFastLaunch": false,
    "category": "General purpose",
    "gpuNum": 0,
    "hideHardwareSpecs": false,
    "memoryGiB": 32,
    "name": "ml.t3.2xlarge",
    "vcpuNum": 8
   },
   {
    "_defaultOrder": 4,
    "_isFastLaunch": true,
    "category": "General purpose",
    "gpuNum": 0,
    "hideHardwareSpecs": false,
    "memoryGiB": 8,
    "name": "ml.m5.large",
    "vcpuNum": 2
   },
   {
    "_defaultOrder": 5,
    "_isFastLaunch": false,
    "category": "General purpose",
    "gpuNum": 0,
    "hideHardwareSpecs": false,
    "memoryGiB": 16,
    "name": "ml.m5.xlarge",
    "vcpuNum": 4
   },
   {
    "_defaultOrder": 6,
    "_isFastLaunch": false,
    "category": "General purpose",
    "gpuNum": 0,
    "hideHardwareSpecs": false,
    "memoryGiB": 32,
    "name": "ml.m5.2xlarge",
    "vcpuNum": 8
   },
   {
    "_defaultOrder": 7,
    "_isFastLaunch": false,
    "category": "General purpose",
    "gpuNum": 0,
    "hideHardwareSpecs": false,
    "memoryGiB": 64,
    "name": "ml.m5.4xlarge",
    "vcpuNum": 16
   },
   {
    "_defaultOrder": 8,
    "_isFastLaunch": false,
    "category": "General purpose",
    "gpuNum": 0,
    "hideHardwareSpecs": false,
    "memoryGiB": 128,
    "name": "ml.m5.8xlarge",
    "vcpuNum": 32
   },
   {
    "_defaultOrder": 9,
    "_isFastLaunch": false,
    "category": "General purpose",
    "gpuNum": 0,
    "hideHardwareSpecs": false,
    "memoryGiB": 192,
    "name": "ml.m5.12xlarge",
    "vcpuNum": 48
   },
   {
    "_defaultOrder": 10,
    "_isFastLaunch": false,
    "category": "General purpose",
    "gpuNum": 0,
    "hideHardwareSpecs": false,
    "memoryGiB": 256,
    "name": "ml.m5.16xlarge",
    "vcpuNum": 64
   },
   {
    "_defaultOrder": 11,
    "_isFastLaunch": false,
    "category": "General purpose",
    "gpuNum": 0,
    "hideHardwareSpecs": false,
    "memoryGiB": 384,
    "name": "ml.m5.24xlarge",
    "vcpuNum": 96
   },
   {
    "_defaultOrder": 12,
    "_isFastLaunch": false,
    "category": "General purpose",
    "gpuNum": 0,
    "hideHardwareSpecs": false,
    "memoryGiB": 8,
    "name": "ml.m5d.large",
    "vcpuNum": 2
   },
   {
    "_defaultOrder": 13,
    "_isFastLaunch": false,
    "category": "General purpose",
    "gpuNum": 0,
    "hideHardwareSpecs": false,
    "memoryGiB": 16,
    "name": "ml.m5d.xlarge",
    "vcpuNum": 4
   },
   {
    "_defaultOrder": 14,
    "_isFastLaunch": false,
    "category": "General purpose",
    "gpuNum": 0,
    "hideHardwareSpecs": false,
    "memoryGiB": 32,
    "name": "ml.m5d.2xlarge",
    "vcpuNum": 8
   },
   {
    "_defaultOrder": 15,
    "_isFastLaunch": false,
    "category": "General purpose",
    "gpuNum": 0,
    "hideHardwareSpecs": false,
    "memoryGiB": 64,
    "name": "ml.m5d.4xlarge",
    "vcpuNum": 16
   },
   {
    "_defaultOrder": 16,
    "_isFastLaunch": false,
    "category": "General purpose",
    "gpuNum": 0,
    "hideHardwareSpecs": false,
    "memoryGiB": 128,
    "name": "ml.m5d.8xlarge",
    "vcpuNum": 32
   },
   {
    "_defaultOrder": 17,
    "_isFastLaunch": false,
    "category": "General purpose",
    "gpuNum": 0,
    "hideHardwareSpecs": false,
    "memoryGiB": 192,
    "name": "ml.m5d.12xlarge",
    "vcpuNum": 48
   },
   {
    "_defaultOrder": 18,
    "_isFastLaunch": false,
    "category": "General purpose",
    "gpuNum": 0,
    "hideHardwareSpecs": false,
    "memoryGiB": 256,
    "name": "ml.m5d.16xlarge",
    "vcpuNum": 64
   },
   {
    "_defaultOrder": 19,
    "_isFastLaunch": false,
    "category": "General purpose",
    "gpuNum": 0,
    "hideHardwareSpecs": false,
    "memoryGiB": 384,
    "name": "ml.m5d.24xlarge",
    "vcpuNum": 96
   },
   {
    "_defaultOrder": 20,
    "_isFastLaunch": false,
    "category": "General purpose",
    "gpuNum": 0,
    "hideHardwareSpecs": true,
    "memoryGiB": 0,
    "name": "ml.geospatial.interactive",
    "supportedImageNames": [
     "sagemaker-geospatial-v1-0"
    ],
    "vcpuNum": 0
   },
   {
    "_defaultOrder": 21,
    "_isFastLaunch": true,
    "category": "Compute optimized",
    "gpuNum": 0,
    "hideHardwareSpecs": false,
    "memoryGiB": 4,
    "name": "ml.c5.large",
    "vcpuNum": 2
   },
   {
    "_defaultOrder": 22,
    "_isFastLaunch": false,
    "category": "Compute optimized",
    "gpuNum": 0,
    "hideHardwareSpecs": false,
    "memoryGiB": 8,
    "name": "ml.c5.xlarge",
    "vcpuNum": 4
   },
   {
    "_defaultOrder": 23,
    "_isFastLaunch": false,
    "category": "Compute optimized",
    "gpuNum": 0,
    "hideHardwareSpecs": false,
    "memoryGiB": 16,
    "name": "ml.c5.2xlarge",
    "vcpuNum": 8
   },
   {
    "_defaultOrder": 24,
    "_isFastLaunch": false,
    "category": "Compute optimized",
    "gpuNum": 0,
    "hideHardwareSpecs": false,
    "memoryGiB": 32,
    "name": "ml.c5.4xlarge",
    "vcpuNum": 16
   },
   {
    "_defaultOrder": 25,
    "_isFastLaunch": false,
    "category": "Compute optimized",
    "gpuNum": 0,
    "hideHardwareSpecs": false,
    "memoryGiB": 72,
    "name": "ml.c5.9xlarge",
    "vcpuNum": 36
   },
   {
    "_defaultOrder": 26,
    "_isFastLaunch": false,
    "category": "Compute optimized",
    "gpuNum": 0,
    "hideHardwareSpecs": false,
    "memoryGiB": 96,
    "name": "ml.c5.12xlarge",
    "vcpuNum": 48
   },
   {
    "_defaultOrder": 27,
    "_isFastLaunch": false,
    "category": "Compute optimized",
    "gpuNum": 0,
    "hideHardwareSpecs": false,
    "memoryGiB": 144,
    "name": "ml.c5.18xlarge",
    "vcpuNum": 72
   },
   {
    "_defaultOrder": 28,
    "_isFastLaunch": false,
    "category": "Compute optimized",
    "gpuNum": 0,
    "hideHardwareSpecs": false,
    "memoryGiB": 192,
    "name": "ml.c5.24xlarge",
    "vcpuNum": 96
   },
   {
    "_defaultOrder": 29,
    "_isFastLaunch": true,
    "category": "Accelerated computing",
    "gpuNum": 1,
    "hideHardwareSpecs": false,
    "memoryGiB": 16,
    "name": "ml.g4dn.xlarge",
    "vcpuNum": 4
   },
   {
    "_defaultOrder": 30,
    "_isFastLaunch": false,
    "category": "Accelerated computing",
    "gpuNum": 1,
    "hideHardwareSpecs": false,
    "memoryGiB": 32,
    "name": "ml.g4dn.2xlarge",
    "vcpuNum": 8
   },
   {
    "_defaultOrder": 31,
    "_isFastLaunch": false,
    "category": "Accelerated computing",
    "gpuNum": 1,
    "hideHardwareSpecs": false,
    "memoryGiB": 64,
    "name": "ml.g4dn.4xlarge",
    "vcpuNum": 16
   },
   {
    "_defaultOrder": 32,
    "_isFastLaunch": false,
    "category": "Accelerated computing",
    "gpuNum": 1,
    "hideHardwareSpecs": false,
    "memoryGiB": 128,
    "name": "ml.g4dn.8xlarge",
    "vcpuNum": 32
   },
   {
    "_defaultOrder": 33,
    "_isFastLaunch": false,
    "category": "Accelerated computing",
    "gpuNum": 4,
    "hideHardwareSpecs": false,
    "memoryGiB": 192,
    "name": "ml.g4dn.12xlarge",
    "vcpuNum": 48
   },
   {
    "_defaultOrder": 34,
    "_isFastLaunch": false,
    "category": "Accelerated computing",
    "gpuNum": 1,
    "hideHardwareSpecs": false,
    "memoryGiB": 256,
    "name": "ml.g4dn.16xlarge",
    "vcpuNum": 64
   },
   {
    "_defaultOrder": 35,
    "_isFastLaunch": false,
    "category": "Accelerated computing",
    "gpuNum": 1,
    "hideHardwareSpecs": false,
    "memoryGiB": 61,
    "name": "ml.p3.2xlarge",
    "vcpuNum": 8
   },
   {
    "_defaultOrder": 36,
    "_isFastLaunch": false,
    "category": "Accelerated computing",
    "gpuNum": 4,
    "hideHardwareSpecs": false,
    "memoryGiB": 244,
    "name": "ml.p3.8xlarge",
    "vcpuNum": 32
   },
   {
    "_defaultOrder": 37,
    "_isFastLaunch": false,
    "category": "Accelerated computing",
    "gpuNum": 8,
    "hideHardwareSpecs": false,
    "memoryGiB": 488,
    "name": "ml.p3.16xlarge",
    "vcpuNum": 64
   },
   {
    "_defaultOrder": 38,
    "_isFastLaunch": false,
    "category": "Accelerated computing",
    "gpuNum": 8,
    "hideHardwareSpecs": false,
    "memoryGiB": 768,
    "name": "ml.p3dn.24xlarge",
    "vcpuNum": 96
   },
   {
    "_defaultOrder": 39,
    "_isFastLaunch": false,
    "category": "Memory Optimized",
    "gpuNum": 0,
    "hideHardwareSpecs": false,
    "memoryGiB": 16,
    "name": "ml.r5.large",
    "vcpuNum": 2
   },
   {
    "_defaultOrder": 40,
    "_isFastLaunch": false,
    "category": "Memory Optimized",
    "gpuNum": 0,
    "hideHardwareSpecs": false,
    "memoryGiB": 32,
    "name": "ml.r5.xlarge",
    "vcpuNum": 4
   },
   {
    "_defaultOrder": 41,
    "_isFastLaunch": false,
    "category": "Memory Optimized",
    "gpuNum": 0,
    "hideHardwareSpecs": false,
    "memoryGiB": 64,
    "name": "ml.r5.2xlarge",
    "vcpuNum": 8
   },
   {
    "_defaultOrder": 42,
    "_isFastLaunch": false,
    "category": "Memory Optimized",
    "gpuNum": 0,
    "hideHardwareSpecs": false,
    "memoryGiB": 128,
    "name": "ml.r5.4xlarge",
    "vcpuNum": 16
   },
   {
    "_defaultOrder": 43,
    "_isFastLaunch": false,
    "category": "Memory Optimized",
    "gpuNum": 0,
    "hideHardwareSpecs": false,
    "memoryGiB": 256,
    "name": "ml.r5.8xlarge",
    "vcpuNum": 32
   },
   {
    "_defaultOrder": 44,
    "_isFastLaunch": false,
    "category": "Memory Optimized",
    "gpuNum": 0,
    "hideHardwareSpecs": false,
    "memoryGiB": 384,
    "name": "ml.r5.12xlarge",
    "vcpuNum": 48
   },
   {
    "_defaultOrder": 45,
    "_isFastLaunch": false,
    "category": "Memory Optimized",
    "gpuNum": 0,
    "hideHardwareSpecs": false,
    "memoryGiB": 512,
    "name": "ml.r5.16xlarge",
    "vcpuNum": 64
   },
   {
    "_defaultOrder": 46,
    "_isFastLaunch": false,
    "category": "Memory Optimized",
    "gpuNum": 0,
    "hideHardwareSpecs": false,
    "memoryGiB": 768,
    "name": "ml.r5.24xlarge",
    "vcpuNum": 96
   },
   {
    "_defaultOrder": 47,
    "_isFastLaunch": false,
    "category": "Accelerated computing",
    "gpuNum": 1,
    "hideHardwareSpecs": false,
    "memoryGiB": 16,
    "name": "ml.g5.xlarge",
    "vcpuNum": 4
   },
   {
    "_defaultOrder": 48,
    "_isFastLaunch": false,
    "category": "Accelerated computing",
    "gpuNum": 1,
    "hideHardwareSpecs": false,
    "memoryGiB": 32,
    "name": "ml.g5.2xlarge",
    "vcpuNum": 8
   },
   {
    "_defaultOrder": 49,
    "_isFastLaunch": false,
    "category": "Accelerated computing",
    "gpuNum": 1,
    "hideHardwareSpecs": false,
    "memoryGiB": 64,
    "name": "ml.g5.4xlarge",
    "vcpuNum": 16
   },
   {
    "_defaultOrder": 50,
    "_isFastLaunch": false,
    "category": "Accelerated computing",
    "gpuNum": 1,
    "hideHardwareSpecs": false,
    "memoryGiB": 128,
    "name": "ml.g5.8xlarge",
    "vcpuNum": 32
   },
   {
    "_defaultOrder": 51,
    "_isFastLaunch": false,
    "category": "Accelerated computing",
    "gpuNum": 1,
    "hideHardwareSpecs": false,
    "memoryGiB": 256,
    "name": "ml.g5.16xlarge",
    "vcpuNum": 64
   },
   {
    "_defaultOrder": 52,
    "_isFastLaunch": false,
    "category": "Accelerated computing",
    "gpuNum": 4,
    "hideHardwareSpecs": false,
    "memoryGiB": 192,
    "name": "ml.g5.12xlarge",
    "vcpuNum": 48
   },
   {
    "_defaultOrder": 53,
    "_isFastLaunch": false,
    "category": "Accelerated computing",
    "gpuNum": 4,
    "hideHardwareSpecs": false,
    "memoryGiB": 384,
    "name": "ml.g5.24xlarge",
    "vcpuNum": 96
   },
   {
    "_defaultOrder": 54,
    "_isFastLaunch": false,
    "category": "Accelerated computing",
    "gpuNum": 8,
    "hideHardwareSpecs": false,
    "memoryGiB": 768,
    "name": "ml.g5.48xlarge",
    "vcpuNum": 192
   },
   {
    "_defaultOrder": 55,
    "_isFastLaunch": false,
    "category": "Accelerated computing",
    "gpuNum": 8,
    "hideHardwareSpecs": false,
    "memoryGiB": 1152,
    "name": "ml.p4d.24xlarge",
    "vcpuNum": 96
   },
   {
    "_defaultOrder": 56,
    "_isFastLaunch": false,
    "category": "Accelerated computing",
    "gpuNum": 8,
    "hideHardwareSpecs": false,
    "memoryGiB": 1152,
    "name": "ml.p4de.24xlarge",
    "vcpuNum": 96
   },
   {
    "_defaultOrder": 57,
    "_isFastLaunch": false,
    "category": "Accelerated computing",
    "gpuNum": 0,
    "hideHardwareSpecs": false,
    "memoryGiB": 32,
    "name": "ml.trn1.2xlarge",
    "vcpuNum": 8
   },
   {
    "_defaultOrder": 58,
    "_isFastLaunch": false,
    "category": "Accelerated computing",
    "gpuNum": 0,
    "hideHardwareSpecs": false,
    "memoryGiB": 512,
    "name": "ml.trn1.32xlarge",
    "vcpuNum": 128
   },
   {
    "_defaultOrder": 59,
    "_isFastLaunch": false,
    "category": "Accelerated computing",
    "gpuNum": 0,
    "hideHardwareSpecs": false,
    "memoryGiB": 512,
    "name": "ml.trn1n.32xlarge",
    "vcpuNum": 128
   }
  ],
  "instance_type": "ml.t3.medium",
  "kernelspec": {
   "display_name": "Python 3 (Data Science 2.0)",
   "language": "python",
   "name": "python3__SAGEMAKER_INTERNAL__arn:aws:sagemaker:us-east-1:081325390199:image/sagemaker-data-science-38"
  },
  "language_info": {
   "codemirror_mode": {
    "name": "ipython",
    "version": 3
   },
   "file_extension": ".py",
   "mimetype": "text/x-python",
   "name": "python",
   "nbconvert_exporter": "python",
   "pygments_lexer": "ipython3",
   "version": "3.8.13"
  },
  "toc-autonumbering": false
 },
 "nbformat": 4,
 "nbformat_minor": 5
}
